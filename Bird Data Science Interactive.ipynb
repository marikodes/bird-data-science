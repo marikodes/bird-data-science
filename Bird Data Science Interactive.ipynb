{
 "cells": [
  {
   "cell_type": "markdown",
   "id": "7c313040-08aa-4e9f-bc58-ba8c26992298",
   "metadata": {},
   "source": [
    "Bird Data Science"
   ]
  },
  {
   "cell_type": "code",
   "execution_count": 2,
   "id": "ae7ce3ef-a528-4a10-8181-0c90b8e88f86",
   "metadata": {},
   "outputs": [],
   "source": [
    "#imported the necessary libraries\n",
    "import pandas as pd\n",
    "import matplotlib.pyplot as plt\n",
    "import seaborn as sns\n",
    "import plotly.express as px\n",
    "from bokeh.plotting import figure, output_file, show\n",
    "from bokeh.palettes import magma"
   ]
  },
  {
   "cell_type": "code",
   "execution_count": 21,
   "id": "cfe1b1c4-95a0-4bab-8c45-3394c798c8e5",
   "metadata": {},
   "outputs": [
    {
     "name": "stdout",
     "output_type": "stream",
     "text": [
      "                    Date  No. Collisions\n",
      "0    2018-05-02 00:00:00              36\n",
      "1    2018-05-01 00:00:00              30\n",
      "2    2019-05-06 00:00:00              29\n",
      "3    2017-10-25 00:00:00              24\n",
      "4    2017-09-27 00:00:00              22\n",
      "..                   ...             ...\n",
      "296  2019-10-14 00:00:00               1\n",
      "297  2018-08-28 00:00:00               1\n",
      "298  2018-08-27 00:00:00               1\n",
      "299  2019-10-17 00:00:00               1\n",
      "300  2021-11-03 00:00:00               1\n",
      "\n",
      "[301 rows x 2 columns]\n",
      "                   Date  No. Collisions\n",
      "0   2017-09-29 00:00:00               4\n",
      "1   2017-08-25 00:00:00               2\n",
      "2   2021-05-21 00:00:00               2\n",
      "3   2017-09-28 00:00:00               2\n",
      "4   2017-10-29 00:00:00               2\n",
      "5   2017-09-08 00:00:00               2\n",
      "6   2019-08-30 00:00:00               2\n",
      "7   2019-05-25 00:00:00               1\n",
      "8   2021-05-18 00:00:00               1\n",
      "9   2021-05-16 00:00:00               1\n",
      "10  2021-05-02 00:00:00               1\n",
      "11  2019-10-08 00:00:00               1\n",
      "12  2019-10-05 00:00:00               1\n",
      "13  2019-09-25 00:00:00               1\n",
      "14  2019-09-17 00:00:00               1\n",
      "15  2019-09-14 00:00:00               1\n",
      "16  2018-11-13 00:00:00               1\n",
      "17  2019-05-21 00:00:00               1\n",
      "18  2019-05-14 00:00:00               1\n",
      "19  2018-11-11 00:00:00               1\n",
      "20  2018-10-29 00:00:00               1\n",
      "21  2018-04-24 00:00:00               1\n",
      "22  2018-04-14 00:00:00               1\n",
      "23  2017-10-27 00:00:00               1\n",
      "24  2017-10-25 00:00:00               1\n",
      "25  2017-10-20 00:00:00               1\n",
      "26  2017-10-02 00:00:00               1\n",
      "27  2017-09-14 00:00:00               1\n",
      "28  2021-06-01 00:00:00               1\n"
     ]
    }
   ],
   "source": [
    "#getting the filenames\n",
    "file1 = \"collisions_by_species.csv\"\n",
    "file2 = \"collisions_by_building.csv\"\n",
    "file3 = \"time_series.csv\"\n",
    "\n",
    "#convert files to data frames\n",
    "species_data = pd.read_csv(file1,low_memory=False)\n",
    "building_data = pd.read_csv(file2,low_memory=False)\n",
    "date_data = pd.read_csv(file3,low_memory=False, index_col=0)\n",
    "#print(date_data)\n",
    "\n",
    "#date_data_revised = date_data.drop([\"Building\"],axis=1)\n",
    "#date_data_revised = date_data.value_counts()\n",
    "#print(date_data_revised)\n",
    "#date_data_revised.groupby(\"Building\")\n",
    "#print(date_data_revised)\n",
    "kgh_data = date_data[date_data[\"Building\"] == \"KGH\"]\n",
    "kgh_data = kgh_data.drop([\"Building\"],axis=1)\n",
    "kgh_data = kgh_data.value_counts().reset_index()\n",
    "kgh_data.columns = [\"Date\", \"No. Collisions\"]\n",
    "print(kgh_data)\n",
    "searle_data = date_data[date_data[\"Building\"] == \"Francis Searle\"]\n",
    "searle_data = searle_data.drop([\"Building\"],axis=1)\n",
    "searle_data = searle_data.value_counts().reset_index()\n",
    "searle_data.columns = [\"Date\", \"No. Collisions\"]\n",
    "print(searle_data)"
   ]
  },
  {
   "cell_type": "code",
   "execution_count": 10,
   "id": "da01e1d2-8177-46d3-ad1f-048269c4db5c",
   "metadata": {},
   "outputs": [
    {
     "data": {
      "application/vnd.plotly.v1+json": {
       "config": {
        "plotlyServerURL": "https://plot.ly"
       },
       "data": [
        {
         "alignmentgroup": "True",
         "hovertemplate": "Species Name=%{x}<br>0=%{y}<extra></extra>",
         "legendgroup": "",
         "marker": {
          "color": "#636efa",
          "pattern": {
           "shape": ""
          }
         },
         "name": "",
         "offsetgroup": "",
         "orientation": "v",
         "showlegend": false,
         "textposition": "auto",
         "type": "bar",
         "x": [
          "Swamp Sparrow",
          "Common Yellowthroat",
          "Swainson's Thrush",
          "Hermit Thrush",
          "White-throated Sparrow",
          "Golden-crowned Kinglet",
          "Tennessee Warbler",
          "Slate-colored Junco",
          "Ovenbird",
          "Nashville Warbler",
          "Brown Creeper",
          "Song Sparrow",
          "Northern Waterthrush",
          "Red-winged Blackbird",
          "Lincoln's Sparrow",
          "Fox Sparrow",
          "Palm Warbler",
          "Magnolia Warbler",
          "Indigo Bunting",
          "American Redstart",
          "Ruby-crowned Kinglet",
          "Gray-cheeked Thrush",
          "Blackpoll Warbler",
          "Veery",
          "Black and White Warbler",
          "White-crowned Sparrow",
          "Orange-crowned Warbler",
          "Savannah Sparrow",
          "Myrtle Warbler",
          "American Woodcock",
          "Mourning Warbler",
          "Yellow-bellied Sapsucker",
          "Western Palm Warbler",
          "Sora",
          "Ruby-throated Hummingbird",
          "Yellow-rumped Warbler",
          "Gray Catbird",
          "Red-eyed Vireo",
          "American Robin",
          "Wood Thrush",
          "Red-breasted Nuthatch",
          "Black and white Warbler",
          "Canada Warbler",
          "Blackburnian Warbler",
          "American Tree Sparrow",
          "Chestnut-sided Warbler",
          "Black-throated Green Warbler",
          "Belted Kingfisher",
          "Mourning Dove",
          "Yellow Warbler",
          "Yellow-billed Cuckoo",
          "Willow/Alder Flycatcher",
          "Bay-breasted Warbler",
          "Least Flycatcher",
          "House Sparrow",
          "Barn Swallow",
          "Connecticut Warbler",
          "Black-throated Blue Warbler",
          "Marsh Wren",
          "Grasshopper Sparrow",
          "Golden-winged Warbler",
          "Cape May Warbler",
          "Yellow-shafted Flicker",
          "European Starling",
          "Yellow-bellied Flycatcher",
          "Chimney Swift",
          "Virginia Rail",
          "House Finch",
          "Willow Flycatcher",
          "Scarlet Tanager",
          "Northern Parula",
          "Common Grackle",
          "House Wren",
          "Field Sparrow",
          "Wilson's Warbler",
          "Cliff Swallow",
          "Black-billed Cuckoo",
          "Brown Thrasher",
          "Grey-cheeked Thrush",
          "Eastern Wood-Pewee",
          "American Goldfinch",
          "Rose-breasted Grosbeak",
          "Red-breasted Grosbeak",
          "Baltimore Oriole",
          "Brown-headed Cowbird",
          "Grey Catbird",
          "Warbling Vireo",
          "Winter Wren",
          "Eastern Towhee",
          "White-breasted Nuthatch",
          "Sedge Wren",
          "thrush sp?",
          "Tree Swallow",
          "Wood Duck",
          "Alder Flycatcher",
          "Least Bittern",
          "Blue-headed Vireo",
          "Purple Finch",
          "Dickcissel",
          "Clay-colored Sparrow",
          "Nelson's Sparrow",
          "Chipping Sparrow",
          "American Coot",
          "Kentucky Warbler",
          "Blue-winged Warbler",
          "Bluejay",
          "Dicksissel",
          "Common Nighthawk",
          "Yellow Shafted Flicker",
          "Cedar Waxwing",
          "Rock Pigeon",
          "Downy Woodpecker",
          "Black-crowned Night Heron",
          "Yellow-throated Vireo",
          "swallow wing",
          "Bank Swallow",
          "unidentified leg",
          "unidentified thrush wing",
          "Double-crested Cormorant",
          "Eastern Phoebe",
          "Eastern Meadowlark",
          "Red-breasted Merganser",
          "Red-bellied Woodpecker",
          "Pine Warbler",
          "Northern Rough-winged Swallow",
          "Northern Cardinal",
          "Lincoln Sparrow",
          "Leconte's Sparrow",
          "Swainson's Warbler",
          "Hooded Merganser",
          "Henslow Sparrow",
          "Green Heron",
          "Great Crested Flycatcher",
          "Gray-cheeked thrush",
          "Golden-winged Warb ler",
          "Whip-poor-will",
          "Eastern Wood PeeWee",
          "warbler sp.?"
         ],
         "xaxis": "x",
         "y": [
          191,
          160,
          127,
          109,
          102,
          93,
          92,
          91,
          89,
          74,
          62,
          55,
          52,
          49,
          48,
          46,
          43,
          38,
          36,
          35,
          34,
          33,
          32,
          31,
          30,
          24,
          24,
          24,
          23,
          22,
          21,
          21,
          19,
          19,
          19,
          19,
          18,
          17,
          17,
          17,
          17,
          17,
          16,
          15,
          15,
          15,
          12,
          10,
          10,
          10,
          10,
          10,
          9,
          8,
          8,
          8,
          8,
          8,
          8,
          7,
          7,
          7,
          7,
          6,
          6,
          6,
          6,
          5,
          5,
          5,
          5,
          5,
          5,
          4,
          4,
          4,
          4,
          4,
          4,
          3,
          3,
          3,
          3,
          3,
          3,
          3,
          3,
          3,
          3,
          2,
          2,
          2,
          2,
          2,
          2,
          2,
          2,
          2,
          2,
          2,
          2,
          2,
          2,
          2,
          2,
          1,
          1,
          1,
          1,
          1,
          1,
          1,
          1,
          1,
          1,
          1,
          1,
          1,
          1,
          1,
          1,
          1,
          1,
          1,
          1,
          1,
          1,
          1,
          1,
          1,
          1,
          1,
          1,
          1,
          1,
          1,
          1,
          1
         ],
         "yaxis": "y"
        }
       ],
       "layout": {
        "autosize": true,
        "barmode": "relative",
        "legend": {
         "tracegroupgap": 0
        },
        "margin": {
         "t": 60
        },
        "template": {
         "data": {
          "bar": [
           {
            "error_x": {
             "color": "#2a3f5f"
            },
            "error_y": {
             "color": "#2a3f5f"
            },
            "marker": {
             "line": {
              "color": "#E5ECF6",
              "width": 0.5
             },
             "pattern": {
              "fillmode": "overlay",
              "size": 10,
              "solidity": 0.2
             }
            },
            "type": "bar"
           }
          ],
          "barpolar": [
           {
            "marker": {
             "line": {
              "color": "#E5ECF6",
              "width": 0.5
             },
             "pattern": {
              "fillmode": "overlay",
              "size": 10,
              "solidity": 0.2
             }
            },
            "type": "barpolar"
           }
          ],
          "carpet": [
           {
            "aaxis": {
             "endlinecolor": "#2a3f5f",
             "gridcolor": "white",
             "linecolor": "white",
             "minorgridcolor": "white",
             "startlinecolor": "#2a3f5f"
            },
            "baxis": {
             "endlinecolor": "#2a3f5f",
             "gridcolor": "white",
             "linecolor": "white",
             "minorgridcolor": "white",
             "startlinecolor": "#2a3f5f"
            },
            "type": "carpet"
           }
          ],
          "choropleth": [
           {
            "colorbar": {
             "outlinewidth": 0,
             "ticks": ""
            },
            "type": "choropleth"
           }
          ],
          "contour": [
           {
            "colorbar": {
             "outlinewidth": 0,
             "ticks": ""
            },
            "colorscale": [
             [
              0,
              "#0d0887"
             ],
             [
              0.1111111111111111,
              "#46039f"
             ],
             [
              0.2222222222222222,
              "#7201a8"
             ],
             [
              0.3333333333333333,
              "#9c179e"
             ],
             [
              0.4444444444444444,
              "#bd3786"
             ],
             [
              0.5555555555555556,
              "#d8576b"
             ],
             [
              0.6666666666666666,
              "#ed7953"
             ],
             [
              0.7777777777777778,
              "#fb9f3a"
             ],
             [
              0.8888888888888888,
              "#fdca26"
             ],
             [
              1,
              "#f0f921"
             ]
            ],
            "type": "contour"
           }
          ],
          "contourcarpet": [
           {
            "colorbar": {
             "outlinewidth": 0,
             "ticks": ""
            },
            "type": "contourcarpet"
           }
          ],
          "heatmap": [
           {
            "colorbar": {
             "outlinewidth": 0,
             "ticks": ""
            },
            "colorscale": [
             [
              0,
              "#0d0887"
             ],
             [
              0.1111111111111111,
              "#46039f"
             ],
             [
              0.2222222222222222,
              "#7201a8"
             ],
             [
              0.3333333333333333,
              "#9c179e"
             ],
             [
              0.4444444444444444,
              "#bd3786"
             ],
             [
              0.5555555555555556,
              "#d8576b"
             ],
             [
              0.6666666666666666,
              "#ed7953"
             ],
             [
              0.7777777777777778,
              "#fb9f3a"
             ],
             [
              0.8888888888888888,
              "#fdca26"
             ],
             [
              1,
              "#f0f921"
             ]
            ],
            "type": "heatmap"
           }
          ],
          "heatmapgl": [
           {
            "colorbar": {
             "outlinewidth": 0,
             "ticks": ""
            },
            "colorscale": [
             [
              0,
              "#0d0887"
             ],
             [
              0.1111111111111111,
              "#46039f"
             ],
             [
              0.2222222222222222,
              "#7201a8"
             ],
             [
              0.3333333333333333,
              "#9c179e"
             ],
             [
              0.4444444444444444,
              "#bd3786"
             ],
             [
              0.5555555555555556,
              "#d8576b"
             ],
             [
              0.6666666666666666,
              "#ed7953"
             ],
             [
              0.7777777777777778,
              "#fb9f3a"
             ],
             [
              0.8888888888888888,
              "#fdca26"
             ],
             [
              1,
              "#f0f921"
             ]
            ],
            "type": "heatmapgl"
           }
          ],
          "histogram": [
           {
            "marker": {
             "pattern": {
              "fillmode": "overlay",
              "size": 10,
              "solidity": 0.2
             }
            },
            "type": "histogram"
           }
          ],
          "histogram2d": [
           {
            "colorbar": {
             "outlinewidth": 0,
             "ticks": ""
            },
            "colorscale": [
             [
              0,
              "#0d0887"
             ],
             [
              0.1111111111111111,
              "#46039f"
             ],
             [
              0.2222222222222222,
              "#7201a8"
             ],
             [
              0.3333333333333333,
              "#9c179e"
             ],
             [
              0.4444444444444444,
              "#bd3786"
             ],
             [
              0.5555555555555556,
              "#d8576b"
             ],
             [
              0.6666666666666666,
              "#ed7953"
             ],
             [
              0.7777777777777778,
              "#fb9f3a"
             ],
             [
              0.8888888888888888,
              "#fdca26"
             ],
             [
              1,
              "#f0f921"
             ]
            ],
            "type": "histogram2d"
           }
          ],
          "histogram2dcontour": [
           {
            "colorbar": {
             "outlinewidth": 0,
             "ticks": ""
            },
            "colorscale": [
             [
              0,
              "#0d0887"
             ],
             [
              0.1111111111111111,
              "#46039f"
             ],
             [
              0.2222222222222222,
              "#7201a8"
             ],
             [
              0.3333333333333333,
              "#9c179e"
             ],
             [
              0.4444444444444444,
              "#bd3786"
             ],
             [
              0.5555555555555556,
              "#d8576b"
             ],
             [
              0.6666666666666666,
              "#ed7953"
             ],
             [
              0.7777777777777778,
              "#fb9f3a"
             ],
             [
              0.8888888888888888,
              "#fdca26"
             ],
             [
              1,
              "#f0f921"
             ]
            ],
            "type": "histogram2dcontour"
           }
          ],
          "mesh3d": [
           {
            "colorbar": {
             "outlinewidth": 0,
             "ticks": ""
            },
            "type": "mesh3d"
           }
          ],
          "parcoords": [
           {
            "line": {
             "colorbar": {
              "outlinewidth": 0,
              "ticks": ""
             }
            },
            "type": "parcoords"
           }
          ],
          "pie": [
           {
            "automargin": true,
            "type": "pie"
           }
          ],
          "scatter": [
           {
            "fillpattern": {
             "fillmode": "overlay",
             "size": 10,
             "solidity": 0.2
            },
            "type": "scatter"
           }
          ],
          "scatter3d": [
           {
            "line": {
             "colorbar": {
              "outlinewidth": 0,
              "ticks": ""
             }
            },
            "marker": {
             "colorbar": {
              "outlinewidth": 0,
              "ticks": ""
             }
            },
            "type": "scatter3d"
           }
          ],
          "scattercarpet": [
           {
            "marker": {
             "colorbar": {
              "outlinewidth": 0,
              "ticks": ""
             }
            },
            "type": "scattercarpet"
           }
          ],
          "scattergeo": [
           {
            "marker": {
             "colorbar": {
              "outlinewidth": 0,
              "ticks": ""
             }
            },
            "type": "scattergeo"
           }
          ],
          "scattergl": [
           {
            "marker": {
             "colorbar": {
              "outlinewidth": 0,
              "ticks": ""
             }
            },
            "type": "scattergl"
           }
          ],
          "scattermapbox": [
           {
            "marker": {
             "colorbar": {
              "outlinewidth": 0,
              "ticks": ""
             }
            },
            "type": "scattermapbox"
           }
          ],
          "scatterpolar": [
           {
            "marker": {
             "colorbar": {
              "outlinewidth": 0,
              "ticks": ""
             }
            },
            "type": "scatterpolar"
           }
          ],
          "scatterpolargl": [
           {
            "marker": {
             "colorbar": {
              "outlinewidth": 0,
              "ticks": ""
             }
            },
            "type": "scatterpolargl"
           }
          ],
          "scatterternary": [
           {
            "marker": {
             "colorbar": {
              "outlinewidth": 0,
              "ticks": ""
             }
            },
            "type": "scatterternary"
           }
          ],
          "surface": [
           {
            "colorbar": {
             "outlinewidth": 0,
             "ticks": ""
            },
            "colorscale": [
             [
              0,
              "#0d0887"
             ],
             [
              0.1111111111111111,
              "#46039f"
             ],
             [
              0.2222222222222222,
              "#7201a8"
             ],
             [
              0.3333333333333333,
              "#9c179e"
             ],
             [
              0.4444444444444444,
              "#bd3786"
             ],
             [
              0.5555555555555556,
              "#d8576b"
             ],
             [
              0.6666666666666666,
              "#ed7953"
             ],
             [
              0.7777777777777778,
              "#fb9f3a"
             ],
             [
              0.8888888888888888,
              "#fdca26"
             ],
             [
              1,
              "#f0f921"
             ]
            ],
            "type": "surface"
           }
          ],
          "table": [
           {
            "cells": {
             "fill": {
              "color": "#EBF0F8"
             },
             "line": {
              "color": "white"
             }
            },
            "header": {
             "fill": {
              "color": "#C8D4E3"
             },
             "line": {
              "color": "white"
             }
            },
            "type": "table"
           }
          ]
         },
         "layout": {
          "annotationdefaults": {
           "arrowcolor": "#2a3f5f",
           "arrowhead": 0,
           "arrowwidth": 1
          },
          "autotypenumbers": "strict",
          "coloraxis": {
           "colorbar": {
            "outlinewidth": 0,
            "ticks": ""
           }
          },
          "colorscale": {
           "diverging": [
            [
             0,
             "#8e0152"
            ],
            [
             0.1,
             "#c51b7d"
            ],
            [
             0.2,
             "#de77ae"
            ],
            [
             0.3,
             "#f1b6da"
            ],
            [
             0.4,
             "#fde0ef"
            ],
            [
             0.5,
             "#f7f7f7"
            ],
            [
             0.6,
             "#e6f5d0"
            ],
            [
             0.7,
             "#b8e186"
            ],
            [
             0.8,
             "#7fbc41"
            ],
            [
             0.9,
             "#4d9221"
            ],
            [
             1,
             "#276419"
            ]
           ],
           "sequential": [
            [
             0,
             "#0d0887"
            ],
            [
             0.1111111111111111,
             "#46039f"
            ],
            [
             0.2222222222222222,
             "#7201a8"
            ],
            [
             0.3333333333333333,
             "#9c179e"
            ],
            [
             0.4444444444444444,
             "#bd3786"
            ],
            [
             0.5555555555555556,
             "#d8576b"
            ],
            [
             0.6666666666666666,
             "#ed7953"
            ],
            [
             0.7777777777777778,
             "#fb9f3a"
            ],
            [
             0.8888888888888888,
             "#fdca26"
            ],
            [
             1,
             "#f0f921"
            ]
           ],
           "sequentialminus": [
            [
             0,
             "#0d0887"
            ],
            [
             0.1111111111111111,
             "#46039f"
            ],
            [
             0.2222222222222222,
             "#7201a8"
            ],
            [
             0.3333333333333333,
             "#9c179e"
            ],
            [
             0.4444444444444444,
             "#bd3786"
            ],
            [
             0.5555555555555556,
             "#d8576b"
            ],
            [
             0.6666666666666666,
             "#ed7953"
            ],
            [
             0.7777777777777778,
             "#fb9f3a"
            ],
            [
             0.8888888888888888,
             "#fdca26"
            ],
            [
             1,
             "#f0f921"
            ]
           ]
          },
          "colorway": [
           "#636efa",
           "#EF553B",
           "#00cc96",
           "#ab63fa",
           "#FFA15A",
           "#19d3f3",
           "#FF6692",
           "#B6E880",
           "#FF97FF",
           "#FECB52"
          ],
          "font": {
           "color": "#2a3f5f"
          },
          "geo": {
           "bgcolor": "white",
           "lakecolor": "white",
           "landcolor": "#E5ECF6",
           "showlakes": true,
           "showland": true,
           "subunitcolor": "white"
          },
          "hoverlabel": {
           "align": "left"
          },
          "hovermode": "closest",
          "mapbox": {
           "style": "light"
          },
          "paper_bgcolor": "white",
          "plot_bgcolor": "#E5ECF6",
          "polar": {
           "angularaxis": {
            "gridcolor": "white",
            "linecolor": "white",
            "ticks": ""
           },
           "bgcolor": "#E5ECF6",
           "radialaxis": {
            "gridcolor": "white",
            "linecolor": "white",
            "ticks": ""
           }
          },
          "scene": {
           "xaxis": {
            "backgroundcolor": "#E5ECF6",
            "gridcolor": "white",
            "gridwidth": 2,
            "linecolor": "white",
            "showbackground": true,
            "ticks": "",
            "zerolinecolor": "white"
           },
           "yaxis": {
            "backgroundcolor": "#E5ECF6",
            "gridcolor": "white",
            "gridwidth": 2,
            "linecolor": "white",
            "showbackground": true,
            "ticks": "",
            "zerolinecolor": "white"
           },
           "zaxis": {
            "backgroundcolor": "#E5ECF6",
            "gridcolor": "white",
            "gridwidth": 2,
            "linecolor": "white",
            "showbackground": true,
            "ticks": "",
            "zerolinecolor": "white"
           }
          },
          "shapedefaults": {
           "line": {
            "color": "#2a3f5f"
           }
          },
          "ternary": {
           "aaxis": {
            "gridcolor": "white",
            "linecolor": "white",
            "ticks": ""
           },
           "baxis": {
            "gridcolor": "white",
            "linecolor": "white",
            "ticks": ""
           },
           "bgcolor": "#E5ECF6",
           "caxis": {
            "gridcolor": "white",
            "linecolor": "white",
            "ticks": ""
           }
          },
          "title": {
           "x": 0.05
          },
          "xaxis": {
           "automargin": true,
           "gridcolor": "white",
           "linecolor": "white",
           "ticks": "",
           "title": {
            "standoff": 15
           },
           "zerolinecolor": "white",
           "zerolinewidth": 2
          },
          "yaxis": {
           "automargin": true,
           "gridcolor": "white",
           "linecolor": "white",
           "ticks": "",
           "title": {
            "standoff": 15
           },
           "zerolinecolor": "white",
           "zerolinewidth": 2
          }
         }
        },
        "xaxis": {
         "anchor": "y",
         "autorange": true,
         "domain": [
          0,
          1
         ],
         "range": [
          -0.5,
          137.5
         ],
         "title": {
          "text": "Species Name"
         },
         "type": "category"
        },
        "yaxis": {
         "anchor": "x",
         "autorange": true,
         "domain": [
          0,
          1
         ],
         "range": [
          0,
          201.05263157894737
         ],
         "title": {
          "text": "0"
         },
         "type": "linear"
        }
       }
      },
      "image/png": "[encoded data removed]",
      "text/html": [
       "<div>                            <div id=\"db822b6d-3bec-4e5d-a01f-09d024ed798f\" class=\"plotly-graph-div\" style=\"height:525px; width:100%;\"></div>            <script type=\"text/javascript\">                require([\"plotly\"], function(Plotly) {                    window.PLOTLYENV=window.PLOTLYENV || {};                                    if (document.getElementById(\"db822b6d-3bec-4e5d-a01f-09d024ed798f\")) {                    Plotly.newPlot(                        \"db822b6d-3bec-4e5d-a01f-09d024ed798f\",                        [{\"alignmentgroup\":\"True\",\"hovertemplate\":\"Species Name=%{x}<br>0=%{y}<extra></extra>\",\"legendgroup\":\"\",\"marker\":{\"color\":\"#636efa\",\"pattern\":{\"shape\":\"\"}},\"name\":\"\",\"offsetgroup\":\"\",\"orientation\":\"v\",\"showlegend\":false,\"textposition\":\"auto\",\"x\":[\"Swamp Sparrow\",\"Common Yellowthroat\",\"Swainson's Thrush\",\"Hermit Thrush\",\"White-throated Sparrow\",\"Golden-crowned Kinglet\",\"Tennessee Warbler\",\"Slate-colored Junco\",\"Ovenbird\",\"Nashville Warbler\",\"Brown Creeper\",\"Song Sparrow\",\"Northern Waterthrush\",\"Red-winged Blackbird\",\"Lincoln's Sparrow\",\"Fox Sparrow\",\"Palm Warbler\",\"Magnolia Warbler\",\"Indigo Bunting\",\"American Redstart\",\"Ruby-crowned Kinglet\",\"Gray-cheeked Thrush\",\"Blackpoll Warbler\",\"Veery\",\"Black and White Warbler\",\"White-crowned Sparrow\",\"Orange-crowned Warbler\",\"Savannah Sparrow\",\"Myrtle Warbler\",\"American Woodcock\",\"Mourning Warbler\",\"Yellow-bellied Sapsucker\",\"Western Palm Warbler\",\"Sora\",\"Ruby-throated Hummingbird\",\"Yellow-rumped Warbler\",\"Gray Catbird\",\"Red-eyed Vireo\",\"American Robin\",\"Wood Thrush\",\"Red-breasted Nuthatch\",\"Black and white Warbler\",\"Canada Warbler\",\"Blackburnian Warbler\",\"American Tree Sparrow\",\"Chestnut-sided Warbler\",\"Black-throated Green Warbler\",\"Belted Kingfisher\",\"Mourning Dove\",\"Yellow Warbler\",\"Yellow-billed Cuckoo\",\"Willow/Alder Flycatcher\",\"Bay-breasted Warbler\",\"Least Flycatcher\",\"House Sparrow\",\"Barn Swallow\",\"Connecticut Warbler\",\"Black-throated Blue Warbler\",\"Marsh Wren\",\"Grasshopper Sparrow\",\"Golden-winged Warbler\",\"Cape May Warbler\",\"Yellow-shafted Flicker\",\"European Starling\",\"Yellow-bellied Flycatcher\",\"Chimney Swift\",\"Virginia Rail\",\"House Finch\",\"Willow Flycatcher\",\"Scarlet Tanager\",\"Northern Parula\",\"Common Grackle\",\"House Wren\",\"Field Sparrow\",\"Wilson's Warbler\",\"Cliff Swallow\",\"Black-billed Cuckoo\",\"Brown Thrasher\",\"Grey-cheeked Thrush\",\"Eastern Wood-Pewee\",\"American Goldfinch\",\"Rose-breasted Grosbeak\",\"Red-breasted Grosbeak\",\"Baltimore Oriole\",\"Brown-headed Cowbird\",\"Grey Catbird\",\"Warbling Vireo\",\"Winter Wren\",\"Eastern Towhee\",\"White-breasted Nuthatch\",\"Sedge Wren\",\"thrush sp?\",\"Tree Swallow\",\"Wood Duck\",\"Alder Flycatcher\",\"Least Bittern\",\"Blue-headed Vireo\",\"Purple Finch\",\"Dickcissel\",\"Clay-colored Sparrow\",\"Nelson's Sparrow\",\"Chipping Sparrow\",\"American Coot\",\"Kentucky Warbler\",\"Blue-winged Warbler\",\"Bluejay\",\"Dicksissel\",\"Common Nighthawk\",\"Yellow Shafted Flicker\",\"Cedar Waxwing\",\"Rock Pigeon\",\"Downy Woodpecker\",\"Black-crowned Night Heron\",\"Yellow-throated Vireo\",\"swallow wing\",\"Bank Swallow\",\"unidentified leg\",\"unidentified thrush wing\",\"Double-crested Cormorant\",\"Eastern Phoebe\",\"Eastern Meadowlark\",\"Red-breasted Merganser\",\"Red-bellied Woodpecker\",\"Pine Warbler\",\"Northern Rough-winged Swallow\",\"Northern Cardinal\",\"Lincoln Sparrow\",\"Leconte's Sparrow\",\"Swainson's Warbler\",\"Hooded Merganser\",\"Henslow Sparrow\",\"Green Heron\",\"Great Crested Flycatcher\",\"Gray-cheeked thrush\",\"Golden-winged Warb ler\",\"Whip-poor-will\",\"Eastern Wood PeeWee\",\"warbler sp.?\"],\"xaxis\":\"x\",\"y\":[191,160,127,109,102,93,92,91,89,74,62,55,52,49,48,46,43,38,36,35,34,33,32,31,30,24,24,24,23,22,21,21,19,19,19,19,18,17,17,17,17,17,16,15,15,15,12,10,10,10,10,10,9,8,8,8,8,8,8,7,7,7,7,6,6,6,6,5,5,5,5,5,5,4,4,4,4,4,4,3,3,3,3,3,3,3,3,3,3,2,2,2,2,2,2,2,2,2,2,2,2,2,2,2,2,1,1,1,1,1,1,1,1,1,1,1,1,1,1,1,1,1,1,1,1,1,1,1,1,1,1,1,1,1,1,1,1,1],\"yaxis\":\"y\",\"type\":\"bar\"}],                        {\"template\":{\"data\":{\"histogram2dcontour\":[{\"type\":\"histogram2dcontour\",\"colorbar\":{\"outlinewidth\":0,\"ticks\":\"\"},\"colorscale\":[[0.0,\"#0d0887\"],[0.1111111111111111,\"#46039f\"],[0.2222222222222222,\"#7201a8\"],[0.3333333333333333,\"#9c179e\"],[0.4444444444444444,\"#bd3786\"],[0.5555555555555556,\"#d8576b\"],[0.6666666666666666,\"#ed7953\"],[0.7777777777777778,\"#fb9f3a\"],[0.8888888888888888,\"#fdca26\"],[1.0,\"#f0f921\"]]}],\"choropleth\":[{\"type\":\"choropleth\",\"colorbar\":{\"outlinewidth\":0,\"ticks\":\"\"}}],\"histogram2d\":[{\"type\":\"histogram2d\",\"colorbar\":{\"outlinewidth\":0,\"ticks\":\"\"},\"colorscale\":[[0.0,\"#0d0887\"],[0.1111111111111111,\"#46039f\"],[0.2222222222222222,\"#7201a8\"],[0.3333333333333333,\"#9c179e\"],[0.4444444444444444,\"#bd3786\"],[0.5555555555555556,\"#d8576b\"],[0.6666666666666666,\"#ed7953\"],[0.7777777777777778,\"#fb9f3a\"],[0.8888888888888888,\"#fdca26\"],[1.0,\"#f0f921\"]]}],\"heatmap\":[{\"type\":\"heatmap\",\"colorbar\":{\"outlinewidth\":0,\"ticks\":\"\"},\"colorscale\":[[0.0,\"#0d0887\"],[0.1111111111111111,\"#46039f\"],[0.2222222222222222,\"#7201a8\"],[0.3333333333333333,\"#9c179e\"],[0.4444444444444444,\"#bd3786\"],[0.5555555555555556,\"#d8576b\"],[0.6666666666666666,\"#ed7953\"],[0.7777777777777778,\"#fb9f3a\"],[0.8888888888888888,\"#fdca26\"],[1.0,\"#f0f921\"]]}],\"heatmapgl\":[{\"type\":\"heatmapgl\",\"colorbar\":{\"outlinewidth\":0,\"ticks\":\"\"},\"colorscale\":[[0.0,\"#0d0887\"],[0.1111111111111111,\"#46039f\"],[0.2222222222222222,\"#7201a8\"],[0.3333333333333333,\"#9c179e\"],[0.4444444444444444,\"#bd3786\"],[0.5555555555555556,\"#d8576b\"],[0.6666666666666666,\"#ed7953\"],[0.7777777777777778,\"#fb9f3a\"],[0.8888888888888888,\"#fdca26\"],[1.0,\"#f0f921\"]]}],\"contourcarpet\":[{\"type\":\"contourcarpet\",\"colorbar\":{\"outlinewidth\":0,\"ticks\":\"\"}}],\"contour\":[{\"type\":\"contour\",\"colorbar\":{\"outlinewidth\":0,\"ticks\":\"\"},\"colorscale\":[[0.0,\"#0d0887\"],[0.1111111111111111,\"#46039f\"],[0.2222222222222222,\"#7201a8\"],[0.3333333333333333,\"#9c179e\"],[0.4444444444444444,\"#bd3786\"],[0.5555555555555556,\"#d8576b\"],[0.6666666666666666,\"#ed7953\"],[0.7777777777777778,\"#fb9f3a\"],[0.8888888888888888,\"#fdca26\"],[1.0,\"#f0f921\"]]}],\"surface\":[{\"type\":\"surface\",\"colorbar\":{\"outlinewidth\":0,\"ticks\":\"\"},\"colorscale\":[[0.0,\"#0d0887\"],[0.1111111111111111,\"#46039f\"],[0.2222222222222222,\"#7201a8\"],[0.3333333333333333,\"#9c179e\"],[0.4444444444444444,\"#bd3786\"],[0.5555555555555556,\"#d8576b\"],[0.6666666666666666,\"#ed7953\"],[0.7777777777777778,\"#fb9f3a\"],[0.8888888888888888,\"#fdca26\"],[1.0,\"#f0f921\"]]}],\"mesh3d\":[{\"type\":\"mesh3d\",\"colorbar\":{\"outlinewidth\":0,\"ticks\":\"\"}}],\"scatter\":[{\"fillpattern\":{\"fillmode\":\"overlay\",\"size\":10,\"solidity\":0.2},\"type\":\"scatter\"}],\"parcoords\":[{\"type\":\"parcoords\",\"line\":{\"colorbar\":{\"outlinewidth\":0,\"ticks\":\"\"}}}],\"scatterpolargl\":[{\"type\":\"scatterpolargl\",\"marker\":{\"colorbar\":{\"outlinewidth\":0,\"ticks\":\"\"}}}],\"bar\":[{\"error_x\":{\"color\":\"#2a3f5f\"},\"error_y\":{\"color\":\"#2a3f5f\"},\"marker\":{\"line\":{\"color\":\"#E5ECF6\",\"width\":0.5},\"pattern\":{\"fillmode\":\"overlay\",\"size\":10,\"solidity\":0.2}},\"type\":\"bar\"}],\"scattergeo\":[{\"type\":\"scattergeo\",\"marker\":{\"colorbar\":{\"outlinewidth\":0,\"ticks\":\"\"}}}],\"scatterpolar\":[{\"type\":\"scatterpolar\",\"marker\":{\"colorbar\":{\"outlinewidth\":0,\"ticks\":\"\"}}}],\"histogram\":[{\"marker\":{\"pattern\":{\"fillmode\":\"overlay\",\"size\":10,\"solidity\":0.2}},\"type\":\"histogram\"}],\"scattergl\":[{\"type\":\"scattergl\",\"marker\":{\"colorbar\":{\"outlinewidth\":0,\"ticks\":\"\"}}}],\"scatter3d\":[{\"type\":\"scatter3d\",\"line\":{\"colorbar\":{\"outlinewidth\":0,\"ticks\":\"\"}},\"marker\":{\"colorbar\":{\"outlinewidth\":0,\"ticks\":\"\"}}}],\"scattermapbox\":[{\"type\":\"scattermapbox\",\"marker\":{\"colorbar\":{\"outlinewidth\":0,\"ticks\":\"\"}}}],\"scatterternary\":[{\"type\":\"scatterternary\",\"marker\":{\"colorbar\":{\"outlinewidth\":0,\"ticks\":\"\"}}}],\"scattercarpet\":[{\"type\":\"scattercarpet\",\"marker\":{\"colorbar\":{\"outlinewidth\":0,\"ticks\":\"\"}}}],\"carpet\":[{\"aaxis\":{\"endlinecolor\":\"#2a3f5f\",\"gridcolor\":\"white\",\"linecolor\":\"white\",\"minorgridcolor\":\"white\",\"startlinecolor\":\"#2a3f5f\"},\"baxis\":{\"endlinecolor\":\"#2a3f5f\",\"gridcolor\":\"white\",\"linecolor\":\"white\",\"minorgridcolor\":\"white\",\"startlinecolor\":\"#2a3f5f\"},\"type\":\"carpet\"}],\"table\":[{\"cells\":{\"fill\":{\"color\":\"#EBF0F8\"},\"line\":{\"color\":\"white\"}},\"header\":{\"fill\":{\"color\":\"#C8D4E3\"},\"line\":{\"color\":\"white\"}},\"type\":\"table\"}],\"barpolar\":[{\"marker\":{\"line\":{\"color\":\"#E5ECF6\",\"width\":0.5},\"pattern\":{\"fillmode\":\"overlay\",\"size\":10,\"solidity\":0.2}},\"type\":\"barpolar\"}],\"pie\":[{\"automargin\":true,\"type\":\"pie\"}]},\"layout\":{\"autotypenumbers\":\"strict\",\"colorway\":[\"#636efa\",\"#EF553B\",\"#00cc96\",\"#ab63fa\",\"#FFA15A\",\"#19d3f3\",\"#FF6692\",\"#B6E880\",\"#FF97FF\",\"#FECB52\"],\"font\":{\"color\":\"#2a3f5f\"},\"hovermode\":\"closest\",\"hoverlabel\":{\"align\":\"left\"},\"paper_bgcolor\":\"white\",\"plot_bgcolor\":\"#E5ECF6\",\"polar\":{\"bgcolor\":\"#E5ECF6\",\"angularaxis\":{\"gridcolor\":\"white\",\"linecolor\":\"white\",\"ticks\":\"\"},\"radialaxis\":{\"gridcolor\":\"white\",\"linecolor\":\"white\",\"ticks\":\"\"}},\"ternary\":{\"bgcolor\":\"#E5ECF6\",\"aaxis\":{\"gridcolor\":\"white\",\"linecolor\":\"white\",\"ticks\":\"\"},\"baxis\":{\"gridcolor\":\"white\",\"linecolor\":\"white\",\"ticks\":\"\"},\"caxis\":{\"gridcolor\":\"white\",\"linecolor\":\"white\",\"ticks\":\"\"}},\"coloraxis\":{\"colorbar\":{\"outlinewidth\":0,\"ticks\":\"\"}},\"colorscale\":{\"sequential\":[[0.0,\"#0d0887\"],[0.1111111111111111,\"#46039f\"],[0.2222222222222222,\"#7201a8\"],[0.3333333333333333,\"#9c179e\"],[0.4444444444444444,\"#bd3786\"],[0.5555555555555556,\"#d8576b\"],[0.6666666666666666,\"#ed7953\"],[0.7777777777777778,\"#fb9f3a\"],[0.8888888888888888,\"#fdca26\"],[1.0,\"#f0f921\"]],\"sequentialminus\":[[0.0,\"#0d0887\"],[0.1111111111111111,\"#46039f\"],[0.2222222222222222,\"#7201a8\"],[0.3333333333333333,\"#9c179e\"],[0.4444444444444444,\"#bd3786\"],[0.5555555555555556,\"#d8576b\"],[0.6666666666666666,\"#ed7953\"],[0.7777777777777778,\"#fb9f3a\"],[0.8888888888888888,\"#fdca26\"],[1.0,\"#f0f921\"]],\"diverging\":[[0,\"#8e0152\"],[0.1,\"#c51b7d\"],[0.2,\"#de77ae\"],[0.3,\"#f1b6da\"],[0.4,\"#fde0ef\"],[0.5,\"#f7f7f7\"],[0.6,\"#e6f5d0\"],[0.7,\"#b8e186\"],[0.8,\"#7fbc41\"],[0.9,\"#4d9221\"],[1,\"#276419\"]]},\"xaxis\":{\"gridcolor\":\"white\",\"linecolor\":\"white\",\"ticks\":\"\",\"title\":{\"standoff\":15},\"zerolinecolor\":\"white\",\"automargin\":true,\"zerolinewidth\":2},\"yaxis\":{\"gridcolor\":\"white\",\"linecolor\":\"white\",\"ticks\":\"\",\"title\":{\"standoff\":15},\"zerolinecolor\":\"white\",\"automargin\":true,\"zerolinewidth\":2},\"scene\":{\"xaxis\":{\"backgroundcolor\":\"#E5ECF6\",\"gridcolor\":\"white\",\"linecolor\":\"white\",\"showbackground\":true,\"ticks\":\"\",\"zerolinecolor\":\"white\",\"gridwidth\":2},\"yaxis\":{\"backgroundcolor\":\"#E5ECF6\",\"gridcolor\":\"white\",\"linecolor\":\"white\",\"showbackground\":true,\"ticks\":\"\",\"zerolinecolor\":\"white\",\"gridwidth\":2},\"zaxis\":{\"backgroundcolor\":\"#E5ECF6\",\"gridcolor\":\"white\",\"linecolor\":\"white\",\"showbackground\":true,\"ticks\":\"\",\"zerolinecolor\":\"white\",\"gridwidth\":2}},\"shapedefaults\":{\"line\":{\"color\":\"#2a3f5f\"}},\"annotationdefaults\":{\"arrowcolor\":\"#2a3f5f\",\"arrowhead\":0,\"arrowwidth\":1},\"geo\":{\"bgcolor\":\"white\",\"landcolor\":\"#E5ECF6\",\"subunitcolor\":\"white\",\"showland\":true,\"showlakes\":true,\"lakecolor\":\"white\"},\"title\":{\"x\":0.05},\"mapbox\":{\"style\":\"light\"}}},\"xaxis\":{\"anchor\":\"y\",\"domain\":[0.0,1.0],\"title\":{\"text\":\"Species Name\"}},\"yaxis\":{\"anchor\":\"x\",\"domain\":[0.0,1.0],\"title\":{\"text\":\"0\"}},\"legend\":{\"tracegroupgap\":0},\"margin\":{\"t\":60},\"barmode\":\"relative\"},                        {\"responsive\": true}                    ).then(function(){\n",
       "                            \n",
       "var gd = document.getElementById('db822b6d-3bec-4e5d-a01f-09d024ed798f');\n",
       "var x = new MutationObserver(function (mutations, observer) {{\n",
       "        var display = window.getComputedStyle(gd).display;\n",
       "        if (!display || display === 'none') {{\n",
       "            console.log([gd, 'removed!']);\n",
       "            Plotly.purge(gd);\n",
       "            observer.disconnect();\n",
       "        }}\n",
       "}});\n",
       "\n",
       "// Listen for the removal of the full notebook cells\n",
       "var notebookContainer = gd.closest('#notebook-container');\n",
       "if (notebookContainer) {{\n",
       "    x.observe(notebookContainer, {childList: true});\n",
       "}}\n",
       "\n",
       "// Listen for the clearing of the current output cell\n",
       "var outputEl = gd.closest('.output');\n",
       "if (outputEl) {{\n",
       "    x.observe(outputEl, {childList: true});\n",
       "}}\n",
       "\n",
       "                        })                };                });            </script>        </div>"
      ]
     },
     "metadata": {},
     "output_type": "display_data"
    },
    {
     "data": {
      "application/vnd.plotly.v1+json": {
       "config": {
        "plotlyServerURL": "https://plot.ly"
       },
       "data": [
        {
         "alignmentgroup": "True",
         "hovertemplate": "Species Name=%{x}<br>0=%{y}<extra></extra>",
         "legendgroup": "",
         "marker": {
          "color": "#636efa",
          "pattern": {
           "shape": ""
          }
         },
         "name": "",
         "offsetgroup": "",
         "orientation": "v",
         "showlegend": false,
         "textposition": "auto",
         "type": "bar",
         "x": [
          "Swamp Sparrow",
          "Common Yellowthroat",
          "Swainson's Thrush",
          "Hermit Thrush",
          "White-throated Sparrow"
         ],
         "xaxis": "x",
         "y": [
          191,
          160,
          127,
          109,
          102
         ],
         "yaxis": "y"
        }
       ],
       "layout": {
        "autosize": true,
        "barmode": "relative",
        "legend": {
         "tracegroupgap": 0
        },
        "margin": {
         "t": 60
        },
        "template": {
         "data": {
          "bar": [
           {
            "error_x": {
             "color": "#2a3f5f"
            },
            "error_y": {
             "color": "#2a3f5f"
            },
            "marker": {
             "line": {
              "color": "#E5ECF6",
              "width": 0.5
             },
             "pattern": {
              "fillmode": "overlay",
              "size": 10,
              "solidity": 0.2
             }
            },
            "type": "bar"
           }
          ],
          "barpolar": [
           {
            "marker": {
             "line": {
              "color": "#E5ECF6",
              "width": 0.5
             },
             "pattern": {
              "fillmode": "overlay",
              "size": 10,
              "solidity": 0.2
             }
            },
            "type": "barpolar"
           }
          ],
          "carpet": [
           {
            "aaxis": {
             "endlinecolor": "#2a3f5f",
             "gridcolor": "white",
             "linecolor": "white",
             "minorgridcolor": "white",
             "startlinecolor": "#2a3f5f"
            },
            "baxis": {
             "endlinecolor": "#2a3f5f",
             "gridcolor": "white",
             "linecolor": "white",
             "minorgridcolor": "white",
             "startlinecolor": "#2a3f5f"
            },
            "type": "carpet"
           }
          ],
          "choropleth": [
           {
            "colorbar": {
             "outlinewidth": 0,
             "ticks": ""
            },
            "type": "choropleth"
           }
          ],
          "contour": [
           {
            "colorbar": {
             "outlinewidth": 0,
             "ticks": ""
            },
            "colorscale": [
             [
              0,
              "#0d0887"
             ],
             [
              0.1111111111111111,
              "#46039f"
             ],
             [
              0.2222222222222222,
              "#7201a8"
             ],
             [
              0.3333333333333333,
              "#9c179e"
             ],
             [
              0.4444444444444444,
              "#bd3786"
             ],
             [
              0.5555555555555556,
              "#d8576b"
             ],
             [
              0.6666666666666666,
              "#ed7953"
             ],
             [
              0.7777777777777778,
              "#fb9f3a"
             ],
             [
              0.8888888888888888,
              "#fdca26"
             ],
             [
              1,
              "#f0f921"
             ]
            ],
            "type": "contour"
           }
          ],
          "contourcarpet": [
           {
            "colorbar": {
             "outlinewidth": 0,
             "ticks": ""
            },
            "type": "contourcarpet"
           }
          ],
          "heatmap": [
           {
            "colorbar": {
             "outlinewidth": 0,
             "ticks": ""
            },
            "colorscale": [
             [
              0,
              "#0d0887"
             ],
             [
              0.1111111111111111,
              "#46039f"
             ],
             [
              0.2222222222222222,
              "#7201a8"
             ],
             [
              0.3333333333333333,
              "#9c179e"
             ],
             [
              0.4444444444444444,
              "#bd3786"
             ],
             [
              0.5555555555555556,
              "#d8576b"
             ],
             [
              0.6666666666666666,
              "#ed7953"
             ],
             [
              0.7777777777777778,
              "#fb9f3a"
             ],
             [
              0.8888888888888888,
              "#fdca26"
             ],
             [
              1,
              "#f0f921"
             ]
            ],
            "type": "heatmap"
           }
          ],
          "heatmapgl": [
           {
            "colorbar": {
             "outlinewidth": 0,
             "ticks": ""
            },
            "colorscale": [
             [
              0,
              "#0d0887"
             ],
             [
              0.1111111111111111,
              "#46039f"
             ],
             [
              0.2222222222222222,
              "#7201a8"
             ],
             [
              0.3333333333333333,
              "#9c179e"
             ],
             [
              0.4444444444444444,
              "#bd3786"
             ],
             [
              0.5555555555555556,
              "#d8576b"
             ],
             [
              0.6666666666666666,
              "#ed7953"
             ],
             [
              0.7777777777777778,
              "#fb9f3a"
             ],
             [
              0.8888888888888888,
              "#fdca26"
             ],
             [
              1,
              "#f0f921"
             ]
            ],
            "type": "heatmapgl"
           }
          ],
          "histogram": [
           {
            "marker": {
             "pattern": {
              "fillmode": "overlay",
              "size": 10,
              "solidity": 0.2
             }
            },
            "type": "histogram"
           }
          ],
          "histogram2d": [
           {
            "colorbar": {
             "outlinewidth": 0,
             "ticks": ""
            },
            "colorscale": [
             [
              0,
              "#0d0887"
             ],
             [
              0.1111111111111111,
              "#46039f"
             ],
             [
              0.2222222222222222,
              "#7201a8"
             ],
             [
              0.3333333333333333,
              "#9c179e"
             ],
             [
              0.4444444444444444,
              "#bd3786"
             ],
             [
              0.5555555555555556,
              "#d8576b"
             ],
             [
              0.6666666666666666,
              "#ed7953"
             ],
             [
              0.7777777777777778,
              "#fb9f3a"
             ],
             [
              0.8888888888888888,
              "#fdca26"
             ],
             [
              1,
              "#f0f921"
             ]
            ],
            "type": "histogram2d"
           }
          ],
          "histogram2dcontour": [
           {
            "colorbar": {
             "outlinewidth": 0,
             "ticks": ""
            },
            "colorscale": [
             [
              0,
              "#0d0887"
             ],
             [
              0.1111111111111111,
              "#46039f"
             ],
             [
              0.2222222222222222,
              "#7201a8"
             ],
             [
              0.3333333333333333,
              "#9c179e"
             ],
             [
              0.4444444444444444,
              "#bd3786"
             ],
             [
              0.5555555555555556,
              "#d8576b"
             ],
             [
              0.6666666666666666,
              "#ed7953"
             ],
             [
              0.7777777777777778,
              "#fb9f3a"
             ],
             [
              0.8888888888888888,
              "#fdca26"
             ],
             [
              1,
              "#f0f921"
             ]
            ],
            "type": "histogram2dcontour"
           }
          ],
          "mesh3d": [
           {
            "colorbar": {
             "outlinewidth": 0,
             "ticks": ""
            },
            "type": "mesh3d"
           }
          ],
          "parcoords": [
           {
            "line": {
             "colorbar": {
              "outlinewidth": 0,
              "ticks": ""
             }
            },
            "type": "parcoords"
           }
          ],
          "pie": [
           {
            "automargin": true,
            "type": "pie"
           }
          ],
          "scatter": [
           {
            "fillpattern": {
             "fillmode": "overlay",
             "size": 10,
             "solidity": 0.2
            },
            "type": "scatter"
           }
          ],
          "scatter3d": [
           {
            "line": {
             "colorbar": {
              "outlinewidth": 0,
              "ticks": ""
             }
            },
            "marker": {
             "colorbar": {
              "outlinewidth": 0,
              "ticks": ""
             }
            },
            "type": "scatter3d"
           }
          ],
          "scattercarpet": [
           {
            "marker": {
             "colorbar": {
              "outlinewidth": 0,
              "ticks": ""
             }
            },
            "type": "scattercarpet"
           }
          ],
          "scattergeo": [
           {
            "marker": {
             "colorbar": {
              "outlinewidth": 0,
              "ticks": ""
             }
            },
            "type": "scattergeo"
           }
          ],
          "scattergl": [
           {
            "marker": {
             "colorbar": {
              "outlinewidth": 0,
              "ticks": ""
             }
            },
            "type": "scattergl"
           }
          ],
          "scattermapbox": [
           {
            "marker": {
             "colorbar": {
              "outlinewidth": 0,
              "ticks": ""
             }
            },
            "type": "scattermapbox"
           }
          ],
          "scatterpolar": [
           {
            "marker": {
             "colorbar": {
              "outlinewidth": 0,
              "ticks": ""
             }
            },
            "type": "scatterpolar"
           }
          ],
          "scatterpolargl": [
           {
            "marker": {
             "colorbar": {
              "outlinewidth": 0,
              "ticks": ""
             }
            },
            "type": "scatterpolargl"
           }
          ],
          "scatterternary": [
           {
            "marker": {
             "colorbar": {
              "outlinewidth": 0,
              "ticks": ""
             }
            },
            "type": "scatterternary"
           }
          ],
          "surface": [
           {
            "colorbar": {
             "outlinewidth": 0,
             "ticks": ""
            },
            "colorscale": [
             [
              0,
              "#0d0887"
             ],
             [
              0.1111111111111111,
              "#46039f"
             ],
             [
              0.2222222222222222,
              "#7201a8"
             ],
             [
              0.3333333333333333,
              "#9c179e"
             ],
             [
              0.4444444444444444,
              "#bd3786"
             ],
             [
              0.5555555555555556,
              "#d8576b"
             ],
             [
              0.6666666666666666,
              "#ed7953"
             ],
             [
              0.7777777777777778,
              "#fb9f3a"
             ],
             [
              0.8888888888888888,
              "#fdca26"
             ],
             [
              1,
              "#f0f921"
             ]
            ],
            "type": "surface"
           }
          ],
          "table": [
           {
            "cells": {
             "fill": {
              "color": "#EBF0F8"
             },
             "line": {
              "color": "white"
             }
            },
            "header": {
             "fill": {
              "color": "#C8D4E3"
             },
             "line": {
              "color": "white"
             }
            },
            "type": "table"
           }
          ]
         },
         "layout": {
          "annotationdefaults": {
           "arrowcolor": "#2a3f5f",
           "arrowhead": 0,
           "arrowwidth": 1
          },
          "autotypenumbers": "strict",
          "coloraxis": {
           "colorbar": {
            "outlinewidth": 0,
            "ticks": ""
           }
          },
          "colorscale": {
           "diverging": [
            [
             0,
             "#8e0152"
            ],
            [
             0.1,
             "#c51b7d"
            ],
            [
             0.2,
             "#de77ae"
            ],
            [
             0.3,
             "#f1b6da"
            ],
            [
             0.4,
             "#fde0ef"
            ],
            [
             0.5,
             "#f7f7f7"
            ],
            [
             0.6,
             "#e6f5d0"
            ],
            [
             0.7,
             "#b8e186"
            ],
            [
             0.8,
             "#7fbc41"
            ],
            [
             0.9,
             "#4d9221"
            ],
            [
             1,
             "#276419"
            ]
           ],
           "sequential": [
            [
             0,
             "#0d0887"
            ],
            [
             0.1111111111111111,
             "#46039f"
            ],
            [
             0.2222222222222222,
             "#7201a8"
            ],
            [
             0.3333333333333333,
             "#9c179e"
            ],
            [
             0.4444444444444444,
             "#bd3786"
            ],
            [
             0.5555555555555556,
             "#d8576b"
            ],
            [
             0.6666666666666666,
             "#ed7953"
            ],
            [
             0.7777777777777778,
             "#fb9f3a"
            ],
            [
             0.8888888888888888,
             "#fdca26"
            ],
            [
             1,
             "#f0f921"
            ]
           ],
           "sequentialminus": [
            [
             0,
             "#0d0887"
            ],
            [
             0.1111111111111111,
             "#46039f"
            ],
            [
             0.2222222222222222,
             "#7201a8"
            ],
            [
             0.3333333333333333,
             "#9c179e"
            ],
            [
             0.4444444444444444,
             "#bd3786"
            ],
            [
             0.5555555555555556,
             "#d8576b"
            ],
            [
             0.6666666666666666,
             "#ed7953"
            ],
            [
             0.7777777777777778,
             "#fb9f3a"
            ],
            [
             0.8888888888888888,
             "#fdca26"
            ],
            [
             1,
             "#f0f921"
            ]
           ]
          },
          "colorway": [
           "#636efa",
           "#EF553B",
           "#00cc96",
           "#ab63fa",
           "#FFA15A",
           "#19d3f3",
           "#FF6692",
           "#B6E880",
           "#FF97FF",
           "#FECB52"
          ],
          "font": {
           "color": "#2a3f5f"
          },
          "geo": {
           "bgcolor": "white",
           "lakecolor": "white",
           "landcolor": "#E5ECF6",
           "showlakes": true,
           "showland": true,
           "subunitcolor": "white"
          },
          "hoverlabel": {
           "align": "left"
          },
          "hovermode": "closest",
          "mapbox": {
           "style": "light"
          },
          "paper_bgcolor": "white",
          "plot_bgcolor": "#E5ECF6",
          "polar": {
           "angularaxis": {
            "gridcolor": "white",
            "linecolor": "white",
            "ticks": ""
           },
           "bgcolor": "#E5ECF6",
           "radialaxis": {
            "gridcolor": "white",
            "linecolor": "white",
            "ticks": ""
           }
          },
          "scene": {
           "xaxis": {
            "backgroundcolor": "#E5ECF6",
            "gridcolor": "white",
            "gridwidth": 2,
            "linecolor": "white",
            "showbackground": true,
            "ticks": "",
            "zerolinecolor": "white"
           },
           "yaxis": {
            "backgroundcolor": "#E5ECF6",
            "gridcolor": "white",
            "gridwidth": 2,
            "linecolor": "white",
            "showbackground": true,
            "ticks": "",
            "zerolinecolor": "white"
           },
           "zaxis": {
            "backgroundcolor": "#E5ECF6",
            "gridcolor": "white",
            "gridwidth": 2,
            "linecolor": "white",
            "showbackground": true,
            "ticks": "",
            "zerolinecolor": "white"
           }
          },
          "shapedefaults": {
           "line": {
            "color": "#2a3f5f"
           }
          },
          "ternary": {
           "aaxis": {
            "gridcolor": "white",
            "linecolor": "white",
            "ticks": ""
           },
           "baxis": {
            "gridcolor": "white",
            "linecolor": "white",
            "ticks": ""
           },
           "bgcolor": "#E5ECF6",
           "caxis": {
            "gridcolor": "white",
            "linecolor": "white",
            "ticks": ""
           }
          },
          "title": {
           "x": 0.05
          },
          "xaxis": {
           "automargin": true,
           "gridcolor": "white",
           "linecolor": "white",
           "ticks": "",
           "title": {
            "standoff": 15
           },
           "zerolinecolor": "white",
           "zerolinewidth": 2
          },
          "yaxis": {
           "automargin": true,
           "gridcolor": "white",
           "linecolor": "white",
           "ticks": "",
           "title": {
            "standoff": 15
           },
           "zerolinecolor": "white",
           "zerolinewidth": 2
          }
         }
        },
        "xaxis": {
         "anchor": "y",
         "autorange": true,
         "domain": [
          0,
          1
         ],
         "range": [
          -0.5,
          4.5
         ],
         "title": {
          "text": "Species Name"
         },
         "type": "category"
        },
        "yaxis": {
         "anchor": "x",
         "autorange": true,
         "domain": [
          0,
          1
         ],
         "range": [
          0,
          201.05263157894737
         ],
         "title": {
          "text": "0"
         },
         "type": "linear"
        }
       }
      },
      "image/png": "[encoded data removed]",
      "text/html": [
       "<div>                            <div id=\"dda0dcef-a6d6-4463-90b2-dd071c653f3e\" class=\"plotly-graph-div\" style=\"height:525px; width:100%;\"></div>            <script type=\"text/javascript\">                require([\"plotly\"], function(Plotly) {                    window.PLOTLYENV=window.PLOTLYENV || {};                                    if (document.getElementById(\"dda0dcef-a6d6-4463-90b2-dd071c653f3e\")) {                    Plotly.newPlot(                        \"dda0dcef-a6d6-4463-90b2-dd071c653f3e\",                        [{\"alignmentgroup\":\"True\",\"hovertemplate\":\"Species Name=%{x}<br>0=%{y}<extra></extra>\",\"legendgroup\":\"\",\"marker\":{\"color\":\"#636efa\",\"pattern\":{\"shape\":\"\"}},\"name\":\"\",\"offsetgroup\":\"\",\"orientation\":\"v\",\"showlegend\":false,\"textposition\":\"auto\",\"x\":[\"Swamp Sparrow\",\"Common Yellowthroat\",\"Swainson's Thrush\",\"Hermit Thrush\",\"White-throated Sparrow\"],\"xaxis\":\"x\",\"y\":[191,160,127,109,102],\"yaxis\":\"y\",\"type\":\"bar\"}],                        {\"template\":{\"data\":{\"histogram2dcontour\":[{\"type\":\"histogram2dcontour\",\"colorbar\":{\"outlinewidth\":0,\"ticks\":\"\"},\"colorscale\":[[0.0,\"#0d0887\"],[0.1111111111111111,\"#46039f\"],[0.2222222222222222,\"#7201a8\"],[0.3333333333333333,\"#9c179e\"],[0.4444444444444444,\"#bd3786\"],[0.5555555555555556,\"#d8576b\"],[0.6666666666666666,\"#ed7953\"],[0.7777777777777778,\"#fb9f3a\"],[0.8888888888888888,\"#fdca26\"],[1.0,\"#f0f921\"]]}],\"choropleth\":[{\"type\":\"choropleth\",\"colorbar\":{\"outlinewidth\":0,\"ticks\":\"\"}}],\"histogram2d\":[{\"type\":\"histogram2d\",\"colorbar\":{\"outlinewidth\":0,\"ticks\":\"\"},\"colorscale\":[[0.0,\"#0d0887\"],[0.1111111111111111,\"#46039f\"],[0.2222222222222222,\"#7201a8\"],[0.3333333333333333,\"#9c179e\"],[0.4444444444444444,\"#bd3786\"],[0.5555555555555556,\"#d8576b\"],[0.6666666666666666,\"#ed7953\"],[0.7777777777777778,\"#fb9f3a\"],[0.8888888888888888,\"#fdca26\"],[1.0,\"#f0f921\"]]}],\"heatmap\":[{\"type\":\"heatmap\",\"colorbar\":{\"outlinewidth\":0,\"ticks\":\"\"},\"colorscale\":[[0.0,\"#0d0887\"],[0.1111111111111111,\"#46039f\"],[0.2222222222222222,\"#7201a8\"],[0.3333333333333333,\"#9c179e\"],[0.4444444444444444,\"#bd3786\"],[0.5555555555555556,\"#d8576b\"],[0.6666666666666666,\"#ed7953\"],[0.7777777777777778,\"#fb9f3a\"],[0.8888888888888888,\"#fdca26\"],[1.0,\"#f0f921\"]]}],\"heatmapgl\":[{\"type\":\"heatmapgl\",\"colorbar\":{\"outlinewidth\":0,\"ticks\":\"\"},\"colorscale\":[[0.0,\"#0d0887\"],[0.1111111111111111,\"#46039f\"],[0.2222222222222222,\"#7201a8\"],[0.3333333333333333,\"#9c179e\"],[0.4444444444444444,\"#bd3786\"],[0.5555555555555556,\"#d8576b\"],[0.6666666666666666,\"#ed7953\"],[0.7777777777777778,\"#fb9f3a\"],[0.8888888888888888,\"#fdca26\"],[1.0,\"#f0f921\"]]}],\"contourcarpet\":[{\"type\":\"contourcarpet\",\"colorbar\":{\"outlinewidth\":0,\"ticks\":\"\"}}],\"contour\":[{\"type\":\"contour\",\"colorbar\":{\"outlinewidth\":0,\"ticks\":\"\"},\"colorscale\":[[0.0,\"#0d0887\"],[0.1111111111111111,\"#46039f\"],[0.2222222222222222,\"#7201a8\"],[0.3333333333333333,\"#9c179e\"],[0.4444444444444444,\"#bd3786\"],[0.5555555555555556,\"#d8576b\"],[0.6666666666666666,\"#ed7953\"],[0.7777777777777778,\"#fb9f3a\"],[0.8888888888888888,\"#fdca26\"],[1.0,\"#f0f921\"]]}],\"surface\":[{\"type\":\"surface\",\"colorbar\":{\"outlinewidth\":0,\"ticks\":\"\"},\"colorscale\":[[0.0,\"#0d0887\"],[0.1111111111111111,\"#46039f\"],[0.2222222222222222,\"#7201a8\"],[0.3333333333333333,\"#9c179e\"],[0.4444444444444444,\"#bd3786\"],[0.5555555555555556,\"#d8576b\"],[0.6666666666666666,\"#ed7953\"],[0.7777777777777778,\"#fb9f3a\"],[0.8888888888888888,\"#fdca26\"],[1.0,\"#f0f921\"]]}],\"mesh3d\":[{\"type\":\"mesh3d\",\"colorbar\":{\"outlinewidth\":0,\"ticks\":\"\"}}],\"scatter\":[{\"fillpattern\":{\"fillmode\":\"overlay\",\"size\":10,\"solidity\":0.2},\"type\":\"scatter\"}],\"parcoords\":[{\"type\":\"parcoords\",\"line\":{\"colorbar\":{\"outlinewidth\":0,\"ticks\":\"\"}}}],\"scatterpolargl\":[{\"type\":\"scatterpolargl\",\"marker\":{\"colorbar\":{\"outlinewidth\":0,\"ticks\":\"\"}}}],\"bar\":[{\"error_x\":{\"color\":\"#2a3f5f\"},\"error_y\":{\"color\":\"#2a3f5f\"},\"marker\":{\"line\":{\"color\":\"#E5ECF6\",\"width\":0.5},\"pattern\":{\"fillmode\":\"overlay\",\"size\":10,\"solidity\":0.2}},\"type\":\"bar\"}],\"scattergeo\":[{\"type\":\"scattergeo\",\"marker\":{\"colorbar\":{\"outlinewidth\":0,\"ticks\":\"\"}}}],\"scatterpolar\":[{\"type\":\"scatterpolar\",\"marker\":{\"colorbar\":{\"outlinewidth\":0,\"ticks\":\"\"}}}],\"histogram\":[{\"marker\":{\"pattern\":{\"fillmode\":\"overlay\",\"size\":10,\"solidity\":0.2}},\"type\":\"histogram\"}],\"scattergl\":[{\"type\":\"scattergl\",\"marker\":{\"colorbar\":{\"outlinewidth\":0,\"ticks\":\"\"}}}],\"scatter3d\":[{\"type\":\"scatter3d\",\"line\":{\"colorbar\":{\"outlinewidth\":0,\"ticks\":\"\"}},\"marker\":{\"colorbar\":{\"outlinewidth\":0,\"ticks\":\"\"}}}],\"scattermapbox\":[{\"type\":\"scattermapbox\",\"marker\":{\"colorbar\":{\"outlinewidth\":0,\"ticks\":\"\"}}}],\"scatterternary\":[{\"type\":\"scatterternary\",\"marker\":{\"colorbar\":{\"outlinewidth\":0,\"ticks\":\"\"}}}],\"scattercarpet\":[{\"type\":\"scattercarpet\",\"marker\":{\"colorbar\":{\"outlinewidth\":0,\"ticks\":\"\"}}}],\"carpet\":[{\"aaxis\":{\"endlinecolor\":\"#2a3f5f\",\"gridcolor\":\"white\",\"linecolor\":\"white\",\"minorgridcolor\":\"white\",\"startlinecolor\":\"#2a3f5f\"},\"baxis\":{\"endlinecolor\":\"#2a3f5f\",\"gridcolor\":\"white\",\"linecolor\":\"white\",\"minorgridcolor\":\"white\",\"startlinecolor\":\"#2a3f5f\"},\"type\":\"carpet\"}],\"table\":[{\"cells\":{\"fill\":{\"color\":\"#EBF0F8\"},\"line\":{\"color\":\"white\"}},\"header\":{\"fill\":{\"color\":\"#C8D4E3\"},\"line\":{\"color\":\"white\"}},\"type\":\"table\"}],\"barpolar\":[{\"marker\":{\"line\":{\"color\":\"#E5ECF6\",\"width\":0.5},\"pattern\":{\"fillmode\":\"overlay\",\"size\":10,\"solidity\":0.2}},\"type\":\"barpolar\"}],\"pie\":[{\"automargin\":true,\"type\":\"pie\"}]},\"layout\":{\"autotypenumbers\":\"strict\",\"colorway\":[\"#636efa\",\"#EF553B\",\"#00cc96\",\"#ab63fa\",\"#FFA15A\",\"#19d3f3\",\"#FF6692\",\"#B6E880\",\"#FF97FF\",\"#FECB52\"],\"font\":{\"color\":\"#2a3f5f\"},\"hovermode\":\"closest\",\"hoverlabel\":{\"align\":\"left\"},\"paper_bgcolor\":\"white\",\"plot_bgcolor\":\"#E5ECF6\",\"polar\":{\"bgcolor\":\"#E5ECF6\",\"angularaxis\":{\"gridcolor\":\"white\",\"linecolor\":\"white\",\"ticks\":\"\"},\"radialaxis\":{\"gridcolor\":\"white\",\"linecolor\":\"white\",\"ticks\":\"\"}},\"ternary\":{\"bgcolor\":\"#E5ECF6\",\"aaxis\":{\"gridcolor\":\"white\",\"linecolor\":\"white\",\"ticks\":\"\"},\"baxis\":{\"gridcolor\":\"white\",\"linecolor\":\"white\",\"ticks\":\"\"},\"caxis\":{\"gridcolor\":\"white\",\"linecolor\":\"white\",\"ticks\":\"\"}},\"coloraxis\":{\"colorbar\":{\"outlinewidth\":0,\"ticks\":\"\"}},\"colorscale\":{\"sequential\":[[0.0,\"#0d0887\"],[0.1111111111111111,\"#46039f\"],[0.2222222222222222,\"#7201a8\"],[0.3333333333333333,\"#9c179e\"],[0.4444444444444444,\"#bd3786\"],[0.5555555555555556,\"#d8576b\"],[0.6666666666666666,\"#ed7953\"],[0.7777777777777778,\"#fb9f3a\"],[0.8888888888888888,\"#fdca26\"],[1.0,\"#f0f921\"]],\"sequentialminus\":[[0.0,\"#0d0887\"],[0.1111111111111111,\"#46039f\"],[0.2222222222222222,\"#7201a8\"],[0.3333333333333333,\"#9c179e\"],[0.4444444444444444,\"#bd3786\"],[0.5555555555555556,\"#d8576b\"],[0.6666666666666666,\"#ed7953\"],[0.7777777777777778,\"#fb9f3a\"],[0.8888888888888888,\"#fdca26\"],[1.0,\"#f0f921\"]],\"diverging\":[[0,\"#8e0152\"],[0.1,\"#c51b7d\"],[0.2,\"#de77ae\"],[0.3,\"#f1b6da\"],[0.4,\"#fde0ef\"],[0.5,\"#f7f7f7\"],[0.6,\"#e6f5d0\"],[0.7,\"#b8e186\"],[0.8,\"#7fbc41\"],[0.9,\"#4d9221\"],[1,\"#276419\"]]},\"xaxis\":{\"gridcolor\":\"white\",\"linecolor\":\"white\",\"ticks\":\"\",\"title\":{\"standoff\":15},\"zerolinecolor\":\"white\",\"automargin\":true,\"zerolinewidth\":2},\"yaxis\":{\"gridcolor\":\"white\",\"linecolor\":\"white\",\"ticks\":\"\",\"title\":{\"standoff\":15},\"zerolinecolor\":\"white\",\"automargin\":true,\"zerolinewidth\":2},\"scene\":{\"xaxis\":{\"backgroundcolor\":\"#E5ECF6\",\"gridcolor\":\"white\",\"linecolor\":\"white\",\"showbackground\":true,\"ticks\":\"\",\"zerolinecolor\":\"white\",\"gridwidth\":2},\"yaxis\":{\"backgroundcolor\":\"#E5ECF6\",\"gridcolor\":\"white\",\"linecolor\":\"white\",\"showbackground\":true,\"ticks\":\"\",\"zerolinecolor\":\"white\",\"gridwidth\":2},\"zaxis\":{\"backgroundcolor\":\"#E5ECF6\",\"gridcolor\":\"white\",\"linecolor\":\"white\",\"showbackground\":true,\"ticks\":\"\",\"zerolinecolor\":\"white\",\"gridwidth\":2}},\"shapedefaults\":{\"line\":{\"color\":\"#2a3f5f\"}},\"annotationdefaults\":{\"arrowcolor\":\"#2a3f5f\",\"arrowhead\":0,\"arrowwidth\":1},\"geo\":{\"bgcolor\":\"white\",\"landcolor\":\"#E5ECF6\",\"subunitcolor\":\"white\",\"showland\":true,\"showlakes\":true,\"lakecolor\":\"white\"},\"title\":{\"x\":0.05},\"mapbox\":{\"style\":\"light\"}}},\"xaxis\":{\"anchor\":\"y\",\"domain\":[0.0,1.0],\"title\":{\"text\":\"Species Name\"}},\"yaxis\":{\"anchor\":\"x\",\"domain\":[0.0,1.0],\"title\":{\"text\":\"0\"}},\"legend\":{\"tracegroupgap\":0},\"margin\":{\"t\":60},\"barmode\":\"relative\"},                        {\"responsive\": true}                    ).then(function(){\n",
       "                            \n",
       "var gd = document.getElementById('dda0dcef-a6d6-4463-90b2-dd071c653f3e');\n",
       "var x = new MutationObserver(function (mutations, observer) {{\n",
       "        var display = window.getComputedStyle(gd).display;\n",
       "        if (!display || display === 'none') {{\n",
       "            console.log([gd, 'removed!']);\n",
       "            Plotly.purge(gd);\n",
       "            observer.disconnect();\n",
       "        }}\n",
       "}});\n",
       "\n",
       "// Listen for the removal of the full notebook cells\n",
       "var notebookContainer = gd.closest('#notebook-container');\n",
       "if (notebookContainer) {{\n",
       "    x.observe(notebookContainer, {childList: true});\n",
       "}}\n",
       "\n",
       "// Listen for the clearing of the current output cell\n",
       "var outputEl = gd.closest('.output');\n",
       "if (outputEl) {{\n",
       "    x.observe(outputEl, {childList: true});\n",
       "}}\n",
       "\n",
       "                        })                };                });            </script>        </div>"
      ]
     },
     "metadata": {},
     "output_type": "display_data"
    }
   ],
   "source": [
    "#bar chart for collisions by species\n",
    "fig = px.bar(species_data, x=\"Species Name\", y=\"0\")\n",
    "fig.show()\n",
    "fig = px.bar(species_data.head(), x=\"Species Name\", y=\"0\")\n",
    "fig.show()"
   ]
  },
  {
   "cell_type": "code",
   "execution_count": 5,
   "id": "2c6712e5-019a-4834-a340-de08eaee60d7",
   "metadata": {},
   "outputs": [
    {
     "data": {
      "application/vnd.plotly.v1+json": {
       "config": {
        "plotlyServerURL": "https://plot.ly"
       },
       "data": [
        {
         "alignmentgroup": "True",
         "hovertemplate": "Building=%{x}<br>No. Collisions=%{y}<extra></extra>",
         "legendgroup": "",
         "marker": {
          "color": "#636efa",
          "pattern": {
           "shape": ""
          }
         },
         "name": "",
         "offsetgroup": "",
         "orientation": "v",
         "showlegend": false,
         "textposition": "auto",
         "type": "bar",
         "x": [
          "KGH",
          "RAC",
          "Mudd Library",
          "Allen Center",
          "Norris",
          "Cook Hall",
          "Barber Theater",
          "Ryan Arts Center",
          "CUP",
          "Segal Visitor Center",
          "Francis Searle",
          "Pick Stager",
          "Block Museum",
          "Sailing Center",
          "Pancoe-Cook bridge",
          "Silverman Hall",
          "Lewis Theater",
          "Northwestern Campus",
          "Regenstein",
          "Kresge/Crowe",
          "Annenberg Hall",
          "Walter Annenberg Hall",
          "Marshall Dance Center",
          "south library",
          "Library ",
          "Cook-Pancoe bridge",
          "Pancoe Life Sciences",
          "McGaw Pavilion",
          "2256 Campus Circle Dr",
          "Hogan Bldg",
          "Deering Tower",
          "Silverman-Pancoe",
          "Alvina Krause Studio",
          "betw Ryan and Silverman",
          "2255 Campus Circle Dr"
         ],
         "xaxis": "x",
         "y": [
          949,
          391,
          364,
          206,
          95,
          64,
          60,
          55,
          53,
          46,
          38,
          29,
          23,
          18,
          15,
          11,
          9,
          7,
          6,
          5,
          5,
          2,
          2,
          2,
          2,
          2,
          1,
          1,
          1,
          1,
          1,
          1,
          1,
          1,
          1
         ],
         "yaxis": "y"
        }
       ],
       "layout": {
        "autosize": true,
        "barmode": "relative",
        "legend": {
         "tracegroupgap": 0
        },
        "margin": {
         "t": 60
        },
        "template": {
         "data": {
          "bar": [
           {
            "error_x": {
             "color": "#2a3f5f"
            },
            "error_y": {
             "color": "#2a3f5f"
            },
            "marker": {
             "line": {
              "color": "#E5ECF6",
              "width": 0.5
             },
             "pattern": {
              "fillmode": "overlay",
              "size": 10,
              "solidity": 0.2
             }
            },
            "type": "bar"
           }
          ],
          "barpolar": [
           {
            "marker": {
             "line": {
              "color": "#E5ECF6",
              "width": 0.5
             },
             "pattern": {
              "fillmode": "overlay",
              "size": 10,
              "solidity": 0.2
             }
            },
            "type": "barpolar"
           }
          ],
          "carpet": [
           {
            "aaxis": {
             "endlinecolor": "#2a3f5f",
             "gridcolor": "white",
             "linecolor": "white",
             "minorgridcolor": "white",
             "startlinecolor": "#2a3f5f"
            },
            "baxis": {
             "endlinecolor": "#2a3f5f",
             "gridcolor": "white",
             "linecolor": "white",
             "minorgridcolor": "white",
             "startlinecolor": "#2a3f5f"
            },
            "type": "carpet"
           }
          ],
          "choropleth": [
           {
            "colorbar": {
             "outlinewidth": 0,
             "ticks": ""
            },
            "type": "choropleth"
           }
          ],
          "contour": [
           {
            "colorbar": {
             "outlinewidth": 0,
             "ticks": ""
            },
            "colorscale": [
             [
              0,
              "#0d0887"
             ],
             [
              0.1111111111111111,
              "#46039f"
             ],
             [
              0.2222222222222222,
              "#7201a8"
             ],
             [
              0.3333333333333333,
              "#9c179e"
             ],
             [
              0.4444444444444444,
              "#bd3786"
             ],
             [
              0.5555555555555556,
              "#d8576b"
             ],
             [
              0.6666666666666666,
              "#ed7953"
             ],
             [
              0.7777777777777778,
              "#fb9f3a"
             ],
             [
              0.8888888888888888,
              "#fdca26"
             ],
             [
              1,
              "#f0f921"
             ]
            ],
            "type": "contour"
           }
          ],
          "contourcarpet": [
           {
            "colorbar": {
             "outlinewidth": 0,
             "ticks": ""
            },
            "type": "contourcarpet"
           }
          ],
          "heatmap": [
           {
            "colorbar": {
             "outlinewidth": 0,
             "ticks": ""
            },
            "colorscale": [
             [
              0,
              "#0d0887"
             ],
             [
              0.1111111111111111,
              "#46039f"
             ],
             [
              0.2222222222222222,
              "#7201a8"
             ],
             [
              0.3333333333333333,
              "#9c179e"
             ],
             [
              0.4444444444444444,
              "#bd3786"
             ],
             [
              0.5555555555555556,
              "#d8576b"
             ],
             [
              0.6666666666666666,
              "#ed7953"
             ],
             [
              0.7777777777777778,
              "#fb9f3a"
             ],
             [
              0.8888888888888888,
              "#fdca26"
             ],
             [
              1,
              "#f0f921"
             ]
            ],
            "type": "heatmap"
           }
          ],
          "heatmapgl": [
           {
            "colorbar": {
             "outlinewidth": 0,
             "ticks": ""
            },
            "colorscale": [
             [
              0,
              "#0d0887"
             ],
             [
              0.1111111111111111,
              "#46039f"
             ],
             [
              0.2222222222222222,
              "#7201a8"
             ],
             [
              0.3333333333333333,
              "#9c179e"
             ],
             [
              0.4444444444444444,
              "#bd3786"
             ],
             [
              0.5555555555555556,
              "#d8576b"
             ],
             [
              0.6666666666666666,
              "#ed7953"
             ],
             [
              0.7777777777777778,
              "#fb9f3a"
             ],
             [
              0.8888888888888888,
              "#fdca26"
             ],
             [
              1,
              "#f0f921"
             ]
            ],
            "type": "heatmapgl"
           }
          ],
          "histogram": [
           {
            "marker": {
             "pattern": {
              "fillmode": "overlay",
              "size": 10,
              "solidity": 0.2
             }
            },
            "type": "histogram"
           }
          ],
          "histogram2d": [
           {
            "colorbar": {
             "outlinewidth": 0,
             "ticks": ""
            },
            "colorscale": [
             [
              0,
              "#0d0887"
             ],
             [
              0.1111111111111111,
              "#46039f"
             ],
             [
              0.2222222222222222,
              "#7201a8"
             ],
             [
              0.3333333333333333,
              "#9c179e"
             ],
             [
              0.4444444444444444,
              "#bd3786"
             ],
             [
              0.5555555555555556,
              "#d8576b"
             ],
             [
              0.6666666666666666,
              "#ed7953"
             ],
             [
              0.7777777777777778,
              "#fb9f3a"
             ],
             [
              0.8888888888888888,
              "#fdca26"
             ],
             [
              1,
              "#f0f921"
             ]
            ],
            "type": "histogram2d"
           }
          ],
          "histogram2dcontour": [
           {
            "colorbar": {
             "outlinewidth": 0,
             "ticks": ""
            },
            "colorscale": [
             [
              0,
              "#0d0887"
             ],
             [
              0.1111111111111111,
              "#46039f"
             ],
             [
              0.2222222222222222,
              "#7201a8"
             ],
             [
              0.3333333333333333,
              "#9c179e"
             ],
             [
              0.4444444444444444,
              "#bd3786"
             ],
             [
              0.5555555555555556,
              "#d8576b"
             ],
             [
              0.6666666666666666,
              "#ed7953"
             ],
             [
              0.7777777777777778,
              "#fb9f3a"
             ],
             [
              0.8888888888888888,
              "#fdca26"
             ],
             [
              1,
              "#f0f921"
             ]
            ],
            "type": "histogram2dcontour"
           }
          ],
          "mesh3d": [
           {
            "colorbar": {
             "outlinewidth": 0,
             "ticks": ""
            },
            "type": "mesh3d"
           }
          ],
          "parcoords": [
           {
            "line": {
             "colorbar": {
              "outlinewidth": 0,
              "ticks": ""
             }
            },
            "type": "parcoords"
           }
          ],
          "pie": [
           {
            "automargin": true,
            "type": "pie"
           }
          ],
          "scatter": [
           {
            "fillpattern": {
             "fillmode": "overlay",
             "size": 10,
             "solidity": 0.2
            },
            "type": "scatter"
           }
          ],
          "scatter3d": [
           {
            "line": {
             "colorbar": {
              "outlinewidth": 0,
              "ticks": ""
             }
            },
            "marker": {
             "colorbar": {
              "outlinewidth": 0,
              "ticks": ""
             }
            },
            "type": "scatter3d"
           }
          ],
          "scattercarpet": [
           {
            "marker": {
             "colorbar": {
              "outlinewidth": 0,
              "ticks": ""
             }
            },
            "type": "scattercarpet"
           }
          ],
          "scattergeo": [
           {
            "marker": {
             "colorbar": {
              "outlinewidth": 0,
              "ticks": ""
             }
            },
            "type": "scattergeo"
           }
          ],
          "scattergl": [
           {
            "marker": {
             "colorbar": {
              "outlinewidth": 0,
              "ticks": ""
             }
            },
            "type": "scattergl"
           }
          ],
          "scattermapbox": [
           {
            "marker": {
             "colorbar": {
              "outlinewidth": 0,
              "ticks": ""
             }
            },
            "type": "scattermapbox"
           }
          ],
          "scatterpolar": [
           {
            "marker": {
             "colorbar": {
              "outlinewidth": 0,
              "ticks": ""
             }
            },
            "type": "scatterpolar"
           }
          ],
          "scatterpolargl": [
           {
            "marker": {
             "colorbar": {
              "outlinewidth": 0,
              "ticks": ""
             }
            },
            "type": "scatterpolargl"
           }
          ],
          "scatterternary": [
           {
            "marker": {
             "colorbar": {
              "outlinewidth": 0,
              "ticks": ""
             }
            },
            "type": "scatterternary"
           }
          ],
          "surface": [
           {
            "colorbar": {
             "outlinewidth": 0,
             "ticks": ""
            },
            "colorscale": [
             [
              0,
              "#0d0887"
             ],
             [
              0.1111111111111111,
              "#46039f"
             ],
             [
              0.2222222222222222,
              "#7201a8"
             ],
             [
              0.3333333333333333,
              "#9c179e"
             ],
             [
              0.4444444444444444,
              "#bd3786"
             ],
             [
              0.5555555555555556,
              "#d8576b"
             ],
             [
              0.6666666666666666,
              "#ed7953"
             ],
             [
              0.7777777777777778,
              "#fb9f3a"
             ],
             [
              0.8888888888888888,
              "#fdca26"
             ],
             [
              1,
              "#f0f921"
             ]
            ],
            "type": "surface"
           }
          ],
          "table": [
           {
            "cells": {
             "fill": {
              "color": "#EBF0F8"
             },
             "line": {
              "color": "white"
             }
            },
            "header": {
             "fill": {
              "color": "#C8D4E3"
             },
             "line": {
              "color": "white"
             }
            },
            "type": "table"
           }
          ]
         },
         "layout": {
          "annotationdefaults": {
           "arrowcolor": "#2a3f5f",
           "arrowhead": 0,
           "arrowwidth": 1
          },
          "autotypenumbers": "strict",
          "coloraxis": {
           "colorbar": {
            "outlinewidth": 0,
            "ticks": ""
           }
          },
          "colorscale": {
           "diverging": [
            [
             0,
             "#8e0152"
            ],
            [
             0.1,
             "#c51b7d"
            ],
            [
             0.2,
             "#de77ae"
            ],
            [
             0.3,
             "#f1b6da"
            ],
            [
             0.4,
             "#fde0ef"
            ],
            [
             0.5,
             "#f7f7f7"
            ],
            [
             0.6,
             "#e6f5d0"
            ],
            [
             0.7,
             "#b8e186"
            ],
            [
             0.8,
             "#7fbc41"
            ],
            [
             0.9,
             "#4d9221"
            ],
            [
             1,
             "#276419"
            ]
           ],
           "sequential": [
            [
             0,
             "#0d0887"
            ],
            [
             0.1111111111111111,
             "#46039f"
            ],
            [
             0.2222222222222222,
             "#7201a8"
            ],
            [
             0.3333333333333333,
             "#9c179e"
            ],
            [
             0.4444444444444444,
             "#bd3786"
            ],
            [
             0.5555555555555556,
             "#d8576b"
            ],
            [
             0.6666666666666666,
             "#ed7953"
            ],
            [
             0.7777777777777778,
             "#fb9f3a"
            ],
            [
             0.8888888888888888,
             "#fdca26"
            ],
            [
             1,
             "#f0f921"
            ]
           ],
           "sequentialminus": [
            [
             0,
             "#0d0887"
            ],
            [
             0.1111111111111111,
             "#46039f"
            ],
            [
             0.2222222222222222,
             "#7201a8"
            ],
            [
             0.3333333333333333,
             "#9c179e"
            ],
            [
             0.4444444444444444,
             "#bd3786"
            ],
            [
             0.5555555555555556,
             "#d8576b"
            ],
            [
             0.6666666666666666,
             "#ed7953"
            ],
            [
             0.7777777777777778,
             "#fb9f3a"
            ],
            [
             0.8888888888888888,
             "#fdca26"
            ],
            [
             1,
             "#f0f921"
            ]
           ]
          },
          "colorway": [
           "#636efa",
           "#EF553B",
           "#00cc96",
           "#ab63fa",
           "#FFA15A",
           "#19d3f3",
           "#FF6692",
           "#B6E880",
           "#FF97FF",
           "#FECB52"
          ],
          "font": {
           "color": "#2a3f5f"
          },
          "geo": {
           "bgcolor": "white",
           "lakecolor": "white",
           "landcolor": "#E5ECF6",
           "showlakes": true,
           "showland": true,
           "subunitcolor": "white"
          },
          "hoverlabel": {
           "align": "left"
          },
          "hovermode": "closest",
          "mapbox": {
           "style": "light"
          },
          "paper_bgcolor": "white",
          "plot_bgcolor": "#E5ECF6",
          "polar": {
           "angularaxis": {
            "gridcolor": "white",
            "linecolor": "white",
            "ticks": ""
           },
           "bgcolor": "#E5ECF6",
           "radialaxis": {
            "gridcolor": "white",
            "linecolor": "white",
            "ticks": ""
           }
          },
          "scene": {
           "xaxis": {
            "backgroundcolor": "#E5ECF6",
            "gridcolor": "white",
            "gridwidth": 2,
            "linecolor": "white",
            "showbackground": true,
            "ticks": "",
            "zerolinecolor": "white"
           },
           "yaxis": {
            "backgroundcolor": "#E5ECF6",
            "gridcolor": "white",
            "gridwidth": 2,
            "linecolor": "white",
            "showbackground": true,
            "ticks": "",
            "zerolinecolor": "white"
           },
           "zaxis": {
            "backgroundcolor": "#E5ECF6",
            "gridcolor": "white",
            "gridwidth": 2,
            "linecolor": "white",
            "showbackground": true,
            "ticks": "",
            "zerolinecolor": "white"
           }
          },
          "shapedefaults": {
           "line": {
            "color": "#2a3f5f"
           }
          },
          "ternary": {
           "aaxis": {
            "gridcolor": "white",
            "linecolor": "white",
            "ticks": ""
           },
           "baxis": {
            "gridcolor": "white",
            "linecolor": "white",
            "ticks": ""
           },
           "bgcolor": "#E5ECF6",
           "caxis": {
            "gridcolor": "white",
            "linecolor": "white",
            "ticks": ""
           }
          },
          "title": {
           "x": 0.05
          },
          "xaxis": {
           "automargin": true,
           "gridcolor": "white",
           "linecolor": "white",
           "ticks": "",
           "title": {
            "standoff": 15
           },
           "zerolinecolor": "white",
           "zerolinewidth": 2
          },
          "yaxis": {
           "automargin": true,
           "gridcolor": "white",
           "linecolor": "white",
           "ticks": "",
           "title": {
            "standoff": 15
           },
           "zerolinecolor": "white",
           "zerolinewidth": 2
          }
         }
        },
        "xaxis": {
         "anchor": "y",
         "autorange": true,
         "domain": [
          0,
          1
         ],
         "range": [
          -0.5,
          34.5
         ],
         "title": {
          "text": "Building"
         },
         "type": "category"
        },
        "yaxis": {
         "anchor": "x",
         "autorange": true,
         "domain": [
          0,
          1
         ],
         "range": [
          0,
          998.9473684210526
         ],
         "title": {
          "text": "No. Collisions"
         },
         "type": "linear"
        }
       }
      },
      "image/png": "[encoded data removed]",
      "text/html": [
       "<div>                            <div id=\"57054bfa-1d2e-4fb7-adb3-9bec717fb383\" class=\"plotly-graph-div\" style=\"height:525px; width:100%;\"></div>            <script type=\"text/javascript\">                require([\"plotly\"], function(Plotly) {                    window.PLOTLYENV=window.PLOTLYENV || {};                                    if (document.getElementById(\"57054bfa-1d2e-4fb7-adb3-9bec717fb383\")) {                    Plotly.newPlot(                        \"57054bfa-1d2e-4fb7-adb3-9bec717fb383\",                        [{\"alignmentgroup\":\"True\",\"hovertemplate\":\"Building=%{x}<br>No. Collisions=%{y}<extra></extra>\",\"legendgroup\":\"\",\"marker\":{\"color\":\"#636efa\",\"pattern\":{\"shape\":\"\"}},\"name\":\"\",\"offsetgroup\":\"\",\"orientation\":\"v\",\"showlegend\":false,\"textposition\":\"auto\",\"x\":[\"KGH\",\"RAC\",\"Mudd Library\",\"Allen Center\",\"Norris\",\"Cook Hall\",\"Barber Theater\",\"Ryan Arts Center\",\"CUP\",\"Segal Visitor Center\",\"Francis Searle\",\"Pick Stager\",\"Block Museum\",\"Sailing Center\",\"Pancoe-Cook bridge\",\"Silverman Hall\",\"Lewis Theater\",\"Northwestern Campus\",\"Regenstein\",\"Kresge/Crowe\",\"Annenberg Hall\",\"Walter Annenberg Hall\",\"Marshall Dance Center\",\"south library\",\"Library \",\"Cook-Pancoe bridge\",\"Pancoe Life Sciences\",\"McGaw Pavilion\",\"2256 Campus Circle Dr\",\"Hogan Bldg\",\"Deering Tower\",\"Silverman-Pancoe\",\"Alvina Krause Studio\",\"betw Ryan and Silverman\",\"2255 Campus Circle Dr\"],\"xaxis\":\"x\",\"y\":[949,391,364,206,95,64,60,55,53,46,38,29,23,18,15,11,9,7,6,5,5,2,2,2,2,2,1,1,1,1,1,1,1,1,1],\"yaxis\":\"y\",\"type\":\"bar\"}],                        {\"template\":{\"data\":{\"histogram2dcontour\":[{\"type\":\"histogram2dcontour\",\"colorbar\":{\"outlinewidth\":0,\"ticks\":\"\"},\"colorscale\":[[0.0,\"#0d0887\"],[0.1111111111111111,\"#46039f\"],[0.2222222222222222,\"#7201a8\"],[0.3333333333333333,\"#9c179e\"],[0.4444444444444444,\"#bd3786\"],[0.5555555555555556,\"#d8576b\"],[0.6666666666666666,\"#ed7953\"],[0.7777777777777778,\"#fb9f3a\"],[0.8888888888888888,\"#fdca26\"],[1.0,\"#f0f921\"]]}],\"choropleth\":[{\"type\":\"choropleth\",\"colorbar\":{\"outlinewidth\":0,\"ticks\":\"\"}}],\"histogram2d\":[{\"type\":\"histogram2d\",\"colorbar\":{\"outlinewidth\":0,\"ticks\":\"\"},\"colorscale\":[[0.0,\"#0d0887\"],[0.1111111111111111,\"#46039f\"],[0.2222222222222222,\"#7201a8\"],[0.3333333333333333,\"#9c179e\"],[0.4444444444444444,\"#bd3786\"],[0.5555555555555556,\"#d8576b\"],[0.6666666666666666,\"#ed7953\"],[0.7777777777777778,\"#fb9f3a\"],[0.8888888888888888,\"#fdca26\"],[1.0,\"#f0f921\"]]}],\"heatmap\":[{\"type\":\"heatmap\",\"colorbar\":{\"outlinewidth\":0,\"ticks\":\"\"},\"colorscale\":[[0.0,\"#0d0887\"],[0.1111111111111111,\"#46039f\"],[0.2222222222222222,\"#7201a8\"],[0.3333333333333333,\"#9c179e\"],[0.4444444444444444,\"#bd3786\"],[0.5555555555555556,\"#d8576b\"],[0.6666666666666666,\"#ed7953\"],[0.7777777777777778,\"#fb9f3a\"],[0.8888888888888888,\"#fdca26\"],[1.0,\"#f0f921\"]]}],\"heatmapgl\":[{\"type\":\"heatmapgl\",\"colorbar\":{\"outlinewidth\":0,\"ticks\":\"\"},\"colorscale\":[[0.0,\"#0d0887\"],[0.1111111111111111,\"#46039f\"],[0.2222222222222222,\"#7201a8\"],[0.3333333333333333,\"#9c179e\"],[0.4444444444444444,\"#bd3786\"],[0.5555555555555556,\"#d8576b\"],[0.6666666666666666,\"#ed7953\"],[0.7777777777777778,\"#fb9f3a\"],[0.8888888888888888,\"#fdca26\"],[1.0,\"#f0f921\"]]}],\"contourcarpet\":[{\"type\":\"contourcarpet\",\"colorbar\":{\"outlinewidth\":0,\"ticks\":\"\"}}],\"contour\":[{\"type\":\"contour\",\"colorbar\":{\"outlinewidth\":0,\"ticks\":\"\"},\"colorscale\":[[0.0,\"#0d0887\"],[0.1111111111111111,\"#46039f\"],[0.2222222222222222,\"#7201a8\"],[0.3333333333333333,\"#9c179e\"],[0.4444444444444444,\"#bd3786\"],[0.5555555555555556,\"#d8576b\"],[0.6666666666666666,\"#ed7953\"],[0.7777777777777778,\"#fb9f3a\"],[0.8888888888888888,\"#fdca26\"],[1.0,\"#f0f921\"]]}],\"surface\":[{\"type\":\"surface\",\"colorbar\":{\"outlinewidth\":0,\"ticks\":\"\"},\"colorscale\":[[0.0,\"#0d0887\"],[0.1111111111111111,\"#46039f\"],[0.2222222222222222,\"#7201a8\"],[0.3333333333333333,\"#9c179e\"],[0.4444444444444444,\"#bd3786\"],[0.5555555555555556,\"#d8576b\"],[0.6666666666666666,\"#ed7953\"],[0.7777777777777778,\"#fb9f3a\"],[0.8888888888888888,\"#fdca26\"],[1.0,\"#f0f921\"]]}],\"mesh3d\":[{\"type\":\"mesh3d\",\"colorbar\":{\"outlinewidth\":0,\"ticks\":\"\"}}],\"scatter\":[{\"fillpattern\":{\"fillmode\":\"overlay\",\"size\":10,\"solidity\":0.2},\"type\":\"scatter\"}],\"parcoords\":[{\"type\":\"parcoords\",\"line\":{\"colorbar\":{\"outlinewidth\":0,\"ticks\":\"\"}}}],\"scatterpolargl\":[{\"type\":\"scatterpolargl\",\"marker\":{\"colorbar\":{\"outlinewidth\":0,\"ticks\":\"\"}}}],\"bar\":[{\"error_x\":{\"color\":\"#2a3f5f\"},\"error_y\":{\"color\":\"#2a3f5f\"},\"marker\":{\"line\":{\"color\":\"#E5ECF6\",\"width\":0.5},\"pattern\":{\"fillmode\":\"overlay\",\"size\":10,\"solidity\":0.2}},\"type\":\"bar\"}],\"scattergeo\":[{\"type\":\"scattergeo\",\"marker\":{\"colorbar\":{\"outlinewidth\":0,\"ticks\":\"\"}}}],\"scatterpolar\":[{\"type\":\"scatterpolar\",\"marker\":{\"colorbar\":{\"outlinewidth\":0,\"ticks\":\"\"}}}],\"histogram\":[{\"marker\":{\"pattern\":{\"fillmode\":\"overlay\",\"size\":10,\"solidity\":0.2}},\"type\":\"histogram\"}],\"scattergl\":[{\"type\":\"scattergl\",\"marker\":{\"colorbar\":{\"outlinewidth\":0,\"ticks\":\"\"}}}],\"scatter3d\":[{\"type\":\"scatter3d\",\"line\":{\"colorbar\":{\"outlinewidth\":0,\"ticks\":\"\"}},\"marker\":{\"colorbar\":{\"outlinewidth\":0,\"ticks\":\"\"}}}],\"scattermapbox\":[{\"type\":\"scattermapbox\",\"marker\":{\"colorbar\":{\"outlinewidth\":0,\"ticks\":\"\"}}}],\"scatterternary\":[{\"type\":\"scatterternary\",\"marker\":{\"colorbar\":{\"outlinewidth\":0,\"ticks\":\"\"}}}],\"scattercarpet\":[{\"type\":\"scattercarpet\",\"marker\":{\"colorbar\":{\"outlinewidth\":0,\"ticks\":\"\"}}}],\"carpet\":[{\"aaxis\":{\"endlinecolor\":\"#2a3f5f\",\"gridcolor\":\"white\",\"linecolor\":\"white\",\"minorgridcolor\":\"white\",\"startlinecolor\":\"#2a3f5f\"},\"baxis\":{\"endlinecolor\":\"#2a3f5f\",\"gridcolor\":\"white\",\"linecolor\":\"white\",\"minorgridcolor\":\"white\",\"startlinecolor\":\"#2a3f5f\"},\"type\":\"carpet\"}],\"table\":[{\"cells\":{\"fill\":{\"color\":\"#EBF0F8\"},\"line\":{\"color\":\"white\"}},\"header\":{\"fill\":{\"color\":\"#C8D4E3\"},\"line\":{\"color\":\"white\"}},\"type\":\"table\"}],\"barpolar\":[{\"marker\":{\"line\":{\"color\":\"#E5ECF6\",\"width\":0.5},\"pattern\":{\"fillmode\":\"overlay\",\"size\":10,\"solidity\":0.2}},\"type\":\"barpolar\"}],\"pie\":[{\"automargin\":true,\"type\":\"pie\"}]},\"layout\":{\"autotypenumbers\":\"strict\",\"colorway\":[\"#636efa\",\"#EF553B\",\"#00cc96\",\"#ab63fa\",\"#FFA15A\",\"#19d3f3\",\"#FF6692\",\"#B6E880\",\"#FF97FF\",\"#FECB52\"],\"font\":{\"color\":\"#2a3f5f\"},\"hovermode\":\"closest\",\"hoverlabel\":{\"align\":\"left\"},\"paper_bgcolor\":\"white\",\"plot_bgcolor\":\"#E5ECF6\",\"polar\":{\"bgcolor\":\"#E5ECF6\",\"angularaxis\":{\"gridcolor\":\"white\",\"linecolor\":\"white\",\"ticks\":\"\"},\"radialaxis\":{\"gridcolor\":\"white\",\"linecolor\":\"white\",\"ticks\":\"\"}},\"ternary\":{\"bgcolor\":\"#E5ECF6\",\"aaxis\":{\"gridcolor\":\"white\",\"linecolor\":\"white\",\"ticks\":\"\"},\"baxis\":{\"gridcolor\":\"white\",\"linecolor\":\"white\",\"ticks\":\"\"},\"caxis\":{\"gridcolor\":\"white\",\"linecolor\":\"white\",\"ticks\":\"\"}},\"coloraxis\":{\"colorbar\":{\"outlinewidth\":0,\"ticks\":\"\"}},\"colorscale\":{\"sequential\":[[0.0,\"#0d0887\"],[0.1111111111111111,\"#46039f\"],[0.2222222222222222,\"#7201a8\"],[0.3333333333333333,\"#9c179e\"],[0.4444444444444444,\"#bd3786\"],[0.5555555555555556,\"#d8576b\"],[0.6666666666666666,\"#ed7953\"],[0.7777777777777778,\"#fb9f3a\"],[0.8888888888888888,\"#fdca26\"],[1.0,\"#f0f921\"]],\"sequentialminus\":[[0.0,\"#0d0887\"],[0.1111111111111111,\"#46039f\"],[0.2222222222222222,\"#7201a8\"],[0.3333333333333333,\"#9c179e\"],[0.4444444444444444,\"#bd3786\"],[0.5555555555555556,\"#d8576b\"],[0.6666666666666666,\"#ed7953\"],[0.7777777777777778,\"#fb9f3a\"],[0.8888888888888888,\"#fdca26\"],[1.0,\"#f0f921\"]],\"diverging\":[[0,\"#8e0152\"],[0.1,\"#c51b7d\"],[0.2,\"#de77ae\"],[0.3,\"#f1b6da\"],[0.4,\"#fde0ef\"],[0.5,\"#f7f7f7\"],[0.6,\"#e6f5d0\"],[0.7,\"#b8e186\"],[0.8,\"#7fbc41\"],[0.9,\"#4d9221\"],[1,\"#276419\"]]},\"xaxis\":{\"gridcolor\":\"white\",\"linecolor\":\"white\",\"ticks\":\"\",\"title\":{\"standoff\":15},\"zerolinecolor\":\"white\",\"automargin\":true,\"zerolinewidth\":2},\"yaxis\":{\"gridcolor\":\"white\",\"linecolor\":\"white\",\"ticks\":\"\",\"title\":{\"standoff\":15},\"zerolinecolor\":\"white\",\"automargin\":true,\"zerolinewidth\":2},\"scene\":{\"xaxis\":{\"backgroundcolor\":\"#E5ECF6\",\"gridcolor\":\"white\",\"linecolor\":\"white\",\"showbackground\":true,\"ticks\":\"\",\"zerolinecolor\":\"white\",\"gridwidth\":2},\"yaxis\":{\"backgroundcolor\":\"#E5ECF6\",\"gridcolor\":\"white\",\"linecolor\":\"white\",\"showbackground\":true,\"ticks\":\"\",\"zerolinecolor\":\"white\",\"gridwidth\":2},\"zaxis\":{\"backgroundcolor\":\"#E5ECF6\",\"gridcolor\":\"white\",\"linecolor\":\"white\",\"showbackground\":true,\"ticks\":\"\",\"zerolinecolor\":\"white\",\"gridwidth\":2}},\"shapedefaults\":{\"line\":{\"color\":\"#2a3f5f\"}},\"annotationdefaults\":{\"arrowcolor\":\"#2a3f5f\",\"arrowhead\":0,\"arrowwidth\":1},\"geo\":{\"bgcolor\":\"white\",\"landcolor\":\"#E5ECF6\",\"subunitcolor\":\"white\",\"showland\":true,\"showlakes\":true,\"lakecolor\":\"white\"},\"title\":{\"x\":0.05},\"mapbox\":{\"style\":\"light\"}}},\"xaxis\":{\"anchor\":\"y\",\"domain\":[0.0,1.0],\"title\":{\"text\":\"Building\"}},\"yaxis\":{\"anchor\":\"x\",\"domain\":[0.0,1.0],\"title\":{\"text\":\"No. Collisions\"}},\"legend\":{\"tracegroupgap\":0},\"margin\":{\"t\":60},\"barmode\":\"relative\"},                        {\"responsive\": true}                    ).then(function(){\n",
       "                            \n",
       "var gd = document.getElementById('57054bfa-1d2e-4fb7-adb3-9bec717fb383');\n",
       "var x = new MutationObserver(function (mutations, observer) {{\n",
       "        var display = window.getComputedStyle(gd).display;\n",
       "        if (!display || display === 'none') {{\n",
       "            console.log([gd, 'removed!']);\n",
       "            Plotly.purge(gd);\n",
       "            observer.disconnect();\n",
       "        }}\n",
       "}});\n",
       "\n",
       "// Listen for the removal of the full notebook cells\n",
       "var notebookContainer = gd.closest('#notebook-container');\n",
       "if (notebookContainer) {{\n",
       "    x.observe(notebookContainer, {childList: true});\n",
       "}}\n",
       "\n",
       "// Listen for the clearing of the current output cell\n",
       "var outputEl = gd.closest('.output');\n",
       "if (outputEl) {{\n",
       "    x.observe(outputEl, {childList: true});\n",
       "}}\n",
       "\n",
       "                        })                };                });            </script>        </div>"
      ]
     },
     "metadata": {},
     "output_type": "display_data"
    },
    {
     "data": {
      "application/vnd.plotly.v1+json": {
       "config": {
        "plotlyServerURL": "https://plot.ly"
       },
       "data": [
        {
         "alignmentgroup": "True",
         "hovertemplate": "Building=%{x}<br>No. Collisions=%{y}<extra></extra>",
         "legendgroup": "",
         "marker": {
          "color": "#636efa",
          "pattern": {
           "shape": ""
          }
         },
         "name": "",
         "offsetgroup": "",
         "orientation": "v",
         "showlegend": false,
         "textposition": "auto",
         "type": "bar",
         "x": [
          "KGH",
          "RAC",
          "Mudd Library",
          "Allen Center",
          "Norris"
         ],
         "xaxis": "x",
         "y": [
          949,
          391,
          364,
          206,
          95
         ],
         "yaxis": "y"
        }
       ],
       "layout": {
        "autosize": true,
        "barmode": "relative",
        "legend": {
         "tracegroupgap": 0
        },
        "margin": {
         "t": 60
        },
        "template": {
         "data": {
          "bar": [
           {
            "error_x": {
             "color": "#2a3f5f"
            },
            "error_y": {
             "color": "#2a3f5f"
            },
            "marker": {
             "line": {
              "color": "#E5ECF6",
              "width": 0.5
             },
             "pattern": {
              "fillmode": "overlay",
              "size": 10,
              "solidity": 0.2
             }
            },
            "type": "bar"
           }
          ],
          "barpolar": [
           {
            "marker": {
             "line": {
              "color": "#E5ECF6",
              "width": 0.5
             },
             "pattern": {
              "fillmode": "overlay",
              "size": 10,
              "solidity": 0.2
             }
            },
            "type": "barpolar"
           }
          ],
          "carpet": [
           {
            "aaxis": {
             "endlinecolor": "#2a3f5f",
             "gridcolor": "white",
             "linecolor": "white",
             "minorgridcolor": "white",
             "startlinecolor": "#2a3f5f"
            },
            "baxis": {
             "endlinecolor": "#2a3f5f",
             "gridcolor": "white",
             "linecolor": "white",
             "minorgridcolor": "white",
             "startlinecolor": "#2a3f5f"
            },
            "type": "carpet"
           }
          ],
          "choropleth": [
           {
            "colorbar": {
             "outlinewidth": 0,
             "ticks": ""
            },
            "type": "choropleth"
           }
          ],
          "contour": [
           {
            "colorbar": {
             "outlinewidth": 0,
             "ticks": ""
            },
            "colorscale": [
             [
              0,
              "#0d0887"
             ],
             [
              0.1111111111111111,
              "#46039f"
             ],
             [
              0.2222222222222222,
              "#7201a8"
             ],
             [
              0.3333333333333333,
              "#9c179e"
             ],
             [
              0.4444444444444444,
              "#bd3786"
             ],
             [
              0.5555555555555556,
              "#d8576b"
             ],
             [
              0.6666666666666666,
              "#ed7953"
             ],
             [
              0.7777777777777778,
              "#fb9f3a"
             ],
             [
              0.8888888888888888,
              "#fdca26"
             ],
             [
              1,
              "#f0f921"
             ]
            ],
            "type": "contour"
           }
          ],
          "contourcarpet": [
           {
            "colorbar": {
             "outlinewidth": 0,
             "ticks": ""
            },
            "type": "contourcarpet"
           }
          ],
          "heatmap": [
           {
            "colorbar": {
             "outlinewidth": 0,
             "ticks": ""
            },
            "colorscale": [
             [
              0,
              "#0d0887"
             ],
             [
              0.1111111111111111,
              "#46039f"
             ],
             [
              0.2222222222222222,
              "#7201a8"
             ],
             [
              0.3333333333333333,
              "#9c179e"
             ],
             [
              0.4444444444444444,
              "#bd3786"
             ],
             [
              0.5555555555555556,
              "#d8576b"
             ],
             [
              0.6666666666666666,
              "#ed7953"
             ],
             [
              0.7777777777777778,
              "#fb9f3a"
             ],
             [
              0.8888888888888888,
              "#fdca26"
             ],
             [
              1,
              "#f0f921"
             ]
            ],
            "type": "heatmap"
           }
          ],
          "heatmapgl": [
           {
            "colorbar": {
             "outlinewidth": 0,
             "ticks": ""
            },
            "colorscale": [
             [
              0,
              "#0d0887"
             ],
             [
              0.1111111111111111,
              "#46039f"
             ],
             [
              0.2222222222222222,
              "#7201a8"
             ],
             [
              0.3333333333333333,
              "#9c179e"
             ],
             [
              0.4444444444444444,
              "#bd3786"
             ],
             [
              0.5555555555555556,
              "#d8576b"
             ],
             [
              0.6666666666666666,
              "#ed7953"
             ],
             [
              0.7777777777777778,
              "#fb9f3a"
             ],
             [
              0.8888888888888888,
              "#fdca26"
             ],
             [
              1,
              "#f0f921"
             ]
            ],
            "type": "heatmapgl"
           }
          ],
          "histogram": [
           {
            "marker": {
             "pattern": {
              "fillmode": "overlay",
              "size": 10,
              "solidity": 0.2
             }
            },
            "type": "histogram"
           }
          ],
          "histogram2d": [
           {
            "colorbar": {
             "outlinewidth": 0,
             "ticks": ""
            },
            "colorscale": [
             [
              0,
              "#0d0887"
             ],
             [
              0.1111111111111111,
              "#46039f"
             ],
             [
              0.2222222222222222,
              "#7201a8"
             ],
             [
              0.3333333333333333,
              "#9c179e"
             ],
             [
              0.4444444444444444,
              "#bd3786"
             ],
             [
              0.5555555555555556,
              "#d8576b"
             ],
             [
              0.6666666666666666,
              "#ed7953"
             ],
             [
              0.7777777777777778,
              "#fb9f3a"
             ],
             [
              0.8888888888888888,
              "#fdca26"
             ],
             [
              1,
              "#f0f921"
             ]
            ],
            "type": "histogram2d"
           }
          ],
          "histogram2dcontour": [
           {
            "colorbar": {
             "outlinewidth": 0,
             "ticks": ""
            },
            "colorscale": [
             [
              0,
              "#0d0887"
             ],
             [
              0.1111111111111111,
              "#46039f"
             ],
             [
              0.2222222222222222,
              "#7201a8"
             ],
             [
              0.3333333333333333,
              "#9c179e"
             ],
             [
              0.4444444444444444,
              "#bd3786"
             ],
             [
              0.5555555555555556,
              "#d8576b"
             ],
             [
              0.6666666666666666,
              "#ed7953"
             ],
             [
              0.7777777777777778,
              "#fb9f3a"
             ],
             [
              0.8888888888888888,
              "#fdca26"
             ],
             [
              1,
              "#f0f921"
             ]
            ],
            "type": "histogram2dcontour"
           }
          ],
          "mesh3d": [
           {
            "colorbar": {
             "outlinewidth": 0,
             "ticks": ""
            },
            "type": "mesh3d"
           }
          ],
          "parcoords": [
           {
            "line": {
             "colorbar": {
              "outlinewidth": 0,
              "ticks": ""
             }
            },
            "type": "parcoords"
           }
          ],
          "pie": [
           {
            "automargin": true,
            "type": "pie"
           }
          ],
          "scatter": [
           {
            "fillpattern": {
             "fillmode": "overlay",
             "size": 10,
             "solidity": 0.2
            },
            "type": "scatter"
           }
          ],
          "scatter3d": [
           {
            "line": {
             "colorbar": {
              "outlinewidth": 0,
              "ticks": ""
             }
            },
            "marker": {
             "colorbar": {
              "outlinewidth": 0,
              "ticks": ""
             }
            },
            "type": "scatter3d"
           }
          ],
          "scattercarpet": [
           {
            "marker": {
             "colorbar": {
              "outlinewidth": 0,
              "ticks": ""
             }
            },
            "type": "scattercarpet"
           }
          ],
          "scattergeo": [
           {
            "marker": {
             "colorbar": {
              "outlinewidth": 0,
              "ticks": ""
             }
            },
            "type": "scattergeo"
           }
          ],
          "scattergl": [
           {
            "marker": {
             "colorbar": {
              "outlinewidth": 0,
              "ticks": ""
             }
            },
            "type": "scattergl"
           }
          ],
          "scattermapbox": [
           {
            "marker": {
             "colorbar": {
              "outlinewidth": 0,
              "ticks": ""
             }
            },
            "type": "scattermapbox"
           }
          ],
          "scatterpolar": [
           {
            "marker": {
             "colorbar": {
              "outlinewidth": 0,
              "ticks": ""
             }
            },
            "type": "scatterpolar"
           }
          ],
          "scatterpolargl": [
           {
            "marker": {
             "colorbar": {
              "outlinewidth": 0,
              "ticks": ""
             }
            },
            "type": "scatterpolargl"
           }
          ],
          "scatterternary": [
           {
            "marker": {
             "colorbar": {
              "outlinewidth": 0,
              "ticks": ""
             }
            },
            "type": "scatterternary"
           }
          ],
          "surface": [
           {
            "colorbar": {
             "outlinewidth": 0,
             "ticks": ""
            },
            "colorscale": [
             [
              0,
              "#0d0887"
             ],
             [
              0.1111111111111111,
              "#46039f"
             ],
             [
              0.2222222222222222,
              "#7201a8"
             ],
             [
              0.3333333333333333,
              "#9c179e"
             ],
             [
              0.4444444444444444,
              "#bd3786"
             ],
             [
              0.5555555555555556,
              "#d8576b"
             ],
             [
              0.6666666666666666,
              "#ed7953"
             ],
             [
              0.7777777777777778,
              "#fb9f3a"
             ],
             [
              0.8888888888888888,
              "#fdca26"
             ],
             [
              1,
              "#f0f921"
             ]
            ],
            "type": "surface"
           }
          ],
          "table": [
           {
            "cells": {
             "fill": {
              "color": "#EBF0F8"
             },
             "line": {
              "color": "white"
             }
            },
            "header": {
             "fill": {
              "color": "#C8D4E3"
             },
             "line": {
              "color": "white"
             }
            },
            "type": "table"
           }
          ]
         },
         "layout": {
          "annotationdefaults": {
           "arrowcolor": "#2a3f5f",
           "arrowhead": 0,
           "arrowwidth": 1
          },
          "autotypenumbers": "strict",
          "coloraxis": {
           "colorbar": {
            "outlinewidth": 0,
            "ticks": ""
           }
          },
          "colorscale": {
           "diverging": [
            [
             0,
             "#8e0152"
            ],
            [
             0.1,
             "#c51b7d"
            ],
            [
             0.2,
             "#de77ae"
            ],
            [
             0.3,
             "#f1b6da"
            ],
            [
             0.4,
             "#fde0ef"
            ],
            [
             0.5,
             "#f7f7f7"
            ],
            [
             0.6,
             "#e6f5d0"
            ],
            [
             0.7,
             "#b8e186"
            ],
            [
             0.8,
             "#7fbc41"
            ],
            [
             0.9,
             "#4d9221"
            ],
            [
             1,
             "#276419"
            ]
           ],
           "sequential": [
            [
             0,
             "#0d0887"
            ],
            [
             0.1111111111111111,
             "#46039f"
            ],
            [
             0.2222222222222222,
             "#7201a8"
            ],
            [
             0.3333333333333333,
             "#9c179e"
            ],
            [
             0.4444444444444444,
             "#bd3786"
            ],
            [
             0.5555555555555556,
             "#d8576b"
            ],
            [
             0.6666666666666666,
             "#ed7953"
            ],
            [
             0.7777777777777778,
             "#fb9f3a"
            ],
            [
             0.8888888888888888,
             "#fdca26"
            ],
            [
             1,
             "#f0f921"
            ]
           ],
           "sequentialminus": [
            [
             0,
             "#0d0887"
            ],
            [
             0.1111111111111111,
             "#46039f"
            ],
            [
             0.2222222222222222,
             "#7201a8"
            ],
            [
             0.3333333333333333,
             "#9c179e"
            ],
            [
             0.4444444444444444,
             "#bd3786"
            ],
            [
             0.5555555555555556,
             "#d8576b"
            ],
            [
             0.6666666666666666,
             "#ed7953"
            ],
            [
             0.7777777777777778,
             "#fb9f3a"
            ],
            [
             0.8888888888888888,
             "#fdca26"
            ],
            [
             1,
             "#f0f921"
            ]
           ]
          },
          "colorway": [
           "#636efa",
           "#EF553B",
           "#00cc96",
           "#ab63fa",
           "#FFA15A",
           "#19d3f3",
           "#FF6692",
           "#B6E880",
           "#FF97FF",
           "#FECB52"
          ],
          "font": {
           "color": "#2a3f5f"
          },
          "geo": {
           "bgcolor": "white",
           "lakecolor": "white",
           "landcolor": "#E5ECF6",
           "showlakes": true,
           "showland": true,
           "subunitcolor": "white"
          },
          "hoverlabel": {
           "align": "left"
          },
          "hovermode": "closest",
          "mapbox": {
           "style": "light"
          },
          "paper_bgcolor": "white",
          "plot_bgcolor": "#E5ECF6",
          "polar": {
           "angularaxis": {
            "gridcolor": "white",
            "linecolor": "white",
            "ticks": ""
           },
           "bgcolor": "#E5ECF6",
           "radialaxis": {
            "gridcolor": "white",
            "linecolor": "white",
            "ticks": ""
           }
          },
          "scene": {
           "xaxis": {
            "backgroundcolor": "#E5ECF6",
            "gridcolor": "white",
            "gridwidth": 2,
            "linecolor": "white",
            "showbackground": true,
            "ticks": "",
            "zerolinecolor": "white"
           },
           "yaxis": {
            "backgroundcolor": "#E5ECF6",
            "gridcolor": "white",
            "gridwidth": 2,
            "linecolor": "white",
            "showbackground": true,
            "ticks": "",
            "zerolinecolor": "white"
           },
           "zaxis": {
            "backgroundcolor": "#E5ECF6",
            "gridcolor": "white",
            "gridwidth": 2,
            "linecolor": "white",
            "showbackground": true,
            "ticks": "",
            "zerolinecolor": "white"
           }
          },
          "shapedefaults": {
           "line": {
            "color": "#2a3f5f"
           }
          },
          "ternary": {
           "aaxis": {
            "gridcolor": "white",
            "linecolor": "white",
            "ticks": ""
           },
           "baxis": {
            "gridcolor": "white",
            "linecolor": "white",
            "ticks": ""
           },
           "bgcolor": "#E5ECF6",
           "caxis": {
            "gridcolor": "white",
            "linecolor": "white",
            "ticks": ""
           }
          },
          "title": {
           "x": 0.05
          },
          "xaxis": {
           "automargin": true,
           "gridcolor": "white",
           "linecolor": "white",
           "ticks": "",
           "title": {
            "standoff": 15
           },
           "zerolinecolor": "white",
           "zerolinewidth": 2
          },
          "yaxis": {
           "automargin": true,
           "gridcolor": "white",
           "linecolor": "white",
           "ticks": "",
           "title": {
            "standoff": 15
           },
           "zerolinecolor": "white",
           "zerolinewidth": 2
          }
         }
        },
        "xaxis": {
         "anchor": "y",
         "autorange": true,
         "domain": [
          0,
          1
         ],
         "range": [
          -0.5,
          4.5
         ],
         "title": {
          "text": "Building"
         },
         "type": "category"
        },
        "yaxis": {
         "anchor": "x",
         "autorange": true,
         "domain": [
          0,
          1
         ],
         "range": [
          0,
          998.9473684210526
         ],
         "title": {
          "text": "No. Collisions"
         },
         "type": "linear"
        }
       }
      },
      "image/png": "[encoded data removed]",
      "text/html": [
       "<div>                            <div id=\"1cb7566e-3d68-4642-853b-43c28c9f7981\" class=\"plotly-graph-div\" style=\"height:525px; width:100%;\"></div>            <script type=\"text/javascript\">                require([\"plotly\"], function(Plotly) {                    window.PLOTLYENV=window.PLOTLYENV || {};                                    if (document.getElementById(\"1cb7566e-3d68-4642-853b-43c28c9f7981\")) {                    Plotly.newPlot(                        \"1cb7566e-3d68-4642-853b-43c28c9f7981\",                        [{\"alignmentgroup\":\"True\",\"hovertemplate\":\"Building=%{x}<br>No. Collisions=%{y}<extra></extra>\",\"legendgroup\":\"\",\"marker\":{\"color\":\"#636efa\",\"pattern\":{\"shape\":\"\"}},\"name\":\"\",\"offsetgroup\":\"\",\"orientation\":\"v\",\"showlegend\":false,\"textposition\":\"auto\",\"x\":[\"KGH\",\"RAC\",\"Mudd Library\",\"Allen Center\",\"Norris\"],\"xaxis\":\"x\",\"y\":[949,391,364,206,95],\"yaxis\":\"y\",\"type\":\"bar\"}],                        {\"template\":{\"data\":{\"histogram2dcontour\":[{\"type\":\"histogram2dcontour\",\"colorbar\":{\"outlinewidth\":0,\"ticks\":\"\"},\"colorscale\":[[0.0,\"#0d0887\"],[0.1111111111111111,\"#46039f\"],[0.2222222222222222,\"#7201a8\"],[0.3333333333333333,\"#9c179e\"],[0.4444444444444444,\"#bd3786\"],[0.5555555555555556,\"#d8576b\"],[0.6666666666666666,\"#ed7953\"],[0.7777777777777778,\"#fb9f3a\"],[0.8888888888888888,\"#fdca26\"],[1.0,\"#f0f921\"]]}],\"choropleth\":[{\"type\":\"choropleth\",\"colorbar\":{\"outlinewidth\":0,\"ticks\":\"\"}}],\"histogram2d\":[{\"type\":\"histogram2d\",\"colorbar\":{\"outlinewidth\":0,\"ticks\":\"\"},\"colorscale\":[[0.0,\"#0d0887\"],[0.1111111111111111,\"#46039f\"],[0.2222222222222222,\"#7201a8\"],[0.3333333333333333,\"#9c179e\"],[0.4444444444444444,\"#bd3786\"],[0.5555555555555556,\"#d8576b\"],[0.6666666666666666,\"#ed7953\"],[0.7777777777777778,\"#fb9f3a\"],[0.8888888888888888,\"#fdca26\"],[1.0,\"#f0f921\"]]}],\"heatmap\":[{\"type\":\"heatmap\",\"colorbar\":{\"outlinewidth\":0,\"ticks\":\"\"},\"colorscale\":[[0.0,\"#0d0887\"],[0.1111111111111111,\"#46039f\"],[0.2222222222222222,\"#7201a8\"],[0.3333333333333333,\"#9c179e\"],[0.4444444444444444,\"#bd3786\"],[0.5555555555555556,\"#d8576b\"],[0.6666666666666666,\"#ed7953\"],[0.7777777777777778,\"#fb9f3a\"],[0.8888888888888888,\"#fdca26\"],[1.0,\"#f0f921\"]]}],\"heatmapgl\":[{\"type\":\"heatmapgl\",\"colorbar\":{\"outlinewidth\":0,\"ticks\":\"\"},\"colorscale\":[[0.0,\"#0d0887\"],[0.1111111111111111,\"#46039f\"],[0.2222222222222222,\"#7201a8\"],[0.3333333333333333,\"#9c179e\"],[0.4444444444444444,\"#bd3786\"],[0.5555555555555556,\"#d8576b\"],[0.6666666666666666,\"#ed7953\"],[0.7777777777777778,\"#fb9f3a\"],[0.8888888888888888,\"#fdca26\"],[1.0,\"#f0f921\"]]}],\"contourcarpet\":[{\"type\":\"contourcarpet\",\"colorbar\":{\"outlinewidth\":0,\"ticks\":\"\"}}],\"contour\":[{\"type\":\"contour\",\"colorbar\":{\"outlinewidth\":0,\"ticks\":\"\"},\"colorscale\":[[0.0,\"#0d0887\"],[0.1111111111111111,\"#46039f\"],[0.2222222222222222,\"#7201a8\"],[0.3333333333333333,\"#9c179e\"],[0.4444444444444444,\"#bd3786\"],[0.5555555555555556,\"#d8576b\"],[0.6666666666666666,\"#ed7953\"],[0.7777777777777778,\"#fb9f3a\"],[0.8888888888888888,\"#fdca26\"],[1.0,\"#f0f921\"]]}],\"surface\":[{\"type\":\"surface\",\"colorbar\":{\"outlinewidth\":0,\"ticks\":\"\"},\"colorscale\":[[0.0,\"#0d0887\"],[0.1111111111111111,\"#46039f\"],[0.2222222222222222,\"#7201a8\"],[0.3333333333333333,\"#9c179e\"],[0.4444444444444444,\"#bd3786\"],[0.5555555555555556,\"#d8576b\"],[0.6666666666666666,\"#ed7953\"],[0.7777777777777778,\"#fb9f3a\"],[0.8888888888888888,\"#fdca26\"],[1.0,\"#f0f921\"]]}],\"mesh3d\":[{\"type\":\"mesh3d\",\"colorbar\":{\"outlinewidth\":0,\"ticks\":\"\"}}],\"scatter\":[{\"fillpattern\":{\"fillmode\":\"overlay\",\"size\":10,\"solidity\":0.2},\"type\":\"scatter\"}],\"parcoords\":[{\"type\":\"parcoords\",\"line\":{\"colorbar\":{\"outlinewidth\":0,\"ticks\":\"\"}}}],\"scatterpolargl\":[{\"type\":\"scatterpolargl\",\"marker\":{\"colorbar\":{\"outlinewidth\":0,\"ticks\":\"\"}}}],\"bar\":[{\"error_x\":{\"color\":\"#2a3f5f\"},\"error_y\":{\"color\":\"#2a3f5f\"},\"marker\":{\"line\":{\"color\":\"#E5ECF6\",\"width\":0.5},\"pattern\":{\"fillmode\":\"overlay\",\"size\":10,\"solidity\":0.2}},\"type\":\"bar\"}],\"scattergeo\":[{\"type\":\"scattergeo\",\"marker\":{\"colorbar\":{\"outlinewidth\":0,\"ticks\":\"\"}}}],\"scatterpolar\":[{\"type\":\"scatterpolar\",\"marker\":{\"colorbar\":{\"outlinewidth\":0,\"ticks\":\"\"}}}],\"histogram\":[{\"marker\":{\"pattern\":{\"fillmode\":\"overlay\",\"size\":10,\"solidity\":0.2}},\"type\":\"histogram\"}],\"scattergl\":[{\"type\":\"scattergl\",\"marker\":{\"colorbar\":{\"outlinewidth\":0,\"ticks\":\"\"}}}],\"scatter3d\":[{\"type\":\"scatter3d\",\"line\":{\"colorbar\":{\"outlinewidth\":0,\"ticks\":\"\"}},\"marker\":{\"colorbar\":{\"outlinewidth\":0,\"ticks\":\"\"}}}],\"scattermapbox\":[{\"type\":\"scattermapbox\",\"marker\":{\"colorbar\":{\"outlinewidth\":0,\"ticks\":\"\"}}}],\"scatterternary\":[{\"type\":\"scatterternary\",\"marker\":{\"colorbar\":{\"outlinewidth\":0,\"ticks\":\"\"}}}],\"scattercarpet\":[{\"type\":\"scattercarpet\",\"marker\":{\"colorbar\":{\"outlinewidth\":0,\"ticks\":\"\"}}}],\"carpet\":[{\"aaxis\":{\"endlinecolor\":\"#2a3f5f\",\"gridcolor\":\"white\",\"linecolor\":\"white\",\"minorgridcolor\":\"white\",\"startlinecolor\":\"#2a3f5f\"},\"baxis\":{\"endlinecolor\":\"#2a3f5f\",\"gridcolor\":\"white\",\"linecolor\":\"white\",\"minorgridcolor\":\"white\",\"startlinecolor\":\"#2a3f5f\"},\"type\":\"carpet\"}],\"table\":[{\"cells\":{\"fill\":{\"color\":\"#EBF0F8\"},\"line\":{\"color\":\"white\"}},\"header\":{\"fill\":{\"color\":\"#C8D4E3\"},\"line\":{\"color\":\"white\"}},\"type\":\"table\"}],\"barpolar\":[{\"marker\":{\"line\":{\"color\":\"#E5ECF6\",\"width\":0.5},\"pattern\":{\"fillmode\":\"overlay\",\"size\":10,\"solidity\":0.2}},\"type\":\"barpolar\"}],\"pie\":[{\"automargin\":true,\"type\":\"pie\"}]},\"layout\":{\"autotypenumbers\":\"strict\",\"colorway\":[\"#636efa\",\"#EF553B\",\"#00cc96\",\"#ab63fa\",\"#FFA15A\",\"#19d3f3\",\"#FF6692\",\"#B6E880\",\"#FF97FF\",\"#FECB52\"],\"font\":{\"color\":\"#2a3f5f\"},\"hovermode\":\"closest\",\"hoverlabel\":{\"align\":\"left\"},\"paper_bgcolor\":\"white\",\"plot_bgcolor\":\"#E5ECF6\",\"polar\":{\"bgcolor\":\"#E5ECF6\",\"angularaxis\":{\"gridcolor\":\"white\",\"linecolor\":\"white\",\"ticks\":\"\"},\"radialaxis\":{\"gridcolor\":\"white\",\"linecolor\":\"white\",\"ticks\":\"\"}},\"ternary\":{\"bgcolor\":\"#E5ECF6\",\"aaxis\":{\"gridcolor\":\"white\",\"linecolor\":\"white\",\"ticks\":\"\"},\"baxis\":{\"gridcolor\":\"white\",\"linecolor\":\"white\",\"ticks\":\"\"},\"caxis\":{\"gridcolor\":\"white\",\"linecolor\":\"white\",\"ticks\":\"\"}},\"coloraxis\":{\"colorbar\":{\"outlinewidth\":0,\"ticks\":\"\"}},\"colorscale\":{\"sequential\":[[0.0,\"#0d0887\"],[0.1111111111111111,\"#46039f\"],[0.2222222222222222,\"#7201a8\"],[0.3333333333333333,\"#9c179e\"],[0.4444444444444444,\"#bd3786\"],[0.5555555555555556,\"#d8576b\"],[0.6666666666666666,\"#ed7953\"],[0.7777777777777778,\"#fb9f3a\"],[0.8888888888888888,\"#fdca26\"],[1.0,\"#f0f921\"]],\"sequentialminus\":[[0.0,\"#0d0887\"],[0.1111111111111111,\"#46039f\"],[0.2222222222222222,\"#7201a8\"],[0.3333333333333333,\"#9c179e\"],[0.4444444444444444,\"#bd3786\"],[0.5555555555555556,\"#d8576b\"],[0.6666666666666666,\"#ed7953\"],[0.7777777777777778,\"#fb9f3a\"],[0.8888888888888888,\"#fdca26\"],[1.0,\"#f0f921\"]],\"diverging\":[[0,\"#8e0152\"],[0.1,\"#c51b7d\"],[0.2,\"#de77ae\"],[0.3,\"#f1b6da\"],[0.4,\"#fde0ef\"],[0.5,\"#f7f7f7\"],[0.6,\"#e6f5d0\"],[0.7,\"#b8e186\"],[0.8,\"#7fbc41\"],[0.9,\"#4d9221\"],[1,\"#276419\"]]},\"xaxis\":{\"gridcolor\":\"white\",\"linecolor\":\"white\",\"ticks\":\"\",\"title\":{\"standoff\":15},\"zerolinecolor\":\"white\",\"automargin\":true,\"zerolinewidth\":2},\"yaxis\":{\"gridcolor\":\"white\",\"linecolor\":\"white\",\"ticks\":\"\",\"title\":{\"standoff\":15},\"zerolinecolor\":\"white\",\"automargin\":true,\"zerolinewidth\":2},\"scene\":{\"xaxis\":{\"backgroundcolor\":\"#E5ECF6\",\"gridcolor\":\"white\",\"linecolor\":\"white\",\"showbackground\":true,\"ticks\":\"\",\"zerolinecolor\":\"white\",\"gridwidth\":2},\"yaxis\":{\"backgroundcolor\":\"#E5ECF6\",\"gridcolor\":\"white\",\"linecolor\":\"white\",\"showbackground\":true,\"ticks\":\"\",\"zerolinecolor\":\"white\",\"gridwidth\":2},\"zaxis\":{\"backgroundcolor\":\"#E5ECF6\",\"gridcolor\":\"white\",\"linecolor\":\"white\",\"showbackground\":true,\"ticks\":\"\",\"zerolinecolor\":\"white\",\"gridwidth\":2}},\"shapedefaults\":{\"line\":{\"color\":\"#2a3f5f\"}},\"annotationdefaults\":{\"arrowcolor\":\"#2a3f5f\",\"arrowhead\":0,\"arrowwidth\":1},\"geo\":{\"bgcolor\":\"white\",\"landcolor\":\"#E5ECF6\",\"subunitcolor\":\"white\",\"showland\":true,\"showlakes\":true,\"lakecolor\":\"white\"},\"title\":{\"x\":0.05},\"mapbox\":{\"style\":\"light\"}}},\"xaxis\":{\"anchor\":\"y\",\"domain\":[0.0,1.0],\"title\":{\"text\":\"Building\"}},\"yaxis\":{\"anchor\":\"x\",\"domain\":[0.0,1.0],\"title\":{\"text\":\"No. Collisions\"}},\"legend\":{\"tracegroupgap\":0},\"margin\":{\"t\":60},\"barmode\":\"relative\"},                        {\"responsive\": true}                    ).then(function(){\n",
       "                            \n",
       "var gd = document.getElementById('1cb7566e-3d68-4642-853b-43c28c9f7981');\n",
       "var x = new MutationObserver(function (mutations, observer) {{\n",
       "        var display = window.getComputedStyle(gd).display;\n",
       "        if (!display || display === 'none') {{\n",
       "            console.log([gd, 'removed!']);\n",
       "            Plotly.purge(gd);\n",
       "            observer.disconnect();\n",
       "        }}\n",
       "}});\n",
       "\n",
       "// Listen for the removal of the full notebook cells\n",
       "var notebookContainer = gd.closest('#notebook-container');\n",
       "if (notebookContainer) {{\n",
       "    x.observe(notebookContainer, {childList: true});\n",
       "}}\n",
       "\n",
       "// Listen for the clearing of the current output cell\n",
       "var outputEl = gd.closest('.output');\n",
       "if (outputEl) {{\n",
       "    x.observe(outputEl, {childList: true});\n",
       "}}\n",
       "\n",
       "                        })                };                });            </script>        </div>"
      ]
     },
     "metadata": {},
     "output_type": "display_data"
    }
   ],
   "source": [
    "#bar chart for collisions by building\n",
    "fig = px.bar(building_data, x=\"Building\", y=\"No. Collisions\")\n",
    "fig.show()\n",
    "fig = px.bar(building_data.head(), x=\"Building\", y=\"No. Collisions\")\n",
    "fig.show()"
   ]
  },
  {
   "cell_type": "code",
   "execution_count": 27,
   "id": "5e83e357-a8e2-4a19-9167-c9cfc720569e",
   "metadata": {},
   "outputs": [
    {
     "data": {
      "application/vnd.plotly.v1+json": {
       "config": {
        "plotlyServerURL": "https://plot.ly"
       },
       "data": [
        {
         "hovertemplate": "Building=%{y}<br>Date=%{x}<extra></extra>",
         "legendgroup": "CUP",
         "marker": {
          "color": "#636efa",
          "symbol": "circle"
         },
         "mode": "markers",
         "name": "CUP",
         "showlegend": true,
         "type": "scattergl",
         "x": [
          "2017-08-20 00:00:00",
          "2017-09-14 00:00:00",
          "2017-09-19 00:00:00",
          "2017-10-19 00:00:00",
          "2017-10-20 00:00:00",
          "2017-10-24 00:00:00",
          "2018-04-06 00:00:00",
          "2018-05-02 00:00:00",
          "2018-05-02 00:00:00",
          "2018-05-03 00:00:00",
          "2018-05-09 00:00:00",
          "2018-05-09 00:00:00",
          "2018-05-14 00:00:00",
          "2018-05-14 00:00:00",
          "2018-05-14 00:00:00",
          "2018-05-14 00:00:00",
          "2018-05-15 00:00:00",
          "2018-05-19 00:00:00",
          "2018-05-20 00:00:00",
          "2018-05-22 00:00:00",
          "2018-05-22 00:00:00",
          "2018-05-23 00:00:00",
          "2018-06-05 00:00:00",
          "2018-06-05 00:00:00",
          "2018-09-07 00:00:00",
          "2018-09-21 00:00:00",
          "2018-09-27 00:00:00",
          "2018-09-29 00:00:00",
          "2018-10-18 00:00:00",
          "2018-10-23 00:00:00",
          "2018-10-23 00:00:00",
          "2019-03-27 00:00:00",
          "2019-04-04 00:00:00",
          "2019-04-18 00:00:00",
          "2019-04-18 00:00:00",
          "2019-05-02 00:00:00",
          "2019-05-09 00:00:00",
          "2019-05-09 00:00:00",
          "2019-05-14 00:00:00",
          "2019-05-15 00:00:00",
          "2019-05-18 00:00:00",
          "2019-05-23 00:00:00",
          "2019-05-24 00:00:00",
          "2019-05-29 00:00:00",
          "2019-05-30 00:00:00",
          "2019-06-05 00:00:00",
          "2019-10-25 00:00:00",
          "2020-03-29 00:00:00",
          "2020-04-19 00:00:00",
          "2020-05-02 00:00:00",
          "2020-10-02 00:00:00",
          "2021-05-02 00:00:00",
          "2021-05-26 00:00:00"
         ],
         "xaxis": "x",
         "y": [
          "CUP",
          "CUP",
          "CUP",
          "CUP",
          "CUP",
          "CUP",
          "CUP",
          "CUP",
          "CUP",
          "CUP",
          "CUP",
          "CUP",
          "CUP",
          "CUP",
          "CUP",
          "CUP",
          "CUP",
          "CUP",
          "CUP",
          "CUP",
          "CUP",
          "CUP",
          "CUP",
          "CUP",
          "CUP",
          "CUP",
          "CUP",
          "CUP",
          "CUP",
          "CUP",
          "CUP",
          "CUP",
          "CUP",
          "CUP",
          "CUP",
          "CUP",
          "CUP",
          "CUP",
          "CUP",
          "CUP",
          "CUP",
          "CUP",
          "CUP",
          "CUP",
          "CUP",
          "CUP",
          "CUP",
          "CUP",
          "CUP",
          "CUP",
          "CUP",
          "CUP",
          "CUP"
         ],
         "yaxis": "y"
        },
        {
         "hovertemplate": "Building=%{y}<br>Date=%{x}<extra></extra>",
         "legendgroup": "Barber Theater",
         "marker": {
          "color": "#EF553B",
          "symbol": "circle"
         },
         "mode": "markers",
         "name": "Barber Theater",
         "showlegend": true,
         "type": "scattergl",
         "x": [
          "2017-08-23 00:00:00",
          "2017-09-10 00:00:00",
          "2017-09-29 00:00:00",
          "2017-10-09 00:00:00",
          "2017-10-10 00:00:00",
          "2018-04-29 00:00:00",
          "2018-05-22 00:00:00",
          "2018-06-03 00:00:00",
          "2018-09-14 00:00:00",
          "2018-09-22 00:00:00",
          "2018-09-29 00:00:00",
          "2018-10-04 00:00:00",
          "2018-10-13 00:00:00",
          "2018-10-13 00:00:00",
          "2018-10-14 00:00:00",
          "2019-04-23 00:00:00",
          "2019-04-25 00:00:00",
          "2019-05-04 00:00:00",
          "2019-05-19 00:00:00",
          "2019-05-20 00:00:00",
          "2019-05-20 00:00:00",
          "2019-05-25 00:00:00",
          "2019-05-25 00:00:00",
          "2019-05-28 00:00:00",
          "2019-08-29 00:00:00",
          "2019-09-11 00:00:00",
          "2019-09-22 00:00:00",
          "2019-09-24 00:00:00",
          "2019-09-30 00:00:00",
          "2019-10-14 00:00:00",
          "2020-04-12 00:00:00",
          "2020-04-18 00:00:00",
          "2020-05-15 00:00:00",
          "2020-05-22 00:00:00",
          "2020-05-29 00:00:00",
          "2020-09-11 00:00:00",
          "2020-09-11 00:00:00",
          "2020-09-13 00:00:00",
          "2020-09-24 00:00:00",
          "2020-09-24 00:00:00",
          "2020-09-29 00:00:00",
          "2020-09-29 00:00:00",
          "2020-09-29 00:00:00",
          "2020-09-29 00:00:00",
          "2020-10-14 00:00:00",
          "2020-10-24 00:00:00",
          "2020-11-03 00:00:00",
          "2021-05-07 00:00:00",
          "2021-05-16 00:00:00",
          "2021-05-31 00:00:00",
          "2021-08-27 00:00:00",
          "2021-09-05 00:00:00",
          "2021-09-15 00:00:00",
          "2021-09-19 00:00:00",
          "2021-09-22 00:00:00",
          "2021-09-23 00:00:00",
          "2021-10-03 00:00:00",
          "2021-10-17 00:00:00",
          "2021-10-17 00:00:00",
          "2021-10-17 00:00:00"
         ],
         "xaxis": "x",
         "y": [
          "Barber Theater",
          "Barber Theater",
          "Barber Theater",
          "Barber Theater",
          "Barber Theater",
          "Barber Theater",
          "Barber Theater",
          "Barber Theater",
          "Barber Theater",
          "Barber Theater",
          "Barber Theater",
          "Barber Theater",
          "Barber Theater",
          "Barber Theater",
          "Barber Theater",
          "Barber Theater",
          "Barber Theater",
          "Barber Theater",
          "Barber Theater",
          "Barber Theater",
          "Barber Theater",
          "Barber Theater",
          "Barber Theater",
          "Barber Theater",
          "Barber Theater",
          "Barber Theater",
          "Barber Theater",
          "Barber Theater",
          "Barber Theater",
          "Barber Theater",
          "Barber Theater",
          "Barber Theater",
          "Barber Theater",
          "Barber Theater",
          "Barber Theater",
          "Barber Theater",
          "Barber Theater",
          "Barber Theater",
          "Barber Theater",
          "Barber Theater",
          "Barber Theater",
          "Barber Theater",
          "Barber Theater",
          "Barber Theater",
          "Barber Theater",
          "Barber Theater",
          "Barber Theater",
          "Barber Theater",
          "Barber Theater",
          "Barber Theater",
          "Barber Theater",
          "Barber Theater",
          "Barber Theater",
          "Barber Theater",
          "Barber Theater",
          "Barber Theater",
          "Barber Theater",
          "Barber Theater",
          "Barber Theater",
          "Barber Theater"
         ],
         "yaxis": "y"
        },
        {
         "hovertemplate": "Building=%{y}<br>Date=%{x}<extra></extra>",
         "legendgroup": "KGH",
         "marker": {
          "color": "#00cc96",
          "symbol": "circle"
         },
         "mode": "markers",
         "name": "KGH",
         "showlegend": true,
         "type": "scattergl",
         "x": [
          "2017-08-23 00:00:00",
          "2017-08-23 00:00:00",
          "2017-08-23 00:00:00",
          "2017-08-23 00:00:00",
          "2017-08-23 00:00:00",
          "2017-08-24 00:00:00",
          "2017-08-25 00:00:00",
          "2017-08-25 00:00:00",
          "2017-08-25 00:00:00",
          "2017-08-25 00:00:00",
          "2017-08-25 00:00:00",
          "2017-08-25 00:00:00",
          "2017-08-25 00:00:00",
          "2017-08-25 00:00:00",
          "2017-08-25 00:00:00",
          "2017-08-30 00:00:00",
          "2017-08-30 00:00:00",
          "2017-09-04 00:00:00",
          "2017-09-04 00:00:00",
          "2017-09-04 00:00:00",
          "2017-09-05 00:00:00",
          "2017-09-05 00:00:00",
          "2017-09-05 00:00:00",
          "2017-09-05 00:00:00",
          "2017-09-05 00:00:00",
          "2017-09-05 00:00:00",
          "2017-09-07 00:00:00",
          "2017-09-07 00:00:00",
          "2017-09-08 00:00:00",
          "2017-09-08 00:00:00",
          "2017-09-08 00:00:00",
          "2017-09-09 00:00:00",
          "2017-09-11 00:00:00",
          "2017-09-13 00:00:00",
          "2017-09-19 00:00:00",
          "2017-09-19 00:00:00",
          "2017-09-20 00:00:00",
          "2017-09-21 00:00:00",
          "2017-09-23 00:00:00",
          "2017-09-26 00:00:00",
          "2017-09-26 00:00:00",
          "2017-09-26 00:00:00",
          "2017-09-26 00:00:00",
          "2017-09-26 00:00:00",
          "2017-09-26 00:00:00",
          "2017-09-27 00:00:00",
          "2017-09-27 00:00:00",
          "2017-09-27 00:00:00",
          "2017-09-27 00:00:00",
          "2017-09-27 00:00:00",
          "2017-09-27 00:00:00",
          "2017-09-27 00:00:00",
          "2017-09-27 00:00:00",
          "2017-09-27 00:00:00",
          "2017-09-27 00:00:00",
          "2017-09-27 00:00:00",
          "2017-09-27 00:00:00",
          "2017-09-27 00:00:00",
          "2017-09-27 00:00:00",
          "2017-09-27 00:00:00",
          "2017-09-27 00:00:00",
          "2017-09-27 00:00:00",
          "2017-09-27 00:00:00",
          "2017-09-27 00:00:00",
          "2017-09-27 00:00:00",
          "2017-09-27 00:00:00",
          "2017-09-27 00:00:00",
          "2017-09-28 00:00:00",
          "2017-09-28 00:00:00",
          "2017-09-28 00:00:00",
          "2017-09-28 00:00:00",
          "2017-09-28 00:00:00",
          "2017-09-28 00:00:00",
          "2017-09-29 00:00:00",
          "2017-09-29 00:00:00",
          "2017-09-29 00:00:00",
          "2017-09-29 00:00:00",
          "2017-09-29 00:00:00",
          "2017-09-29 00:00:00",
          "2017-09-29 00:00:00",
          "2017-09-30 00:00:00",
          "2017-10-04 00:00:00",
          "2017-10-05 00:00:00",
          "2017-10-05 00:00:00",
          "2017-10-05 00:00:00",
          "2017-10-05 00:00:00",
          "2017-10-05 00:00:00",
          "2017-10-05 00:00:00",
          "2017-10-05 00:00:00",
          "2017-10-06 00:00:00",
          "2017-10-06 00:00:00",
          "2017-10-08 00:00:00",
          "2017-10-09 00:00:00",
          "2017-10-10 00:00:00",
          "2017-10-11 00:00:00",
          "2017-10-12 00:00:00",
          "2017-10-13 00:00:00",
          "2017-10-13 00:00:00",
          "2017-10-14 00:00:00",
          "2017-10-16 00:00:00",
          "2017-10-16 00:00:00",
          "2017-10-16 00:00:00",
          "2017-10-16 00:00:00",
          "2017-10-17 00:00:00",
          "2017-10-17 00:00:00",
          "2017-10-17 00:00:00",
          "2017-10-17 00:00:00",
          "2017-10-19 00:00:00",
          "2017-10-19 00:00:00",
          "2017-10-19 00:00:00",
          "2017-10-19 00:00:00",
          "2017-10-19 00:00:00",
          "2017-10-19 00:00:00",
          "2017-10-19 00:00:00",
          "2017-10-19 00:00:00",
          "2017-10-19 00:00:00",
          "2017-10-20 00:00:00",
          "2017-10-20 00:00:00",
          "2017-10-20 00:00:00",
          "2017-10-20 00:00:00",
          "2017-10-20 00:00:00",
          "2017-10-20 00:00:00",
          "2017-10-20 00:00:00",
          "2017-10-24 00:00:00",
          "2017-10-24 00:00:00",
          "2017-10-24 00:00:00",
          "2017-10-24 00:00:00",
          "2017-10-24 00:00:00",
          "2017-10-24 00:00:00",
          "2017-10-25 00:00:00",
          "2017-10-25 00:00:00",
          "2017-10-25 00:00:00",
          "2017-10-25 00:00:00",
          "2017-10-25 00:00:00",
          "2017-10-25 00:00:00",
          "2017-10-25 00:00:00",
          "2017-10-25 00:00:00",
          "2017-10-25 00:00:00",
          "2017-10-25 00:00:00",
          "2017-10-25 00:00:00",
          "2017-10-25 00:00:00",
          "2017-10-25 00:00:00",
          "2017-10-25 00:00:00",
          "2017-10-25 00:00:00",
          "2017-10-25 00:00:00",
          "2017-10-25 00:00:00",
          "2017-10-25 00:00:00",
          "2017-10-25 00:00:00",
          "2017-10-25 00:00:00",
          "2017-10-25 00:00:00",
          "2017-10-25 00:00:00",
          "2017-10-25 00:00:00",
          "2017-10-25 00:00:00",
          "2017-10-26 00:00:00",
          "2017-10-26 00:00:00",
          "2017-10-26 00:00:00",
          "2017-10-27 00:00:00",
          "2017-10-29 00:00:00",
          "2017-10-29 00:00:00",
          "2017-10-29 00:00:00",
          "2017-10-29 00:00:00",
          "2017-10-29 00:00:00",
          "2017-10-29 00:00:00",
          "2017-10-30 00:00:00",
          "2017-10-31 00:00:00",
          "2017-10-31 00:00:00",
          "2017-11-05 00:00:00",
          "2017-11-05 00:00:00",
          "2017-11-10 00:00:00",
          "2017-11-12 00:00:00",
          "2017-11-16 00:00:00",
          "2017-11-16 00:00:00",
          "2018-03-30 00:00:00",
          "2018-03-31 00:00:00",
          "2018-03-31 00:00:00",
          "2018-04-02 00:00:00",
          "2018-04-02 00:00:00",
          "2018-04-05 00:00:00",
          "2018-04-05 00:00:00",
          "2018-04-05 00:00:00",
          "2018-04-05 00:00:00",
          "2018-04-12 00:00:00",
          "2018-04-12 00:00:00",
          "2018-04-12 00:00:00",
          "2018-04-12 00:00:00",
          "2018-04-12 00:00:00",
          "2018-04-12 00:00:00",
          "2018-04-12 00:00:00",
          "2018-04-12 00:00:00",
          "2018-04-12 00:00:00",
          "2018-04-12 00:00:00",
          "2018-04-12 00:00:00",
          "2018-04-13 00:00:00",
          "2018-04-13 00:00:00",
          "2018-04-15 00:00:00",
          "2018-04-16 00:00:00",
          "2018-04-17 00:00:00",
          "2018-04-17 00:00:00",
          "2018-04-17 00:00:00",
          "2018-04-18 00:00:00",
          "2018-04-18 00:00:00",
          "2018-04-20 00:00:00",
          "2018-04-22 00:00:00",
          "2018-04-28 00:00:00",
          "2018-04-29 00:00:00",
          "2018-04-30 00:00:00",
          "2018-04-30 00:00:00",
          "2018-04-30 00:00:00",
          "2018-04-30 00:00:00",
          "2018-04-30 00:00:00",
          "2018-05-01 00:00:00",
          "2018-05-01 00:00:00",
          "2018-05-01 00:00:00",
          "2018-05-01 00:00:00",
          "2018-05-01 00:00:00",
          "2018-05-01 00:00:00",
          "2018-05-01 00:00:00",
          "2018-05-01 00:00:00",
          "2018-05-01 00:00:00",
          "2018-05-01 00:00:00",
          "2018-05-01 00:00:00",
          "2018-05-01 00:00:00",
          "2018-05-01 00:00:00",
          "2018-05-01 00:00:00",
          "2018-05-01 00:00:00",
          "2018-05-01 00:00:00",
          "2018-05-01 00:00:00",
          "2018-05-01 00:00:00",
          "2018-05-01 00:00:00",
          "2018-05-01 00:00:00",
          "2018-05-01 00:00:00",
          "2018-05-01 00:00:00",
          "2018-05-01 00:00:00",
          "2018-05-01 00:00:00",
          "2018-05-01 00:00:00",
          "2018-05-01 00:00:00",
          "2018-05-01 00:00:00",
          "2018-05-01 00:00:00",
          "2018-05-01 00:00:00",
          "2018-05-01 00:00:00",
          "2018-05-02 00:00:00",
          "2018-05-02 00:00:00",
          "2018-05-02 00:00:00",
          "2018-05-02 00:00:00",
          "2018-05-02 00:00:00",
          "2018-05-02 00:00:00",
          "2018-05-02 00:00:00",
          "2018-05-02 00:00:00",
          "2018-05-02 00:00:00",
          "2018-05-02 00:00:00",
          "2018-05-02 00:00:00",
          "2018-05-02 00:00:00",
          "2018-05-02 00:00:00",
          "2018-05-02 00:00:00",
          "2018-05-02 00:00:00",
          "2018-05-02 00:00:00",
          "2018-05-02 00:00:00",
          "2018-05-02 00:00:00",
          "2018-05-02 00:00:00",
          "2018-05-02 00:00:00",
          "2018-05-02 00:00:00",
          "2018-05-02 00:00:00",
          "2018-05-02 00:00:00",
          "2018-05-02 00:00:00",
          "2018-05-02 00:00:00",
          "2018-05-02 00:00:00",
          "2018-05-02 00:00:00",
          "2018-05-02 00:00:00",
          "2018-05-02 00:00:00",
          "2018-05-02 00:00:00",
          "2018-05-02 00:00:00",
          "2018-05-02 00:00:00",
          "2018-05-02 00:00:00",
          "2018-05-02 00:00:00",
          "2018-05-02 00:00:00",
          "2018-05-02 00:00:00",
          "2018-05-03 00:00:00",
          "2018-05-03 00:00:00",
          "2018-05-03 00:00:00",
          "2018-05-03 00:00:00",
          "2018-05-03 00:00:00",
          "2018-05-03 00:00:00",
          "2018-05-03 00:00:00",
          "2018-05-03 00:00:00",
          "2018-05-03 00:00:00",
          "2018-05-03 00:00:00",
          "2018-05-03 00:00:00",
          "2018-05-03 00:00:00",
          "2018-05-03 00:00:00",
          "2018-05-03 00:00:00",
          "2018-05-04 00:00:00",
          "2018-05-04 00:00:00",
          "2018-05-04 00:00:00",
          "2018-05-04 00:00:00",
          "2018-05-04 00:00:00",
          "2018-05-04 00:00:00",
          "2018-05-04 00:00:00",
          "2018-05-04 00:00:00",
          "2018-05-04 00:00:00",
          "2018-05-04 00:00:00",
          "2018-05-04 00:00:00",
          "2018-05-04 00:00:00",
          "2018-05-04 00:00:00",
          "2018-05-05 00:00:00",
          "2018-05-05 00:00:00",
          "2018-05-05 00:00:00",
          "2018-05-05 00:00:00",
          "2018-05-05 00:00:00",
          "2018-05-05 00:00:00",
          "2018-05-05 00:00:00",
          "2018-05-05 00:00:00",
          "2018-05-05 00:00:00",
          "2018-05-05 00:00:00",
          "2018-05-06 00:00:00",
          "2018-05-06 00:00:00",
          "2018-05-06 00:00:00",
          "2018-05-07 00:00:00",
          "2018-05-09 00:00:00",
          "2018-05-09 00:00:00",
          "2018-05-09 00:00:00",
          "2018-05-09 00:00:00",
          "2018-05-09 00:00:00",
          "2018-05-10 00:00:00",
          "2018-05-10 00:00:00",
          "2018-05-10 00:00:00",
          "2018-05-10 00:00:00",
          "2018-05-10 00:00:00",
          "2018-05-10 00:00:00",
          "2018-05-10 00:00:00",
          "2018-05-10 00:00:00",
          "2018-05-10 00:00:00",
          "2018-05-10 00:00:00",
          "2018-05-10 00:00:00",
          "2018-05-10 00:00:00",
          "2018-05-10 00:00:00",
          "2018-05-10 00:00:00",
          "2018-05-10 00:00:00",
          "2018-05-10 00:00:00",
          "2018-05-11 00:00:00",
          "2018-05-11 00:00:00",
          "2018-05-11 00:00:00",
          "2018-05-14 00:00:00",
          "2018-05-14 00:00:00",
          "2018-05-14 00:00:00",
          "2018-05-14 00:00:00",
          "2018-05-14 00:00:00",
          "2018-05-15 00:00:00",
          "2018-05-15 00:00:00",
          "2018-05-15 00:00:00",
          "2018-05-15 00:00:00",
          "2018-05-15 00:00:00",
          "2018-05-15 00:00:00",
          "2018-05-15 00:00:00",
          "2018-05-16 00:00:00",
          "2018-05-16 00:00:00",
          "2018-05-16 00:00:00",
          "2018-05-16 00:00:00",
          "2018-05-16 00:00:00",
          "2018-05-17 00:00:00",
          "2018-05-17 00:00:00",
          "2018-05-17 00:00:00",
          "2018-05-18 00:00:00",
          "2018-05-18 00:00:00",
          "2018-05-18 00:00:00",
          "2018-05-19 00:00:00",
          "2018-05-20 00:00:00",
          "2018-05-21 00:00:00",
          "2018-05-21 00:00:00",
          "2018-05-21 00:00:00",
          "2018-05-21 00:00:00",
          "2018-05-22 00:00:00",
          "2018-05-22 00:00:00",
          "2018-05-22 00:00:00",
          "2018-05-22 00:00:00",
          "2018-05-22 00:00:00",
          "2018-05-22 00:00:00",
          "2018-05-22 00:00:00",
          "2018-05-22 00:00:00",
          "2018-05-23 00:00:00",
          "2018-05-23 00:00:00",
          "2018-05-23 00:00:00",
          "2018-05-24 00:00:00",
          "2018-05-25 00:00:00",
          "2018-05-25 00:00:00",
          "2018-05-25 00:00:00",
          "2018-05-26 00:00:00",
          "2018-05-26 00:00:00",
          "2018-05-28 00:00:00",
          "2018-05-28 00:00:00",
          "2018-05-29 00:00:00",
          "2018-05-31 00:00:00",
          "2018-05-31 00:00:00",
          "2018-06-05 00:00:00",
          "2018-08-21 00:00:00",
          "2018-08-22 00:00:00",
          "2018-08-25 00:00:00",
          "2018-08-26 00:00:00",
          "2018-08-26 00:00:00",
          "2018-08-27 00:00:00",
          "2018-08-28 00:00:00",
          "2018-08-29 00:00:00",
          "2018-08-30 00:00:00",
          "2018-08-30 00:00:00",
          "2018-08-30 00:00:00",
          "2018-08-31 00:00:00",
          "2018-09-04 00:00:00",
          "2018-09-05 00:00:00",
          "2018-09-08 00:00:00",
          "2018-09-11 00:00:00",
          "2018-09-11 00:00:00",
          "2018-09-12 00:00:00",
          "2018-09-12 00:00:00",
          "2018-09-13 00:00:00",
          "2018-09-15 00:00:00",
          "2018-09-16 00:00:00",
          "2018-09-18 00:00:00",
          "2018-09-18 00:00:00",
          "2018-09-18 00:00:00",
          "2018-09-18 00:00:00",
          "2018-09-18 00:00:00",
          "2018-09-21 00:00:00",
          "2018-09-23 00:00:00",
          "2018-09-24 00:00:00",
          "2018-09-26 00:00:00",
          "2018-09-27 00:00:00",
          "2018-09-27 00:00:00",
          "2018-09-28 00:00:00",
          "2018-09-29 00:00:00",
          "2018-09-29 00:00:00",
          "2018-09-30 00:00:00",
          "2018-09-30 00:00:00",
          "2018-10-02 00:00:00",
          "2018-10-03 00:00:00",
          "2018-10-03 00:00:00",
          "2018-10-03 00:00:00",
          "2018-10-03 00:00:00",
          "2018-10-06 00:00:00",
          "2018-10-06 00:00:00",
          "2018-10-08 00:00:00",
          "2018-10-09 00:00:00",
          "2018-10-09 00:00:00",
          "2018-10-09 00:00:00",
          "2018-10-09 00:00:00",
          "2018-10-09 00:00:00",
          "2018-10-09 00:00:00",
          "2018-10-11 00:00:00",
          "2018-10-11 00:00:00",
          "2018-10-11 00:00:00",
          "2018-10-11 00:00:00",
          "2018-10-12 00:00:00",
          "2018-10-12 00:00:00",
          "2018-10-12 00:00:00",
          "2018-10-12 00:00:00",
          "2018-10-12 00:00:00",
          "2018-10-13 00:00:00",
          "2018-10-13 00:00:00",
          "2018-10-13 00:00:00",
          "2018-10-13 00:00:00",
          "2018-10-13 00:00:00",
          "2018-10-13 00:00:00",
          "2018-10-13 00:00:00",
          "2018-10-14 00:00:00",
          "2018-10-14 00:00:00",
          "2018-10-15 00:00:00",
          "2018-10-16 00:00:00",
          "2018-10-16 00:00:00",
          "2018-10-16 00:00:00",
          "2018-10-17 00:00:00",
          "2018-10-17 00:00:00",
          "2018-10-17 00:00:00",
          "2018-10-17 00:00:00",
          "2018-10-17 00:00:00",
          "2018-10-17 00:00:00",
          "2018-10-17 00:00:00",
          "2018-10-17 00:00:00",
          "2018-10-17 00:00:00",
          "2018-10-17 00:00:00",
          "2018-10-17 00:00:00",
          "2018-10-17 00:00:00",
          "2018-10-17 00:00:00",
          "2018-10-17 00:00:00",
          "2018-10-17 00:00:00",
          "2018-10-17 00:00:00",
          "2018-10-17 00:00:00",
          "2018-10-17 00:00:00",
          "2018-10-17 00:00:00",
          "2018-10-17 00:00:00",
          "2018-10-18 00:00:00",
          "2018-10-18 00:00:00",
          "2018-10-18 00:00:00",
          "2018-10-18 00:00:00",
          "2018-10-19 00:00:00",
          "2018-10-20 00:00:00",
          "2018-10-20 00:00:00",
          "2018-10-22 00:00:00",
          "2018-10-22 00:00:00",
          "2018-10-23 00:00:00",
          "2018-10-23 00:00:00",
          "2018-10-25 00:00:00",
          "2018-10-30 00:00:00",
          "2018-10-30 00:00:00",
          "2018-11-08 00:00:00",
          "2018-11-10 00:00:00",
          "2018-11-13 00:00:00",
          "2019-03-28 00:00:00",
          "2019-04-02 00:00:00",
          "2019-04-02 00:00:00",
          "2019-04-03 00:00:00",
          "2019-04-03 00:00:00",
          "2019-04-06 00:00:00",
          "2019-04-07 00:00:00",
          "2019-04-07 00:00:00",
          "2019-04-07 00:00:00",
          "2019-04-07 00:00:00",
          "2019-04-07 00:00:00",
          "2019-04-08 00:00:00",
          "2019-04-09 00:00:00",
          "2019-04-09 00:00:00",
          "2019-04-13 00:00:00",
          "2019-04-13 00:00:00",
          "2019-04-13 00:00:00",
          "2019-04-16 00:00:00",
          "2019-04-16 00:00:00",
          "2019-04-16 00:00:00",
          "2019-04-18 00:00:00",
          "2019-04-18 00:00:00",
          "2019-04-18 00:00:00",
          "2019-04-18 00:00:00",
          "2019-04-18 00:00:00",
          "2019-04-19 00:00:00",
          "2019-04-22 00:00:00",
          "2019-04-22 00:00:00",
          "2019-04-23 00:00:00",
          "2019-04-23 00:00:00",
          "2019-04-23 00:00:00",
          "2019-04-23 00:00:00",
          "2019-04-28 00:00:00",
          "2019-04-30 00:00:00",
          "2019-05-01 00:00:00",
          "2019-05-01 00:00:00",
          "2019-05-02 00:00:00",
          "2019-05-02 00:00:00",
          "2019-05-02 00:00:00",
          "2019-05-02 00:00:00",
          "2019-05-03 00:00:00",
          "2019-05-03 00:00:00",
          "2019-05-03 00:00:00",
          "2019-05-03 00:00:00",
          "2019-05-03 00:00:00",
          "2019-05-05 00:00:00",
          "2019-05-05 00:00:00",
          "2019-05-05 00:00:00",
          "2019-05-06 00:00:00",
          "2019-05-06 00:00:00",
          "2019-05-06 00:00:00",
          "2019-05-06 00:00:00",
          "2019-05-06 00:00:00",
          "2019-05-06 00:00:00",
          "2019-05-06 00:00:00",
          "2019-05-06 00:00:00",
          "2019-05-06 00:00:00",
          "2019-05-06 00:00:00",
          "2019-05-06 00:00:00",
          "2019-05-06 00:00:00",
          "2019-05-06 00:00:00",
          "2019-05-06 00:00:00",
          "2019-05-06 00:00:00",
          "2019-05-06 00:00:00",
          "2019-05-06 00:00:00",
          "2019-05-06 00:00:00",
          "2019-05-06 00:00:00",
          "2019-05-06 00:00:00",
          "2019-05-06 00:00:00",
          "2019-05-06 00:00:00",
          "2019-05-06 00:00:00",
          "2019-05-06 00:00:00",
          "2019-05-06 00:00:00",
          "2019-05-06 00:00:00",
          "2019-05-06 00:00:00",
          "2019-05-06 00:00:00",
          "2019-05-06 00:00:00",
          "2019-05-07 00:00:00",
          "2019-05-07 00:00:00",
          "2019-05-07 00:00:00",
          "2019-05-09 00:00:00",
          "2019-05-09 00:00:00",
          "2019-05-10 00:00:00",
          "2019-05-10 00:00:00",
          "2019-05-10 00:00:00",
          "2019-05-10 00:00:00",
          "2019-05-10 00:00:00",
          "2019-05-10 00:00:00",
          "2019-05-10 00:00:00",
          "2019-05-10 00:00:00",
          "2019-05-10 00:00:00",
          "2019-05-11 00:00:00",
          "2019-05-11 00:00:00",
          "2019-05-11 00:00:00",
          "2019-05-14 00:00:00",
          "2019-05-15 00:00:00",
          "2019-05-16 00:00:00",
          "2019-05-16 00:00:00",
          "2019-05-16 00:00:00",
          "2019-05-16 00:00:00",
          "2019-05-16 00:00:00",
          "2019-05-16 00:00:00",
          "2019-05-16 00:00:00",
          "2019-05-16 00:00:00",
          "2019-05-16 00:00:00",
          "2019-05-16 00:00:00",
          "2019-05-16 00:00:00",
          "2019-05-16 00:00:00",
          "2019-05-16 00:00:00",
          "2019-05-16 00:00:00",
          "2019-05-16 00:00:00",
          "2019-05-16 00:00:00",
          "2019-05-16 00:00:00",
          "2019-05-16 00:00:00",
          "2019-05-16 00:00:00",
          "2019-05-17 00:00:00",
          "2019-05-19 00:00:00",
          "2019-05-19 00:00:00",
          "2019-05-19 00:00:00",
          "2019-05-20 00:00:00",
          "2019-05-20 00:00:00",
          "2019-05-20 00:00:00",
          "2019-05-20 00:00:00",
          "2019-05-20 00:00:00",
          "2019-05-20 00:00:00",
          "2019-05-20 00:00:00",
          "2019-05-20 00:00:00",
          "2019-05-20 00:00:00",
          "2019-05-20 00:00:00",
          "2019-05-20 00:00:00",
          "2019-05-20 00:00:00",
          "2019-05-20 00:00:00",
          "2019-05-20 00:00:00",
          "2019-05-20 00:00:00",
          "2019-05-20 00:00:00",
          "2019-05-21 00:00:00",
          "2019-05-22 00:00:00",
          "2019-05-23 00:00:00",
          "2019-05-23 00:00:00",
          "2019-05-23 00:00:00",
          "2019-05-23 00:00:00",
          "2019-05-23 00:00:00",
          "2019-05-23 00:00:00",
          "2019-05-23 00:00:00",
          "2019-05-23 00:00:00",
          "2019-05-23 00:00:00",
          "2019-05-24 00:00:00",
          "2019-05-24 00:00:00",
          "2019-05-24 00:00:00",
          "2019-05-25 00:00:00",
          "2019-05-25 00:00:00",
          "2019-05-26 00:00:00",
          "2019-05-26 00:00:00",
          "2019-05-26 00:00:00",
          "2019-05-27 00:00:00",
          "2019-05-28 00:00:00",
          "2019-05-28 00:00:00",
          "2019-05-28 00:00:00",
          "2019-05-28 00:00:00",
          "2019-05-29 00:00:00",
          "2019-05-30 00:00:00",
          "2019-06-04 00:00:00",
          "2019-08-24 00:00:00",
          "2019-08-29 00:00:00",
          "2019-08-29 00:00:00",
          "2019-09-04 00:00:00",
          "2019-09-05 00:00:00",
          "2019-09-06 00:00:00",
          "2019-09-06 00:00:00",
          "2019-09-11 00:00:00",
          "2019-09-11 00:00:00",
          "2019-09-11 00:00:00",
          "2019-09-11 00:00:00",
          "2019-09-12 00:00:00",
          "2019-09-12 00:00:00",
          "2019-09-12 00:00:00",
          "2019-09-12 00:00:00",
          "2019-09-12 00:00:00",
          "2019-09-15 00:00:00",
          "2019-09-17 00:00:00",
          "2019-09-17 00:00:00",
          "2019-09-17 00:00:00",
          "2019-09-21 00:00:00",
          "2019-09-21 00:00:00",
          "2019-09-22 00:00:00",
          "2019-09-23 00:00:00",
          "2019-09-23 00:00:00",
          "2019-09-23 00:00:00",
          "2019-09-23 00:00:00",
          "2019-09-24 00:00:00",
          "2019-09-24 00:00:00",
          "2019-09-24 00:00:00",
          "2019-09-24 00:00:00",
          "2019-09-25 00:00:00",
          "2019-09-26 00:00:00",
          "2019-09-26 00:00:00",
          "2019-09-29 00:00:00",
          "2019-09-30 00:00:00",
          "2019-10-02 00:00:00",
          "2019-10-02 00:00:00",
          "2019-10-02 00:00:00",
          "2019-10-03 00:00:00",
          "2019-10-03 00:00:00",
          "2019-10-04 00:00:00",
          "2019-10-05 00:00:00",
          "2019-10-06 00:00:00",
          "2019-10-07 00:00:00",
          "2019-10-07 00:00:00",
          "2019-10-08 00:00:00",
          "2019-10-08 00:00:00",
          "2019-10-08 00:00:00",
          "2019-10-08 00:00:00",
          "2019-10-08 00:00:00",
          "2019-10-08 00:00:00",
          "2019-10-10 00:00:00",
          "2019-10-14 00:00:00",
          "2019-10-15 00:00:00",
          "2019-10-15 00:00:00",
          "2019-10-15 00:00:00",
          "2019-10-15 00:00:00",
          "2019-10-16 00:00:00",
          "2019-10-16 00:00:00",
          "2019-10-16 00:00:00",
          "2019-10-16 00:00:00",
          "2019-10-16 00:00:00",
          "2019-10-17 00:00:00",
          "2019-10-22 00:00:00",
          "2019-10-22 00:00:00",
          "2019-10-23 00:00:00",
          "2019-10-24 00:00:00",
          "2019-10-24 00:00:00",
          "2019-10-25 00:00:00",
          "2019-10-25 00:00:00",
          "2019-10-25 00:00:00",
          "2019-10-26 00:00:00",
          "2019-10-26 00:00:00",
          "2019-10-27 00:00:00",
          "2019-10-28 00:00:00",
          "2019-10-28 00:00:00",
          "2019-10-29 00:00:00",
          "2019-10-29 00:00:00",
          "2019-11-01 00:00:00",
          "2019-11-03 00:00:00",
          "2019-11-03 00:00:00",
          "2019-11-05 00:00:00",
          "2019-11-05 00:00:00",
          "2019-11-19 00:00:00",
          "2020-03-20 00:00:00",
          "2020-03-20 00:00:00",
          "2020-03-20 00:00:00",
          "2020-03-26 00:00:00",
          "2020-04-02 00:00:00",
          "2020-04-04 00:00:00",
          "2020-04-04 00:00:00",
          "2020-04-04 00:00:00",
          "2020-04-19 00:00:00",
          "2020-04-19 00:00:00",
          "2020-04-20 00:00:00",
          "2020-04-28 00:00:00",
          "2020-05-01 00:00:00",
          "2020-05-01 00:00:00",
          "2020-05-02 00:00:00",
          "2020-05-02 00:00:00",
          "2020-05-02 00:00:00",
          "2020-05-02 00:00:00",
          "2020-05-08 00:00:00",
          "2020-05-13 00:00:00",
          "2020-05-13 00:00:00",
          "2020-05-13 00:00:00",
          "2020-05-15 00:00:00",
          "2020-05-15 00:00:00",
          "2020-05-15 00:00:00",
          "2020-05-15 00:00:00",
          "2020-05-15 00:00:00",
          "2020-05-15 00:00:00",
          "2020-05-15 00:00:00",
          "2020-05-20 00:00:00",
          "2020-05-20 00:00:00",
          "2020-05-20 00:00:00",
          "2020-05-22 00:00:00",
          "2020-06-07 00:00:00",
          "2020-08-29 00:00:00",
          "2020-08-29 00:00:00",
          "2020-08-29 00:00:00",
          "2020-09-04 00:00:00",
          "2020-09-04 00:00:00",
          "2020-09-04 00:00:00",
          "2020-09-04 00:00:00",
          "2020-09-04 00:00:00",
          "2020-09-05 00:00:00",
          "2020-09-07 00:00:00",
          "2020-09-16 00:00:00",
          "2020-09-23 00:00:00",
          "2020-09-24 00:00:00",
          "2020-09-24 00:00:00",
          "2020-09-24 00:00:00",
          "2020-09-25 00:00:00",
          "2020-10-02 00:00:00",
          "2020-10-02 00:00:00",
          "2020-10-02 00:00:00",
          "2020-10-02 00:00:00",
          "2020-10-02 00:00:00",
          "2020-10-05 00:00:00",
          "2020-10-05 00:00:00",
          "2020-10-06 00:00:00",
          "2020-10-06 00:00:00",
          "2020-10-09 00:00:00",
          "2020-10-11 00:00:00",
          "2020-10-14 00:00:00",
          "2020-10-16 00:00:00",
          "2020-10-19 00:00:00",
          "2020-10-24 00:00:00",
          "2020-10-24 00:00:00",
          "2020-10-29 00:00:00",
          "2021-03-24 00:00:00",
          "2021-04-01 00:00:00",
          "2021-04-02 00:00:00",
          "2021-04-05 00:00:00",
          "2021-04-07 00:00:00",
          "2021-04-07 00:00:00",
          "2021-04-09 00:00:00",
          "2021-04-09 00:00:00",
          "2021-04-20 00:00:00",
          "2021-04-21 00:00:00",
          "2021-04-23 00:00:00",
          "2021-04-23 00:00:00",
          "2021-04-23 00:00:00",
          "2021-04-23 00:00:00",
          "2021-04-27 00:00:00",
          "2021-04-27 00:00:00",
          "2021-04-27 00:00:00",
          "2021-04-27 00:00:00",
          "2021-04-30 00:00:00",
          "2021-05-02 00:00:00",
          "2021-05-02 00:00:00",
          "2021-05-02 00:00:00",
          "2021-05-03 00:00:00",
          "2021-05-03 00:00:00",
          "2021-05-03 00:00:00",
          "2021-05-03 00:00:00",
          "2021-05-03 00:00:00",
          "2021-05-03 00:00:00",
          "2021-05-06 00:00:00",
          "2021-05-07 00:00:00",
          "2021-05-10 00:00:00",
          "2021-05-13 00:00:00",
          "2021-05-14 00:00:00",
          "2021-05-14 00:00:00",
          "2021-05-14 00:00:00",
          "2021-05-14 00:00:00",
          "2021-05-14 00:00:00",
          "2021-05-14 00:00:00",
          "2021-05-14 00:00:00",
          "2021-05-14 00:00:00",
          "2021-05-14 00:00:00",
          "2021-05-14 00:00:00",
          "2021-05-14 00:00:00",
          "2021-05-14 00:00:00",
          "2021-05-14 00:00:00",
          "2021-05-14 00:00:00",
          "2021-05-14 00:00:00",
          "2021-05-14 00:00:00",
          "2021-05-14 00:00:00",
          "2021-05-14 00:00:00",
          "2021-05-14 00:00:00",
          "2021-05-14 00:00:00",
          "2021-05-15 00:00:00",
          "2021-05-15 00:00:00",
          "2021-05-18 00:00:00",
          "2021-05-18 00:00:00",
          "2021-05-19 00:00:00",
          "2021-05-19 00:00:00",
          "2021-05-20 00:00:00",
          "2021-05-21 00:00:00",
          "2021-05-21 00:00:00",
          "2021-05-21 00:00:00",
          "2021-05-25 00:00:00",
          "2021-05-25 00:00:00",
          "2021-05-25 00:00:00",
          "2021-05-25 00:00:00",
          "2021-05-25 00:00:00",
          "2021-05-25 00:00:00",
          "2021-05-25 00:00:00",
          "2021-05-26 00:00:00",
          "2021-05-26 00:00:00",
          "2021-05-31 00:00:00",
          "2021-06-01 00:00:00",
          "2021-06-01 00:00:00",
          "2021-06-01 00:00:00",
          "2021-06-04 00:00:00",
          "2021-06-06 00:00:00",
          "2021-06-06 00:00:00",
          "2021-06-07 00:00:00",
          "2021-06-08 00:00:00",
          "2021-06-11 00:00:00",
          "2021-06-14 00:00:00",
          "2021-06-18 00:00:00",
          "2021-08-30 00:00:00",
          "2021-08-30 00:00:00",
          "2021-09-05 00:00:00",
          "2021-09-05 00:00:00",
          "2021-09-05 00:00:00",
          "2021-09-06 00:00:00",
          "2021-09-06 00:00:00",
          "2021-09-09 00:00:00",
          "2021-09-13 00:00:00",
          "2021-09-13 00:00:00",
          "2021-09-13 00:00:00",
          "2021-09-13 00:00:00",
          "2021-09-13 00:00:00",
          "2021-09-13 00:00:00",
          "2021-09-13 00:00:00",
          "2021-09-13 00:00:00",
          "2021-09-15 00:00:00",
          "2021-09-23 00:00:00",
          "2021-09-23 00:00:00",
          "2021-09-23 00:00:00",
          "2021-09-23 00:00:00",
          "2021-09-23 00:00:00",
          "2021-09-23 00:00:00",
          "2021-09-24 00:00:00",
          "2021-09-24 00:00:00",
          "2021-09-25 00:00:00",
          "2021-10-03 00:00:00",
          "2021-10-03 00:00:00",
          "2021-10-03 00:00:00",
          "2021-10-11 00:00:00",
          "2021-10-11 00:00:00",
          "2021-10-15 00:00:00",
          "2021-10-15 00:00:00",
          "2021-10-16 00:00:00",
          "2021-10-16 00:00:00",
          "2021-10-17 00:00:00",
          "2021-10-17 00:00:00",
          "2021-10-17 00:00:00",
          "2021-10-17 00:00:00",
          "2021-10-18 00:00:00",
          "2021-10-18 00:00:00",
          "2021-10-18 00:00:00",
          "2021-10-18 00:00:00",
          "2021-10-18 00:00:00",
          "2021-10-19 00:00:00",
          "2021-11-03 00:00:00"
         ],
         "xaxis": "x",
         "y": [
          "KGH",
          "KGH",
          "KGH",
          "KGH",
          "KGH",
          "KGH",
          "KGH",
          "KGH",
          "KGH",
          "KGH",
          "KGH",
          "KGH",
          "KGH",
          "KGH",
          "KGH",
          "KGH",
          "KGH",
          "KGH",
          "KGH",
          "KGH",
          "KGH",
          "KGH",
          "KGH",
          "KGH",
          "KGH",
          "KGH",
          "KGH",
          "KGH",
          "KGH",
          "KGH",
          "KGH",
          "KGH",
          "KGH",
          "KGH",
          "KGH",
          "KGH",
          "KGH",
          "KGH",
          "KGH",
          "KGH",
          "KGH",
          "KGH",
          "KGH",
          "KGH",
          "KGH",
          "KGH",
          "KGH",
          "KGH",
          "KGH",
          "KGH",
          "KGH",
          "KGH",
          "KGH",
          "KGH",
          "KGH",
          "KGH",
          "KGH",
          "KGH",
          "KGH",
          "KGH",
          "KGH",
          "KGH",
          "KGH",
          "KGH",
          "KGH",
          "KGH",
          "KGH",
          "KGH",
          "KGH",
          "KGH",
          "KGH",
          "KGH",
          "KGH",
          "KGH",
          "KGH",
          "KGH",
          "KGH",
          "KGH",
          "KGH",
          "KGH",
          "KGH",
          "KGH",
          "KGH",
          "KGH",
          "KGH",
          "KGH",
          "KGH",
          "KGH",
          "KGH",
          "KGH",
          "KGH",
          "KGH",
          "KGH",
          "KGH",
          "KGH",
          "KGH",
          "KGH",
          "KGH",
          "KGH",
          "KGH",
          "KGH",
          "KGH",
          "KGH",
          "KGH",
          "KGH",
          "KGH",
          "KGH",
          "KGH",
          "KGH",
          "KGH",
          "KGH",
          "KGH",
          "KGH",
          "KGH",
          "KGH",
          "KGH",
          "KGH",
          "KGH",
          "KGH",
          "KGH",
          "KGH",
          "KGH",
          "KGH",
          "KGH",
          "KGH",
          "KGH",
          "KGH",
          "KGH",
          "KGH",
          "KGH",
          "KGH",
          "KGH",
          "KGH",
          "KGH",
          "KGH",
          "KGH",
          "KGH",
          "KGH",
          "KGH",
          "KGH",
          "KGH",
          "KGH",
          "KGH",
          "KGH",
          "KGH",
          "KGH",
          "KGH",
          "KGH",
          "KGH",
          "KGH",
          "KGH",
          "KGH",
          "KGH",
          "KGH",
          "KGH",
          "KGH",
          "KGH",
          "KGH",
          "KGH",
          "KGH",
          "KGH",
          "KGH",
          "KGH",
          "KGH",
          "KGH",
          "KGH",
          "KGH",
          "KGH",
          "KGH",
          "KGH",
          "KGH",
          "KGH",
          "KGH",
          "KGH",
          "KGH",
          "KGH",
          "KGH",
          "KGH",
          "KGH",
          "KGH",
          "KGH",
          "KGH",
          "KGH",
          "KGH",
          "KGH",
          "KGH",
          "KGH",
          "KGH",
          "KGH",
          "KGH",
          "KGH",
          "KGH",
          "KGH",
          "KGH",
          "KGH",
          "KGH",
          "KGH",
          "KGH",
          "KGH",
          "KGH",
          "KGH",
          "KGH",
          "KGH",
          "KGH",
          "KGH",
          "KGH",
          "KGH",
          "KGH",
          "KGH",
          "KGH",
          "KGH",
          "KGH",
          "KGH",
          "KGH",
          "KGH",
          "KGH",
          "KGH",
          "KGH",
          "KGH",
          "KGH",
          "KGH",
          "KGH",
          "KGH",
          "KGH",
          "KGH",
          "KGH",
          "KGH",
          "KGH",
          "KGH",
          "KGH",
          "KGH",
          "KGH",
          "KGH",
          "KGH",
          "KGH",
          "KGH",
          "KGH",
          "KGH",
          "KGH",
          "KGH",
          "KGH",
          "KGH",
          "KGH",
          "KGH",
          "KGH",
          "KGH",
          "KGH",
          "KGH",
          "KGH",
          "KGH",
          "KGH",
          "KGH",
          "KGH",
          "KGH",
          "KGH",
          "KGH",
          "KGH",
          "KGH",
          "KGH",
          "KGH",
          "KGH",
          "KGH",
          "KGH",
          "KGH",
          "KGH",
          "KGH",
          "KGH",
          "KGH",
          "KGH",
          "KGH",
          "KGH",
          "KGH",
          "KGH",
          "KGH",
          "KGH",
          "KGH",
          "KGH",
          "KGH",
          "KGH",
          "KGH",
          "KGH",
          "KGH",
          "KGH",
          "KGH",
          "KGH",
          "KGH",
          "KGH",
          "KGH",
          "KGH",
          "KGH",
          "KGH",
          "KGH",
          "KGH",
          "KGH",
          "KGH",
          "KGH",
          "KGH",
          "KGH",
          "KGH",
          "KGH",
          "KGH",
          "KGH",
          "KGH",
          "KGH",
          "KGH",
          "KGH",
          "KGH",
          "KGH",
          "KGH",
          "KGH",
          "KGH",
          "KGH",
          "KGH",
          "KGH",
          "KGH",
          "KGH",
          "KGH",
          "KGH",
          "KGH",
          "KGH",
          "KGH",
          "KGH",
          "KGH",
          "KGH",
          "KGH",
          "KGH",
          "KGH",
          "KGH",
          "KGH",
          "KGH",
          "KGH",
          "KGH",
          "KGH",
          "KGH",
          "KGH",
          "KGH",
          "KGH",
          "KGH",
          "KGH",
          "KGH",
          "KGH",
          "KGH",
          "KGH",
          "KGH",
          "KGH",
          "KGH",
          "KGH",
          "KGH",
          "KGH",
          "KGH",
          "KGH",
          "KGH",
          "KGH",
          "KGH",
          "KGH",
          "KGH",
          "KGH",
          "KGH",
          "KGH",
          "KGH",
          "KGH",
          "KGH",
          "KGH",
          "KGH",
          "KGH",
          "KGH",
          "KGH",
          "KGH",
          "KGH",
          "KGH",
          "KGH",
          "KGH",
          "KGH",
          "KGH",
          "KGH",
          "KGH",
          "KGH",
          "KGH",
          "KGH",
          "KGH",
          "KGH",
          "KGH",
          "KGH",
          "KGH",
          "KGH",
          "KGH",
          "KGH",
          "KGH",
          "KGH",
          "KGH",
          "KGH",
          "KGH",
          "KGH",
          "KGH",
          "KGH",
          "KGH",
          "KGH",
          "KGH",
          "KGH",
          "KGH",
          "KGH",
          "KGH",
          "KGH",
          "KGH",
          "KGH",
          "KGH",
          "KGH",
          "KGH",
          "KGH",
          "KGH",
          "KGH",
          "KGH",
          "KGH",
          "KGH",
          "KGH",
          "KGH",
          "KGH",
          "KGH",
          "KGH",
          "KGH",
          "KGH",
          "KGH",
          "KGH",
          "KGH",
          "KGH",
          "KGH",
          "KGH",
          "KGH",
          "KGH",
          "KGH",
          "KGH",
          "KGH",
          "KGH",
          "KGH",
          "KGH",
          "KGH",
          "KGH",
          "KGH",
          "KGH",
          "KGH",
          "KGH",
          "KGH",
          "KGH",
          "KGH",
          "KGH",
          "KGH",
          "KGH",
          "KGH",
          "KGH",
          "KGH",
          "KGH",
          "KGH",
          "KGH",
          "KGH",
          "KGH",
          "KGH",
          "KGH",
          "KGH",
          "KGH",
          "KGH",
          "KGH",
          "KGH",
          "KGH",
          "KGH",
          "KGH",
          "KGH",
          "KGH",
          "KGH",
          "KGH",
          "KGH",
          "KGH",
          "KGH",
          "KGH",
          "KGH",
          "KGH",
          "KGH",
          "KGH",
          "KGH",
          "KGH",
          "KGH",
          "KGH",
          "KGH",
          "KGH",
          "KGH",
          "KGH",
          "KGH",
          "KGH",
          "KGH",
          "KGH",
          "KGH",
          "KGH",
          "KGH",
          "KGH",
          "KGH",
          "KGH",
          "KGH",
          "KGH",
          "KGH",
          "KGH",
          "KGH",
          "KGH",
          "KGH",
          "KGH",
          "KGH",
          "KGH",
          "KGH",
          "KGH",
          "KGH",
          "KGH",
          "KGH",
          "KGH",
          "KGH",
          "KGH",
          "KGH",
          "KGH",
          "KGH",
          "KGH",
          "KGH",
          "KGH",
          "KGH",
          "KGH",
          "KGH",
          "KGH",
          "KGH",
          "KGH",
          "KGH",
          "KGH",
          "KGH",
          "KGH",
          "KGH",
          "KGH",
          "KGH",
          "KGH",
          "KGH",
          "KGH",
          "KGH",
          "KGH",
          "KGH",
          "KGH",
          "KGH",
          "KGH",
          "KGH",
          "KGH",
          "KGH",
          "KGH",
          "KGH",
          "KGH",
          "KGH",
          "KGH",
          "KGH",
          "KGH",
          "KGH",
          "KGH",
          "KGH",
          "KGH",
          "KGH",
          "KGH",
          "KGH",
          "KGH",
          "KGH",
          "KGH",
          "KGH",
          "KGH",
          "KGH",
          "KGH",
          "KGH",
          "KGH",
          "KGH",
          "KGH",
          "KGH",
          "KGH",
          "KGH",
          "KGH",
          "KGH",
          "KGH",
          "KGH",
          "KGH",
          "KGH",
          "KGH",
          "KGH",
          "KGH",
          "KGH",
          "KGH",
          "KGH",
          "KGH",
          "KGH",
          "KGH",
          "KGH",
          "KGH",
          "KGH",
          "KGH",
          "KGH",
          "KGH",
          "KGH",
          "KGH",
          "KGH",
          "KGH",
          "KGH",
          "KGH",
          "KGH",
          "KGH",
          "KGH",
          "KGH",
          "KGH",
          "KGH",
          "KGH",
          "KGH",
          "KGH",
          "KGH",
          "KGH",
          "KGH",
          "KGH",
          "KGH",
          "KGH",
          "KGH",
          "KGH",
          "KGH",
          "KGH",
          "KGH",
          "KGH",
          "KGH",
          "KGH",
          "KGH",
          "KGH",
          "KGH",
          "KGH",
          "KGH",
          "KGH",
          "KGH",
          "KGH",
          "KGH",
          "KGH",
          "KGH",
          "KGH",
          "KGH",
          "KGH",
          "KGH",
          "KGH",
          "KGH",
          "KGH",
          "KGH",
          "KGH",
          "KGH",
          "KGH",
          "KGH",
          "KGH",
          "KGH",
          "KGH",
          "KGH",
          "KGH",
          "KGH",
          "KGH",
          "KGH",
          "KGH",
          "KGH",
          "KGH",
          "KGH",
          "KGH",
          "KGH",
          "KGH",
          "KGH",
          "KGH",
          "KGH",
          "KGH",
          "KGH",
          "KGH",
          "KGH",
          "KGH",
          "KGH",
          "KGH",
          "KGH",
          "KGH",
          "KGH",
          "KGH",
          "KGH",
          "KGH",
          "KGH",
          "KGH",
          "KGH",
          "KGH",
          "KGH",
          "KGH",
          "KGH",
          "KGH",
          "KGH",
          "KGH",
          "KGH",
          "KGH",
          "KGH",
          "KGH",
          "KGH",
          "KGH",
          "KGH",
          "KGH",
          "KGH",
          "KGH",
          "KGH",
          "KGH",
          "KGH",
          "KGH",
          "KGH",
          "KGH",
          "KGH",
          "KGH",
          "KGH",
          "KGH",
          "KGH",
          "KGH",
          "KGH",
          "KGH",
          "KGH",
          "KGH",
          "KGH",
          "KGH",
          "KGH",
          "KGH",
          "KGH",
          "KGH",
          "KGH",
          "KGH",
          "KGH",
          "KGH",
          "KGH",
          "KGH",
          "KGH",
          "KGH",
          "KGH",
          "KGH",
          "KGH",
          "KGH",
          "KGH",
          "KGH",
          "KGH",
          "KGH",
          "KGH",
          "KGH",
          "KGH",
          "KGH",
          "KGH",
          "KGH",
          "KGH",
          "KGH",
          "KGH",
          "KGH",
          "KGH",
          "KGH",
          "KGH",
          "KGH",
          "KGH",
          "KGH",
          "KGH",
          "KGH",
          "KGH",
          "KGH",
          "KGH",
          "KGH",
          "KGH",
          "KGH",
          "KGH",
          "KGH",
          "KGH",
          "KGH",
          "KGH",
          "KGH",
          "KGH",
          "KGH",
          "KGH",
          "KGH",
          "KGH",
          "KGH",
          "KGH",
          "KGH",
          "KGH",
          "KGH",
          "KGH",
          "KGH",
          "KGH",
          "KGH",
          "KGH",
          "KGH",
          "KGH",
          "KGH",
          "KGH",
          "KGH",
          "KGH",
          "KGH",
          "KGH",
          "KGH",
          "KGH",
          "KGH",
          "KGH",
          "KGH",
          "KGH",
          "KGH",
          "KGH",
          "KGH",
          "KGH",
          "KGH",
          "KGH",
          "KGH",
          "KGH",
          "KGH",
          "KGH",
          "KGH",
          "KGH",
          "KGH",
          "KGH",
          "KGH",
          "KGH",
          "KGH",
          "KGH",
          "KGH",
          "KGH",
          "KGH",
          "KGH",
          "KGH",
          "KGH",
          "KGH",
          "KGH",
          "KGH",
          "KGH",
          "KGH",
          "KGH",
          "KGH",
          "KGH",
          "KGH",
          "KGH",
          "KGH",
          "KGH",
          "KGH",
          "KGH",
          "KGH",
          "KGH",
          "KGH",
          "KGH",
          "KGH",
          "KGH",
          "KGH",
          "KGH",
          "KGH",
          "KGH",
          "KGH",
          "KGH",
          "KGH",
          "KGH",
          "KGH",
          "KGH",
          "KGH",
          "KGH",
          "KGH",
          "KGH",
          "KGH",
          "KGH",
          "KGH",
          "KGH",
          "KGH",
          "KGH",
          "KGH",
          "KGH",
          "KGH",
          "KGH",
          "KGH",
          "KGH",
          "KGH",
          "KGH",
          "KGH",
          "KGH",
          "KGH",
          "KGH",
          "KGH",
          "KGH",
          "KGH",
          "KGH",
          "KGH",
          "KGH",
          "KGH",
          "KGH",
          "KGH",
          "KGH",
          "KGH",
          "KGH",
          "KGH",
          "KGH",
          "KGH",
          "KGH",
          "KGH",
          "KGH",
          "KGH",
          "KGH",
          "KGH",
          "KGH",
          "KGH",
          "KGH",
          "KGH",
          "KGH",
          "KGH",
          "KGH",
          "KGH",
          "KGH",
          "KGH",
          "KGH",
          "KGH",
          "KGH",
          "KGH",
          "KGH",
          "KGH",
          "KGH",
          "KGH",
          "KGH",
          "KGH",
          "KGH",
          "KGH",
          "KGH",
          "KGH",
          "KGH",
          "KGH",
          "KGH",
          "KGH",
          "KGH",
          "KGH",
          "KGH",
          "KGH",
          "KGH",
          "KGH",
          "KGH",
          "KGH",
          "KGH",
          "KGH",
          "KGH",
          "KGH",
          "KGH",
          "KGH",
          "KGH",
          "KGH",
          "KGH",
          "KGH",
          "KGH",
          "KGH",
          "KGH",
          "KGH",
          "KGH",
          "KGH",
          "KGH",
          "KGH",
          "KGH",
          "KGH",
          "KGH"
         ],
         "yaxis": "y"
        },
        {
         "hovertemplate": "Building=%{y}<br>Date=%{x}<extra></extra>",
         "legendgroup": "Francis Searle",
         "marker": {
          "color": "#ab63fa",
          "symbol": "circle"
         },
         "mode": "markers",
         "name": "Francis Searle",
         "showlegend": true,
         "type": "scattergl",
         "x": [
          "2017-08-25 00:00:00",
          "2017-08-25 00:00:00",
          "2017-09-08 00:00:00",
          "2017-09-08 00:00:00",
          "2017-09-14 00:00:00",
          "2017-09-28 00:00:00",
          "2017-09-28 00:00:00",
          "2017-09-29 00:00:00",
          "2017-09-29 00:00:00",
          "2017-09-29 00:00:00",
          "2017-09-29 00:00:00",
          "2017-10-02 00:00:00",
          "2017-10-20 00:00:00",
          "2017-10-25 00:00:00",
          "2017-10-27 00:00:00",
          "2017-10-29 00:00:00",
          "2017-10-29 00:00:00",
          "2018-04-14 00:00:00",
          "2018-04-24 00:00:00",
          "2018-10-29 00:00:00",
          "2018-11-11 00:00:00",
          "2018-11-13 00:00:00",
          "2019-05-14 00:00:00",
          "2019-05-21 00:00:00",
          "2019-05-25 00:00:00",
          "2019-08-30 00:00:00",
          "2019-08-30 00:00:00",
          "2019-09-14 00:00:00",
          "2019-09-17 00:00:00",
          "2019-09-25 00:00:00",
          "2019-10-05 00:00:00",
          "2019-10-08 00:00:00",
          "2021-05-02 00:00:00",
          "2021-05-16 00:00:00",
          "2021-05-18 00:00:00",
          "2021-05-21 00:00:00",
          "2021-05-21 00:00:00",
          "2021-06-01 00:00:00"
         ],
         "xaxis": "x",
         "y": [
          "Francis Searle",
          "Francis Searle",
          "Francis Searle",
          "Francis Searle",
          "Francis Searle",
          "Francis Searle",
          "Francis Searle",
          "Francis Searle",
          "Francis Searle",
          "Francis Searle",
          "Francis Searle",
          "Francis Searle",
          "Francis Searle",
          "Francis Searle",
          "Francis Searle",
          "Francis Searle",
          "Francis Searle",
          "Francis Searle",
          "Francis Searle",
          "Francis Searle",
          "Francis Searle",
          "Francis Searle",
          "Francis Searle",
          "Francis Searle",
          "Francis Searle",
          "Francis Searle",
          "Francis Searle",
          "Francis Searle",
          "Francis Searle",
          "Francis Searle",
          "Francis Searle",
          "Francis Searle",
          "Francis Searle",
          "Francis Searle",
          "Francis Searle",
          "Francis Searle",
          "Francis Searle",
          "Francis Searle"
         ],
         "yaxis": "y"
        },
        {
         "hovertemplate": "Building=%{y}<br>Date=%{x}<extra></extra>",
         "legendgroup": "Norris",
         "marker": {
          "color": "#FFA15A",
          "symbol": "circle"
         },
         "mode": "markers",
         "name": "Norris",
         "showlegend": true,
         "type": "scattergl",
         "x": [
          "2017-08-25 00:00:00",
          "2017-09-07 00:00:00",
          "2017-09-26 00:00:00",
          "2017-09-27 00:00:00",
          "2017-10-05 00:00:00",
          "2017-10-05 00:00:00",
          "2017-10-17 00:00:00",
          "2017-10-20 00:00:00",
          "2017-11-01 00:00:00",
          "2017-11-08 00:00:00",
          "2018-04-16 00:00:00",
          "2018-05-01 00:00:00",
          "2018-05-02 00:00:00",
          "2018-05-02 00:00:00",
          "2018-05-02 00:00:00",
          "2018-05-03 00:00:00",
          "2018-05-03 00:00:00",
          "2018-05-03 00:00:00",
          "2018-05-04 00:00:00",
          "2018-05-05 00:00:00",
          "2018-05-05 00:00:00",
          "2018-05-09 00:00:00",
          "2018-05-10 00:00:00",
          "2018-05-14 00:00:00",
          "2018-05-15 00:00:00",
          "2018-05-16 00:00:00",
          "2018-05-18 00:00:00",
          "2018-05-22 00:00:00",
          "2018-05-22 00:00:00",
          "2018-05-23 00:00:00",
          "2018-10-01 00:00:00",
          "2018-10-04 00:00:00",
          "2018-10-08 00:00:00",
          "2018-10-13 00:00:00",
          "2018-10-14 00:00:00",
          "2018-10-18 00:00:00",
          "2018-10-18 00:00:00",
          "2019-04-13 00:00:00",
          "2019-04-18 00:00:00",
          "2019-04-21 00:00:00",
          "2019-04-22 00:00:00",
          "2019-05-06 00:00:00",
          "2019-05-06 00:00:00",
          "2019-05-06 00:00:00",
          "2019-05-06 00:00:00",
          "2019-05-07 00:00:00",
          "2019-05-07 00:00:00",
          "2019-05-09 00:00:00",
          "2019-05-09 00:00:00",
          "2019-05-10 00:00:00",
          "2019-05-15 00:00:00",
          "2019-05-15 00:00:00",
          "2019-05-16 00:00:00",
          "2019-05-16 00:00:00",
          "2019-05-16 00:00:00",
          "2019-05-16 00:00:00",
          "2019-05-16 00:00:00",
          "2019-05-16 00:00:00",
          "2019-05-16 00:00:00",
          "2019-05-16 00:00:00",
          "2019-05-17 00:00:00",
          "2019-05-20 00:00:00",
          "2019-05-20 00:00:00",
          "2019-05-23 00:00:00",
          "2019-05-23 00:00:00",
          "2019-05-24 00:00:00",
          "2019-05-26 00:00:00",
          "2019-05-28 00:00:00",
          "2019-06-01 00:00:00",
          "2019-08-29 00:00:00",
          "2019-08-30 00:00:00",
          "2019-09-15 00:00:00",
          "2019-10-06 00:00:00",
          "2019-10-14 00:00:00",
          "2019-10-14 00:00:00",
          "2019-10-14 00:00:00",
          "2019-10-17 00:00:00",
          "2019-10-22 00:00:00",
          "2019-10-25 00:00:00",
          "2019-10-25 00:00:00",
          "2020-05-08 00:00:00",
          "2020-05-24 00:00:00",
          "2020-05-28 00:00:00",
          "2020-09-07 00:00:00",
          "2020-09-24 00:00:00",
          "2020-10-02 00:00:00",
          "2020-10-08 00:00:00",
          "2021-04-02 00:00:00",
          "2021-05-04 00:00:00",
          "2021-05-21 00:00:00",
          "2021-05-25 00:00:00",
          "2021-09-13 00:00:00",
          "2021-10-18 00:00:00",
          "2021-10-18 00:00:00",
          "2021-11-15 00:00:00"
         ],
         "xaxis": "x",
         "y": [
          "Norris",
          "Norris",
          "Norris",
          "Norris",
          "Norris",
          "Norris",
          "Norris",
          "Norris",
          "Norris",
          "Norris",
          "Norris",
          "Norris",
          "Norris",
          "Norris",
          "Norris",
          "Norris",
          "Norris",
          "Norris",
          "Norris",
          "Norris",
          "Norris",
          "Norris",
          "Norris",
          "Norris",
          "Norris",
          "Norris",
          "Norris",
          "Norris",
          "Norris",
          "Norris",
          "Norris",
          "Norris",
          "Norris",
          "Norris",
          "Norris",
          "Norris",
          "Norris",
          "Norris",
          "Norris",
          "Norris",
          "Norris",
          "Norris",
          "Norris",
          "Norris",
          "Norris",
          "Norris",
          "Norris",
          "Norris",
          "Norris",
          "Norris",
          "Norris",
          "Norris",
          "Norris",
          "Norris",
          "Norris",
          "Norris",
          "Norris",
          "Norris",
          "Norris",
          "Norris",
          "Norris",
          "Norris",
          "Norris",
          "Norris",
          "Norris",
          "Norris",
          "Norris",
          "Norris",
          "Norris",
          "Norris",
          "Norris",
          "Norris",
          "Norris",
          "Norris",
          "Norris",
          "Norris",
          "Norris",
          "Norris",
          "Norris",
          "Norris",
          "Norris",
          "Norris",
          "Norris",
          "Norris",
          "Norris",
          "Norris",
          "Norris",
          "Norris",
          "Norris",
          "Norris",
          "Norris",
          "Norris",
          "Norris",
          "Norris",
          "Norris"
         ],
         "yaxis": "y"
        },
        {
         "hovertemplate": "Building=%{y}<br>Date=%{x}<extra></extra>",
         "legendgroup": "Allen Center",
         "marker": {
          "color": "#19d3f3",
          "symbol": "circle"
         },
         "mode": "markers",
         "name": "Allen Center",
         "showlegend": true,
         "type": "scattergl",
         "x": [
          "2017-08-27 00:00:00",
          "2017-08-27 00:00:00",
          "2017-08-31 00:00:00",
          "2017-09-03 00:00:00",
          "2017-09-03 00:00:00",
          "2017-09-03 00:00:00",
          "2017-09-06 00:00:00",
          "2017-09-07 00:00:00",
          "2017-09-08 00:00:00",
          "2017-09-12 00:00:00",
          "2017-09-17 00:00:00",
          "2017-09-27 00:00:00",
          "2017-09-28 00:00:00",
          "2017-09-28 00:00:00",
          "2017-09-29 00:00:00",
          "2017-09-29 00:00:00",
          "2017-10-07 00:00:00",
          "2017-10-08 00:00:00",
          "2017-10-09 00:00:00",
          "2017-10-13 00:00:00",
          "2017-10-19 00:00:00",
          "2017-10-20 00:00:00",
          "2017-10-25 00:00:00",
          "2017-10-29 00:00:00",
          "2018-03-30 00:00:00",
          "2018-03-31 00:00:00",
          "2018-04-04 00:00:00",
          "2018-04-06 00:00:00",
          "2018-04-10 00:00:00",
          "2018-04-12 00:00:00",
          "2018-04-12 00:00:00",
          "2018-04-18 00:00:00",
          "2018-04-30 00:00:00",
          "2018-05-01 00:00:00",
          "2018-05-01 00:00:00",
          "2018-05-02 00:00:00",
          "2018-05-03 00:00:00",
          "2018-05-04 00:00:00",
          "2018-05-04 00:00:00",
          "2018-05-04 00:00:00",
          "2018-05-04 00:00:00",
          "2018-05-07 00:00:00",
          "2018-05-07 00:00:00",
          "2018-05-10 00:00:00",
          "2018-05-16 00:00:00",
          "2018-05-17 00:00:00",
          "2018-05-22 00:00:00",
          "2018-05-23 00:00:00",
          "2018-05-23 00:00:00",
          "2018-05-23 00:00:00",
          "2018-05-23 00:00:00",
          "2018-05-25 00:00:00",
          "2018-05-29 00:00:00",
          "2018-09-03 00:00:00",
          "2018-09-06 00:00:00",
          "2018-09-06 00:00:00",
          "2018-09-18 00:00:00",
          "2018-09-22 00:00:00",
          "2018-10-09 00:00:00",
          "2018-10-11 00:00:00",
          "2018-10-11 00:00:00",
          "2018-10-12 00:00:00",
          "2018-10-16 00:00:00",
          "2018-10-17 00:00:00",
          "2018-10-18 00:00:00",
          "2018-10-18 00:00:00",
          "2018-10-19 00:00:00",
          "2018-10-19 00:00:00",
          "2018-10-19 00:00:00",
          "2018-10-23 00:00:00",
          "2018-10-23 00:00:00",
          "2018-11-09 00:00:00",
          "2018-11-15 00:00:00",
          "2019-03-20 00:00:00",
          "2019-04-06 00:00:00",
          "2019-04-08 00:00:00",
          "2019-04-16 00:00:00",
          "2019-04-23 00:00:00",
          "2019-04-24 00:00:00",
          "2019-04-30 00:00:00",
          "2019-05-02 00:00:00",
          "2019-05-03 00:00:00",
          "2019-05-03 00:00:00",
          "2019-05-05 00:00:00",
          "2019-05-05 00:00:00",
          "2019-05-07 00:00:00",
          "2019-05-09 00:00:00",
          "2019-05-10 00:00:00",
          "2019-05-14 00:00:00",
          "2019-05-15 00:00:00",
          "2019-05-15 00:00:00",
          "2019-05-16 00:00:00",
          "2019-05-16 00:00:00",
          "2019-05-16 00:00:00",
          "2019-05-21 00:00:00",
          "2019-05-21 00:00:00",
          "2019-05-21 00:00:00",
          "2019-05-23 00:00:00",
          "2019-05-23 00:00:00",
          "2019-05-25 00:00:00",
          "2019-05-25 00:00:00",
          "2019-05-25 00:00:00",
          "2019-06-01 00:00:00",
          "2019-06-04 00:00:00",
          "2019-08-19 00:00:00",
          "2019-08-22 00:00:00",
          "2019-08-29 00:00:00",
          "2019-08-29 00:00:00",
          "2019-08-29 00:00:00",
          "2019-08-30 00:00:00",
          "2019-09-01 00:00:00",
          "2019-09-08 00:00:00",
          "2019-09-14 00:00:00",
          "2019-09-17 00:00:00",
          "2019-09-19 00:00:00",
          "2019-09-21 00:00:00",
          "2019-09-24 00:00:00",
          "2019-09-24 00:00:00",
          "2019-09-27 00:00:00",
          "2019-10-06 00:00:00",
          "2019-10-13 00:00:00",
          "2019-10-15 00:00:00",
          "2019-10-15 00:00:00",
          "2019-10-15 00:00:00",
          "2019-10-18 00:00:00",
          "2019-10-22 00:00:00",
          "2019-10-26 00:00:00",
          "2019-10-26 00:00:00",
          "2019-10-28 00:00:00",
          "2019-11-05 00:00:00",
          "2020-05-13 00:00:00",
          "2020-05-13 00:00:00",
          "2020-05-13 00:00:00",
          "2020-05-15 00:00:00",
          "2020-05-15 00:00:00",
          "2020-05-15 00:00:00",
          "2020-05-16 00:00:00",
          "2020-05-20 00:00:00",
          "2020-05-20 00:00:00",
          "2020-05-22 00:00:00",
          "2020-06-03 00:00:00",
          "2020-06-04 00:00:00",
          "2020-09-07 00:00:00",
          "2020-09-14 00:00:00",
          "2020-09-30 00:00:00",
          "2020-10-01 00:00:00",
          "2020-10-01 00:00:00",
          "2020-10-03 00:00:00",
          "2020-10-04 00:00:00",
          "2020-10-08 00:00:00",
          "2020-10-09 00:00:00",
          "2020-10-16 00:00:00",
          "2020-10-16 00:00:00",
          "2020-10-19 00:00:00",
          "2020-10-22 00:00:00",
          "2020-10-24 00:00:00",
          "2020-10-26 00:00:00",
          "2020-10-30 00:00:00",
          "2021-03-28 00:00:00",
          "2021-04-02 00:00:00",
          "2021-04-18 00:00:00",
          "2021-04-18 00:00:00",
          "2021-04-23 00:00:00",
          "2021-04-24 00:00:00",
          "2021-04-27 00:00:00",
          "2021-04-27 00:00:00",
          "2021-04-27 00:00:00",
          "2021-05-02 00:00:00",
          "2021-05-02 00:00:00",
          "2021-05-02 00:00:00",
          "2021-05-02 00:00:00",
          "2021-05-04 00:00:00",
          "2021-05-14 00:00:00",
          "2021-05-15 00:00:00",
          "2021-05-16 00:00:00",
          "2021-05-16 00:00:00",
          "2021-05-17 00:00:00",
          "2021-05-17 00:00:00",
          "2021-05-18 00:00:00",
          "2021-05-20 00:00:00",
          "2021-05-21 00:00:00",
          "2021-05-21 00:00:00",
          "2021-05-24 00:00:00",
          "2021-05-24 00:00:00",
          "2021-05-25 00:00:00",
          "2021-05-25 00:00:00",
          "2021-05-25 00:00:00",
          "2021-06-08 00:00:00",
          "2021-06-09 00:00:00",
          "2021-09-10 00:00:00",
          "2021-09-10 00:00:00",
          "2021-09-10 00:00:00",
          "2021-09-13 00:00:00",
          "2021-09-13 00:00:00",
          "2021-09-13 00:00:00",
          "2021-09-13 00:00:00",
          "2021-09-23 00:00:00",
          "2021-09-25 00:00:00",
          "2021-09-25 00:00:00",
          "2021-09-25 00:00:00",
          "2021-10-01 00:00:00",
          "2021-10-18 00:00:00",
          "2021-10-18 00:00:00",
          "2021-10-23 00:00:00",
          "2021-11-05 00:00:00",
          "2021-11-27 00:00:00"
         ],
         "xaxis": "x",
         "y": [
          "Allen Center",
          "Allen Center",
          "Allen Center",
          "Allen Center",
          "Allen Center",
          "Allen Center",
          "Allen Center",
          "Allen Center",
          "Allen Center",
          "Allen Center",
          "Allen Center",
          "Allen Center",
          "Allen Center",
          "Allen Center",
          "Allen Center",
          "Allen Center",
          "Allen Center",
          "Allen Center",
          "Allen Center",
          "Allen Center",
          "Allen Center",
          "Allen Center",
          "Allen Center",
          "Allen Center",
          "Allen Center",
          "Allen Center",
          "Allen Center",
          "Allen Center",
          "Allen Center",
          "Allen Center",
          "Allen Center",
          "Allen Center",
          "Allen Center",
          "Allen Center",
          "Allen Center",
          "Allen Center",
          "Allen Center",
          "Allen Center",
          "Allen Center",
          "Allen Center",
          "Allen Center",
          "Allen Center",
          "Allen Center",
          "Allen Center",
          "Allen Center",
          "Allen Center",
          "Allen Center",
          "Allen Center",
          "Allen Center",
          "Allen Center",
          "Allen Center",
          "Allen Center",
          "Allen Center",
          "Allen Center",
          "Allen Center",
          "Allen Center",
          "Allen Center",
          "Allen Center",
          "Allen Center",
          "Allen Center",
          "Allen Center",
          "Allen Center",
          "Allen Center",
          "Allen Center",
          "Allen Center",
          "Allen Center",
          "Allen Center",
          "Allen Center",
          "Allen Center",
          "Allen Center",
          "Allen Center",
          "Allen Center",
          "Allen Center",
          "Allen Center",
          "Allen Center",
          "Allen Center",
          "Allen Center",
          "Allen Center",
          "Allen Center",
          "Allen Center",
          "Allen Center",
          "Allen Center",
          "Allen Center",
          "Allen Center",
          "Allen Center",
          "Allen Center",
          "Allen Center",
          "Allen Center",
          "Allen Center",
          "Allen Center",
          "Allen Center",
          "Allen Center",
          "Allen Center",
          "Allen Center",
          "Allen Center",
          "Allen Center",
          "Allen Center",
          "Allen Center",
          "Allen Center",
          "Allen Center",
          "Allen Center",
          "Allen Center",
          "Allen Center",
          "Allen Center",
          "Allen Center",
          "Allen Center",
          "Allen Center",
          "Allen Center",
          "Allen Center",
          "Allen Center",
          "Allen Center",
          "Allen Center",
          "Allen Center",
          "Allen Center",
          "Allen Center",
          "Allen Center",
          "Allen Center",
          "Allen Center",
          "Allen Center",
          "Allen Center",
          "Allen Center",
          "Allen Center",
          "Allen Center",
          "Allen Center",
          "Allen Center",
          "Allen Center",
          "Allen Center",
          "Allen Center",
          "Allen Center",
          "Allen Center",
          "Allen Center",
          "Allen Center",
          "Allen Center",
          "Allen Center",
          "Allen Center",
          "Allen Center",
          "Allen Center",
          "Allen Center",
          "Allen Center",
          "Allen Center",
          "Allen Center",
          "Allen Center",
          "Allen Center",
          "Allen Center",
          "Allen Center",
          "Allen Center",
          "Allen Center",
          "Allen Center",
          "Allen Center",
          "Allen Center",
          "Allen Center",
          "Allen Center",
          "Allen Center",
          "Allen Center",
          "Allen Center",
          "Allen Center",
          "Allen Center",
          "Allen Center",
          "Allen Center",
          "Allen Center",
          "Allen Center",
          "Allen Center",
          "Allen Center",
          "Allen Center",
          "Allen Center",
          "Allen Center",
          "Allen Center",
          "Allen Center",
          "Allen Center",
          "Allen Center",
          "Allen Center",
          "Allen Center",
          "Allen Center",
          "Allen Center",
          "Allen Center",
          "Allen Center",
          "Allen Center",
          "Allen Center",
          "Allen Center",
          "Allen Center",
          "Allen Center",
          "Allen Center",
          "Allen Center",
          "Allen Center",
          "Allen Center",
          "Allen Center",
          "Allen Center",
          "Allen Center",
          "Allen Center",
          "Allen Center",
          "Allen Center",
          "Allen Center",
          "Allen Center",
          "Allen Center",
          "Allen Center",
          "Allen Center",
          "Allen Center",
          "Allen Center",
          "Allen Center",
          "Allen Center",
          "Allen Center",
          "Allen Center",
          "Allen Center",
          "Allen Center",
          "Allen Center",
          "Allen Center"
         ],
         "yaxis": "y"
        },
        {
         "hovertemplate": "Building=%{y}<br>Date=%{x}<extra></extra>",
         "legendgroup": "Block Museum",
         "marker": {
          "color": "#FF6692",
          "symbol": "circle"
         },
         "mode": "markers",
         "name": "Block Museum",
         "showlegend": true,
         "type": "scattergl",
         "x": [
          "2017-09-02 00:00:00",
          "2017-10-01 00:00:00",
          "2017-10-19 00:00:00",
          "2017-11-01 00:00:00",
          "2018-04-04 00:00:00",
          "2018-05-02 00:00:00",
          "2018-05-02 00:00:00",
          "2018-05-04 00:00:00",
          "2018-05-10 00:00:00",
          "2018-09-28 00:00:00",
          "2018-10-12 00:00:00",
          "2018-10-17 00:00:00",
          "2019-05-20 00:00:00",
          "2019-10-15 00:00:00",
          "2019-10-23 00:00:00",
          "2019-11-20 00:00:00",
          "2020-05-15 00:00:00",
          "2020-05-23 00:00:00",
          "2020-10-20 00:00:00",
          "2020-11-06 00:00:00",
          "2021-05-02 00:00:00",
          "2021-09-05 00:00:00",
          "2021-09-24 00:00:00"
         ],
         "xaxis": "x",
         "y": [
          "Block Museum",
          "Block Museum",
          "Block Museum",
          "Block Museum",
          "Block Museum",
          "Block Museum",
          "Block Museum",
          "Block Museum",
          "Block Museum",
          "Block Museum",
          "Block Museum",
          "Block Museum",
          "Block Museum",
          "Block Museum",
          "Block Museum",
          "Block Museum",
          "Block Museum",
          "Block Museum",
          "Block Museum",
          "Block Museum",
          "Block Museum",
          "Block Museum",
          "Block Museum"
         ],
         "yaxis": "y"
        },
        {
         "hovertemplate": "Building=%{y}<br>Date=%{x}<extra></extra>",
         "legendgroup": "Pick Stager",
         "marker": {
          "color": "#B6E880",
          "symbol": "circle"
         },
         "mode": "markers",
         "name": "Pick Stager",
         "showlegend": true,
         "type": "scattergl",
         "x": [
          "2017-09-02 00:00:00",
          "2017-09-22 00:00:00",
          "2017-10-18 00:00:00",
          "2017-11-03 00:00:00",
          "2018-04-18 00:00:00",
          "2018-05-04 00:00:00",
          "2018-05-10 00:00:00",
          "2018-05-10 00:00:00",
          "2018-05-10 00:00:00",
          "2018-05-15 00:00:00",
          "2018-05-17 00:00:00",
          "2018-05-18 00:00:00",
          "2018-05-20 00:00:00",
          "2018-05-21 00:00:00",
          "2018-05-22 00:00:00",
          "2018-05-23 00:00:00",
          "2018-09-06 00:00:00",
          "2018-10-13 00:00:00",
          "2018-11-16 00:00:00",
          "2019-05-14 00:00:00",
          "2019-08-30 00:00:00",
          "2019-09-26 00:00:00",
          "2020-05-11 00:00:00",
          "2020-05-15 00:00:00",
          "2020-09-25 00:00:00",
          "2020-10-11 00:00:00",
          "2020-10-30 00:00:00",
          "2021-03-27 00:00:00",
          "2021-06-04 00:00:00"
         ],
         "xaxis": "x",
         "y": [
          "Pick Stager",
          "Pick Stager",
          "Pick Stager",
          "Pick Stager",
          "Pick Stager",
          "Pick Stager",
          "Pick Stager",
          "Pick Stager",
          "Pick Stager",
          "Pick Stager",
          "Pick Stager",
          "Pick Stager",
          "Pick Stager",
          "Pick Stager",
          "Pick Stager",
          "Pick Stager",
          "Pick Stager",
          "Pick Stager",
          "Pick Stager",
          "Pick Stager",
          "Pick Stager",
          "Pick Stager",
          "Pick Stager",
          "Pick Stager",
          "Pick Stager",
          "Pick Stager",
          "Pick Stager",
          "Pick Stager",
          "Pick Stager"
         ],
         "yaxis": "y"
        },
        {
         "hovertemplate": "Building=%{y}<br>Date=%{x}<extra></extra>",
         "legendgroup": "Ryan Arts Center",
         "marker": {
          "color": "#FF97FF",
          "symbol": "circle"
         },
         "mode": "markers",
         "name": "Ryan Arts Center",
         "showlegend": true,
         "type": "scattergl",
         "x": [
          "2017-09-05 00:00:00",
          "2017-09-13 00:00:00",
          "2017-09-14 00:00:00",
          "2017-10-05 00:00:00",
          "2017-10-09 00:00:00",
          "2017-10-13 00:00:00",
          "2017-10-17 00:00:00",
          "2017-10-20 00:00:00",
          "2017-10-20 00:00:00",
          "2018-09-04 00:00:00",
          "2018-09-13 00:00:00",
          "2018-09-18 00:00:00",
          "2018-09-18 00:00:00",
          "2018-09-27 00:00:00",
          "2018-09-28 00:00:00",
          "2018-09-28 00:00:00",
          "2018-10-05 00:00:00",
          "2018-10-11 00:00:00",
          "2018-10-12 00:00:00",
          "2018-10-15 00:00:00",
          "2018-10-18 00:00:00",
          "2018-10-22 00:00:00",
          "2018-10-23 00:00:00",
          "2019-05-07 00:00:00",
          "2019-05-16 00:00:00",
          "2019-05-17 00:00:00",
          "2019-05-18 00:00:00",
          "2019-05-19 00:00:00",
          "2019-05-23 00:00:00",
          "2019-09-17 00:00:00",
          "2019-09-30 00:00:00",
          "2019-10-24 00:00:00",
          "2020-03-20 00:00:00",
          "2020-03-26 00:00:00",
          "2020-04-04 00:00:00",
          "2020-05-13 00:00:00",
          "2020-09-03 00:00:00",
          "2020-09-05 00:00:00",
          "2020-09-24 00:00:00",
          "2020-09-30 00:00:00",
          "2020-10-08 00:00:00",
          "2020-10-14 00:00:00",
          "2020-11-10 00:00:00",
          "2020-11-10 00:00:00",
          "2021-04-01 00:00:00",
          "2021-04-29 00:00:00",
          "2021-05-07 00:00:00",
          "2021-05-25 00:00:00",
          "2021-06-03 00:00:00",
          "2021-06-04 00:00:00",
          "2021-09-10 00:00:00",
          "2021-09-13 00:00:00",
          "2021-09-24 00:00:00",
          "2021-10-13 00:00:00",
          "2021-10-16 00:00:00"
         ],
         "xaxis": "x",
         "y": [
          "Ryan Arts Center",
          "Ryan Arts Center",
          "Ryan Arts Center",
          "Ryan Arts Center",
          "Ryan Arts Center",
          "Ryan Arts Center",
          "Ryan Arts Center",
          "Ryan Arts Center",
          "Ryan Arts Center",
          "Ryan Arts Center",
          "Ryan Arts Center",
          "Ryan Arts Center",
          "Ryan Arts Center",
          "Ryan Arts Center",
          "Ryan Arts Center",
          "Ryan Arts Center",
          "Ryan Arts Center",
          "Ryan Arts Center",
          "Ryan Arts Center",
          "Ryan Arts Center",
          "Ryan Arts Center",
          "Ryan Arts Center",
          "Ryan Arts Center",
          "Ryan Arts Center",
          "Ryan Arts Center",
          "Ryan Arts Center",
          "Ryan Arts Center",
          "Ryan Arts Center",
          "Ryan Arts Center",
          "Ryan Arts Center",
          "Ryan Arts Center",
          "Ryan Arts Center",
          "Ryan Arts Center",
          "Ryan Arts Center",
          "Ryan Arts Center",
          "Ryan Arts Center",
          "Ryan Arts Center",
          "Ryan Arts Center",
          "Ryan Arts Center",
          "Ryan Arts Center",
          "Ryan Arts Center",
          "Ryan Arts Center",
          "Ryan Arts Center",
          "Ryan Arts Center",
          "Ryan Arts Center",
          "Ryan Arts Center",
          "Ryan Arts Center",
          "Ryan Arts Center",
          "Ryan Arts Center",
          "Ryan Arts Center",
          "Ryan Arts Center",
          "Ryan Arts Center",
          "Ryan Arts Center",
          "Ryan Arts Center",
          "Ryan Arts Center"
         ],
         "yaxis": "y"
        },
        {
         "hovertemplate": "Building=%{y}<br>Date=%{x}<extra></extra>",
         "legendgroup": "Segal Visitor Center",
         "marker": {
          "color": "#FECB52",
          "symbol": "circle"
         },
         "mode": "markers",
         "name": "Segal Visitor Center",
         "showlegend": true,
         "type": "scattergl",
         "x": [
          "2017-09-07 00:00:00",
          "2017-09-09 00:00:00",
          "2017-10-12 00:00:00",
          "2017-10-17 00:00:00",
          "2018-04-13 00:00:00",
          "2018-04-16 00:00:00",
          "2018-05-04 00:00:00",
          "2018-05-04 00:00:00",
          "2018-05-05 00:00:00",
          "2018-05-12 00:00:00",
          "2018-05-16 00:00:00",
          "2018-05-24 00:00:00",
          "2018-05-24 00:00:00",
          "2018-09-04 00:00:00",
          "2018-09-07 00:00:00",
          "2018-09-19 00:00:00",
          "2018-10-05 00:00:00",
          "2018-10-05 00:00:00",
          "2018-10-05 00:00:00",
          "2018-10-06 00:00:00",
          "2018-10-11 00:00:00",
          "2018-10-19 00:00:00",
          "2018-11-13 00:00:00",
          "2019-03-24 00:00:00",
          "2019-04-16 00:00:00",
          "2019-04-28 00:00:00",
          "2019-05-06 00:00:00",
          "2019-05-11 00:00:00",
          "2019-05-20 00:00:00",
          "2019-05-22 00:00:00",
          "2019-09-10 00:00:00",
          "2019-09-22 00:00:00",
          "2019-10-16 00:00:00",
          "2019-10-25 00:00:00",
          "2019-10-25 00:00:00",
          "2019-10-25 00:00:00",
          "2019-11-07 00:00:00",
          "2020-05-15 00:00:00",
          "2020-05-19 00:00:00",
          "2020-05-19 00:00:00",
          "2020-05-31 00:00:00",
          "2020-10-29 00:00:00",
          "2020-11-07 00:00:00",
          "2021-05-20 00:00:00",
          "2021-09-30 00:00:00",
          "2021-10-18 00:00:00"
         ],
         "xaxis": "x",
         "y": [
          "Segal Visitor Center",
          "Segal Visitor Center",
          "Segal Visitor Center",
          "Segal Visitor Center",
          "Segal Visitor Center",
          "Segal Visitor Center",
          "Segal Visitor Center",
          "Segal Visitor Center",
          "Segal Visitor Center",
          "Segal Visitor Center",
          "Segal Visitor Center",
          "Segal Visitor Center",
          "Segal Visitor Center",
          "Segal Visitor Center",
          "Segal Visitor Center",
          "Segal Visitor Center",
          "Segal Visitor Center",
          "Segal Visitor Center",
          "Segal Visitor Center",
          "Segal Visitor Center",
          "Segal Visitor Center",
          "Segal Visitor Center",
          "Segal Visitor Center",
          "Segal Visitor Center",
          "Segal Visitor Center",
          "Segal Visitor Center",
          "Segal Visitor Center",
          "Segal Visitor Center",
          "Segal Visitor Center",
          "Segal Visitor Center",
          "Segal Visitor Center",
          "Segal Visitor Center",
          "Segal Visitor Center",
          "Segal Visitor Center",
          "Segal Visitor Center",
          "Segal Visitor Center",
          "Segal Visitor Center",
          "Segal Visitor Center",
          "Segal Visitor Center",
          "Segal Visitor Center",
          "Segal Visitor Center",
          "Segal Visitor Center",
          "Segal Visitor Center",
          "Segal Visitor Center",
          "Segal Visitor Center",
          "Segal Visitor Center"
         ],
         "yaxis": "y"
        },
        {
         "hovertemplate": "Building=%{y}<br>Date=%{x}<extra></extra>",
         "legendgroup": "Cook Hall",
         "marker": {
          "color": "#636efa",
          "symbol": "circle"
         },
         "mode": "markers",
         "name": "Cook Hall",
         "showlegend": true,
         "type": "scattergl",
         "x": [
          "2017-09-18 00:00:00",
          "2018-05-01 00:00:00",
          "2018-05-01 00:00:00",
          "2018-05-01 00:00:00",
          "2018-05-01 00:00:00",
          "2018-05-01 00:00:00",
          "2018-05-02 00:00:00",
          "2018-05-04 00:00:00",
          "2018-05-10 00:00:00",
          "2018-05-10 00:00:00",
          "2018-10-01 00:00:00",
          "2019-04-13 00:00:00",
          "2019-05-02 00:00:00",
          "2019-05-10 00:00:00",
          "2019-05-15 00:00:00",
          "2019-05-16 00:00:00",
          "2019-05-16 00:00:00",
          "2019-05-16 00:00:00",
          "2019-05-16 00:00:00",
          "2019-05-16 00:00:00",
          "2019-05-21 00:00:00",
          "2019-05-24 00:00:00",
          "2019-05-25 00:00:00",
          "2019-05-28 00:00:00",
          "2019-09-08 00:00:00",
          "2019-09-17 00:00:00",
          "2019-09-21 00:00:00",
          "2019-09-22 00:00:00",
          "2019-09-27 00:00:00",
          "2019-10-04 00:00:00",
          "2019-10-04 00:00:00",
          "2019-10-08 00:00:00",
          "2019-10-08 00:00:00",
          "2019-10-08 00:00:00",
          "2019-10-08 00:00:00",
          "2019-10-09 00:00:00",
          "2019-10-13 00:00:00",
          "2019-10-15 00:00:00",
          "2019-10-15 00:00:00",
          "2019-10-15 00:00:00",
          "2019-10-15 00:00:00",
          "2019-10-16 00:00:00",
          "2019-10-20 00:00:00",
          "2020-09-04 00:00:00",
          "2020-09-16 00:00:00",
          "2020-09-16 00:00:00",
          "2020-09-16 00:00:00",
          "2020-09-28 00:00:00",
          "2020-10-07 00:00:00",
          "2020-10-09 00:00:00",
          "2021-04-27 00:00:00",
          "2021-05-16 00:00:00",
          "2021-05-16 00:00:00",
          "2021-06-04 00:00:00",
          "2021-06-04 00:00:00",
          "2021-09-09 00:00:00",
          "2021-09-09 00:00:00",
          "2021-09-09 00:00:00",
          "2021-09-10 00:00:00",
          "2021-09-13 00:00:00",
          "2021-09-24 00:00:00",
          "2021-10-01 00:00:00",
          "2021-10-15 00:00:00",
          "2021-10-18 00:00:00"
         ],
         "xaxis": "x",
         "y": [
          "Cook Hall",
          "Cook Hall",
          "Cook Hall",
          "Cook Hall",
          "Cook Hall",
          "Cook Hall",
          "Cook Hall",
          "Cook Hall",
          "Cook Hall",
          "Cook Hall",
          "Cook Hall",
          "Cook Hall",
          "Cook Hall",
          "Cook Hall",
          "Cook Hall",
          "Cook Hall",
          "Cook Hall",
          "Cook Hall",
          "Cook Hall",
          "Cook Hall",
          "Cook Hall",
          "Cook Hall",
          "Cook Hall",
          "Cook Hall",
          "Cook Hall",
          "Cook Hall",
          "Cook Hall",
          "Cook Hall",
          "Cook Hall",
          "Cook Hall",
          "Cook Hall",
          "Cook Hall",
          "Cook Hall",
          "Cook Hall",
          "Cook Hall",
          "Cook Hall",
          "Cook Hall",
          "Cook Hall",
          "Cook Hall",
          "Cook Hall",
          "Cook Hall",
          "Cook Hall",
          "Cook Hall",
          "Cook Hall",
          "Cook Hall",
          "Cook Hall",
          "Cook Hall",
          "Cook Hall",
          "Cook Hall",
          "Cook Hall",
          "Cook Hall",
          "Cook Hall",
          "Cook Hall",
          "Cook Hall",
          "Cook Hall",
          "Cook Hall",
          "Cook Hall",
          "Cook Hall",
          "Cook Hall",
          "Cook Hall",
          "Cook Hall",
          "Cook Hall",
          "Cook Hall",
          "Cook Hall"
         ],
         "yaxis": "y"
        },
        {
         "hovertemplate": "Building=%{y}<br>Date=%{x}<extra></extra>",
         "legendgroup": "Mudd Library",
         "marker": {
          "color": "#EF553B",
          "symbol": "circle"
         },
         "mode": "markers",
         "name": "Mudd Library",
         "showlegend": true,
         "type": "scattergl",
         "x": [
          "2017-09-29 00:00:00",
          "2017-09-29 00:00:00",
          "2017-09-29 00:00:00",
          "2017-09-29 00:00:00",
          "2017-10-05 00:00:00",
          "2017-10-08 00:00:00",
          "2017-10-08 00:00:00",
          "2017-10-12 00:00:00",
          "2017-10-17 00:00:00",
          "2017-10-20 00:00:00",
          "2017-10-20 00:00:00",
          "2017-10-20 00:00:00",
          "2017-10-20 00:00:00",
          "2017-10-25 00:00:00",
          "2017-10-25 00:00:00",
          "2017-10-25 00:00:00",
          "2017-10-25 00:00:00",
          "2017-10-25 00:00:00",
          "2017-10-29 00:00:00",
          "2017-11-13 00:00:00",
          "2018-04-12 00:00:00",
          "2018-04-18 00:00:00",
          "2018-04-30 00:00:00",
          "2018-05-01 00:00:00",
          "2018-05-01 00:00:00",
          "2018-05-01 00:00:00",
          "2018-05-01 00:00:00",
          "2018-05-01 00:00:00",
          "2018-05-01 00:00:00",
          "2018-05-02 00:00:00",
          "2018-05-02 00:00:00",
          "2018-05-02 00:00:00",
          "2018-05-02 00:00:00",
          "2018-05-02 00:00:00",
          "2018-05-02 00:00:00",
          "2018-05-02 00:00:00",
          "2018-05-02 00:00:00",
          "2018-05-02 00:00:00",
          "2018-05-02 00:00:00",
          "2018-05-02 00:00:00",
          "2018-05-03 00:00:00",
          "2018-05-03 00:00:00",
          "2018-05-04 00:00:00",
          "2018-05-04 00:00:00",
          "2018-05-05 00:00:00",
          "2018-05-05 00:00:00",
          "2018-05-06 00:00:00",
          "2018-05-06 00:00:00",
          "2018-05-10 00:00:00",
          "2018-05-10 00:00:00",
          "2018-05-11 00:00:00",
          "2018-05-13 00:00:00",
          "2018-05-15 00:00:00",
          "2018-05-16 00:00:00",
          "2018-05-16 00:00:00",
          "2018-05-18 00:00:00",
          "2018-05-21 00:00:00",
          "2018-05-22 00:00:00",
          "2018-05-22 00:00:00",
          "2018-05-22 00:00:00",
          "2018-05-22 00:00:00",
          "2018-05-22 00:00:00",
          "2018-05-22 00:00:00",
          "2018-05-22 00:00:00",
          "2018-05-23 00:00:00",
          "2018-05-25 00:00:00",
          "2018-05-25 00:00:00",
          "2018-05-31 00:00:00",
          "2018-05-31 00:00:00",
          "2018-06-04 00:00:00",
          "2018-08-29 00:00:00",
          "2018-09-09 00:00:00",
          "2018-09-20 00:00:00",
          "2018-09-27 00:00:00",
          "2018-09-27 00:00:00",
          "2018-09-28 00:00:00",
          "2018-09-28 00:00:00",
          "2018-09-29 00:00:00",
          "2018-09-29 00:00:00",
          "2018-09-30 00:00:00",
          "2018-10-09 00:00:00",
          "2018-10-11 00:00:00",
          "2018-10-11 00:00:00",
          "2018-10-11 00:00:00",
          "2018-10-13 00:00:00",
          "2018-10-16 00:00:00",
          "2018-10-16 00:00:00",
          "2018-10-16 00:00:00",
          "2018-10-17 00:00:00",
          "2018-10-17 00:00:00",
          "2018-10-17 00:00:00",
          "2018-10-17 00:00:00",
          "2018-10-17 00:00:00",
          "2018-10-17 00:00:00",
          "2018-10-18 00:00:00",
          "2018-10-18 00:00:00",
          "2018-10-18 00:00:00",
          "2018-10-20 00:00:00",
          "2018-10-23 00:00:00",
          "2018-10-23 00:00:00",
          "2018-10-23 00:00:00",
          "2018-10-29 00:00:00",
          "2018-11-01 00:00:00",
          "2018-11-01 00:00:00",
          "2019-03-19 00:00:00",
          "2019-03-28 00:00:00",
          "2019-04-02 00:00:00",
          "2019-04-02 00:00:00",
          "2019-04-06 00:00:00",
          "2019-04-06 00:00:00",
          "2019-04-06 00:00:00",
          "2019-04-07 00:00:00",
          "2019-04-14 00:00:00",
          "2019-04-18 00:00:00",
          "2019-04-18 00:00:00",
          "2019-04-18 00:00:00",
          "2019-04-20 00:00:00",
          "2019-04-22 00:00:00",
          "2019-04-22 00:00:00",
          "2019-04-23 00:00:00",
          "2019-04-23 00:00:00",
          "2019-04-23 00:00:00",
          "2019-04-23 00:00:00",
          "2019-05-02 00:00:00",
          "2019-05-02 00:00:00",
          "2019-05-02 00:00:00",
          "2019-05-03 00:00:00",
          "2019-05-03 00:00:00",
          "2019-05-03 00:00:00",
          "2019-05-03 00:00:00",
          "2019-05-03 00:00:00",
          "2019-05-04 00:00:00",
          "2019-05-04 00:00:00",
          "2019-05-04 00:00:00",
          "2019-05-04 00:00:00",
          "2019-05-04 00:00:00",
          "2019-05-04 00:00:00",
          "2019-05-04 00:00:00",
          "2019-05-04 00:00:00",
          "2019-05-04 00:00:00",
          "2019-05-04 00:00:00",
          "2019-05-05 00:00:00",
          "2019-05-06 00:00:00",
          "2019-05-06 00:00:00",
          "2019-05-06 00:00:00",
          "2019-05-06 00:00:00",
          "2019-05-06 00:00:00",
          "2019-05-06 00:00:00",
          "2019-05-06 00:00:00",
          "2019-05-09 00:00:00",
          "2019-05-10 00:00:00",
          "2019-05-11 00:00:00",
          "2019-05-14 00:00:00",
          "2019-05-14 00:00:00",
          "2019-05-14 00:00:00",
          "2019-05-16 00:00:00",
          "2019-05-16 00:00:00",
          "2019-05-16 00:00:00",
          "2019-05-16 00:00:00",
          "2019-05-16 00:00:00",
          "2019-05-16 00:00:00",
          "2019-05-16 00:00:00",
          "2019-05-16 00:00:00",
          "2019-05-16 00:00:00",
          "2019-05-16 00:00:00",
          "2019-05-16 00:00:00",
          "2019-05-16 00:00:00",
          "2019-05-16 00:00:00",
          "2019-05-16 00:00:00",
          "2019-05-16 00:00:00",
          "2019-05-16 00:00:00",
          "2019-05-16 00:00:00",
          "2019-05-16 00:00:00",
          "2019-05-16 00:00:00",
          "2019-05-16 00:00:00",
          "2019-05-16 00:00:00",
          "2019-05-16 00:00:00",
          "2019-05-16 00:00:00",
          "2019-05-17 00:00:00",
          "2019-05-19 00:00:00",
          "2019-05-19 00:00:00",
          "2019-05-19 00:00:00",
          "2019-05-19 00:00:00",
          "2019-05-19 00:00:00",
          "2019-05-20 00:00:00",
          "2019-05-21 00:00:00",
          "2019-05-23 00:00:00",
          "2019-05-23 00:00:00",
          "2019-05-23 00:00:00",
          "2019-05-23 00:00:00",
          "2019-05-23 00:00:00",
          "2019-05-23 00:00:00",
          "2019-05-23 00:00:00",
          "2019-05-23 00:00:00",
          "2019-05-25 00:00:00",
          "2019-05-25 00:00:00",
          "2019-05-25 00:00:00",
          "2019-05-25 00:00:00",
          "2019-05-26 00:00:00",
          "2019-05-26 00:00:00",
          "2019-05-26 00:00:00",
          "2019-05-26 00:00:00",
          "2019-05-26 00:00:00",
          "2019-05-26 00:00:00",
          "2019-05-28 00:00:00",
          "2019-06-14 00:00:00",
          "2019-08-04 00:00:00",
          "2019-08-19 00:00:00",
          "2019-08-29 00:00:00",
          "2019-08-29 00:00:00",
          "2019-08-29 00:00:00",
          "2019-08-30 00:00:00",
          "2019-09-04 00:00:00",
          "2019-09-14 00:00:00",
          "2019-09-15 00:00:00",
          "2019-09-17 00:00:00",
          "2019-09-23 00:00:00",
          "2019-09-23 00:00:00",
          "2019-09-24 00:00:00",
          "2019-09-24 00:00:00",
          "2019-09-25 00:00:00",
          "2019-09-25 00:00:00",
          "2019-09-26 00:00:00",
          "2019-09-26 00:00:00",
          "2019-09-28 00:00:00",
          "2019-10-02 00:00:00",
          "2019-10-04 00:00:00",
          "2019-10-05 00:00:00",
          "2019-10-08 00:00:00",
          "2019-10-08 00:00:00",
          "2019-10-08 00:00:00",
          "2019-10-08 00:00:00",
          "2019-10-12 00:00:00",
          "2019-10-14 00:00:00",
          "2019-10-14 00:00:00",
          "2019-10-14 00:00:00",
          "2019-10-15 00:00:00",
          "2019-10-15 00:00:00",
          "2019-10-22 00:00:00",
          "2019-10-24 00:00:00",
          "2019-10-26 00:00:00",
          "2019-10-28 00:00:00",
          "2019-10-28 00:00:00",
          "2019-10-28 00:00:00",
          "2019-10-29 00:00:00",
          "2020-03-29 00:00:00",
          "2020-05-02 00:00:00",
          "2020-05-15 00:00:00",
          "2020-05-15 00:00:00",
          "2020-05-15 00:00:00",
          "2020-05-15 00:00:00",
          "2020-05-16 00:00:00",
          "2020-05-24 00:00:00",
          "2020-05-28 00:00:00",
          "2020-05-28 00:00:00",
          "2020-09-02 00:00:00",
          "2020-09-04 00:00:00",
          "2020-09-04 00:00:00",
          "2020-09-04 00:00:00",
          "2020-09-05 00:00:00",
          "2020-09-05 00:00:00",
          "2020-09-05 00:00:00",
          "2020-09-05 00:00:00",
          "2020-09-07 00:00:00",
          "2020-09-13 00:00:00",
          "2020-09-17 00:00:00",
          "2020-09-23 00:00:00",
          "2020-09-23 00:00:00",
          "2020-09-24 00:00:00",
          "2020-09-24 00:00:00",
          "2020-09-25 00:00:00",
          "2020-09-25 00:00:00",
          "2020-09-26 00:00:00",
          "2020-09-29 00:00:00",
          "2020-09-29 00:00:00",
          "2020-09-29 00:00:00",
          "2020-09-29 00:00:00",
          "2020-09-29 00:00:00",
          "2020-09-29 00:00:00",
          "2020-09-29 00:00:00",
          "2020-09-30 00:00:00",
          "2020-10-01 00:00:00",
          "2020-10-01 00:00:00",
          "2020-10-02 00:00:00",
          "2020-10-02 00:00:00",
          "2020-10-07 00:00:00",
          "2020-10-08 00:00:00",
          "2020-10-09 00:00:00",
          "2020-10-12 00:00:00",
          "2020-10-14 00:00:00",
          "2020-10-16 00:00:00",
          "2020-10-16 00:00:00",
          "2020-10-19 00:00:00",
          "2020-10-26 00:00:00",
          "2020-10-26 00:00:00",
          "2020-10-30 00:00:00",
          "2020-11-03 00:00:00",
          "2020-11-05 00:00:00",
          "2020-11-13 00:00:00",
          "2021-04-07 00:00:00",
          "2021-04-10 00:00:00",
          "2021-04-19 00:00:00",
          "2021-04-23 00:00:00",
          "2021-04-24 00:00:00",
          "2021-04-27 00:00:00",
          "2021-04-27 00:00:00",
          "2021-04-30 00:00:00",
          "2021-05-02 00:00:00",
          "2021-05-02 00:00:00",
          "2021-05-02 00:00:00",
          "2021-05-02 00:00:00",
          "2021-05-02 00:00:00",
          "2021-05-02 00:00:00",
          "2021-05-02 00:00:00",
          "2021-05-02 00:00:00",
          "2021-05-02 00:00:00",
          "2021-05-03 00:00:00",
          "2021-05-13 00:00:00",
          "2021-05-14 00:00:00",
          "2021-05-14 00:00:00",
          "2021-05-15 00:00:00",
          "2021-05-15 00:00:00",
          "2021-05-16 00:00:00",
          "2021-05-19 00:00:00",
          "2021-05-20 00:00:00",
          "2021-05-20 00:00:00",
          "2021-05-20 00:00:00",
          "2021-05-20 00:00:00",
          "2021-05-21 00:00:00",
          "2021-05-21 00:00:00",
          "2021-05-21 00:00:00",
          "2021-05-26 00:00:00",
          "2021-05-27 00:00:00",
          "2021-05-31 00:00:00",
          "2021-06-01 00:00:00",
          "2021-06-04 00:00:00",
          "2021-06-04 00:00:00",
          "2021-06-04 00:00:00",
          "2021-06-06 00:00:00",
          "2021-06-11 00:00:00",
          "2021-09-06 00:00:00",
          "2021-09-06 00:00:00",
          "2021-09-08 00:00:00",
          "2021-09-08 00:00:00",
          "2021-09-09 00:00:00",
          "2021-09-24 00:00:00",
          "2021-09-24 00:00:00",
          "2021-09-25 00:00:00",
          "2021-10-01 00:00:00",
          "2021-10-01 00:00:00",
          "2021-10-06 00:00:00",
          "2021-10-08 00:00:00",
          "2021-10-15 00:00:00",
          "2021-10-15 00:00:00",
          "2021-10-15 00:00:00",
          "2021-10-17 00:00:00",
          "2021-10-17 00:00:00",
          "2021-10-17 00:00:00",
          "2021-10-18 00:00:00",
          "2021-10-18 00:00:00",
          "2021-10-18 00:00:00",
          "2021-11-01 00:00:00"
         ],
         "xaxis": "x",
         "y": [
          "Mudd Library",
          "Mudd Library",
          "Mudd Library",
          "Mudd Library",
          "Mudd Library",
          "Mudd Library",
          "Mudd Library",
          "Mudd Library",
          "Mudd Library",
          "Mudd Library",
          "Mudd Library",
          "Mudd Library",
          "Mudd Library",
          "Mudd Library",
          "Mudd Library",
          "Mudd Library",
          "Mudd Library",
          "Mudd Library",
          "Mudd Library",
          "Mudd Library",
          "Mudd Library",
          "Mudd Library",
          "Mudd Library",
          "Mudd Library",
          "Mudd Library",
          "Mudd Library",
          "Mudd Library",
          "Mudd Library",
          "Mudd Library",
          "Mudd Library",
          "Mudd Library",
          "Mudd Library",
          "Mudd Library",
          "Mudd Library",
          "Mudd Library",
          "Mudd Library",
          "Mudd Library",
          "Mudd Library",
          "Mudd Library",
          "Mudd Library",
          "Mudd Library",
          "Mudd Library",
          "Mudd Library",
          "Mudd Library",
          "Mudd Library",
          "Mudd Library",
          "Mudd Library",
          "Mudd Library",
          "Mudd Library",
          "Mudd Library",
          "Mudd Library",
          "Mudd Library",
          "Mudd Library",
          "Mudd Library",
          "Mudd Library",
          "Mudd Library",
          "Mudd Library",
          "Mudd Library",
          "Mudd Library",
          "Mudd Library",
          "Mudd Library",
          "Mudd Library",
          "Mudd Library",
          "Mudd Library",
          "Mudd Library",
          "Mudd Library",
          "Mudd Library",
          "Mudd Library",
          "Mudd Library",
          "Mudd Library",
          "Mudd Library",
          "Mudd Library",
          "Mudd Library",
          "Mudd Library",
          "Mudd Library",
          "Mudd Library",
          "Mudd Library",
          "Mudd Library",
          "Mudd Library",
          "Mudd Library",
          "Mudd Library",
          "Mudd Library",
          "Mudd Library",
          "Mudd Library",
          "Mudd Library",
          "Mudd Library",
          "Mudd Library",
          "Mudd Library",
          "Mudd Library",
          "Mudd Library",
          "Mudd Library",
          "Mudd Library",
          "Mudd Library",
          "Mudd Library",
          "Mudd Library",
          "Mudd Library",
          "Mudd Library",
          "Mudd Library",
          "Mudd Library",
          "Mudd Library",
          "Mudd Library",
          "Mudd Library",
          "Mudd Library",
          "Mudd Library",
          "Mudd Library",
          "Mudd Library",
          "Mudd Library",
          "Mudd Library",
          "Mudd Library",
          "Mudd Library",
          "Mudd Library",
          "Mudd Library",
          "Mudd Library",
          "Mudd Library",
          "Mudd Library",
          "Mudd Library",
          "Mudd Library",
          "Mudd Library",
          "Mudd Library",
          "Mudd Library",
          "Mudd Library",
          "Mudd Library",
          "Mudd Library",
          "Mudd Library",
          "Mudd Library",
          "Mudd Library",
          "Mudd Library",
          "Mudd Library",
          "Mudd Library",
          "Mudd Library",
          "Mudd Library",
          "Mudd Library",
          "Mudd Library",
          "Mudd Library",
          "Mudd Library",
          "Mudd Library",
          "Mudd Library",
          "Mudd Library",
          "Mudd Library",
          "Mudd Library",
          "Mudd Library",
          "Mudd Library",
          "Mudd Library",
          "Mudd Library",
          "Mudd Library",
          "Mudd Library",
          "Mudd Library",
          "Mudd Library",
          "Mudd Library",
          "Mudd Library",
          "Mudd Library",
          "Mudd Library",
          "Mudd Library",
          "Mudd Library",
          "Mudd Library",
          "Mudd Library",
          "Mudd Library",
          "Mudd Library",
          "Mudd Library",
          "Mudd Library",
          "Mudd Library",
          "Mudd Library",
          "Mudd Library",
          "Mudd Library",
          "Mudd Library",
          "Mudd Library",
          "Mudd Library",
          "Mudd Library",
          "Mudd Library",
          "Mudd Library",
          "Mudd Library",
          "Mudd Library",
          "Mudd Library",
          "Mudd Library",
          "Mudd Library",
          "Mudd Library",
          "Mudd Library",
          "Mudd Library",
          "Mudd Library",
          "Mudd Library",
          "Mudd Library",
          "Mudd Library",
          "Mudd Library",
          "Mudd Library",
          "Mudd Library",
          "Mudd Library",
          "Mudd Library",
          "Mudd Library",
          "Mudd Library",
          "Mudd Library",
          "Mudd Library",
          "Mudd Library",
          "Mudd Library",
          "Mudd Library",
          "Mudd Library",
          "Mudd Library",
          "Mudd Library",
          "Mudd Library",
          "Mudd Library",
          "Mudd Library",
          "Mudd Library",
          "Mudd Library",
          "Mudd Library",
          "Mudd Library",
          "Mudd Library",
          "Mudd Library",
          "Mudd Library",
          "Mudd Library",
          "Mudd Library",
          "Mudd Library",
          "Mudd Library",
          "Mudd Library",
          "Mudd Library",
          "Mudd Library",
          "Mudd Library",
          "Mudd Library",
          "Mudd Library",
          "Mudd Library",
          "Mudd Library",
          "Mudd Library",
          "Mudd Library",
          "Mudd Library",
          "Mudd Library",
          "Mudd Library",
          "Mudd Library",
          "Mudd Library",
          "Mudd Library",
          "Mudd Library",
          "Mudd Library",
          "Mudd Library",
          "Mudd Library",
          "Mudd Library",
          "Mudd Library",
          "Mudd Library",
          "Mudd Library",
          "Mudd Library",
          "Mudd Library",
          "Mudd Library",
          "Mudd Library",
          "Mudd Library",
          "Mudd Library",
          "Mudd Library",
          "Mudd Library",
          "Mudd Library",
          "Mudd Library",
          "Mudd Library",
          "Mudd Library",
          "Mudd Library",
          "Mudd Library",
          "Mudd Library",
          "Mudd Library",
          "Mudd Library",
          "Mudd Library",
          "Mudd Library",
          "Mudd Library",
          "Mudd Library",
          "Mudd Library",
          "Mudd Library",
          "Mudd Library",
          "Mudd Library",
          "Mudd Library",
          "Mudd Library",
          "Mudd Library",
          "Mudd Library",
          "Mudd Library",
          "Mudd Library",
          "Mudd Library",
          "Mudd Library",
          "Mudd Library",
          "Mudd Library",
          "Mudd Library",
          "Mudd Library",
          "Mudd Library",
          "Mudd Library",
          "Mudd Library",
          "Mudd Library",
          "Mudd Library",
          "Mudd Library",
          "Mudd Library",
          "Mudd Library",
          "Mudd Library",
          "Mudd Library",
          "Mudd Library",
          "Mudd Library",
          "Mudd Library",
          "Mudd Library",
          "Mudd Library",
          "Mudd Library",
          "Mudd Library",
          "Mudd Library",
          "Mudd Library",
          "Mudd Library",
          "Mudd Library",
          "Mudd Library",
          "Mudd Library",
          "Mudd Library",
          "Mudd Library",
          "Mudd Library",
          "Mudd Library",
          "Mudd Library",
          "Mudd Library",
          "Mudd Library",
          "Mudd Library",
          "Mudd Library",
          "Mudd Library",
          "Mudd Library",
          "Mudd Library",
          "Mudd Library",
          "Mudd Library",
          "Mudd Library",
          "Mudd Library",
          "Mudd Library",
          "Mudd Library",
          "Mudd Library",
          "Mudd Library",
          "Mudd Library",
          "Mudd Library",
          "Mudd Library",
          "Mudd Library",
          "Mudd Library",
          "Mudd Library",
          "Mudd Library",
          "Mudd Library",
          "Mudd Library",
          "Mudd Library",
          "Mudd Library",
          "Mudd Library",
          "Mudd Library",
          "Mudd Library",
          "Mudd Library",
          "Mudd Library",
          "Mudd Library",
          "Mudd Library",
          "Mudd Library",
          "Mudd Library",
          "Mudd Library",
          "Mudd Library",
          "Mudd Library",
          "Mudd Library",
          "Mudd Library",
          "Mudd Library",
          "Mudd Library",
          "Mudd Library",
          "Mudd Library",
          "Mudd Library",
          "Mudd Library",
          "Mudd Library",
          "Mudd Library",
          "Mudd Library",
          "Mudd Library",
          "Mudd Library",
          "Mudd Library",
          "Mudd Library",
          "Mudd Library",
          "Mudd Library",
          "Mudd Library",
          "Mudd Library",
          "Mudd Library",
          "Mudd Library",
          "Mudd Library",
          "Mudd Library",
          "Mudd Library"
         ],
         "yaxis": "y"
        },
        {
         "hovertemplate": "Building=%{y}<br>Date=%{x}<extra></extra>",
         "legendgroup": "Sailing Center",
         "marker": {
          "color": "#00cc96",
          "symbol": "circle"
         },
         "mode": "markers",
         "name": "Sailing Center",
         "showlegend": true,
         "type": "scattergl",
         "x": [
          "2018-03-23 00:00:00",
          "2018-03-30 00:00:00",
          "2018-05-04 00:00:00",
          "2018-09-20 00:00:00",
          "2018-10-11 00:00:00",
          "2018-10-18 00:00:00",
          "2018-10-18 00:00:00",
          "2018-10-18 00:00:00",
          "2019-03-22 00:00:00",
          "2019-05-02 00:00:00",
          "2019-10-24 00:00:00",
          "2019-10-25 00:00:00",
          "2019-11-05 00:00:00",
          "2020-09-18 00:00:00",
          "2020-10-02 00:00:00",
          "2020-10-14 00:00:00",
          "2020-10-30 00:00:00",
          "2021-09-25 00:00:00"
         ],
         "xaxis": "x",
         "y": [
          "Sailing Center",
          "Sailing Center",
          "Sailing Center",
          "Sailing Center",
          "Sailing Center",
          "Sailing Center",
          "Sailing Center",
          "Sailing Center",
          "Sailing Center",
          "Sailing Center",
          "Sailing Center",
          "Sailing Center",
          "Sailing Center",
          "Sailing Center",
          "Sailing Center",
          "Sailing Center",
          "Sailing Center",
          "Sailing Center"
         ],
         "yaxis": "y"
        },
        {
         "hovertemplate": "Building=%{y}<br>Date=%{x}<extra></extra>",
         "legendgroup": "RAC",
         "marker": {
          "color": "#ab63fa",
          "symbol": "circle"
         },
         "mode": "markers",
         "name": "RAC",
         "showlegend": true,
         "type": "scattergl",
         "x": [
          "2018-03-31 00:00:00",
          "2018-04-02 00:00:00",
          "2018-04-30 00:00:00",
          "2018-05-02 00:00:00",
          "2018-05-02 00:00:00",
          "2018-05-02 00:00:00",
          "2018-05-02 00:00:00",
          "2018-05-03 00:00:00",
          "2018-05-03 00:00:00",
          "2018-05-03 00:00:00",
          "2018-05-03 00:00:00",
          "2018-05-03 00:00:00",
          "2018-05-03 00:00:00",
          "2018-05-06 00:00:00",
          "2018-05-06 00:00:00",
          "2018-05-09 00:00:00",
          "2018-05-11 00:00:00",
          "2018-05-11 00:00:00",
          "2018-05-11 00:00:00",
          "2018-05-11 00:00:00",
          "2018-05-13 00:00:00",
          "2018-05-15 00:00:00",
          "2018-05-15 00:00:00",
          "2018-05-16 00:00:00",
          "2018-05-17 00:00:00",
          "2018-05-22 00:00:00",
          "2018-05-22 00:00:00",
          "2018-05-22 00:00:00",
          "2018-05-24 00:00:00",
          "2018-05-24 00:00:00",
          "2018-05-24 00:00:00",
          "2018-05-24 00:00:00",
          "2018-05-24 00:00:00",
          "2018-05-24 00:00:00",
          "2018-05-24 00:00:00",
          "2018-05-24 00:00:00",
          "2018-05-24 00:00:00",
          "2018-05-29 00:00:00",
          "2018-05-29 00:00:00",
          "2018-05-29 00:00:00",
          "2018-06-01 00:00:00",
          "2018-07-02 00:00:00",
          "2018-08-21 00:00:00",
          "2018-08-24 00:00:00",
          "2018-08-26 00:00:00",
          "2018-09-10 00:00:00",
          "2018-09-20 00:00:00",
          "2018-09-22 00:00:00",
          "2018-09-22 00:00:00",
          "2018-09-25 00:00:00",
          "2018-09-26 00:00:00",
          "2018-09-27 00:00:00",
          "2018-09-28 00:00:00",
          "2018-09-29 00:00:00",
          "2018-09-29 00:00:00",
          "2018-09-29 00:00:00",
          "2018-09-29 00:00:00",
          "2018-09-29 00:00:00",
          "2018-09-29 00:00:00",
          "2018-09-30 00:00:00",
          "2018-09-30 00:00:00",
          "2018-10-02 00:00:00",
          "2018-10-06 00:00:00",
          "2018-10-09 00:00:00",
          "2018-10-10 00:00:00",
          "2018-10-11 00:00:00",
          "2018-10-11 00:00:00",
          "2018-10-11 00:00:00",
          "2018-10-11 00:00:00",
          "2018-10-11 00:00:00",
          "2018-10-12 00:00:00",
          "2018-10-13 00:00:00",
          "2018-10-13 00:00:00",
          "2018-10-13 00:00:00",
          "2018-10-15 00:00:00",
          "2018-10-15 00:00:00",
          "2018-10-16 00:00:00",
          "2018-10-16 00:00:00",
          "2018-10-16 00:00:00",
          "2018-10-17 00:00:00",
          "2018-10-17 00:00:00",
          "2018-10-17 00:00:00",
          "2018-10-17 00:00:00",
          "2018-10-17 00:00:00",
          "2018-10-17 00:00:00",
          "2018-10-17 00:00:00",
          "2018-10-17 00:00:00",
          "2018-10-17 00:00:00",
          "2018-10-17 00:00:00",
          "2018-10-17 00:00:00",
          "2018-10-17 00:00:00",
          "2018-10-17 00:00:00",
          "2018-10-17 00:00:00",
          "2018-10-17 00:00:00",
          "2018-10-18 00:00:00",
          "2018-10-19 00:00:00",
          "2018-10-20 00:00:00",
          "2018-10-20 00:00:00",
          "2018-10-22 00:00:00",
          "2018-10-22 00:00:00",
          "2018-10-22 00:00:00",
          "2018-10-22 00:00:00",
          "2018-10-22 00:00:00",
          "2018-10-23 00:00:00",
          "2018-10-25 00:00:00",
          "2018-10-26 00:00:00",
          "2018-10-29 00:00:00",
          "2018-10-29 00:00:00",
          "2018-11-01 00:00:00",
          "2018-11-07 00:00:00",
          "2018-11-08 00:00:00",
          "2018-11-08 00:00:00",
          "2018-11-13 00:00:00",
          "2018-11-19 00:00:00",
          "2018-11-19 00:00:00",
          "2018-11-19 00:00:00",
          "2019-03-20 00:00:00",
          "2019-03-22 00:00:00",
          "2019-03-27 00:00:00",
          "2019-03-28 00:00:00",
          "2019-04-02 00:00:00",
          "2019-04-03 00:00:00",
          "2019-04-07 00:00:00",
          "2019-04-07 00:00:00",
          "2019-04-07 00:00:00",
          "2019-04-07 00:00:00",
          "2019-04-08 00:00:00",
          "2019-04-09 00:00:00",
          "2019-04-16 00:00:00",
          "2019-04-16 00:00:00",
          "2019-04-16 00:00:00",
          "2019-04-18 00:00:00",
          "2019-04-20 00:00:00",
          "2019-04-22 00:00:00",
          "2019-04-23 00:00:00",
          "2019-04-23 00:00:00",
          "2019-04-24 00:00:00",
          "2019-04-24 00:00:00",
          "2019-04-24 00:00:00",
          "2019-04-25 00:00:00",
          "2019-04-25 00:00:00",
          "2019-04-26 00:00:00",
          "2019-05-03 00:00:00",
          "2019-05-05 00:00:00",
          "2019-05-05 00:00:00",
          "2019-05-06 00:00:00",
          "2019-05-06 00:00:00",
          "2019-05-06 00:00:00",
          "2019-05-06 00:00:00",
          "2019-05-07 00:00:00",
          "2019-05-07 00:00:00",
          "2019-05-07 00:00:00",
          "2019-05-08 00:00:00",
          "2019-05-09 00:00:00",
          "2019-05-10 00:00:00",
          "2019-05-10 00:00:00",
          "2019-05-11 00:00:00",
          "2019-05-11 00:00:00",
          "2019-05-16 00:00:00",
          "2019-05-16 00:00:00",
          "2019-05-16 00:00:00",
          "2019-05-16 00:00:00",
          "2019-05-16 00:00:00",
          "2019-05-16 00:00:00",
          "2019-05-16 00:00:00",
          "2019-05-16 00:00:00",
          "2019-05-16 00:00:00",
          "2019-05-16 00:00:00",
          "2019-05-18 00:00:00",
          "2019-05-19 00:00:00",
          "2019-05-19 00:00:00",
          "2019-05-19 00:00:00",
          "2019-05-20 00:00:00",
          "2019-05-20 00:00:00",
          "2019-05-20 00:00:00",
          "2019-05-20 00:00:00",
          "2019-05-20 00:00:00",
          "2019-05-20 00:00:00",
          "2019-05-21 00:00:00",
          "2019-05-22 00:00:00",
          "2019-05-22 00:00:00",
          "2019-05-23 00:00:00",
          "2019-05-23 00:00:00",
          "2019-05-23 00:00:00",
          "2019-05-23 00:00:00",
          "2019-05-24 00:00:00",
          "2019-05-24 00:00:00",
          "2019-05-24 00:00:00",
          "2019-05-24 00:00:00",
          "2019-05-25 00:00:00",
          "2019-05-26 00:00:00",
          "2019-05-26 00:00:00",
          "2019-05-26 00:00:00",
          "2019-05-27 00:00:00",
          "2019-05-27 00:00:00",
          "2019-05-27 00:00:00",
          "2019-05-27 00:00:00",
          "2019-05-28 00:00:00",
          "2019-05-28 00:00:00",
          "2019-05-28 00:00:00",
          "2019-05-28 00:00:00",
          "2019-05-30 00:00:00",
          "2019-05-30 00:00:00",
          "2019-06-02 00:00:00",
          "2019-06-04 00:00:00",
          "2019-06-11 00:00:00",
          "2019-08-22 00:00:00",
          "2019-08-30 00:00:00",
          "2019-09-06 00:00:00",
          "2019-09-06 00:00:00",
          "2019-09-12 00:00:00",
          "2019-09-12 00:00:00",
          "2019-09-14 00:00:00",
          "2019-09-20 00:00:00",
          "2019-09-20 00:00:00",
          "2019-09-23 00:00:00",
          "2019-09-24 00:00:00",
          "2019-09-24 00:00:00",
          "2019-09-24 00:00:00",
          "2019-09-24 00:00:00",
          "2019-09-26 00:00:00",
          "2019-09-26 00:00:00",
          "2019-10-01 00:00:00",
          "2019-10-01 00:00:00",
          "2019-10-04 00:00:00",
          "2019-10-04 00:00:00",
          "2019-10-04 00:00:00",
          "2019-10-04 00:00:00",
          "2019-10-06 00:00:00",
          "2019-10-08 00:00:00",
          "2019-10-08 00:00:00",
          "2019-10-12 00:00:00",
          "2019-10-12 00:00:00",
          "2019-10-13 00:00:00",
          "2019-10-15 00:00:00",
          "2019-10-15 00:00:00",
          "2019-10-15 00:00:00",
          "2019-10-15 00:00:00",
          "2019-10-15 00:00:00",
          "2019-10-17 00:00:00",
          "2019-10-20 00:00:00",
          "2019-10-28 00:00:00",
          "2019-10-28 00:00:00",
          "2019-11-02 00:00:00",
          "2020-04-12 00:00:00",
          "2020-04-12 00:00:00",
          "2020-05-02 00:00:00",
          "2020-05-02 00:00:00",
          "2020-05-02 00:00:00",
          "2020-05-02 00:00:00",
          "2020-05-02 00:00:00",
          "2020-05-02 00:00:00",
          "2020-05-02 00:00:00",
          "2020-05-02 00:00:00",
          "2020-05-02 00:00:00",
          "2020-05-13 00:00:00",
          "2020-05-15 00:00:00",
          "2020-05-22 00:00:00",
          "2020-05-22 00:00:00",
          "2020-05-22 00:00:00",
          "2020-05-24 00:00:00",
          "2020-06-04 00:00:00",
          "2020-08-30 00:00:00",
          "2020-09-04 00:00:00",
          "2020-09-04 00:00:00",
          "2020-09-04 00:00:00",
          "2020-09-04 00:00:00",
          "2020-09-04 00:00:00",
          "2020-09-05 00:00:00",
          "2020-09-05 00:00:00",
          "2020-09-07 00:00:00",
          "2020-09-14 00:00:00",
          "2020-09-14 00:00:00",
          "2020-09-16 00:00:00",
          "2020-09-17 00:00:00",
          "2020-09-24 00:00:00",
          "2020-09-24 00:00:00",
          "2020-09-25 00:00:00",
          "2020-09-25 00:00:00",
          "2020-09-28 00:00:00",
          "2020-09-29 00:00:00",
          "2020-09-30 00:00:00",
          "2020-10-01 00:00:00",
          "2020-10-02 00:00:00",
          "2020-10-02 00:00:00",
          "2020-10-03 00:00:00",
          "2020-10-07 00:00:00",
          "2020-10-19 00:00:00",
          "2020-10-19 00:00:00",
          "2020-10-21 00:00:00",
          "2020-10-29 00:00:00",
          "2020-11-06 00:00:00",
          "2020-11-06 00:00:00",
          "2020-11-09 00:00:00",
          "2021-03-24 00:00:00",
          "2021-03-24 00:00:00",
          "2021-03-30 00:00:00",
          "2021-04-07 00:00:00",
          "2021-04-08 00:00:00",
          "2021-04-09 00:00:00",
          "2021-04-15 00:00:00",
          "2021-04-20 00:00:00",
          "2021-04-23 00:00:00",
          "2021-04-23 00:00:00",
          "2021-04-23 00:00:00",
          "2021-04-27 00:00:00",
          "2021-04-27 00:00:00",
          "2021-04-27 00:00:00",
          "2021-04-27 00:00:00",
          "2021-05-02 00:00:00",
          "2021-05-02 00:00:00",
          "2021-05-02 00:00:00",
          "2021-05-02 00:00:00",
          "2021-05-02 00:00:00",
          "2021-05-02 00:00:00",
          "2021-05-02 00:00:00",
          "2021-05-02 00:00:00",
          "2021-05-02 00:00:00",
          "2021-05-02 00:00:00",
          "2021-05-02 00:00:00",
          "2021-05-02 00:00:00",
          "2021-05-02 00:00:00",
          "2021-05-02 00:00:00",
          "2021-05-02 00:00:00",
          "2021-05-03 00:00:00",
          "2021-05-03 00:00:00",
          "2021-05-03 00:00:00",
          "2021-05-03 00:00:00",
          "2021-05-12 00:00:00",
          "2021-05-14 00:00:00",
          "2021-05-14 00:00:00",
          "2021-05-14 00:00:00",
          "2021-05-14 00:00:00",
          "2021-05-15 00:00:00",
          "2021-05-15 00:00:00",
          "2021-05-15 00:00:00",
          "2021-05-15 00:00:00",
          "2021-05-15 00:00:00",
          "2021-05-16 00:00:00",
          "2021-05-16 00:00:00",
          "2021-05-16 00:00:00",
          "2021-05-16 00:00:00",
          "2021-05-16 00:00:00",
          "2021-05-19 00:00:00",
          "2021-05-19 00:00:00",
          "2021-05-19 00:00:00",
          "2021-05-20 00:00:00",
          "2021-05-24 00:00:00",
          "2021-05-24 00:00:00",
          "2021-05-25 00:00:00",
          "2021-05-25 00:00:00",
          "2021-05-25 00:00:00",
          "2021-05-25 00:00:00",
          "2021-05-31 00:00:00",
          "2021-06-04 00:00:00",
          "2021-06-04 00:00:00",
          "2021-06-04 00:00:00",
          "2021-06-04 00:00:00",
          "2021-06-06 00:00:00",
          "2021-06-07 00:00:00",
          "2021-06-10 00:00:00",
          "2021-08-30 00:00:00",
          "2021-09-08 00:00:00",
          "2021-09-10 00:00:00",
          "2021-09-10 00:00:00",
          "2021-09-10 00:00:00",
          "2021-09-15 00:00:00",
          "2021-09-20 00:00:00",
          "2021-09-23 00:00:00",
          "2021-09-23 00:00:00",
          "2021-09-24 00:00:00",
          "2021-09-24 00:00:00",
          "2021-10-01 00:00:00",
          "2021-10-01 00:00:00",
          "2021-10-01 00:00:00",
          "2021-10-04 00:00:00",
          "2021-10-08 00:00:00",
          "2021-10-13 00:00:00",
          "2021-10-14 00:00:00",
          "2021-10-15 00:00:00",
          "2021-10-17 00:00:00",
          "2021-10-17 00:00:00",
          "2021-10-18 00:00:00",
          "2021-10-18 00:00:00",
          "2021-10-22 00:00:00",
          "2021-11-05 00:00:00",
          "2021-11-08 00:00:00",
          "2021-11-12 00:00:00",
          "2021-11-12 00:00:00",
          "2021-11-19 00:00:00"
         ],
         "xaxis": "x",
         "y": [
          "RAC",
          "RAC",
          "RAC",
          "RAC",
          "RAC",
          "RAC",
          "RAC",
          "RAC",
          "RAC",
          "RAC",
          "RAC",
          "RAC",
          "RAC",
          "RAC",
          "RAC",
          "RAC",
          "RAC",
          "RAC",
          "RAC",
          "RAC",
          "RAC",
          "RAC",
          "RAC",
          "RAC",
          "RAC",
          "RAC",
          "RAC",
          "RAC",
          "RAC",
          "RAC",
          "RAC",
          "RAC",
          "RAC",
          "RAC",
          "RAC",
          "RAC",
          "RAC",
          "RAC",
          "RAC",
          "RAC",
          "RAC",
          "RAC",
          "RAC",
          "RAC",
          "RAC",
          "RAC",
          "RAC",
          "RAC",
          "RAC",
          "RAC",
          "RAC",
          "RAC",
          "RAC",
          "RAC",
          "RAC",
          "RAC",
          "RAC",
          "RAC",
          "RAC",
          "RAC",
          "RAC",
          "RAC",
          "RAC",
          "RAC",
          "RAC",
          "RAC",
          "RAC",
          "RAC",
          "RAC",
          "RAC",
          "RAC",
          "RAC",
          "RAC",
          "RAC",
          "RAC",
          "RAC",
          "RAC",
          "RAC",
          "RAC",
          "RAC",
          "RAC",
          "RAC",
          "RAC",
          "RAC",
          "RAC",
          "RAC",
          "RAC",
          "RAC",
          "RAC",
          "RAC",
          "RAC",
          "RAC",
          "RAC",
          "RAC",
          "RAC",
          "RAC",
          "RAC",
          "RAC",
          "RAC",
          "RAC",
          "RAC",
          "RAC",
          "RAC",
          "RAC",
          "RAC",
          "RAC",
          "RAC",
          "RAC",
          "RAC",
          "RAC",
          "RAC",
          "RAC",
          "RAC",
          "RAC",
          "RAC",
          "RAC",
          "RAC",
          "RAC",
          "RAC",
          "RAC",
          "RAC",
          "RAC",
          "RAC",
          "RAC",
          "RAC",
          "RAC",
          "RAC",
          "RAC",
          "RAC",
          "RAC",
          "RAC",
          "RAC",
          "RAC",
          "RAC",
          "RAC",
          "RAC",
          "RAC",
          "RAC",
          "RAC",
          "RAC",
          "RAC",
          "RAC",
          "RAC",
          "RAC",
          "RAC",
          "RAC",
          "RAC",
          "RAC",
          "RAC",
          "RAC",
          "RAC",
          "RAC",
          "RAC",
          "RAC",
          "RAC",
          "RAC",
          "RAC",
          "RAC",
          "RAC",
          "RAC",
          "RAC",
          "RAC",
          "RAC",
          "RAC",
          "RAC",
          "RAC",
          "RAC",
          "RAC",
          "RAC",
          "RAC",
          "RAC",
          "RAC",
          "RAC",
          "RAC",
          "RAC",
          "RAC",
          "RAC",
          "RAC",
          "RAC",
          "RAC",
          "RAC",
          "RAC",
          "RAC",
          "RAC",
          "RAC",
          "RAC",
          "RAC",
          "RAC",
          "RAC",
          "RAC",
          "RAC",
          "RAC",
          "RAC",
          "RAC",
          "RAC",
          "RAC",
          "RAC",
          "RAC",
          "RAC",
          "RAC",
          "RAC",
          "RAC",
          "RAC",
          "RAC",
          "RAC",
          "RAC",
          "RAC",
          "RAC",
          "RAC",
          "RAC",
          "RAC",
          "RAC",
          "RAC",
          "RAC",
          "RAC",
          "RAC",
          "RAC",
          "RAC",
          "RAC",
          "RAC",
          "RAC",
          "RAC",
          "RAC",
          "RAC",
          "RAC",
          "RAC",
          "RAC",
          "RAC",
          "RAC",
          "RAC",
          "RAC",
          "RAC",
          "RAC",
          "RAC",
          "RAC",
          "RAC",
          "RAC",
          "RAC",
          "RAC",
          "RAC",
          "RAC",
          "RAC",
          "RAC",
          "RAC",
          "RAC",
          "RAC",
          "RAC",
          "RAC",
          "RAC",
          "RAC",
          "RAC",
          "RAC",
          "RAC",
          "RAC",
          "RAC",
          "RAC",
          "RAC",
          "RAC",
          "RAC",
          "RAC",
          "RAC",
          "RAC",
          "RAC",
          "RAC",
          "RAC",
          "RAC",
          "RAC",
          "RAC",
          "RAC",
          "RAC",
          "RAC",
          "RAC",
          "RAC",
          "RAC",
          "RAC",
          "RAC",
          "RAC",
          "RAC",
          "RAC",
          "RAC",
          "RAC",
          "RAC",
          "RAC",
          "RAC",
          "RAC",
          "RAC",
          "RAC",
          "RAC",
          "RAC",
          "RAC",
          "RAC",
          "RAC",
          "RAC",
          "RAC",
          "RAC",
          "RAC",
          "RAC",
          "RAC",
          "RAC",
          "RAC",
          "RAC",
          "RAC",
          "RAC",
          "RAC",
          "RAC",
          "RAC",
          "RAC",
          "RAC",
          "RAC",
          "RAC",
          "RAC",
          "RAC",
          "RAC",
          "RAC",
          "RAC",
          "RAC",
          "RAC",
          "RAC",
          "RAC",
          "RAC",
          "RAC",
          "RAC",
          "RAC",
          "RAC",
          "RAC",
          "RAC",
          "RAC",
          "RAC",
          "RAC",
          "RAC",
          "RAC",
          "RAC",
          "RAC",
          "RAC",
          "RAC",
          "RAC",
          "RAC",
          "RAC",
          "RAC",
          "RAC",
          "RAC",
          "RAC",
          "RAC",
          "RAC",
          "RAC",
          "RAC",
          "RAC",
          "RAC",
          "RAC",
          "RAC",
          "RAC",
          "RAC",
          "RAC",
          "RAC",
          "RAC",
          "RAC",
          "RAC",
          "RAC",
          "RAC",
          "RAC",
          "RAC",
          "RAC",
          "RAC",
          "RAC",
          "RAC",
          "RAC",
          "RAC",
          "RAC",
          "RAC",
          "RAC",
          "RAC",
          "RAC",
          "RAC",
          "RAC",
          "RAC",
          "RAC",
          "RAC",
          "RAC",
          "RAC",
          "RAC",
          "RAC",
          "RAC",
          "RAC",
          "RAC",
          "RAC",
          "RAC",
          "RAC",
          "RAC",
          "RAC",
          "RAC"
         ],
         "yaxis": "y"
        },
        {
         "hovertemplate": "Building=%{y}<br>Date=%{x}<extra></extra>",
         "legendgroup": "Northwestern Campus",
         "marker": {
          "color": "#FFA15A",
          "symbol": "circle"
         },
         "mode": "markers",
         "name": "Northwestern Campus",
         "showlegend": true,
         "type": "scattergl",
         "x": [
          "2018-05-04 00:00:00",
          "2018-05-04 00:00:00",
          "2018-09-10 00:00:00",
          "2021-05-14 00:00:00",
          "2021-05-15 00:00:00",
          "2021-05-25 00:00:00",
          "2021-10-15 00:00:00"
         ],
         "xaxis": "x",
         "y": [
          "Northwestern Campus",
          "Northwestern Campus",
          "Northwestern Campus",
          "Northwestern Campus",
          "Northwestern Campus",
          "Northwestern Campus",
          "Northwestern Campus"
         ],
         "yaxis": "y"
        },
        {
         "hovertemplate": "Building=%{y}<br>Date=%{x}<extra></extra>",
         "legendgroup": "Walter Annenberg Hall",
         "marker": {
          "color": "#19d3f3",
          "symbol": "circle"
         },
         "mode": "markers",
         "name": "Walter Annenberg Hall",
         "showlegend": true,
         "type": "scattergl",
         "x": [
          "2018-05-09 00:00:00",
          "2018-10-18 00:00:00"
         ],
         "xaxis": "x",
         "y": [
          "Walter Annenberg Hall",
          "Walter Annenberg Hall"
         ],
         "yaxis": "y"
        },
        {
         "hovertemplate": "Building=%{y}<br>Date=%{x}<extra></extra>",
         "legendgroup": "Regenstein",
         "marker": {
          "color": "#FF6692",
          "symbol": "circle"
         },
         "mode": "markers",
         "name": "Regenstein",
         "showlegend": true,
         "type": "scattergl",
         "x": [
          "2018-10-23 00:00:00",
          "2019-04-18 00:00:00",
          "2019-05-09 00:00:00",
          "2019-05-21 00:00:00",
          "2019-05-30 00:00:00",
          "2019-10-15 00:00:00"
         ],
         "xaxis": "x",
         "y": [
          "Regenstein",
          "Regenstein",
          "Regenstein",
          "Regenstein",
          "Regenstein",
          "Regenstein"
         ],
         "yaxis": "y"
        },
        {
         "hovertemplate": "Building=%{y}<br>Date=%{x}<extra></extra>",
         "legendgroup": "Deering Tower",
         "marker": {
          "color": "#B6E880",
          "symbol": "circle"
         },
         "mode": "markers",
         "name": "Deering Tower",
         "showlegend": true,
         "type": "scattergl",
         "x": [
          "2018-11-01 00:00:00"
         ],
         "xaxis": "x",
         "y": [
          "Deering Tower"
         ],
         "yaxis": "y"
        },
        {
         "hovertemplate": "Building=%{y}<br>Date=%{x}<extra></extra>",
         "legendgroup": "Lewis Theater",
         "marker": {
          "color": "#FF97FF",
          "symbol": "circle"
         },
         "mode": "markers",
         "name": "Lewis Theater",
         "showlegend": true,
         "type": "scattergl",
         "x": [
          "2019-04-13 00:00:00",
          "2019-05-13 00:00:00",
          "2019-10-08 00:00:00",
          "2020-05-01 00:00:00",
          "2020-05-01 00:00:00",
          "2020-05-06 00:00:00",
          "2020-05-16 00:00:00",
          "2021-05-13 00:00:00",
          "2021-10-11 00:00:00"
         ],
         "xaxis": "x",
         "y": [
          "Lewis Theater",
          "Lewis Theater",
          "Lewis Theater",
          "Lewis Theater",
          "Lewis Theater",
          "Lewis Theater",
          "Lewis Theater",
          "Lewis Theater",
          "Lewis Theater"
         ],
         "yaxis": "y"
        },
        {
         "hovertemplate": "Building=%{y}<br>Date=%{x}<extra></extra>",
         "legendgroup": "Marshall Dance Center",
         "marker": {
          "color": "#FECB52",
          "symbol": "circle"
         },
         "mode": "markers",
         "name": "Marshall Dance Center",
         "showlegend": true,
         "type": "scattergl",
         "x": [
          "2019-04-13 00:00:00",
          "2020-05-08 00:00:00"
         ],
         "xaxis": "x",
         "y": [
          "Marshall Dance Center",
          "Marshall Dance Center"
         ],
         "yaxis": "y"
        },
        {
         "hovertemplate": "Building=%{y}<br>Date=%{x}<extra></extra>",
         "legendgroup": "Pancoe Life Sciences",
         "marker": {
          "color": "#636efa",
          "symbol": "circle"
         },
         "mode": "markers",
         "name": "Pancoe Life Sciences",
         "showlegend": true,
         "type": "scattergl",
         "x": [
          "2019-05-05 00:00:00"
         ],
         "xaxis": "x",
         "y": [
          "Pancoe Life Sciences"
         ],
         "yaxis": "y"
        },
        {
         "hovertemplate": "Building=%{y}<br>Date=%{x}<extra></extra>",
         "legendgroup": "Silverman Hall",
         "marker": {
          "color": "#EF553B",
          "symbol": "circle"
         },
         "mode": "markers",
         "name": "Silverman Hall",
         "showlegend": true,
         "type": "scattergl",
         "x": [
          "2019-05-05 00:00:00",
          "2019-05-16 00:00:00",
          "2019-08-23 00:00:00",
          "2019-09-19 00:00:00",
          "2019-09-24 00:00:00",
          "2019-09-24 00:00:00",
          "2019-11-02 00:00:00",
          "2021-04-29 00:00:00",
          "2021-09-26 00:00:00",
          "2021-10-13 00:00:00"
         ],
         "xaxis": "x",
         "y": [
          "Silverman Hall",
          "Silverman Hall",
          "Silverman Hall",
          "Silverman Hall",
          "Silverman Hall",
          "Silverman Hall",
          "Silverman Hall",
          "Silverman Hall",
          "Silverman Hall",
          "Silverman Hall"
         ],
         "yaxis": "y"
        },
        {
         "hovertemplate": "Building=%{y}<br>Date=%{x}<extra></extra>",
         "legendgroup": "Hogan Bldg",
         "marker": {
          "color": "#00cc96",
          "symbol": "circle"
         },
         "mode": "markers",
         "name": "Hogan Bldg",
         "showlegend": true,
         "type": "scattergl",
         "x": [
          "2019-05-11 00:00:00"
         ],
         "xaxis": "x",
         "y": [
          "Hogan Bldg"
         ],
         "yaxis": "y"
        },
        {
         "hovertemplate": "Building=%{y}<br>Date=%{x}<extra></extra>",
         "legendgroup": "Alvina Krause Studio",
         "marker": {
          "color": "#ab63fa",
          "symbol": "circle"
         },
         "mode": "markers",
         "name": "Alvina Krause Studio",
         "showlegend": true,
         "type": "scattergl",
         "x": [
          "2019-05-19 00:00:00"
         ],
         "xaxis": "x",
         "y": [
          "Alvina Krause Studio"
         ],
         "yaxis": "y"
        },
        {
         "hovertemplate": "Building=%{y}<br>Date=%{x}<extra></extra>",
         "legendgroup": "Annenberg Hall",
         "marker": {
          "color": "#FFA15A",
          "symbol": "circle"
         },
         "mode": "markers",
         "name": "Annenberg Hall",
         "showlegend": true,
         "type": "scattergl",
         "x": [
          "2019-05-23 00:00:00",
          "2020-09-17 00:00:00",
          "2020-10-04 00:00:00",
          "2020-10-08 00:00:00",
          "2021-05-11 00:00:00"
         ],
         "xaxis": "x",
         "y": [
          "Annenberg Hall",
          "Annenberg Hall",
          "Annenberg Hall",
          "Annenberg Hall",
          "Annenberg Hall"
         ],
         "yaxis": "y"
        },
        {
         "hovertemplate": "Building=%{y}<br>Date=%{x}<extra></extra>",
         "legendgroup": "McGaw Pavilion",
         "marker": {
          "color": "#19d3f3",
          "symbol": "circle"
         },
         "mode": "markers",
         "name": "McGaw Pavilion",
         "showlegend": true,
         "type": "scattergl",
         "x": [
          "2019-05-25 00:00:00"
         ],
         "xaxis": "x",
         "y": [
          "McGaw Pavilion"
         ],
         "yaxis": "y"
        },
        {
         "hovertemplate": "Building=%{y}<br>Date=%{x}<extra></extra>",
         "legendgroup": "betw Ryan and Silverman",
         "marker": {
          "color": "#FF6692",
          "symbol": "circle"
         },
         "mode": "markers",
         "name": "betw Ryan and Silverman",
         "showlegend": true,
         "type": "scattergl",
         "x": [
          "2019-09-14 00:00:00"
         ],
         "xaxis": "x",
         "y": [
          "betw Ryan and Silverman"
         ],
         "yaxis": "y"
        },
        {
         "hovertemplate": "Building=%{y}<br>Date=%{x}<extra></extra>",
         "legendgroup": "south library",
         "marker": {
          "color": "#B6E880",
          "symbol": "circle"
         },
         "mode": "markers",
         "name": "south library",
         "showlegend": true,
         "type": "scattergl",
         "x": [
          "2019-10-05 00:00:00",
          "2019-10-05 00:00:00"
         ],
         "xaxis": "x",
         "y": [
          "south library",
          "south library"
         ],
         "yaxis": "y"
        },
        {
         "hovertemplate": "Building=%{y}<br>Date=%{x}<extra></extra>",
         "legendgroup": "Cook-Pancoe bridge",
         "marker": {
          "color": "#FF97FF",
          "symbol": "circle"
         },
         "mode": "markers",
         "name": "Cook-Pancoe bridge",
         "showlegend": true,
         "type": "scattergl",
         "x": [
          "2019-10-27 00:00:00",
          "2019-10-27 00:00:00"
         ],
         "xaxis": "x",
         "y": [
          "Cook-Pancoe bridge",
          "Cook-Pancoe bridge"
         ],
         "yaxis": "y"
        },
        {
         "hovertemplate": "Building=%{y}<br>Date=%{x}<extra></extra>",
         "legendgroup": "Pancoe-Cook bridge",
         "marker": {
          "color": "#FECB52",
          "symbol": "circle"
         },
         "mode": "markers",
         "name": "Pancoe-Cook bridge",
         "showlegend": true,
         "type": "scattergl",
         "x": [
          "2020-09-04 00:00:00",
          "2020-09-18 00:00:00",
          "2020-09-28 00:00:00",
          "2020-10-02 00:00:00",
          "2020-10-02 00:00:00",
          "2020-10-25 00:00:00",
          "2021-04-02 00:00:00",
          "2021-05-14 00:00:00",
          "2021-05-18 00:00:00",
          "2021-05-25 00:00:00",
          "2021-06-06 00:00:00",
          "2021-09-10 00:00:00",
          "2021-09-10 00:00:00",
          "2021-09-10 00:00:00",
          "2021-09-10 00:00:00"
         ],
         "xaxis": "x",
         "y": [
          "Pancoe-Cook bridge",
          "Pancoe-Cook bridge",
          "Pancoe-Cook bridge",
          "Pancoe-Cook bridge",
          "Pancoe-Cook bridge",
          "Pancoe-Cook bridge",
          "Pancoe-Cook bridge",
          "Pancoe-Cook bridge",
          "Pancoe-Cook bridge",
          "Pancoe-Cook bridge",
          "Pancoe-Cook bridge",
          "Pancoe-Cook bridge",
          "Pancoe-Cook bridge",
          "Pancoe-Cook bridge",
          "Pancoe-Cook bridge"
         ],
         "yaxis": "y"
        },
        {
         "hovertemplate": "Building=%{y}<br>Date=%{x}<extra></extra>",
         "legendgroup": "Library ",
         "marker": {
          "color": "#636efa",
          "symbol": "circle"
         },
         "mode": "markers",
         "name": "Library ",
         "showlegend": true,
         "type": "scattergl",
         "x": [
          "2020-10-04 00:00:00",
          "2021-05-11 00:00:00"
         ],
         "xaxis": "x",
         "y": [
          "Library ",
          "Library "
         ],
         "yaxis": "y"
        },
        {
         "hovertemplate": "Building=%{y}<br>Date=%{x}<extra></extra>",
         "legendgroup": "Silverman-Pancoe",
         "marker": {
          "color": "#EF553B",
          "symbol": "circle"
         },
         "mode": "markers",
         "name": "Silverman-Pancoe",
         "showlegend": true,
         "type": "scattergl",
         "x": [
          "2020-11-09 00:00:00"
         ],
         "xaxis": "x",
         "y": [
          "Silverman-Pancoe"
         ],
         "yaxis": "y"
        },
        {
         "hovertemplate": "Building=%{y}<br>Date=%{x}<extra></extra>",
         "legendgroup": "Kresge/Crowe",
         "marker": {
          "color": "#00cc96",
          "symbol": "circle"
         },
         "mode": "markers",
         "name": "Kresge/Crowe",
         "showlegend": true,
         "type": "scattergl",
         "x": [
          "2021-09-09 00:00:00",
          "2021-09-09 00:00:00",
          "2021-09-09 00:00:00",
          "2021-09-09 00:00:00",
          "2021-09-09 00:00:00"
         ],
         "xaxis": "x",
         "y": [
          "Kresge/Crowe",
          "Kresge/Crowe",
          "Kresge/Crowe",
          "Kresge/Crowe",
          "Kresge/Crowe"
         ],
         "yaxis": "y"
        },
        {
         "hovertemplate": "Building=%{y}<br>Date=%{x}<extra></extra>",
         "legendgroup": "2255 Campus Circle Dr",
         "marker": {
          "color": "#ab63fa",
          "symbol": "circle"
         },
         "mode": "markers",
         "name": "2255 Campus Circle Dr",
         "showlegend": true,
         "type": "scattergl",
         "x": [
          "2021-10-17 00:00:00"
         ],
         "xaxis": "x",
         "y": [
          "2255 Campus Circle Dr"
         ],
         "yaxis": "y"
        },
        {
         "hovertemplate": "Building=%{y}<br>Date=%{x}<extra></extra>",
         "legendgroup": "2256 Campus Circle Dr",
         "marker": {
          "color": "#FFA15A",
          "symbol": "circle"
         },
         "mode": "markers",
         "name": "2256 Campus Circle Dr",
         "showlegend": true,
         "type": "scattergl",
         "x": [
          "2021-10-17 00:00:00"
         ],
         "xaxis": "x",
         "y": [
          "2256 Campus Circle Dr"
         ],
         "yaxis": "y"
        }
       ],
       "layout": {
        "autosize": true,
        "legend": {
         "title": {
          "text": "Building"
         },
         "tracegroupgap": 0
        },
        "margin": {
         "t": 60
        },
        "template": {
         "data": {
          "bar": [
           {
            "error_x": {
             "color": "#2a3f5f"
            },
            "error_y": {
             "color": "#2a3f5f"
            },
            "marker": {
             "line": {
              "color": "#E5ECF6",
              "width": 0.5
             },
             "pattern": {
              "fillmode": "overlay",
              "size": 10,
              "solidity": 0.2
             }
            },
            "type": "bar"
           }
          ],
          "barpolar": [
           {
            "marker": {
             "line": {
              "color": "#E5ECF6",
              "width": 0.5
             },
             "pattern": {
              "fillmode": "overlay",
              "size": 10,
              "solidity": 0.2
             }
            },
            "type": "barpolar"
           }
          ],
          "carpet": [
           {
            "aaxis": {
             "endlinecolor": "#2a3f5f",
             "gridcolor": "white",
             "linecolor": "white",
             "minorgridcolor": "white",
             "startlinecolor": "#2a3f5f"
            },
            "baxis": {
             "endlinecolor": "#2a3f5f",
             "gridcolor": "white",
             "linecolor": "white",
             "minorgridcolor": "white",
             "startlinecolor": "#2a3f5f"
            },
            "type": "carpet"
           }
          ],
          "choropleth": [
           {
            "colorbar": {
             "outlinewidth": 0,
             "ticks": ""
            },
            "type": "choropleth"
           }
          ],
          "contour": [
           {
            "colorbar": {
             "outlinewidth": 0,
             "ticks": ""
            },
            "colorscale": [
             [
              0,
              "#0d0887"
             ],
             [
              0.1111111111111111,
              "#46039f"
             ],
             [
              0.2222222222222222,
              "#7201a8"
             ],
             [
              0.3333333333333333,
              "#9c179e"
             ],
             [
              0.4444444444444444,
              "#bd3786"
             ],
             [
              0.5555555555555556,
              "#d8576b"
             ],
             [
              0.6666666666666666,
              "#ed7953"
             ],
             [
              0.7777777777777778,
              "#fb9f3a"
             ],
             [
              0.8888888888888888,
              "#fdca26"
             ],
             [
              1,
              "#f0f921"
             ]
            ],
            "type": "contour"
           }
          ],
          "contourcarpet": [
           {
            "colorbar": {
             "outlinewidth": 0,
             "ticks": ""
            },
            "type": "contourcarpet"
           }
          ],
          "heatmap": [
           {
            "colorbar": {
             "outlinewidth": 0,
             "ticks": ""
            },
            "colorscale": [
             [
              0,
              "#0d0887"
             ],
             [
              0.1111111111111111,
              "#46039f"
             ],
             [
              0.2222222222222222,
              "#7201a8"
             ],
             [
              0.3333333333333333,
              "#9c179e"
             ],
             [
              0.4444444444444444,
              "#bd3786"
             ],
             [
              0.5555555555555556,
              "#d8576b"
             ],
             [
              0.6666666666666666,
              "#ed7953"
             ],
             [
              0.7777777777777778,
              "#fb9f3a"
             ],
             [
              0.8888888888888888,
              "#fdca26"
             ],
             [
              1,
              "#f0f921"
             ]
            ],
            "type": "heatmap"
           }
          ],
          "heatmapgl": [
           {
            "colorbar": {
             "outlinewidth": 0,
             "ticks": ""
            },
            "colorscale": [
             [
              0,
              "#0d0887"
             ],
             [
              0.1111111111111111,
              "#46039f"
             ],
             [
              0.2222222222222222,
              "#7201a8"
             ],
             [
              0.3333333333333333,
              "#9c179e"
             ],
             [
              0.4444444444444444,
              "#bd3786"
             ],
             [
              0.5555555555555556,
              "#d8576b"
             ],
             [
              0.6666666666666666,
              "#ed7953"
             ],
             [
              0.7777777777777778,
              "#fb9f3a"
             ],
             [
              0.8888888888888888,
              "#fdca26"
             ],
             [
              1,
              "#f0f921"
             ]
            ],
            "type": "heatmapgl"
           }
          ],
          "histogram": [
           {
            "marker": {
             "pattern": {
              "fillmode": "overlay",
              "size": 10,
              "solidity": 0.2
             }
            },
            "type": "histogram"
           }
          ],
          "histogram2d": [
           {
            "colorbar": {
             "outlinewidth": 0,
             "ticks": ""
            },
            "colorscale": [
             [
              0,
              "#0d0887"
             ],
             [
              0.1111111111111111,
              "#46039f"
             ],
             [
              0.2222222222222222,
              "#7201a8"
             ],
             [
              0.3333333333333333,
              "#9c179e"
             ],
             [
              0.4444444444444444,
              "#bd3786"
             ],
             [
              0.5555555555555556,
              "#d8576b"
             ],
             [
              0.6666666666666666,
              "#ed7953"
             ],
             [
              0.7777777777777778,
              "#fb9f3a"
             ],
             [
              0.8888888888888888,
              "#fdca26"
             ],
             [
              1,
              "#f0f921"
             ]
            ],
            "type": "histogram2d"
           }
          ],
          "histogram2dcontour": [
           {
            "colorbar": {
             "outlinewidth": 0,
             "ticks": ""
            },
            "colorscale": [
             [
              0,
              "#0d0887"
             ],
             [
              0.1111111111111111,
              "#46039f"
             ],
             [
              0.2222222222222222,
              "#7201a8"
             ],
             [
              0.3333333333333333,
              "#9c179e"
             ],
             [
              0.4444444444444444,
              "#bd3786"
             ],
             [
              0.5555555555555556,
              "#d8576b"
             ],
             [
              0.6666666666666666,
              "#ed7953"
             ],
             [
              0.7777777777777778,
              "#fb9f3a"
             ],
             [
              0.8888888888888888,
              "#fdca26"
             ],
             [
              1,
              "#f0f921"
             ]
            ],
            "type": "histogram2dcontour"
           }
          ],
          "mesh3d": [
           {
            "colorbar": {
             "outlinewidth": 0,
             "ticks": ""
            },
            "type": "mesh3d"
           }
          ],
          "parcoords": [
           {
            "line": {
             "colorbar": {
              "outlinewidth": 0,
              "ticks": ""
             }
            },
            "type": "parcoords"
           }
          ],
          "pie": [
           {
            "automargin": true,
            "type": "pie"
           }
          ],
          "scatter": [
           {
            "fillpattern": {
             "fillmode": "overlay",
             "size": 10,
             "solidity": 0.2
            },
            "type": "scatter"
           }
          ],
          "scatter3d": [
           {
            "line": {
             "colorbar": {
              "outlinewidth": 0,
              "ticks": ""
             }
            },
            "marker": {
             "colorbar": {
              "outlinewidth": 0,
              "ticks": ""
             }
            },
            "type": "scatter3d"
           }
          ],
          "scattercarpet": [
           {
            "marker": {
             "colorbar": {
              "outlinewidth": 0,
              "ticks": ""
             }
            },
            "type": "scattercarpet"
           }
          ],
          "scattergeo": [
           {
            "marker": {
             "colorbar": {
              "outlinewidth": 0,
              "ticks": ""
             }
            },
            "type": "scattergeo"
           }
          ],
          "scattergl": [
           {
            "marker": {
             "colorbar": {
              "outlinewidth": 0,
              "ticks": ""
             }
            },
            "type": "scattergl"
           }
          ],
          "scattermapbox": [
           {
            "marker": {
             "colorbar": {
              "outlinewidth": 0,
              "ticks": ""
             }
            },
            "type": "scattermapbox"
           }
          ],
          "scatterpolar": [
           {
            "marker": {
             "colorbar": {
              "outlinewidth": 0,
              "ticks": ""
             }
            },
            "type": "scatterpolar"
           }
          ],
          "scatterpolargl": [
           {
            "marker": {
             "colorbar": {
              "outlinewidth": 0,
              "ticks": ""
             }
            },
            "type": "scatterpolargl"
           }
          ],
          "scatterternary": [
           {
            "marker": {
             "colorbar": {
              "outlinewidth": 0,
              "ticks": ""
             }
            },
            "type": "scatterternary"
           }
          ],
          "surface": [
           {
            "colorbar": {
             "outlinewidth": 0,
             "ticks": ""
            },
            "colorscale": [
             [
              0,
              "#0d0887"
             ],
             [
              0.1111111111111111,
              "#46039f"
             ],
             [
              0.2222222222222222,
              "#7201a8"
             ],
             [
              0.3333333333333333,
              "#9c179e"
             ],
             [
              0.4444444444444444,
              "#bd3786"
             ],
             [
              0.5555555555555556,
              "#d8576b"
             ],
             [
              0.6666666666666666,
              "#ed7953"
             ],
             [
              0.7777777777777778,
              "#fb9f3a"
             ],
             [
              0.8888888888888888,
              "#fdca26"
             ],
             [
              1,
              "#f0f921"
             ]
            ],
            "type": "surface"
           }
          ],
          "table": [
           {
            "cells": {
             "fill": {
              "color": "#EBF0F8"
             },
             "line": {
              "color": "white"
             }
            },
            "header": {
             "fill": {
              "color": "#C8D4E3"
             },
             "line": {
              "color": "white"
             }
            },
            "type": "table"
           }
          ]
         },
         "layout": {
          "annotationdefaults": {
           "arrowcolor": "#2a3f5f",
           "arrowhead": 0,
           "arrowwidth": 1
          },
          "autotypenumbers": "strict",
          "coloraxis": {
           "colorbar": {
            "outlinewidth": 0,
            "ticks": ""
           }
          },
          "colorscale": {
           "diverging": [
            [
             0,
             "#8e0152"
            ],
            [
             0.1,
             "#c51b7d"
            ],
            [
             0.2,
             "#de77ae"
            ],
            [
             0.3,
             "#f1b6da"
            ],
            [
             0.4,
             "#fde0ef"
            ],
            [
             0.5,
             "#f7f7f7"
            ],
            [
             0.6,
             "#e6f5d0"
            ],
            [
             0.7,
             "#b8e186"
            ],
            [
             0.8,
             "#7fbc41"
            ],
            [
             0.9,
             "#4d9221"
            ],
            [
             1,
             "#276419"
            ]
           ],
           "sequential": [
            [
             0,
             "#0d0887"
            ],
            [
             0.1111111111111111,
             "#46039f"
            ],
            [
             0.2222222222222222,
             "#7201a8"
            ],
            [
             0.3333333333333333,
             "#9c179e"
            ],
            [
             0.4444444444444444,
             "#bd3786"
            ],
            [
             0.5555555555555556,
             "#d8576b"
            ],
            [
             0.6666666666666666,
             "#ed7953"
            ],
            [
             0.7777777777777778,
             "#fb9f3a"
            ],
            [
             0.8888888888888888,
             "#fdca26"
            ],
            [
             1,
             "#f0f921"
            ]
           ],
           "sequentialminus": [
            [
             0,
             "#0d0887"
            ],
            [
             0.1111111111111111,
             "#46039f"
            ],
            [
             0.2222222222222222,
             "#7201a8"
            ],
            [
             0.3333333333333333,
             "#9c179e"
            ],
            [
             0.4444444444444444,
             "#bd3786"
            ],
            [
             0.5555555555555556,
             "#d8576b"
            ],
            [
             0.6666666666666666,
             "#ed7953"
            ],
            [
             0.7777777777777778,
             "#fb9f3a"
            ],
            [
             0.8888888888888888,
             "#fdca26"
            ],
            [
             1,
             "#f0f921"
            ]
           ]
          },
          "colorway": [
           "#636efa",
           "#EF553B",
           "#00cc96",
           "#ab63fa",
           "#FFA15A",
           "#19d3f3",
           "#FF6692",
           "#B6E880",
           "#FF97FF",
           "#FECB52"
          ],
          "font": {
           "color": "#2a3f5f"
          },
          "geo": {
           "bgcolor": "white",
           "lakecolor": "white",
           "landcolor": "#E5ECF6",
           "showlakes": true,
           "showland": true,
           "subunitcolor": "white"
          },
          "hoverlabel": {
           "align": "left"
          },
          "hovermode": "closest",
          "mapbox": {
           "style": "light"
          },
          "paper_bgcolor": "white",
          "plot_bgcolor": "#E5ECF6",
          "polar": {
           "angularaxis": {
            "gridcolor": "white",
            "linecolor": "white",
            "ticks": ""
           },
           "bgcolor": "#E5ECF6",
           "radialaxis": {
            "gridcolor": "white",
            "linecolor": "white",
            "ticks": ""
           }
          },
          "scene": {
           "xaxis": {
            "backgroundcolor": "#E5ECF6",
            "gridcolor": "white",
            "gridwidth": 2,
            "linecolor": "white",
            "showbackground": true,
            "ticks": "",
            "zerolinecolor": "white"
           },
           "yaxis": {
            "backgroundcolor": "#E5ECF6",
            "gridcolor": "white",
            "gridwidth": 2,
            "linecolor": "white",
            "showbackground": true,
            "ticks": "",
            "zerolinecolor": "white"
           },
           "zaxis": {
            "backgroundcolor": "#E5ECF6",
            "gridcolor": "white",
            "gridwidth": 2,
            "linecolor": "white",
            "showbackground": true,
            "ticks": "",
            "zerolinecolor": "white"
           }
          },
          "shapedefaults": {
           "line": {
            "color": "#2a3f5f"
           }
          },
          "ternary": {
           "aaxis": {
            "gridcolor": "white",
            "linecolor": "white",
            "ticks": ""
           },
           "baxis": {
            "gridcolor": "white",
            "linecolor": "white",
            "ticks": ""
           },
           "bgcolor": "#E5ECF6",
           "caxis": {
            "gridcolor": "white",
            "linecolor": "white",
            "ticks": ""
           }
          },
          "title": {
           "x": 0.05
          },
          "xaxis": {
           "automargin": true,
           "gridcolor": "white",
           "linecolor": "white",
           "ticks": "",
           "title": {
            "standoff": 15
           },
           "zerolinecolor": "white",
           "zerolinewidth": 2
          },
          "yaxis": {
           "automargin": true,
           "gridcolor": "white",
           "linecolor": "white",
           "ticks": "",
           "title": {
            "standoff": 15
           },
           "zerolinecolor": "white",
           "zerolinewidth": 2
          }
         }
        },
        "xaxis": {
         "anchor": "y",
         "autorange": true,
         "domain": [
          0,
          1
         ],
         "range": [
          "2017-05-08 23:32:49.8113",
          "2022-03-10 00:27:10.1887"
         ],
         "title": {
          "text": "Date"
         },
         "type": "date"
        },
        "yaxis": {
         "anchor": "x",
         "autorange": true,
         "categoryarray": [
          "2256 Campus Circle Dr",
          "2255 Campus Circle Dr",
          "Kresge/Crowe",
          "Silverman-Pancoe",
          "Library ",
          "Pancoe-Cook bridge",
          "Cook-Pancoe bridge",
          "south library",
          "betw Ryan and Silverman",
          "McGaw Pavilion",
          "Annenberg Hall",
          "Alvina Krause Studio",
          "Hogan Bldg",
          "Silverman Hall",
          "Pancoe Life Sciences",
          "Marshall Dance Center",
          "Lewis Theater",
          "Deering Tower",
          "Regenstein",
          "Walter Annenberg Hall",
          "Northwestern Campus",
          "RAC",
          "Sailing Center",
          "Mudd Library",
          "Cook Hall",
          "Segal Visitor Center",
          "Ryan Arts Center",
          "Pick Stager",
          "Block Museum",
          "Allen Center",
          "Norris",
          "Francis Searle",
          "KGH",
          "Barber Theater",
          "CUP"
         ],
         "categoryorder": "array",
         "domain": [
          0,
          1
         ],
         "range": [
          -2.6325459317585302,
          36.63254593175853
         ],
         "title": {
          "text": "Building"
         },
         "type": "category"
        }
       }
      },
      "image/png": "[encoded data removed]",
      "text/html": [
       "<div>                            <div id=\"8bb48dd4-a12e-4ebd-8ea4-a0fc21c60781\" class=\"plotly-graph-div\" style=\"height:525px; width:100%;\"></div>            <script type=\"text/javascript\">                require([\"plotly\"], function(Plotly) {                    window.PLOTLYENV=window.PLOTLYENV || {};                                    if (document.getElementById(\"8bb48dd4-a12e-4ebd-8ea4-a0fc21c60781\")) {                    Plotly.newPlot(                        \"8bb48dd4-a12e-4ebd-8ea4-a0fc21c60781\",                        [{\"hovertemplate\":\"Building=%{y}<br>Date=%{x}<extra></extra>\",\"legendgroup\":\"CUP\",\"marker\":{\"color\":\"#636efa\",\"symbol\":\"circle\"},\"mode\":\"markers\",\"name\":\"CUP\",\"showlegend\":true,\"x\":[\"2017-08-20 00:00:00\",\"2017-09-14 00:00:00\",\"2017-09-19 00:00:00\",\"2017-10-19 00:00:00\",\"2017-10-20 00:00:00\",\"2017-10-24 00:00:00\",\"2018-04-06 00:00:00\",\"2018-05-02 00:00:00\",\"2018-05-02 00:00:00\",\"2018-05-03 00:00:00\",\"2018-05-09 00:00:00\",\"2018-05-09 00:00:00\",\"2018-05-14 00:00:00\",\"2018-05-14 00:00:00\",\"2018-05-14 00:00:00\",\"2018-05-14 00:00:00\",\"2018-05-15 00:00:00\",\"2018-05-19 00:00:00\",\"2018-05-20 00:00:00\",\"2018-05-22 00:00:00\",\"2018-05-22 00:00:00\",\"2018-05-23 00:00:00\",\"2018-06-05 00:00:00\",\"2018-06-05 00:00:00\",\"2018-09-07 00:00:00\",\"2018-09-21 00:00:00\",\"2018-09-27 00:00:00\",\"2018-09-29 00:00:00\",\"2018-10-18 00:00:00\",\"2018-10-23 00:00:00\",\"2018-10-23 00:00:00\",\"2019-03-27 00:00:00\",\"2019-04-04 00:00:00\",\"2019-04-18 00:00:00\",\"2019-04-18 00:00:00\",\"2019-05-02 00:00:00\",\"2019-05-09 00:00:00\",\"2019-05-09 00:00:00\",\"2019-05-14 00:00:00\",\"2019-05-15 00:00:00\",\"2019-05-18 00:00:00\",\"2019-05-23 00:00:00\",\"2019-05-24 00:00:00\",\"2019-05-29 00:00:00\",\"2019-05-30 00:00:00\",\"2019-06-05 00:00:00\",\"2019-10-25 00:00:00\",\"2020-03-29 00:00:00\",\"2020-04-19 00:00:00\",\"2020-05-02 00:00:00\",\"2020-10-02 00:00:00\",\"2021-05-02 00:00:00\",\"2021-05-26 00:00:00\"],\"xaxis\":\"x\",\"y\":[\"CUP\",\"CUP\",\"CUP\",\"CUP\",\"CUP\",\"CUP\",\"CUP\",\"CUP\",\"CUP\",\"CUP\",\"CUP\",\"CUP\",\"CUP\",\"CUP\",\"CUP\",\"CUP\",\"CUP\",\"CUP\",\"CUP\",\"CUP\",\"CUP\",\"CUP\",\"CUP\",\"CUP\",\"CUP\",\"CUP\",\"CUP\",\"CUP\",\"CUP\",\"CUP\",\"CUP\",\"CUP\",\"CUP\",\"CUP\",\"CUP\",\"CUP\",\"CUP\",\"CUP\",\"CUP\",\"CUP\",\"CUP\",\"CUP\",\"CUP\",\"CUP\",\"CUP\",\"CUP\",\"CUP\",\"CUP\",\"CUP\",\"CUP\",\"CUP\",\"CUP\",\"CUP\"],\"yaxis\":\"y\",\"type\":\"scattergl\"},{\"hovertemplate\":\"Building=%{y}<br>Date=%{x}<extra></extra>\",\"legendgroup\":\"Barber Theater\",\"marker\":{\"color\":\"#EF553B\",\"symbol\":\"circle\"},\"mode\":\"markers\",\"name\":\"Barber Theater\",\"showlegend\":true,\"x\":[\"2017-08-23 00:00:00\",\"2017-09-10 00:00:00\",\"2017-09-29 00:00:00\",\"2017-10-09 00:00:00\",\"2017-10-10 00:00:00\",\"2018-04-29 00:00:00\",\"2018-05-22 00:00:00\",\"2018-06-03 00:00:00\",\"2018-09-14 00:00:00\",\"2018-09-22 00:00:00\",\"2018-09-29 00:00:00\",\"2018-10-04 00:00:00\",\"2018-10-13 00:00:00\",\"2018-10-13 00:00:00\",\"2018-10-14 00:00:00\",\"2019-04-23 00:00:00\",\"2019-04-25 00:00:00\",\"2019-05-04 00:00:00\",\"2019-05-19 00:00:00\",\"2019-05-20 00:00:00\",\"2019-05-20 00:00:00\",\"2019-05-25 00:00:00\",\"2019-05-25 00:00:00\",\"2019-05-28 00:00:00\",\"2019-08-29 00:00:00\",\"2019-09-11 00:00:00\",\"2019-09-22 00:00:00\",\"2019-09-24 00:00:00\",\"2019-09-30 00:00:00\",\"2019-10-14 00:00:00\",\"2020-04-12 00:00:00\",\"2020-04-18 00:00:00\",\"2020-05-15 00:00:00\",\"2020-05-22 00:00:00\",\"2020-05-29 00:00:00\",\"2020-09-11 00:00:00\",\"2020-09-11 00:00:00\",\"2020-09-13 00:00:00\",\"2020-09-24 00:00:00\",\"2020-09-24 00:00:00\",\"2020-09-29 00:00:00\",\"2020-09-29 00:00:00\",\"2020-09-29 00:00:00\",\"2020-09-29 00:00:00\",\"2020-10-14 00:00:00\",\"2020-10-24 00:00:00\",\"2020-11-03 00:00:00\",\"2021-05-07 00:00:00\",\"2021-05-16 00:00:00\",\"2021-05-31 00:00:00\",\"2021-08-27 00:00:00\",\"2021-09-05 00:00:00\",\"2021-09-15 00:00:00\",\"2021-09-19 00:00:00\",\"2021-09-22 00:00:00\",\"2021-09-23 00:00:00\",\"2021-10-03 00:00:00\",\"2021-10-17 00:00:00\",\"2021-10-17 00:00:00\",\"2021-10-17 00:00:00\"],\"xaxis\":\"x\",\"y\":[\"Barber Theater\",\"Barber Theater\",\"Barber Theater\",\"Barber Theater\",\"Barber Theater\",\"Barber Theater\",\"Barber Theater\",\"Barber Theater\",\"Barber Theater\",\"Barber Theater\",\"Barber Theater\",\"Barber Theater\",\"Barber Theater\",\"Barber Theater\",\"Barber Theater\",\"Barber Theater\",\"Barber Theater\",\"Barber Theater\",\"Barber Theater\",\"Barber Theater\",\"Barber Theater\",\"Barber Theater\",\"Barber Theater\",\"Barber Theater\",\"Barber Theater\",\"Barber Theater\",\"Barber Theater\",\"Barber Theater\",\"Barber Theater\",\"Barber Theater\",\"Barber Theater\",\"Barber Theater\",\"Barber Theater\",\"Barber Theater\",\"Barber Theater\",\"Barber Theater\",\"Barber Theater\",\"Barber Theater\",\"Barber Theater\",\"Barber Theater\",\"Barber Theater\",\"Barber Theater\",\"Barber Theater\",\"Barber Theater\",\"Barber Theater\",\"Barber Theater\",\"Barber Theater\",\"Barber Theater\",\"Barber Theater\",\"Barber Theater\",\"Barber Theater\",\"Barber Theater\",\"Barber Theater\",\"Barber Theater\",\"Barber Theater\",\"Barber Theater\",\"Barber Theater\",\"Barber Theater\",\"Barber Theater\",\"Barber Theater\"],\"yaxis\":\"y\",\"type\":\"scattergl\"},{\"hovertemplate\":\"Building=%{y}<br>Date=%{x}<extra></extra>\",\"legendgroup\":\"KGH\",\"marker\":{\"color\":\"#00cc96\",\"symbol\":\"circle\"},\"mode\":\"markers\",\"name\":\"KGH\",\"showlegend\":true,\"x\":[\"2017-08-23 00:00:00\",\"2017-08-23 00:00:00\",\"2017-08-23 00:00:00\",\"2017-08-23 00:00:00\",\"2017-08-23 00:00:00\",\"2017-08-24 00:00:00\",\"2017-08-25 00:00:00\",\"2017-08-25 00:00:00\",\"2017-08-25 00:00:00\",\"2017-08-25 00:00:00\",\"2017-08-25 00:00:00\",\"2017-08-25 00:00:00\",\"2017-08-25 00:00:00\",\"2017-08-25 00:00:00\",\"2017-08-25 00:00:00\",\"2017-08-30 00:00:00\",\"2017-08-30 00:00:00\",\"2017-09-04 00:00:00\",\"2017-09-04 00:00:00\",\"2017-09-04 00:00:00\",\"2017-09-05 00:00:00\",\"2017-09-05 00:00:00\",\"2017-09-05 00:00:00\",\"2017-09-05 00:00:00\",\"2017-09-05 00:00:00\",\"2017-09-05 00:00:00\",\"2017-09-07 00:00:00\",\"2017-09-07 00:00:00\",\"2017-09-08 00:00:00\",\"2017-09-08 00:00:00\",\"2017-09-08 00:00:00\",\"2017-09-09 00:00:00\",\"2017-09-11 00:00:00\",\"2017-09-13 00:00:00\",\"2017-09-19 00:00:00\",\"2017-09-19 00:00:00\",\"2017-09-20 00:00:00\",\"2017-09-21 00:00:00\",\"2017-09-23 00:00:00\",\"2017-09-26 00:00:00\",\"2017-09-26 00:00:00\",\"2017-09-26 00:00:00\",\"2017-09-26 00:00:00\",\"2017-09-26 00:00:00\",\"2017-09-26 00:00:00\",\"2017-09-27 00:00:00\",\"2017-09-27 00:00:00\",\"2017-09-27 00:00:00\",\"2017-09-27 00:00:00\",\"2017-09-27 00:00:00\",\"2017-09-27 00:00:00\",\"2017-09-27 00:00:00\",\"2017-09-27 00:00:00\",\"2017-09-27 00:00:00\",\"2017-09-27 00:00:00\",\"2017-09-27 00:00:00\",\"2017-09-27 00:00:00\",\"2017-09-27 00:00:00\",\"2017-09-27 00:00:00\",\"2017-09-27 00:00:00\",\"2017-09-27 00:00:00\",\"2017-09-27 00:00:00\",\"2017-09-27 00:00:00\",\"2017-09-27 00:00:00\",\"2017-09-27 00:00:00\",\"2017-09-27 00:00:00\",\"2017-09-27 00:00:00\",\"2017-09-28 00:00:00\",\"2017-09-28 00:00:00\",\"2017-09-28 00:00:00\",\"2017-09-28 00:00:00\",\"2017-09-28 00:00:00\",\"2017-09-28 00:00:00\",\"2017-09-29 00:00:00\",\"2017-09-29 00:00:00\",\"2017-09-29 00:00:00\",\"2017-09-29 00:00:00\",\"2017-09-29 00:00:00\",\"2017-09-29 00:00:00\",\"2017-09-29 00:00:00\",\"2017-09-30 00:00:00\",\"2017-10-04 00:00:00\",\"2017-10-05 00:00:00\",\"2017-10-05 00:00:00\",\"2017-10-05 00:00:00\",\"2017-10-05 00:00:00\",\"2017-10-05 00:00:00\",\"2017-10-05 00:00:00\",\"2017-10-05 00:00:00\",\"2017-10-06 00:00:00\",\"2017-10-06 00:00:00\",\"2017-10-08 00:00:00\",\"2017-10-09 00:00:00\",\"2017-10-10 00:00:00\",\"2017-10-11 00:00:00\",\"2017-10-12 00:00:00\",\"2017-10-13 00:00:00\",\"2017-10-13 00:00:00\",\"2017-10-14 00:00:00\",\"2017-10-16 00:00:00\",\"2017-10-16 00:00:00\",\"2017-10-16 00:00:00\",\"2017-10-16 00:00:00\",\"2017-10-17 00:00:00\",\"2017-10-17 00:00:00\",\"2017-10-17 00:00:00\",\"2017-10-17 00:00:00\",\"2017-10-19 00:00:00\",\"2017-10-19 00:00:00\",\"2017-10-19 00:00:00\",\"2017-10-19 00:00:00\",\"2017-10-19 00:00:00\",\"2017-10-19 00:00:00\",\"2017-10-19 00:00:00\",\"2017-10-19 00:00:00\",\"2017-10-19 00:00:00\",\"2017-10-20 00:00:00\",\"2017-10-20 00:00:00\",\"2017-10-20 00:00:00\",\"2017-10-20 00:00:00\",\"2017-10-20 00:00:00\",\"2017-10-20 00:00:00\",\"2017-10-20 00:00:00\",\"2017-10-24 00:00:00\",\"2017-10-24 00:00:00\",\"2017-10-24 00:00:00\",\"2017-10-24 00:00:00\",\"2017-10-24 00:00:00\",\"2017-10-24 00:00:00\",\"2017-10-25 00:00:00\",\"2017-10-25 00:00:00\",\"2017-10-25 00:00:00\",\"2017-10-25 00:00:00\",\"2017-10-25 00:00:00\",\"2017-10-25 00:00:00\",\"2017-10-25 00:00:00\",\"2017-10-25 00:00:00\",\"2017-10-25 00:00:00\",\"2017-10-25 00:00:00\",\"2017-10-25 00:00:00\",\"2017-10-25 00:00:00\",\"2017-10-25 00:00:00\",\"2017-10-25 00:00:00\",\"2017-10-25 00:00:00\",\"2017-10-25 00:00:00\",\"2017-10-25 00:00:00\",\"2017-10-25 00:00:00\",\"2017-10-25 00:00:00\",\"2017-10-25 00:00:00\",\"2017-10-25 00:00:00\",\"2017-10-25 00:00:00\",\"2017-10-25 00:00:00\",\"2017-10-25 00:00:00\",\"2017-10-26 00:00:00\",\"2017-10-26 00:00:00\",\"2017-10-26 00:00:00\",\"2017-10-27 00:00:00\",\"2017-10-29 00:00:00\",\"2017-10-29 00:00:00\",\"2017-10-29 00:00:00\",\"2017-10-29 00:00:00\",\"2017-10-29 00:00:00\",\"2017-10-29 00:00:00\",\"2017-10-30 00:00:00\",\"2017-10-31 00:00:00\",\"2017-10-31 00:00:00\",\"2017-11-05 00:00:00\",\"2017-11-05 00:00:00\",\"2017-11-10 00:00:00\",\"2017-11-12 00:00:00\",\"2017-11-16 00:00:00\",\"2017-11-16 00:00:00\",\"2018-03-30 00:00:00\",\"2018-03-31 00:00:00\",\"2018-03-31 00:00:00\",\"2018-04-02 00:00:00\",\"2018-04-02 00:00:00\",\"2018-04-05 00:00:00\",\"2018-04-05 00:00:00\",\"2018-04-05 00:00:00\",\"2018-04-05 00:00:00\",\"2018-04-12 00:00:00\",\"2018-04-12 00:00:00\",\"2018-04-12 00:00:00\",\"2018-04-12 00:00:00\",\"2018-04-12 00:00:00\",\"2018-04-12 00:00:00\",\"2018-04-12 00:00:00\",\"2018-04-12 00:00:00\",\"2018-04-12 00:00:00\",\"2018-04-12 00:00:00\",\"2018-04-12 00:00:00\",\"2018-04-13 00:00:00\",\"2018-04-13 00:00:00\",\"2018-04-15 00:00:00\",\"2018-04-16 00:00:00\",\"2018-04-17 00:00:00\",\"2018-04-17 00:00:00\",\"2018-04-17 00:00:00\",\"2018-04-18 00:00:00\",\"2018-04-18 00:00:00\",\"2018-04-20 00:00:00\",\"2018-04-22 00:00:00\",\"2018-04-28 00:00:00\",\"2018-04-29 00:00:00\",\"2018-04-30 00:00:00\",\"2018-04-30 00:00:00\",\"2018-04-30 00:00:00\",\"2018-04-30 00:00:00\",\"2018-04-30 00:00:00\",\"2018-05-01 00:00:00\",\"2018-05-01 00:00:00\",\"2018-05-01 00:00:00\",\"2018-05-01 00:00:00\",\"2018-05-01 00:00:00\",\"2018-05-01 00:00:00\",\"2018-05-01 00:00:00\",\"2018-05-01 00:00:00\",\"2018-05-01 00:00:00\",\"2018-05-01 00:00:00\",\"2018-05-01 00:00:00\",\"2018-05-01 00:00:00\",\"2018-05-01 00:00:00\",\"2018-05-01 00:00:00\",\"2018-05-01 00:00:00\",\"2018-05-01 00:00:00\",\"2018-05-01 00:00:00\",\"2018-05-01 00:00:00\",\"2018-05-01 00:00:00\",\"2018-05-01 00:00:00\",\"2018-05-01 00:00:00\",\"2018-05-01 00:00:00\",\"2018-05-01 00:00:00\",\"2018-05-01 00:00:00\",\"2018-05-01 00:00:00\",\"2018-05-01 00:00:00\",\"2018-05-01 00:00:00\",\"2018-05-01 00:00:00\",\"2018-05-01 00:00:00\",\"2018-05-01 00:00:00\",\"2018-05-02 00:00:00\",\"2018-05-02 00:00:00\",\"2018-05-02 00:00:00\",\"2018-05-02 00:00:00\",\"2018-05-02 00:00:00\",\"2018-05-02 00:00:00\",\"2018-05-02 00:00:00\",\"2018-05-02 00:00:00\",\"2018-05-02 00:00:00\",\"2018-05-02 00:00:00\",\"2018-05-02 00:00:00\",\"2018-05-02 00:00:00\",\"2018-05-02 00:00:00\",\"2018-05-02 00:00:00\",\"2018-05-02 00:00:00\",\"2018-05-02 00:00:00\",\"2018-05-02 00:00:00\",\"2018-05-02 00:00:00\",\"2018-05-02 00:00:00\",\"2018-05-02 00:00:00\",\"2018-05-02 00:00:00\",\"2018-05-02 00:00:00\",\"2018-05-02 00:00:00\",\"2018-05-02 00:00:00\",\"2018-05-02 00:00:00\",\"2018-05-02 00:00:00\",\"2018-05-02 00:00:00\",\"2018-05-02 00:00:00\",\"2018-05-02 00:00:00\",\"2018-05-02 00:00:00\",\"2018-05-02 00:00:00\",\"2018-05-02 00:00:00\",\"2018-05-02 00:00:00\",\"2018-05-02 00:00:00\",\"2018-05-02 00:00:00\",\"2018-05-02 00:00:00\",\"2018-05-03 00:00:00\",\"2018-05-03 00:00:00\",\"2018-05-03 00:00:00\",\"2018-05-03 00:00:00\",\"2018-05-03 00:00:00\",\"2018-05-03 00:00:00\",\"2018-05-03 00:00:00\",\"2018-05-03 00:00:00\",\"2018-05-03 00:00:00\",\"2018-05-03 00:00:00\",\"2018-05-03 00:00:00\",\"2018-05-03 00:00:00\",\"2018-05-03 00:00:00\",\"2018-05-03 00:00:00\",\"2018-05-04 00:00:00\",\"2018-05-04 00:00:00\",\"2018-05-04 00:00:00\",\"2018-05-04 00:00:00\",\"2018-05-04 00:00:00\",\"2018-05-04 00:00:00\",\"2018-05-04 00:00:00\",\"2018-05-04 00:00:00\",\"2018-05-04 00:00:00\",\"2018-05-04 00:00:00\",\"2018-05-04 00:00:00\",\"2018-05-04 00:00:00\",\"2018-05-04 00:00:00\",\"2018-05-05 00:00:00\",\"2018-05-05 00:00:00\",\"2018-05-05 00:00:00\",\"2018-05-05 00:00:00\",\"2018-05-05 00:00:00\",\"2018-05-05 00:00:00\",\"2018-05-05 00:00:00\",\"2018-05-05 00:00:00\",\"2018-05-05 00:00:00\",\"2018-05-05 00:00:00\",\"2018-05-06 00:00:00\",\"2018-05-06 00:00:00\",\"2018-05-06 00:00:00\",\"2018-05-07 00:00:00\",\"2018-05-09 00:00:00\",\"2018-05-09 00:00:00\",\"2018-05-09 00:00:00\",\"2018-05-09 00:00:00\",\"2018-05-09 00:00:00\",\"2018-05-10 00:00:00\",\"2018-05-10 00:00:00\",\"2018-05-10 00:00:00\",\"2018-05-10 00:00:00\",\"2018-05-10 00:00:00\",\"2018-05-10 00:00:00\",\"2018-05-10 00:00:00\",\"2018-05-10 00:00:00\",\"2018-05-10 00:00:00\",\"2018-05-10 00:00:00\",\"2018-05-10 00:00:00\",\"2018-05-10 00:00:00\",\"2018-05-10 00:00:00\",\"2018-05-10 00:00:00\",\"2018-05-10 00:00:00\",\"2018-05-10 00:00:00\",\"2018-05-11 00:00:00\",\"2018-05-11 00:00:00\",\"2018-05-11 00:00:00\",\"2018-05-14 00:00:00\",\"2018-05-14 00:00:00\",\"2018-05-14 00:00:00\",\"2018-05-14 00:00:00\",\"2018-05-14 00:00:00\",\"2018-05-15 00:00:00\",\"2018-05-15 00:00:00\",\"2018-05-15 00:00:00\",\"2018-05-15 00:00:00\",\"2018-05-15 00:00:00\",\"2018-05-15 00:00:00\",\"2018-05-15 00:00:00\",\"2018-05-16 00:00:00\",\"2018-05-16 00:00:00\",\"2018-05-16 00:00:00\",\"2018-05-16 00:00:00\",\"2018-05-16 00:00:00\",\"2018-05-17 00:00:00\",\"2018-05-17 00:00:00\",\"2018-05-17 00:00:00\",\"2018-05-18 00:00:00\",\"2018-05-18 00:00:00\",\"2018-05-18 00:00:00\",\"2018-05-19 00:00:00\",\"2018-05-20 00:00:00\",\"2018-05-21 00:00:00\",\"2018-05-21 00:00:00\",\"2018-05-21 00:00:00\",\"2018-05-21 00:00:00\",\"2018-05-22 00:00:00\",\"2018-05-22 00:00:00\",\"2018-05-22 00:00:00\",\"2018-05-22 00:00:00\",\"2018-05-22 00:00:00\",\"2018-05-22 00:00:00\",\"2018-05-22 00:00:00\",\"2018-05-22 00:00:00\",\"2018-05-23 00:00:00\",\"2018-05-23 00:00:00\",\"2018-05-23 00:00:00\",\"2018-05-24 00:00:00\",\"2018-05-25 00:00:00\",\"2018-05-25 00:00:00\",\"2018-05-25 00:00:00\",\"2018-05-26 00:00:00\",\"2018-05-26 00:00:00\",\"2018-05-28 00:00:00\",\"2018-05-28 00:00:00\",\"2018-05-29 00:00:00\",\"2018-05-31 00:00:00\",\"2018-05-31 00:00:00\",\"2018-06-05 00:00:00\",\"2018-08-21 00:00:00\",\"2018-08-22 00:00:00\",\"2018-08-25 00:00:00\",\"2018-08-26 00:00:00\",\"2018-08-26 00:00:00\",\"2018-08-27 00:00:00\",\"2018-08-28 00:00:00\",\"2018-08-29 00:00:00\",\"2018-08-30 00:00:00\",\"2018-08-30 00:00:00\",\"2018-08-30 00:00:00\",\"2018-08-31 00:00:00\",\"2018-09-04 00:00:00\",\"2018-09-05 00:00:00\",\"2018-09-08 00:00:00\",\"2018-09-11 00:00:00\",\"2018-09-11 00:00:00\",\"2018-09-12 00:00:00\",\"2018-09-12 00:00:00\",\"2018-09-13 00:00:00\",\"2018-09-15 00:00:00\",\"2018-09-16 00:00:00\",\"2018-09-18 00:00:00\",\"2018-09-18 00:00:00\",\"2018-09-18 00:00:00\",\"2018-09-18 00:00:00\",\"2018-09-18 00:00:00\",\"2018-09-21 00:00:00\",\"2018-09-23 00:00:00\",\"2018-09-24 00:00:00\",\"2018-09-26 00:00:00\",\"2018-09-27 00:00:00\",\"2018-09-27 00:00:00\",\"2018-09-28 00:00:00\",\"2018-09-29 00:00:00\",\"2018-09-29 00:00:00\",\"2018-09-30 00:00:00\",\"2018-09-30 00:00:00\",\"2018-10-02 00:00:00\",\"2018-10-03 00:00:00\",\"2018-10-03 00:00:00\",\"2018-10-03 00:00:00\",\"2018-10-03 00:00:00\",\"2018-10-06 00:00:00\",\"2018-10-06 00:00:00\",\"2018-10-08 00:00:00\",\"2018-10-09 00:00:00\",\"2018-10-09 00:00:00\",\"2018-10-09 00:00:00\",\"2018-10-09 00:00:00\",\"2018-10-09 00:00:00\",\"2018-10-09 00:00:00\",\"2018-10-11 00:00:00\",\"2018-10-11 00:00:00\",\"2018-10-11 00:00:00\",\"2018-10-11 00:00:00\",\"2018-10-12 00:00:00\",\"2018-10-12 00:00:00\",\"2018-10-12 00:00:00\",\"2018-10-12 00:00:00\",\"2018-10-12 00:00:00\",\"2018-10-13 00:00:00\",\"2018-10-13 00:00:00\",\"2018-10-13 00:00:00\",\"2018-10-13 00:00:00\",\"2018-10-13 00:00:00\",\"2018-10-13 00:00:00\",\"2018-10-13 00:00:00\",\"2018-10-14 00:00:00\",\"2018-10-14 00:00:00\",\"2018-10-15 00:00:00\",\"2018-10-16 00:00:00\",\"2018-10-16 00:00:00\",\"2018-10-16 00:00:00\",\"2018-10-17 00:00:00\",\"2018-10-17 00:00:00\",\"2018-10-17 00:00:00\",\"2018-10-17 00:00:00\",\"2018-10-17 00:00:00\",\"2018-10-17 00:00:00\",\"2018-10-17 00:00:00\",\"2018-10-17 00:00:00\",\"2018-10-17 00:00:00\",\"2018-10-17 00:00:00\",\"2018-10-17 00:00:00\",\"2018-10-17 00:00:00\",\"2018-10-17 00:00:00\",\"2018-10-17 00:00:00\",\"2018-10-17 00:00:00\",\"2018-10-17 00:00:00\",\"2018-10-17 00:00:00\",\"2018-10-17 00:00:00\",\"2018-10-17 00:00:00\",\"2018-10-17 00:00:00\",\"2018-10-18 00:00:00\",\"2018-10-18 00:00:00\",\"2018-10-18 00:00:00\",\"2018-10-18 00:00:00\",\"2018-10-19 00:00:00\",\"2018-10-20 00:00:00\",\"2018-10-20 00:00:00\",\"2018-10-22 00:00:00\",\"2018-10-22 00:00:00\",\"2018-10-23 00:00:00\",\"2018-10-23 00:00:00\",\"2018-10-25 00:00:00\",\"2018-10-30 00:00:00\",\"2018-10-30 00:00:00\",\"2018-11-08 00:00:00\",\"2018-11-10 00:00:00\",\"2018-11-13 00:00:00\",\"2019-03-28 00:00:00\",\"2019-04-02 00:00:00\",\"2019-04-02 00:00:00\",\"2019-04-03 00:00:00\",\"2019-04-03 00:00:00\",\"2019-04-06 00:00:00\",\"2019-04-07 00:00:00\",\"2019-04-07 00:00:00\",\"2019-04-07 00:00:00\",\"2019-04-07 00:00:00\",\"2019-04-07 00:00:00\",\"2019-04-08 00:00:00\",\"2019-04-09 00:00:00\",\"2019-04-09 00:00:00\",\"2019-04-13 00:00:00\",\"2019-04-13 00:00:00\",\"2019-04-13 00:00:00\",\"2019-04-16 00:00:00\",\"2019-04-16 00:00:00\",\"2019-04-16 00:00:00\",\"2019-04-18 00:00:00\",\"2019-04-18 00:00:00\",\"2019-04-18 00:00:00\",\"2019-04-18 00:00:00\",\"2019-04-18 00:00:00\",\"2019-04-19 00:00:00\",\"2019-04-22 00:00:00\",\"2019-04-22 00:00:00\",\"2019-04-23 00:00:00\",\"2019-04-23 00:00:00\",\"2019-04-23 00:00:00\",\"2019-04-23 00:00:00\",\"2019-04-28 00:00:00\",\"2019-04-30 00:00:00\",\"2019-05-01 00:00:00\",\"2019-05-01 00:00:00\",\"2019-05-02 00:00:00\",\"2019-05-02 00:00:00\",\"2019-05-02 00:00:00\",\"2019-05-02 00:00:00\",\"2019-05-03 00:00:00\",\"2019-05-03 00:00:00\",\"2019-05-03 00:00:00\",\"2019-05-03 00:00:00\",\"2019-05-03 00:00:00\",\"2019-05-05 00:00:00\",\"2019-05-05 00:00:00\",\"2019-05-05 00:00:00\",\"2019-05-06 00:00:00\",\"2019-05-06 00:00:00\",\"2019-05-06 00:00:00\",\"2019-05-06 00:00:00\",\"2019-05-06 00:00:00\",\"2019-05-06 00:00:00\",\"2019-05-06 00:00:00\",\"2019-05-06 00:00:00\",\"2019-05-06 00:00:00\",\"2019-05-06 00:00:00\",\"2019-05-06 00:00:00\",\"2019-05-06 00:00:00\",\"2019-05-06 00:00:00\",\"2019-05-06 00:00:00\",\"2019-05-06 00:00:00\",\"2019-05-06 00:00:00\",\"2019-05-06 00:00:00\",\"2019-05-06 00:00:00\",\"2019-05-06 00:00:00\",\"2019-05-06 00:00:00\",\"2019-05-06 00:00:00\",\"2019-05-06 00:00:00\",\"2019-05-06 00:00:00\",\"2019-05-06 00:00:00\",\"2019-05-06 00:00:00\",\"2019-05-06 00:00:00\",\"2019-05-06 00:00:00\",\"2019-05-06 00:00:00\",\"2019-05-06 00:00:00\",\"2019-05-07 00:00:00\",\"2019-05-07 00:00:00\",\"2019-05-07 00:00:00\",\"2019-05-09 00:00:00\",\"2019-05-09 00:00:00\",\"2019-05-10 00:00:00\",\"2019-05-10 00:00:00\",\"2019-05-10 00:00:00\",\"2019-05-10 00:00:00\",\"2019-05-10 00:00:00\",\"2019-05-10 00:00:00\",\"2019-05-10 00:00:00\",\"2019-05-10 00:00:00\",\"2019-05-10 00:00:00\",\"2019-05-11 00:00:00\",\"2019-05-11 00:00:00\",\"2019-05-11 00:00:00\",\"2019-05-14 00:00:00\",\"2019-05-15 00:00:00\",\"2019-05-16 00:00:00\",\"2019-05-16 00:00:00\",\"2019-05-16 00:00:00\",\"2019-05-16 00:00:00\",\"2019-05-16 00:00:00\",\"2019-05-16 00:00:00\",\"2019-05-16 00:00:00\",\"2019-05-16 00:00:00\",\"2019-05-16 00:00:00\",\"2019-05-16 00:00:00\",\"2019-05-16 00:00:00\",\"2019-05-16 00:00:00\",\"2019-05-16 00:00:00\",\"2019-05-16 00:00:00\",\"2019-05-16 00:00:00\",\"2019-05-16 00:00:00\",\"2019-05-16 00:00:00\",\"2019-05-16 00:00:00\",\"2019-05-16 00:00:00\",\"2019-05-17 00:00:00\",\"2019-05-19 00:00:00\",\"2019-05-19 00:00:00\",\"2019-05-19 00:00:00\",\"2019-05-20 00:00:00\",\"2019-05-20 00:00:00\",\"2019-05-20 00:00:00\",\"2019-05-20 00:00:00\",\"2019-05-20 00:00:00\",\"2019-05-20 00:00:00\",\"2019-05-20 00:00:00\",\"2019-05-20 00:00:00\",\"2019-05-20 00:00:00\",\"2019-05-20 00:00:00\",\"2019-05-20 00:00:00\",\"2019-05-20 00:00:00\",\"2019-05-20 00:00:00\",\"2019-05-20 00:00:00\",\"2019-05-20 00:00:00\",\"2019-05-20 00:00:00\",\"2019-05-21 00:00:00\",\"2019-05-22 00:00:00\",\"2019-05-23 00:00:00\",\"2019-05-23 00:00:00\",\"2019-05-23 00:00:00\",\"2019-05-23 00:00:00\",\"2019-05-23 00:00:00\",\"2019-05-23 00:00:00\",\"2019-05-23 00:00:00\",\"2019-05-23 00:00:00\",\"2019-05-23 00:00:00\",\"2019-05-24 00:00:00\",\"2019-05-24 00:00:00\",\"2019-05-24 00:00:00\",\"2019-05-25 00:00:00\",\"2019-05-25 00:00:00\",\"2019-05-26 00:00:00\",\"2019-05-26 00:00:00\",\"2019-05-26 00:00:00\",\"2019-05-27 00:00:00\",\"2019-05-28 00:00:00\",\"2019-05-28 00:00:00\",\"2019-05-28 00:00:00\",\"2019-05-28 00:00:00\",\"2019-05-29 00:00:00\",\"2019-05-30 00:00:00\",\"2019-06-04 00:00:00\",\"2019-08-24 00:00:00\",\"2019-08-29 00:00:00\",\"2019-08-29 00:00:00\",\"2019-09-04 00:00:00\",\"2019-09-05 00:00:00\",\"2019-09-06 00:00:00\",\"2019-09-06 00:00:00\",\"2019-09-11 00:00:00\",\"2019-09-11 00:00:00\",\"2019-09-11 00:00:00\",\"2019-09-11 00:00:00\",\"2019-09-12 00:00:00\",\"2019-09-12 00:00:00\",\"2019-09-12 00:00:00\",\"2019-09-12 00:00:00\",\"2019-09-12 00:00:00\",\"2019-09-15 00:00:00\",\"2019-09-17 00:00:00\",\"2019-09-17 00:00:00\",\"2019-09-17 00:00:00\",\"2019-09-21 00:00:00\",\"2019-09-21 00:00:00\",\"2019-09-22 00:00:00\",\"2019-09-23 00:00:00\",\"2019-09-23 00:00:00\",\"2019-09-23 00:00:00\",\"2019-09-23 00:00:00\",\"2019-09-24 00:00:00\",\"2019-09-24 00:00:00\",\"2019-09-24 00:00:00\",\"2019-09-24 00:00:00\",\"2019-09-25 00:00:00\",\"2019-09-26 00:00:00\",\"2019-09-26 00:00:00\",\"2019-09-29 00:00:00\",\"2019-09-30 00:00:00\",\"2019-10-02 00:00:00\",\"2019-10-02 00:00:00\",\"2019-10-02 00:00:00\",\"2019-10-03 00:00:00\",\"2019-10-03 00:00:00\",\"2019-10-04 00:00:00\",\"2019-10-05 00:00:00\",\"2019-10-06 00:00:00\",\"2019-10-07 00:00:00\",\"2019-10-07 00:00:00\",\"2019-10-08 00:00:00\",\"2019-10-08 00:00:00\",\"2019-10-08 00:00:00\",\"2019-10-08 00:00:00\",\"2019-10-08 00:00:00\",\"2019-10-08 00:00:00\",\"2019-10-10 00:00:00\",\"2019-10-14 00:00:00\",\"2019-10-15 00:00:00\",\"2019-10-15 00:00:00\",\"2019-10-15 00:00:00\",\"2019-10-15 00:00:00\",\"2019-10-16 00:00:00\",\"2019-10-16 00:00:00\",\"2019-10-16 00:00:00\",\"2019-10-16 00:00:00\",\"2019-10-16 00:00:00\",\"2019-10-17 00:00:00\",\"2019-10-22 00:00:00\",\"2019-10-22 00:00:00\",\"2019-10-23 00:00:00\",\"2019-10-24 00:00:00\",\"2019-10-24 00:00:00\",\"2019-10-25 00:00:00\",\"2019-10-25 00:00:00\",\"2019-10-25 00:00:00\",\"2019-10-26 00:00:00\",\"2019-10-26 00:00:00\",\"2019-10-27 00:00:00\",\"2019-10-28 00:00:00\",\"2019-10-28 00:00:00\",\"2019-10-29 00:00:00\",\"2019-10-29 00:00:00\",\"2019-11-01 00:00:00\",\"2019-11-03 00:00:00\",\"2019-11-03 00:00:00\",\"2019-11-05 00:00:00\",\"2019-11-05 00:00:00\",\"2019-11-19 00:00:00\",\"2020-03-20 00:00:00\",\"2020-03-20 00:00:00\",\"2020-03-20 00:00:00\",\"2020-03-26 00:00:00\",\"2020-04-02 00:00:00\",\"2020-04-04 00:00:00\",\"2020-04-04 00:00:00\",\"2020-04-04 00:00:00\",\"2020-04-19 00:00:00\",\"2020-04-19 00:00:00\",\"2020-04-20 00:00:00\",\"2020-04-28 00:00:00\",\"2020-05-01 00:00:00\",\"2020-05-01 00:00:00\",\"2020-05-02 00:00:00\",\"2020-05-02 00:00:00\",\"2020-05-02 00:00:00\",\"2020-05-02 00:00:00\",\"2020-05-08 00:00:00\",\"2020-05-13 00:00:00\",\"2020-05-13 00:00:00\",\"2020-05-13 00:00:00\",\"2020-05-15 00:00:00\",\"2020-05-15 00:00:00\",\"2020-05-15 00:00:00\",\"2020-05-15 00:00:00\",\"2020-05-15 00:00:00\",\"2020-05-15 00:00:00\",\"2020-05-15 00:00:00\",\"2020-05-20 00:00:00\",\"2020-05-20 00:00:00\",\"2020-05-20 00:00:00\",\"2020-05-22 00:00:00\",\"2020-06-07 00:00:00\",\"2020-08-29 00:00:00\",\"2020-08-29 00:00:00\",\"2020-08-29 00:00:00\",\"2020-09-04 00:00:00\",\"2020-09-04 00:00:00\",\"2020-09-04 00:00:00\",\"2020-09-04 00:00:00\",\"2020-09-04 00:00:00\",\"2020-09-05 00:00:00\",\"2020-09-07 00:00:00\",\"2020-09-16 00:00:00\",\"2020-09-23 00:00:00\",\"2020-09-24 00:00:00\",\"2020-09-24 00:00:00\",\"2020-09-24 00:00:00\",\"2020-09-25 00:00:00\",\"2020-10-02 00:00:00\",\"2020-10-02 00:00:00\",\"2020-10-02 00:00:00\",\"2020-10-02 00:00:00\",\"2020-10-02 00:00:00\",\"2020-10-05 00:00:00\",\"2020-10-05 00:00:00\",\"2020-10-06 00:00:00\",\"2020-10-06 00:00:00\",\"2020-10-09 00:00:00\",\"2020-10-11 00:00:00\",\"2020-10-14 00:00:00\",\"2020-10-16 00:00:00\",\"2020-10-19 00:00:00\",\"2020-10-24 00:00:00\",\"2020-10-24 00:00:00\",\"2020-10-29 00:00:00\",\"2021-03-24 00:00:00\",\"2021-04-01 00:00:00\",\"2021-04-02 00:00:00\",\"2021-04-05 00:00:00\",\"2021-04-07 00:00:00\",\"2021-04-07 00:00:00\",\"2021-04-09 00:00:00\",\"2021-04-09 00:00:00\",\"2021-04-20 00:00:00\",\"2021-04-21 00:00:00\",\"2021-04-23 00:00:00\",\"2021-04-23 00:00:00\",\"2021-04-23 00:00:00\",\"2021-04-23 00:00:00\",\"2021-04-27 00:00:00\",\"2021-04-27 00:00:00\",\"2021-04-27 00:00:00\",\"2021-04-27 00:00:00\",\"2021-04-30 00:00:00\",\"2021-05-02 00:00:00\",\"2021-05-02 00:00:00\",\"2021-05-02 00:00:00\",\"2021-05-03 00:00:00\",\"2021-05-03 00:00:00\",\"2021-05-03 00:00:00\",\"2021-05-03 00:00:00\",\"2021-05-03 00:00:00\",\"2021-05-03 00:00:00\",\"2021-05-06 00:00:00\",\"2021-05-07 00:00:00\",\"2021-05-10 00:00:00\",\"2021-05-13 00:00:00\",\"2021-05-14 00:00:00\",\"2021-05-14 00:00:00\",\"2021-05-14 00:00:00\",\"2021-05-14 00:00:00\",\"2021-05-14 00:00:00\",\"2021-05-14 00:00:00\",\"2021-05-14 00:00:00\",\"2021-05-14 00:00:00\",\"2021-05-14 00:00:00\",\"2021-05-14 00:00:00\",\"2021-05-14 00:00:00\",\"2021-05-14 00:00:00\",\"2021-05-14 00:00:00\",\"2021-05-14 00:00:00\",\"2021-05-14 00:00:00\",\"2021-05-14 00:00:00\",\"2021-05-14 00:00:00\",\"2021-05-14 00:00:00\",\"2021-05-14 00:00:00\",\"2021-05-14 00:00:00\",\"2021-05-15 00:00:00\",\"2021-05-15 00:00:00\",\"2021-05-18 00:00:00\",\"2021-05-18 00:00:00\",\"2021-05-19 00:00:00\",\"2021-05-19 00:00:00\",\"2021-05-20 00:00:00\",\"2021-05-21 00:00:00\",\"2021-05-21 00:00:00\",\"2021-05-21 00:00:00\",\"2021-05-25 00:00:00\",\"2021-05-25 00:00:00\",\"2021-05-25 00:00:00\",\"2021-05-25 00:00:00\",\"2021-05-25 00:00:00\",\"2021-05-25 00:00:00\",\"2021-05-25 00:00:00\",\"2021-05-26 00:00:00\",\"2021-05-26 00:00:00\",\"2021-05-31 00:00:00\",\"2021-06-01 00:00:00\",\"2021-06-01 00:00:00\",\"2021-06-01 00:00:00\",\"2021-06-04 00:00:00\",\"2021-06-06 00:00:00\",\"2021-06-06 00:00:00\",\"2021-06-07 00:00:00\",\"2021-06-08 00:00:00\",\"2021-06-11 00:00:00\",\"2021-06-14 00:00:00\",\"2021-06-18 00:00:00\",\"2021-08-30 00:00:00\",\"2021-08-30 00:00:00\",\"2021-09-05 00:00:00\",\"2021-09-05 00:00:00\",\"2021-09-05 00:00:00\",\"2021-09-06 00:00:00\",\"2021-09-06 00:00:00\",\"2021-09-09 00:00:00\",\"2021-09-13 00:00:00\",\"2021-09-13 00:00:00\",\"2021-09-13 00:00:00\",\"2021-09-13 00:00:00\",\"2021-09-13 00:00:00\",\"2021-09-13 00:00:00\",\"2021-09-13 00:00:00\",\"2021-09-13 00:00:00\",\"2021-09-15 00:00:00\",\"2021-09-23 00:00:00\",\"2021-09-23 00:00:00\",\"2021-09-23 00:00:00\",\"2021-09-23 00:00:00\",\"2021-09-23 00:00:00\",\"2021-09-23 00:00:00\",\"2021-09-24 00:00:00\",\"2021-09-24 00:00:00\",\"2021-09-25 00:00:00\",\"2021-10-03 00:00:00\",\"2021-10-03 00:00:00\",\"2021-10-03 00:00:00\",\"2021-10-11 00:00:00\",\"2021-10-11 00:00:00\",\"2021-10-15 00:00:00\",\"2021-10-15 00:00:00\",\"2021-10-16 00:00:00\",\"2021-10-16 00:00:00\",\"2021-10-17 00:00:00\",\"2021-10-17 00:00:00\",\"2021-10-17 00:00:00\",\"2021-10-17 00:00:00\",\"2021-10-18 00:00:00\",\"2021-10-18 00:00:00\",\"2021-10-18 00:00:00\",\"2021-10-18 00:00:00\",\"2021-10-18 00:00:00\",\"2021-10-19 00:00:00\",\"2021-11-03 00:00:00\"],\"xaxis\":\"x\",\"y\":[\"KGH\",\"KGH\",\"KGH\",\"KGH\",\"KGH\",\"KGH\",\"KGH\",\"KGH\",\"KGH\",\"KGH\",\"KGH\",\"KGH\",\"KGH\",\"KGH\",\"KGH\",\"KGH\",\"KGH\",\"KGH\",\"KGH\",\"KGH\",\"KGH\",\"KGH\",\"KGH\",\"KGH\",\"KGH\",\"KGH\",\"KGH\",\"KGH\",\"KGH\",\"KGH\",\"KGH\",\"KGH\",\"KGH\",\"KGH\",\"KGH\",\"KGH\",\"KGH\",\"KGH\",\"KGH\",\"KGH\",\"KGH\",\"KGH\",\"KGH\",\"KGH\",\"KGH\",\"KGH\",\"KGH\",\"KGH\",\"KGH\",\"KGH\",\"KGH\",\"KGH\",\"KGH\",\"KGH\",\"KGH\",\"KGH\",\"KGH\",\"KGH\",\"KGH\",\"KGH\",\"KGH\",\"KGH\",\"KGH\",\"KGH\",\"KGH\",\"KGH\",\"KGH\",\"KGH\",\"KGH\",\"KGH\",\"KGH\",\"KGH\",\"KGH\",\"KGH\",\"KGH\",\"KGH\",\"KGH\",\"KGH\",\"KGH\",\"KGH\",\"KGH\",\"KGH\",\"KGH\",\"KGH\",\"KGH\",\"KGH\",\"KGH\",\"KGH\",\"KGH\",\"KGH\",\"KGH\",\"KGH\",\"KGH\",\"KGH\",\"KGH\",\"KGH\",\"KGH\",\"KGH\",\"KGH\",\"KGH\",\"KGH\",\"KGH\",\"KGH\",\"KGH\",\"KGH\",\"KGH\",\"KGH\",\"KGH\",\"KGH\",\"KGH\",\"KGH\",\"KGH\",\"KGH\",\"KGH\",\"KGH\",\"KGH\",\"KGH\",\"KGH\",\"KGH\",\"KGH\",\"KGH\",\"KGH\",\"KGH\",\"KGH\",\"KGH\",\"KGH\",\"KGH\",\"KGH\",\"KGH\",\"KGH\",\"KGH\",\"KGH\",\"KGH\",\"KGH\",\"KGH\",\"KGH\",\"KGH\",\"KGH\",\"KGH\",\"KGH\",\"KGH\",\"KGH\",\"KGH\",\"KGH\",\"KGH\",\"KGH\",\"KGH\",\"KGH\",\"KGH\",\"KGH\",\"KGH\",\"KGH\",\"KGH\",\"KGH\",\"KGH\",\"KGH\",\"KGH\",\"KGH\",\"KGH\",\"KGH\",\"KGH\",\"KGH\",\"KGH\",\"KGH\",\"KGH\",\"KGH\",\"KGH\",\"KGH\",\"KGH\",\"KGH\",\"KGH\",\"KGH\",\"KGH\",\"KGH\",\"KGH\",\"KGH\",\"KGH\",\"KGH\",\"KGH\",\"KGH\",\"KGH\",\"KGH\",\"KGH\",\"KGH\",\"KGH\",\"KGH\",\"KGH\",\"KGH\",\"KGH\",\"KGH\",\"KGH\",\"KGH\",\"KGH\",\"KGH\",\"KGH\",\"KGH\",\"KGH\",\"KGH\",\"KGH\",\"KGH\",\"KGH\",\"KGH\",\"KGH\",\"KGH\",\"KGH\",\"KGH\",\"KGH\",\"KGH\",\"KGH\",\"KGH\",\"KGH\",\"KGH\",\"KGH\",\"KGH\",\"KGH\",\"KGH\",\"KGH\",\"KGH\",\"KGH\",\"KGH\",\"KGH\",\"KGH\",\"KGH\",\"KGH\",\"KGH\",\"KGH\",\"KGH\",\"KGH\",\"KGH\",\"KGH\",\"KGH\",\"KGH\",\"KGH\",\"KGH\",\"KGH\",\"KGH\",\"KGH\",\"KGH\",\"KGH\",\"KGH\",\"KGH\",\"KGH\",\"KGH\",\"KGH\",\"KGH\",\"KGH\",\"KGH\",\"KGH\",\"KGH\",\"KGH\",\"KGH\",\"KGH\",\"KGH\",\"KGH\",\"KGH\",\"KGH\",\"KGH\",\"KGH\",\"KGH\",\"KGH\",\"KGH\",\"KGH\",\"KGH\",\"KGH\",\"KGH\",\"KGH\",\"KGH\",\"KGH\",\"KGH\",\"KGH\",\"KGH\",\"KGH\",\"KGH\",\"KGH\",\"KGH\",\"KGH\",\"KGH\",\"KGH\",\"KGH\",\"KGH\",\"KGH\",\"KGH\",\"KGH\",\"KGH\",\"KGH\",\"KGH\",\"KGH\",\"KGH\",\"KGH\",\"KGH\",\"KGH\",\"KGH\",\"KGH\",\"KGH\",\"KGH\",\"KGH\",\"KGH\",\"KGH\",\"KGH\",\"KGH\",\"KGH\",\"KGH\",\"KGH\",\"KGH\",\"KGH\",\"KGH\",\"KGH\",\"KGH\",\"KGH\",\"KGH\",\"KGH\",\"KGH\",\"KGH\",\"KGH\",\"KGH\",\"KGH\",\"KGH\",\"KGH\",\"KGH\",\"KGH\",\"KGH\",\"KGH\",\"KGH\",\"KGH\",\"KGH\",\"KGH\",\"KGH\",\"KGH\",\"KGH\",\"KGH\",\"KGH\",\"KGH\",\"KGH\",\"KGH\",\"KGH\",\"KGH\",\"KGH\",\"KGH\",\"KGH\",\"KGH\",\"KGH\",\"KGH\",\"KGH\",\"KGH\",\"KGH\",\"KGH\",\"KGH\",\"KGH\",\"KGH\",\"KGH\",\"KGH\",\"KGH\",\"KGH\",\"KGH\",\"KGH\",\"KGH\",\"KGH\",\"KGH\",\"KGH\",\"KGH\",\"KGH\",\"KGH\",\"KGH\",\"KGH\",\"KGH\",\"KGH\",\"KGH\",\"KGH\",\"KGH\",\"KGH\",\"KGH\",\"KGH\",\"KGH\",\"KGH\",\"KGH\",\"KGH\",\"KGH\",\"KGH\",\"KGH\",\"KGH\",\"KGH\",\"KGH\",\"KGH\",\"KGH\",\"KGH\",\"KGH\",\"KGH\",\"KGH\",\"KGH\",\"KGH\",\"KGH\",\"KGH\",\"KGH\",\"KGH\",\"KGH\",\"KGH\",\"KGH\",\"KGH\",\"KGH\",\"KGH\",\"KGH\",\"KGH\",\"KGH\",\"KGH\",\"KGH\",\"KGH\",\"KGH\",\"KGH\",\"KGH\",\"KGH\",\"KGH\",\"KGH\",\"KGH\",\"KGH\",\"KGH\",\"KGH\",\"KGH\",\"KGH\",\"KGH\",\"KGH\",\"KGH\",\"KGH\",\"KGH\",\"KGH\",\"KGH\",\"KGH\",\"KGH\",\"KGH\",\"KGH\",\"KGH\",\"KGH\",\"KGH\",\"KGH\",\"KGH\",\"KGH\",\"KGH\",\"KGH\",\"KGH\",\"KGH\",\"KGH\",\"KGH\",\"KGH\",\"KGH\",\"KGH\",\"KGH\",\"KGH\",\"KGH\",\"KGH\",\"KGH\",\"KGH\",\"KGH\",\"KGH\",\"KGH\",\"KGH\",\"KGH\",\"KGH\",\"KGH\",\"KGH\",\"KGH\",\"KGH\",\"KGH\",\"KGH\",\"KGH\",\"KGH\",\"KGH\",\"KGH\",\"KGH\",\"KGH\",\"KGH\",\"KGH\",\"KGH\",\"KGH\",\"KGH\",\"KGH\",\"KGH\",\"KGH\",\"KGH\",\"KGH\",\"KGH\",\"KGH\",\"KGH\",\"KGH\",\"KGH\",\"KGH\",\"KGH\",\"KGH\",\"KGH\",\"KGH\",\"KGH\",\"KGH\",\"KGH\",\"KGH\",\"KGH\",\"KGH\",\"KGH\",\"KGH\",\"KGH\",\"KGH\",\"KGH\",\"KGH\",\"KGH\",\"KGH\",\"KGH\",\"KGH\",\"KGH\",\"KGH\",\"KGH\",\"KGH\",\"KGH\",\"KGH\",\"KGH\",\"KGH\",\"KGH\",\"KGH\",\"KGH\",\"KGH\",\"KGH\",\"KGH\",\"KGH\",\"KGH\",\"KGH\",\"KGH\",\"KGH\",\"KGH\",\"KGH\",\"KGH\",\"KGH\",\"KGH\",\"KGH\",\"KGH\",\"KGH\",\"KGH\",\"KGH\",\"KGH\",\"KGH\",\"KGH\",\"KGH\",\"KGH\",\"KGH\",\"KGH\",\"KGH\",\"KGH\",\"KGH\",\"KGH\",\"KGH\",\"KGH\",\"KGH\",\"KGH\",\"KGH\",\"KGH\",\"KGH\",\"KGH\",\"KGH\",\"KGH\",\"KGH\",\"KGH\",\"KGH\",\"KGH\",\"KGH\",\"KGH\",\"KGH\",\"KGH\",\"KGH\",\"KGH\",\"KGH\",\"KGH\",\"KGH\",\"KGH\",\"KGH\",\"KGH\",\"KGH\",\"KGH\",\"KGH\",\"KGH\",\"KGH\",\"KGH\",\"KGH\",\"KGH\",\"KGH\",\"KGH\",\"KGH\",\"KGH\",\"KGH\",\"KGH\",\"KGH\",\"KGH\",\"KGH\",\"KGH\",\"KGH\",\"KGH\",\"KGH\",\"KGH\",\"KGH\",\"KGH\",\"KGH\",\"KGH\",\"KGH\",\"KGH\",\"KGH\",\"KGH\",\"KGH\",\"KGH\",\"KGH\",\"KGH\",\"KGH\",\"KGH\",\"KGH\",\"KGH\",\"KGH\",\"KGH\",\"KGH\",\"KGH\",\"KGH\",\"KGH\",\"KGH\",\"KGH\",\"KGH\",\"KGH\",\"KGH\",\"KGH\",\"KGH\",\"KGH\",\"KGH\",\"KGH\",\"KGH\",\"KGH\",\"KGH\",\"KGH\",\"KGH\",\"KGH\",\"KGH\",\"KGH\",\"KGH\",\"KGH\",\"KGH\",\"KGH\",\"KGH\",\"KGH\",\"KGH\",\"KGH\",\"KGH\",\"KGH\",\"KGH\",\"KGH\",\"KGH\",\"KGH\",\"KGH\",\"KGH\",\"KGH\",\"KGH\",\"KGH\",\"KGH\",\"KGH\",\"KGH\",\"KGH\",\"KGH\",\"KGH\",\"KGH\",\"KGH\",\"KGH\",\"KGH\",\"KGH\",\"KGH\",\"KGH\",\"KGH\",\"KGH\",\"KGH\",\"KGH\",\"KGH\",\"KGH\",\"KGH\",\"KGH\",\"KGH\",\"KGH\",\"KGH\",\"KGH\",\"KGH\",\"KGH\",\"KGH\",\"KGH\",\"KGH\",\"KGH\",\"KGH\",\"KGH\",\"KGH\",\"KGH\",\"KGH\",\"KGH\",\"KGH\",\"KGH\",\"KGH\",\"KGH\",\"KGH\",\"KGH\",\"KGH\",\"KGH\",\"KGH\",\"KGH\",\"KGH\",\"KGH\",\"KGH\",\"KGH\",\"KGH\",\"KGH\",\"KGH\",\"KGH\",\"KGH\",\"KGH\",\"KGH\",\"KGH\",\"KGH\",\"KGH\",\"KGH\",\"KGH\",\"KGH\",\"KGH\",\"KGH\",\"KGH\",\"KGH\",\"KGH\",\"KGH\",\"KGH\",\"KGH\",\"KGH\",\"KGH\",\"KGH\",\"KGH\",\"KGH\",\"KGH\",\"KGH\",\"KGH\",\"KGH\",\"KGH\",\"KGH\",\"KGH\",\"KGH\",\"KGH\",\"KGH\",\"KGH\",\"KGH\",\"KGH\",\"KGH\",\"KGH\",\"KGH\",\"KGH\",\"KGH\",\"KGH\",\"KGH\",\"KGH\",\"KGH\",\"KGH\",\"KGH\",\"KGH\",\"KGH\",\"KGH\",\"KGH\",\"KGH\",\"KGH\",\"KGH\",\"KGH\",\"KGH\",\"KGH\",\"KGH\",\"KGH\",\"KGH\",\"KGH\",\"KGH\",\"KGH\",\"KGH\",\"KGH\",\"KGH\",\"KGH\",\"KGH\",\"KGH\",\"KGH\",\"KGH\",\"KGH\",\"KGH\",\"KGH\",\"KGH\",\"KGH\",\"KGH\",\"KGH\",\"KGH\",\"KGH\",\"KGH\",\"KGH\",\"KGH\",\"KGH\",\"KGH\",\"KGH\",\"KGH\",\"KGH\",\"KGH\",\"KGH\",\"KGH\",\"KGH\",\"KGH\",\"KGH\",\"KGH\",\"KGH\",\"KGH\",\"KGH\",\"KGH\",\"KGH\",\"KGH\",\"KGH\",\"KGH\",\"KGH\",\"KGH\",\"KGH\",\"KGH\",\"KGH\",\"KGH\",\"KGH\",\"KGH\",\"KGH\",\"KGH\",\"KGH\",\"KGH\",\"KGH\",\"KGH\",\"KGH\",\"KGH\",\"KGH\",\"KGH\",\"KGH\",\"KGH\",\"KGH\",\"KGH\",\"KGH\",\"KGH\",\"KGH\",\"KGH\",\"KGH\",\"KGH\",\"KGH\",\"KGH\",\"KGH\",\"KGH\",\"KGH\",\"KGH\",\"KGH\",\"KGH\",\"KGH\",\"KGH\",\"KGH\",\"KGH\",\"KGH\",\"KGH\",\"KGH\",\"KGH\",\"KGH\",\"KGH\",\"KGH\",\"KGH\",\"KGH\",\"KGH\",\"KGH\",\"KGH\",\"KGH\",\"KGH\",\"KGH\",\"KGH\",\"KGH\",\"KGH\",\"KGH\",\"KGH\",\"KGH\",\"KGH\",\"KGH\",\"KGH\",\"KGH\",\"KGH\",\"KGH\",\"KGH\",\"KGH\",\"KGH\",\"KGH\",\"KGH\",\"KGH\",\"KGH\",\"KGH\",\"KGH\",\"KGH\",\"KGH\",\"KGH\",\"KGH\",\"KGH\",\"KGH\",\"KGH\",\"KGH\",\"KGH\",\"KGH\",\"KGH\",\"KGH\",\"KGH\",\"KGH\",\"KGH\",\"KGH\",\"KGH\",\"KGH\",\"KGH\",\"KGH\",\"KGH\",\"KGH\",\"KGH\",\"KGH\",\"KGH\",\"KGH\",\"KGH\",\"KGH\",\"KGH\",\"KGH\",\"KGH\",\"KGH\",\"KGH\",\"KGH\",\"KGH\",\"KGH\",\"KGH\",\"KGH\",\"KGH\",\"KGH\",\"KGH\",\"KGH\",\"KGH\",\"KGH\",\"KGH\",\"KGH\",\"KGH\",\"KGH\",\"KGH\",\"KGH\",\"KGH\",\"KGH\",\"KGH\",\"KGH\",\"KGH\",\"KGH\",\"KGH\",\"KGH\",\"KGH\",\"KGH\",\"KGH\",\"KGH\",\"KGH\"],\"yaxis\":\"y\",\"type\":\"scattergl\"},{\"hovertemplate\":\"Building=%{y}<br>Date=%{x}<extra></extra>\",\"legendgroup\":\"Francis Searle\",\"marker\":{\"color\":\"#ab63fa\",\"symbol\":\"circle\"},\"mode\":\"markers\",\"name\":\"Francis Searle\",\"showlegend\":true,\"x\":[\"2017-08-25 00:00:00\",\"2017-08-25 00:00:00\",\"2017-09-08 00:00:00\",\"2017-09-08 00:00:00\",\"2017-09-14 00:00:00\",\"2017-09-28 00:00:00\",\"2017-09-28 00:00:00\",\"2017-09-29 00:00:00\",\"2017-09-29 00:00:00\",\"2017-09-29 00:00:00\",\"2017-09-29 00:00:00\",\"2017-10-02 00:00:00\",\"2017-10-20 00:00:00\",\"2017-10-25 00:00:00\",\"2017-10-27 00:00:00\",\"2017-10-29 00:00:00\",\"2017-10-29 00:00:00\",\"2018-04-14 00:00:00\",\"2018-04-24 00:00:00\",\"2018-10-29 00:00:00\",\"2018-11-11 00:00:00\",\"2018-11-13 00:00:00\",\"2019-05-14 00:00:00\",\"2019-05-21 00:00:00\",\"2019-05-25 00:00:00\",\"2019-08-30 00:00:00\",\"2019-08-30 00:00:00\",\"2019-09-14 00:00:00\",\"2019-09-17 00:00:00\",\"2019-09-25 00:00:00\",\"2019-10-05 00:00:00\",\"2019-10-08 00:00:00\",\"2021-05-02 00:00:00\",\"2021-05-16 00:00:00\",\"2021-05-18 00:00:00\",\"2021-05-21 00:00:00\",\"2021-05-21 00:00:00\",\"2021-06-01 00:00:00\"],\"xaxis\":\"x\",\"y\":[\"Francis Searle\",\"Francis Searle\",\"Francis Searle\",\"Francis Searle\",\"Francis Searle\",\"Francis Searle\",\"Francis Searle\",\"Francis Searle\",\"Francis Searle\",\"Francis Searle\",\"Francis Searle\",\"Francis Searle\",\"Francis Searle\",\"Francis Searle\",\"Francis Searle\",\"Francis Searle\",\"Francis Searle\",\"Francis Searle\",\"Francis Searle\",\"Francis Searle\",\"Francis Searle\",\"Francis Searle\",\"Francis Searle\",\"Francis Searle\",\"Francis Searle\",\"Francis Searle\",\"Francis Searle\",\"Francis Searle\",\"Francis Searle\",\"Francis Searle\",\"Francis Searle\",\"Francis Searle\",\"Francis Searle\",\"Francis Searle\",\"Francis Searle\",\"Francis Searle\",\"Francis Searle\",\"Francis Searle\"],\"yaxis\":\"y\",\"type\":\"scattergl\"},{\"hovertemplate\":\"Building=%{y}<br>Date=%{x}<extra></extra>\",\"legendgroup\":\"Norris\",\"marker\":{\"color\":\"#FFA15A\",\"symbol\":\"circle\"},\"mode\":\"markers\",\"name\":\"Norris\",\"showlegend\":true,\"x\":[\"2017-08-25 00:00:00\",\"2017-09-07 00:00:00\",\"2017-09-26 00:00:00\",\"2017-09-27 00:00:00\",\"2017-10-05 00:00:00\",\"2017-10-05 00:00:00\",\"2017-10-17 00:00:00\",\"2017-10-20 00:00:00\",\"2017-11-01 00:00:00\",\"2017-11-08 00:00:00\",\"2018-04-16 00:00:00\",\"2018-05-01 00:00:00\",\"2018-05-02 00:00:00\",\"2018-05-02 00:00:00\",\"2018-05-02 00:00:00\",\"2018-05-03 00:00:00\",\"2018-05-03 00:00:00\",\"2018-05-03 00:00:00\",\"2018-05-04 00:00:00\",\"2018-05-05 00:00:00\",\"2018-05-05 00:00:00\",\"2018-05-09 00:00:00\",\"2018-05-10 00:00:00\",\"2018-05-14 00:00:00\",\"2018-05-15 00:00:00\",\"2018-05-16 00:00:00\",\"2018-05-18 00:00:00\",\"2018-05-22 00:00:00\",\"2018-05-22 00:00:00\",\"2018-05-23 00:00:00\",\"2018-10-01 00:00:00\",\"2018-10-04 00:00:00\",\"2018-10-08 00:00:00\",\"2018-10-13 00:00:00\",\"2018-10-14 00:00:00\",\"2018-10-18 00:00:00\",\"2018-10-18 00:00:00\",\"2019-04-13 00:00:00\",\"2019-04-18 00:00:00\",\"2019-04-21 00:00:00\",\"2019-04-22 00:00:00\",\"2019-05-06 00:00:00\",\"2019-05-06 00:00:00\",\"2019-05-06 00:00:00\",\"2019-05-06 00:00:00\",\"2019-05-07 00:00:00\",\"2019-05-07 00:00:00\",\"2019-05-09 00:00:00\",\"2019-05-09 00:00:00\",\"2019-05-10 00:00:00\",\"2019-05-15 00:00:00\",\"2019-05-15 00:00:00\",\"2019-05-16 00:00:00\",\"2019-05-16 00:00:00\",\"2019-05-16 00:00:00\",\"2019-05-16 00:00:00\",\"2019-05-16 00:00:00\",\"2019-05-16 00:00:00\",\"2019-05-16 00:00:00\",\"2019-05-16 00:00:00\",\"2019-05-17 00:00:00\",\"2019-05-20 00:00:00\",\"2019-05-20 00:00:00\",\"2019-05-23 00:00:00\",\"2019-05-23 00:00:00\",\"2019-05-24 00:00:00\",\"2019-05-26 00:00:00\",\"2019-05-28 00:00:00\",\"2019-06-01 00:00:00\",\"2019-08-29 00:00:00\",\"2019-08-30 00:00:00\",\"2019-09-15 00:00:00\",\"2019-10-06 00:00:00\",\"2019-10-14 00:00:00\",\"2019-10-14 00:00:00\",\"2019-10-14 00:00:00\",\"2019-10-17 00:00:00\",\"2019-10-22 00:00:00\",\"2019-10-25 00:00:00\",\"2019-10-25 00:00:00\",\"2020-05-08 00:00:00\",\"2020-05-24 00:00:00\",\"2020-05-28 00:00:00\",\"2020-09-07 00:00:00\",\"2020-09-24 00:00:00\",\"2020-10-02 00:00:00\",\"2020-10-08 00:00:00\",\"2021-04-02 00:00:00\",\"2021-05-04 00:00:00\",\"2021-05-21 00:00:00\",\"2021-05-25 00:00:00\",\"2021-09-13 00:00:00\",\"2021-10-18 00:00:00\",\"2021-10-18 00:00:00\",\"2021-11-15 00:00:00\"],\"xaxis\":\"x\",\"y\":[\"Norris\",\"Norris\",\"Norris\",\"Norris\",\"Norris\",\"Norris\",\"Norris\",\"Norris\",\"Norris\",\"Norris\",\"Norris\",\"Norris\",\"Norris\",\"Norris\",\"Norris\",\"Norris\",\"Norris\",\"Norris\",\"Norris\",\"Norris\",\"Norris\",\"Norris\",\"Norris\",\"Norris\",\"Norris\",\"Norris\",\"Norris\",\"Norris\",\"Norris\",\"Norris\",\"Norris\",\"Norris\",\"Norris\",\"Norris\",\"Norris\",\"Norris\",\"Norris\",\"Norris\",\"Norris\",\"Norris\",\"Norris\",\"Norris\",\"Norris\",\"Norris\",\"Norris\",\"Norris\",\"Norris\",\"Norris\",\"Norris\",\"Norris\",\"Norris\",\"Norris\",\"Norris\",\"Norris\",\"Norris\",\"Norris\",\"Norris\",\"Norris\",\"Norris\",\"Norris\",\"Norris\",\"Norris\",\"Norris\",\"Norris\",\"Norris\",\"Norris\",\"Norris\",\"Norris\",\"Norris\",\"Norris\",\"Norris\",\"Norris\",\"Norris\",\"Norris\",\"Norris\",\"Norris\",\"Norris\",\"Norris\",\"Norris\",\"Norris\",\"Norris\",\"Norris\",\"Norris\",\"Norris\",\"Norris\",\"Norris\",\"Norris\",\"Norris\",\"Norris\",\"Norris\",\"Norris\",\"Norris\",\"Norris\",\"Norris\",\"Norris\"],\"yaxis\":\"y\",\"type\":\"scattergl\"},{\"hovertemplate\":\"Building=%{y}<br>Date=%{x}<extra></extra>\",\"legendgroup\":\"Allen Center\",\"marker\":{\"color\":\"#19d3f3\",\"symbol\":\"circle\"},\"mode\":\"markers\",\"name\":\"Allen Center\",\"showlegend\":true,\"x\":[\"2017-08-27 00:00:00\",\"2017-08-27 00:00:00\",\"2017-08-31 00:00:00\",\"2017-09-03 00:00:00\",\"2017-09-03 00:00:00\",\"2017-09-03 00:00:00\",\"2017-09-06 00:00:00\",\"2017-09-07 00:00:00\",\"2017-09-08 00:00:00\",\"2017-09-12 00:00:00\",\"2017-09-17 00:00:00\",\"2017-09-27 00:00:00\",\"2017-09-28 00:00:00\",\"2017-09-28 00:00:00\",\"2017-09-29 00:00:00\",\"2017-09-29 00:00:00\",\"2017-10-07 00:00:00\",\"2017-10-08 00:00:00\",\"2017-10-09 00:00:00\",\"2017-10-13 00:00:00\",\"2017-10-19 00:00:00\",\"2017-10-20 00:00:00\",\"2017-10-25 00:00:00\",\"2017-10-29 00:00:00\",\"2018-03-30 00:00:00\",\"2018-03-31 00:00:00\",\"2018-04-04 00:00:00\",\"2018-04-06 00:00:00\",\"2018-04-10 00:00:00\",\"2018-04-12 00:00:00\",\"2018-04-12 00:00:00\",\"2018-04-18 00:00:00\",\"2018-04-30 00:00:00\",\"2018-05-01 00:00:00\",\"2018-05-01 00:00:00\",\"2018-05-02 00:00:00\",\"2018-05-03 00:00:00\",\"2018-05-04 00:00:00\",\"2018-05-04 00:00:00\",\"2018-05-04 00:00:00\",\"2018-05-04 00:00:00\",\"2018-05-07 00:00:00\",\"2018-05-07 00:00:00\",\"2018-05-10 00:00:00\",\"2018-05-16 00:00:00\",\"2018-05-17 00:00:00\",\"2018-05-22 00:00:00\",\"2018-05-23 00:00:00\",\"2018-05-23 00:00:00\",\"2018-05-23 00:00:00\",\"2018-05-23 00:00:00\",\"2018-05-25 00:00:00\",\"2018-05-29 00:00:00\",\"2018-09-03 00:00:00\",\"2018-09-06 00:00:00\",\"2018-09-06 00:00:00\",\"2018-09-18 00:00:00\",\"2018-09-22 00:00:00\",\"2018-10-09 00:00:00\",\"2018-10-11 00:00:00\",\"2018-10-11 00:00:00\",\"2018-10-12 00:00:00\",\"2018-10-16 00:00:00\",\"2018-10-17 00:00:00\",\"2018-10-18 00:00:00\",\"2018-10-18 00:00:00\",\"2018-10-19 00:00:00\",\"2018-10-19 00:00:00\",\"2018-10-19 00:00:00\",\"2018-10-23 00:00:00\",\"2018-10-23 00:00:00\",\"2018-11-09 00:00:00\",\"2018-11-15 00:00:00\",\"2019-03-20 00:00:00\",\"2019-04-06 00:00:00\",\"2019-04-08 00:00:00\",\"2019-04-16 00:00:00\",\"2019-04-23 00:00:00\",\"2019-04-24 00:00:00\",\"2019-04-30 00:00:00\",\"2019-05-02 00:00:00\",\"2019-05-03 00:00:00\",\"2019-05-03 00:00:00\",\"2019-05-05 00:00:00\",\"2019-05-05 00:00:00\",\"2019-05-07 00:00:00\",\"2019-05-09 00:00:00\",\"2019-05-10 00:00:00\",\"2019-05-14 00:00:00\",\"2019-05-15 00:00:00\",\"2019-05-15 00:00:00\",\"2019-05-16 00:00:00\",\"2019-05-16 00:00:00\",\"2019-05-16 00:00:00\",\"2019-05-21 00:00:00\",\"2019-05-21 00:00:00\",\"2019-05-21 00:00:00\",\"2019-05-23 00:00:00\",\"2019-05-23 00:00:00\",\"2019-05-25 00:00:00\",\"2019-05-25 00:00:00\",\"2019-05-25 00:00:00\",\"2019-06-01 00:00:00\",\"2019-06-04 00:00:00\",\"2019-08-19 00:00:00\",\"2019-08-22 00:00:00\",\"2019-08-29 00:00:00\",\"2019-08-29 00:00:00\",\"2019-08-29 00:00:00\",\"2019-08-30 00:00:00\",\"2019-09-01 00:00:00\",\"2019-09-08 00:00:00\",\"2019-09-14 00:00:00\",\"2019-09-17 00:00:00\",\"2019-09-19 00:00:00\",\"2019-09-21 00:00:00\",\"2019-09-24 00:00:00\",\"2019-09-24 00:00:00\",\"2019-09-27 00:00:00\",\"2019-10-06 00:00:00\",\"2019-10-13 00:00:00\",\"2019-10-15 00:00:00\",\"2019-10-15 00:00:00\",\"2019-10-15 00:00:00\",\"2019-10-18 00:00:00\",\"2019-10-22 00:00:00\",\"2019-10-26 00:00:00\",\"2019-10-26 00:00:00\",\"2019-10-28 00:00:00\",\"2019-11-05 00:00:00\",\"2020-05-13 00:00:00\",\"2020-05-13 00:00:00\",\"2020-05-13 00:00:00\",\"2020-05-15 00:00:00\",\"2020-05-15 00:00:00\",\"2020-05-15 00:00:00\",\"2020-05-16 00:00:00\",\"2020-05-20 00:00:00\",\"2020-05-20 00:00:00\",\"2020-05-22 00:00:00\",\"2020-06-03 00:00:00\",\"2020-06-04 00:00:00\",\"2020-09-07 00:00:00\",\"2020-09-14 00:00:00\",\"2020-09-30 00:00:00\",\"2020-10-01 00:00:00\",\"2020-10-01 00:00:00\",\"2020-10-03 00:00:00\",\"2020-10-04 00:00:00\",\"2020-10-08 00:00:00\",\"2020-10-09 00:00:00\",\"2020-10-16 00:00:00\",\"2020-10-16 00:00:00\",\"2020-10-19 00:00:00\",\"2020-10-22 00:00:00\",\"2020-10-24 00:00:00\",\"2020-10-26 00:00:00\",\"2020-10-30 00:00:00\",\"2021-03-28 00:00:00\",\"2021-04-02 00:00:00\",\"2021-04-18 00:00:00\",\"2021-04-18 00:00:00\",\"2021-04-23 00:00:00\",\"2021-04-24 00:00:00\",\"2021-04-27 00:00:00\",\"2021-04-27 00:00:00\",\"2021-04-27 00:00:00\",\"2021-05-02 00:00:00\",\"2021-05-02 00:00:00\",\"2021-05-02 00:00:00\",\"2021-05-02 00:00:00\",\"2021-05-04 00:00:00\",\"2021-05-14 00:00:00\",\"2021-05-15 00:00:00\",\"2021-05-16 00:00:00\",\"2021-05-16 00:00:00\",\"2021-05-17 00:00:00\",\"2021-05-17 00:00:00\",\"2021-05-18 00:00:00\",\"2021-05-20 00:00:00\",\"2021-05-21 00:00:00\",\"2021-05-21 00:00:00\",\"2021-05-24 00:00:00\",\"2021-05-24 00:00:00\",\"2021-05-25 00:00:00\",\"2021-05-25 00:00:00\",\"2021-05-25 00:00:00\",\"2021-06-08 00:00:00\",\"2021-06-09 00:00:00\",\"2021-09-10 00:00:00\",\"2021-09-10 00:00:00\",\"2021-09-10 00:00:00\",\"2021-09-13 00:00:00\",\"2021-09-13 00:00:00\",\"2021-09-13 00:00:00\",\"2021-09-13 00:00:00\",\"2021-09-23 00:00:00\",\"2021-09-25 00:00:00\",\"2021-09-25 00:00:00\",\"2021-09-25 00:00:00\",\"2021-10-01 00:00:00\",\"2021-10-18 00:00:00\",\"2021-10-18 00:00:00\",\"2021-10-23 00:00:00\",\"2021-11-05 00:00:00\",\"2021-11-27 00:00:00\"],\"xaxis\":\"x\",\"y\":[\"Allen Center\",\"Allen Center\",\"Allen Center\",\"Allen Center\",\"Allen Center\",\"Allen Center\",\"Allen Center\",\"Allen Center\",\"Allen Center\",\"Allen Center\",\"Allen Center\",\"Allen Center\",\"Allen Center\",\"Allen Center\",\"Allen Center\",\"Allen Center\",\"Allen Center\",\"Allen Center\",\"Allen Center\",\"Allen Center\",\"Allen Center\",\"Allen Center\",\"Allen Center\",\"Allen Center\",\"Allen Center\",\"Allen Center\",\"Allen Center\",\"Allen Center\",\"Allen Center\",\"Allen Center\",\"Allen Center\",\"Allen Center\",\"Allen Center\",\"Allen Center\",\"Allen Center\",\"Allen Center\",\"Allen Center\",\"Allen Center\",\"Allen Center\",\"Allen Center\",\"Allen Center\",\"Allen Center\",\"Allen Center\",\"Allen Center\",\"Allen Center\",\"Allen Center\",\"Allen Center\",\"Allen Center\",\"Allen Center\",\"Allen Center\",\"Allen Center\",\"Allen Center\",\"Allen Center\",\"Allen Center\",\"Allen Center\",\"Allen Center\",\"Allen Center\",\"Allen Center\",\"Allen Center\",\"Allen Center\",\"Allen Center\",\"Allen Center\",\"Allen Center\",\"Allen Center\",\"Allen Center\",\"Allen Center\",\"Allen Center\",\"Allen Center\",\"Allen Center\",\"Allen Center\",\"Allen Center\",\"Allen Center\",\"Allen Center\",\"Allen Center\",\"Allen Center\",\"Allen Center\",\"Allen Center\",\"Allen Center\",\"Allen Center\",\"Allen Center\",\"Allen Center\",\"Allen Center\",\"Allen Center\",\"Allen Center\",\"Allen Center\",\"Allen Center\",\"Allen Center\",\"Allen Center\",\"Allen Center\",\"Allen Center\",\"Allen Center\",\"Allen Center\",\"Allen Center\",\"Allen Center\",\"Allen Center\",\"Allen Center\",\"Allen Center\",\"Allen Center\",\"Allen Center\",\"Allen Center\",\"Allen Center\",\"Allen Center\",\"Allen Center\",\"Allen Center\",\"Allen Center\",\"Allen Center\",\"Allen Center\",\"Allen Center\",\"Allen Center\",\"Allen Center\",\"Allen Center\",\"Allen Center\",\"Allen Center\",\"Allen Center\",\"Allen Center\",\"Allen Center\",\"Allen Center\",\"Allen Center\",\"Allen Center\",\"Allen Center\",\"Allen Center\",\"Allen Center\",\"Allen Center\",\"Allen Center\",\"Allen Center\",\"Allen Center\",\"Allen Center\",\"Allen Center\",\"Allen Center\",\"Allen Center\",\"Allen Center\",\"Allen Center\",\"Allen Center\",\"Allen Center\",\"Allen Center\",\"Allen Center\",\"Allen Center\",\"Allen Center\",\"Allen Center\",\"Allen Center\",\"Allen Center\",\"Allen Center\",\"Allen Center\",\"Allen Center\",\"Allen Center\",\"Allen Center\",\"Allen Center\",\"Allen Center\",\"Allen Center\",\"Allen Center\",\"Allen Center\",\"Allen Center\",\"Allen Center\",\"Allen Center\",\"Allen Center\",\"Allen Center\",\"Allen Center\",\"Allen Center\",\"Allen Center\",\"Allen Center\",\"Allen Center\",\"Allen Center\",\"Allen Center\",\"Allen Center\",\"Allen Center\",\"Allen Center\",\"Allen Center\",\"Allen Center\",\"Allen Center\",\"Allen Center\",\"Allen Center\",\"Allen Center\",\"Allen Center\",\"Allen Center\",\"Allen Center\",\"Allen Center\",\"Allen Center\",\"Allen Center\",\"Allen Center\",\"Allen Center\",\"Allen Center\",\"Allen Center\",\"Allen Center\",\"Allen Center\",\"Allen Center\",\"Allen Center\",\"Allen Center\",\"Allen Center\",\"Allen Center\",\"Allen Center\",\"Allen Center\",\"Allen Center\",\"Allen Center\",\"Allen Center\",\"Allen Center\",\"Allen Center\",\"Allen Center\",\"Allen Center\",\"Allen Center\",\"Allen Center\",\"Allen Center\",\"Allen Center\",\"Allen Center\",\"Allen Center\",\"Allen Center\",\"Allen Center\"],\"yaxis\":\"y\",\"type\":\"scattergl\"},{\"hovertemplate\":\"Building=%{y}<br>Date=%{x}<extra></extra>\",\"legendgroup\":\"Block Museum\",\"marker\":{\"color\":\"#FF6692\",\"symbol\":\"circle\"},\"mode\":\"markers\",\"name\":\"Block Museum\",\"showlegend\":true,\"x\":[\"2017-09-02 00:00:00\",\"2017-10-01 00:00:00\",\"2017-10-19 00:00:00\",\"2017-11-01 00:00:00\",\"2018-04-04 00:00:00\",\"2018-05-02 00:00:00\",\"2018-05-02 00:00:00\",\"2018-05-04 00:00:00\",\"2018-05-10 00:00:00\",\"2018-09-28 00:00:00\",\"2018-10-12 00:00:00\",\"2018-10-17 00:00:00\",\"2019-05-20 00:00:00\",\"2019-10-15 00:00:00\",\"2019-10-23 00:00:00\",\"2019-11-20 00:00:00\",\"2020-05-15 00:00:00\",\"2020-05-23 00:00:00\",\"2020-10-20 00:00:00\",\"2020-11-06 00:00:00\",\"2021-05-02 00:00:00\",\"2021-09-05 00:00:00\",\"2021-09-24 00:00:00\"],\"xaxis\":\"x\",\"y\":[\"Block Museum\",\"Block Museum\",\"Block Museum\",\"Block Museum\",\"Block Museum\",\"Block Museum\",\"Block Museum\",\"Block Museum\",\"Block Museum\",\"Block Museum\",\"Block Museum\",\"Block Museum\",\"Block Museum\",\"Block Museum\",\"Block Museum\",\"Block Museum\",\"Block Museum\",\"Block Museum\",\"Block Museum\",\"Block Museum\",\"Block Museum\",\"Block Museum\",\"Block Museum\"],\"yaxis\":\"y\",\"type\":\"scattergl\"},{\"hovertemplate\":\"Building=%{y}<br>Date=%{x}<extra></extra>\",\"legendgroup\":\"Pick Stager\",\"marker\":{\"color\":\"#B6E880\",\"symbol\":\"circle\"},\"mode\":\"markers\",\"name\":\"Pick Stager\",\"showlegend\":true,\"x\":[\"2017-09-02 00:00:00\",\"2017-09-22 00:00:00\",\"2017-10-18 00:00:00\",\"2017-11-03 00:00:00\",\"2018-04-18 00:00:00\",\"2018-05-04 00:00:00\",\"2018-05-10 00:00:00\",\"2018-05-10 00:00:00\",\"2018-05-10 00:00:00\",\"2018-05-15 00:00:00\",\"2018-05-17 00:00:00\",\"2018-05-18 00:00:00\",\"2018-05-20 00:00:00\",\"2018-05-21 00:00:00\",\"2018-05-22 00:00:00\",\"2018-05-23 00:00:00\",\"2018-09-06 00:00:00\",\"2018-10-13 00:00:00\",\"2018-11-16 00:00:00\",\"2019-05-14 00:00:00\",\"2019-08-30 00:00:00\",\"2019-09-26 00:00:00\",\"2020-05-11 00:00:00\",\"2020-05-15 00:00:00\",\"2020-09-25 00:00:00\",\"2020-10-11 00:00:00\",\"2020-10-30 00:00:00\",\"2021-03-27 00:00:00\",\"2021-06-04 00:00:00\"],\"xaxis\":\"x\",\"y\":[\"Pick Stager\",\"Pick Stager\",\"Pick Stager\",\"Pick Stager\",\"Pick Stager\",\"Pick Stager\",\"Pick Stager\",\"Pick Stager\",\"Pick Stager\",\"Pick Stager\",\"Pick Stager\",\"Pick Stager\",\"Pick Stager\",\"Pick Stager\",\"Pick Stager\",\"Pick Stager\",\"Pick Stager\",\"Pick Stager\",\"Pick Stager\",\"Pick Stager\",\"Pick Stager\",\"Pick Stager\",\"Pick Stager\",\"Pick Stager\",\"Pick Stager\",\"Pick Stager\",\"Pick Stager\",\"Pick Stager\",\"Pick Stager\"],\"yaxis\":\"y\",\"type\":\"scattergl\"},{\"hovertemplate\":\"Building=%{y}<br>Date=%{x}<extra></extra>\",\"legendgroup\":\"Ryan Arts Center\",\"marker\":{\"color\":\"#FF97FF\",\"symbol\":\"circle\"},\"mode\":\"markers\",\"name\":\"Ryan Arts Center\",\"showlegend\":true,\"x\":[\"2017-09-05 00:00:00\",\"2017-09-13 00:00:00\",\"2017-09-14 00:00:00\",\"2017-10-05 00:00:00\",\"2017-10-09 00:00:00\",\"2017-10-13 00:00:00\",\"2017-10-17 00:00:00\",\"2017-10-20 00:00:00\",\"2017-10-20 00:00:00\",\"2018-09-04 00:00:00\",\"2018-09-13 00:00:00\",\"2018-09-18 00:00:00\",\"2018-09-18 00:00:00\",\"2018-09-27 00:00:00\",\"2018-09-28 00:00:00\",\"2018-09-28 00:00:00\",\"2018-10-05 00:00:00\",\"2018-10-11 00:00:00\",\"2018-10-12 00:00:00\",\"2018-10-15 00:00:00\",\"2018-10-18 00:00:00\",\"2018-10-22 00:00:00\",\"2018-10-23 00:00:00\",\"2019-05-07 00:00:00\",\"2019-05-16 00:00:00\",\"2019-05-17 00:00:00\",\"2019-05-18 00:00:00\",\"2019-05-19 00:00:00\",\"2019-05-23 00:00:00\",\"2019-09-17 00:00:00\",\"2019-09-30 00:00:00\",\"2019-10-24 00:00:00\",\"2020-03-20 00:00:00\",\"2020-03-26 00:00:00\",\"2020-04-04 00:00:00\",\"2020-05-13 00:00:00\",\"2020-09-03 00:00:00\",\"2020-09-05 00:00:00\",\"2020-09-24 00:00:00\",\"2020-09-30 00:00:00\",\"2020-10-08 00:00:00\",\"2020-10-14 00:00:00\",\"2020-11-10 00:00:00\",\"2020-11-10 00:00:00\",\"2021-04-01 00:00:00\",\"2021-04-29 00:00:00\",\"2021-05-07 00:00:00\",\"2021-05-25 00:00:00\",\"2021-06-03 00:00:00\",\"2021-06-04 00:00:00\",\"2021-09-10 00:00:00\",\"2021-09-13 00:00:00\",\"2021-09-24 00:00:00\",\"2021-10-13 00:00:00\",\"2021-10-16 00:00:00\"],\"xaxis\":\"x\",\"y\":[\"Ryan Arts Center\",\"Ryan Arts Center\",\"Ryan Arts Center\",\"Ryan Arts Center\",\"Ryan Arts Center\",\"Ryan Arts Center\",\"Ryan Arts Center\",\"Ryan Arts Center\",\"Ryan Arts Center\",\"Ryan Arts Center\",\"Ryan Arts Center\",\"Ryan Arts Center\",\"Ryan Arts Center\",\"Ryan Arts Center\",\"Ryan Arts Center\",\"Ryan Arts Center\",\"Ryan Arts Center\",\"Ryan Arts Center\",\"Ryan Arts Center\",\"Ryan Arts Center\",\"Ryan Arts Center\",\"Ryan Arts Center\",\"Ryan Arts Center\",\"Ryan Arts Center\",\"Ryan Arts Center\",\"Ryan Arts Center\",\"Ryan Arts Center\",\"Ryan Arts Center\",\"Ryan Arts Center\",\"Ryan Arts Center\",\"Ryan Arts Center\",\"Ryan Arts Center\",\"Ryan Arts Center\",\"Ryan Arts Center\",\"Ryan Arts Center\",\"Ryan Arts Center\",\"Ryan Arts Center\",\"Ryan Arts Center\",\"Ryan Arts Center\",\"Ryan Arts Center\",\"Ryan Arts Center\",\"Ryan Arts Center\",\"Ryan Arts Center\",\"Ryan Arts Center\",\"Ryan Arts Center\",\"Ryan Arts Center\",\"Ryan Arts Center\",\"Ryan Arts Center\",\"Ryan Arts Center\",\"Ryan Arts Center\",\"Ryan Arts Center\",\"Ryan Arts Center\",\"Ryan Arts Center\",\"Ryan Arts Center\",\"Ryan Arts Center\"],\"yaxis\":\"y\",\"type\":\"scattergl\"},{\"hovertemplate\":\"Building=%{y}<br>Date=%{x}<extra></extra>\",\"legendgroup\":\"Segal Visitor Center\",\"marker\":{\"color\":\"#FECB52\",\"symbol\":\"circle\"},\"mode\":\"markers\",\"name\":\"Segal Visitor Center\",\"showlegend\":true,\"x\":[\"2017-09-07 00:00:00\",\"2017-09-09 00:00:00\",\"2017-10-12 00:00:00\",\"2017-10-17 00:00:00\",\"2018-04-13 00:00:00\",\"2018-04-16 00:00:00\",\"2018-05-04 00:00:00\",\"2018-05-04 00:00:00\",\"2018-05-05 00:00:00\",\"2018-05-12 00:00:00\",\"2018-05-16 00:00:00\",\"2018-05-24 00:00:00\",\"2018-05-24 00:00:00\",\"2018-09-04 00:00:00\",\"2018-09-07 00:00:00\",\"2018-09-19 00:00:00\",\"2018-10-05 00:00:00\",\"2018-10-05 00:00:00\",\"2018-10-05 00:00:00\",\"2018-10-06 00:00:00\",\"2018-10-11 00:00:00\",\"2018-10-19 00:00:00\",\"2018-11-13 00:00:00\",\"2019-03-24 00:00:00\",\"2019-04-16 00:00:00\",\"2019-04-28 00:00:00\",\"2019-05-06 00:00:00\",\"2019-05-11 00:00:00\",\"2019-05-20 00:00:00\",\"2019-05-22 00:00:00\",\"2019-09-10 00:00:00\",\"2019-09-22 00:00:00\",\"2019-10-16 00:00:00\",\"2019-10-25 00:00:00\",\"2019-10-25 00:00:00\",\"2019-10-25 00:00:00\",\"2019-11-07 00:00:00\",\"2020-05-15 00:00:00\",\"2020-05-19 00:00:00\",\"2020-05-19 00:00:00\",\"2020-05-31 00:00:00\",\"2020-10-29 00:00:00\",\"2020-11-07 00:00:00\",\"2021-05-20 00:00:00\",\"2021-09-30 00:00:00\",\"2021-10-18 00:00:00\"],\"xaxis\":\"x\",\"y\":[\"Segal Visitor Center\",\"Segal Visitor Center\",\"Segal Visitor Center\",\"Segal Visitor Center\",\"Segal Visitor Center\",\"Segal Visitor Center\",\"Segal Visitor Center\",\"Segal Visitor Center\",\"Segal Visitor Center\",\"Segal Visitor Center\",\"Segal Visitor Center\",\"Segal Visitor Center\",\"Segal Visitor Center\",\"Segal Visitor Center\",\"Segal Visitor Center\",\"Segal Visitor Center\",\"Segal Visitor Center\",\"Segal Visitor Center\",\"Segal Visitor Center\",\"Segal Visitor Center\",\"Segal Visitor Center\",\"Segal Visitor Center\",\"Segal Visitor Center\",\"Segal Visitor Center\",\"Segal Visitor Center\",\"Segal Visitor Center\",\"Segal Visitor Center\",\"Segal Visitor Center\",\"Segal Visitor Center\",\"Segal Visitor Center\",\"Segal Visitor Center\",\"Segal Visitor Center\",\"Segal Visitor Center\",\"Segal Visitor Center\",\"Segal Visitor Center\",\"Segal Visitor Center\",\"Segal Visitor Center\",\"Segal Visitor Center\",\"Segal Visitor Center\",\"Segal Visitor Center\",\"Segal Visitor Center\",\"Segal Visitor Center\",\"Segal Visitor Center\",\"Segal Visitor Center\",\"Segal Visitor Center\",\"Segal Visitor Center\"],\"yaxis\":\"y\",\"type\":\"scattergl\"},{\"hovertemplate\":\"Building=%{y}<br>Date=%{x}<extra></extra>\",\"legendgroup\":\"Cook Hall\",\"marker\":{\"color\":\"#636efa\",\"symbol\":\"circle\"},\"mode\":\"markers\",\"name\":\"Cook Hall\",\"showlegend\":true,\"x\":[\"2017-09-18 00:00:00\",\"2018-05-01 00:00:00\",\"2018-05-01 00:00:00\",\"2018-05-01 00:00:00\",\"2018-05-01 00:00:00\",\"2018-05-01 00:00:00\",\"2018-05-02 00:00:00\",\"2018-05-04 00:00:00\",\"2018-05-10 00:00:00\",\"2018-05-10 00:00:00\",\"2018-10-01 00:00:00\",\"2019-04-13 00:00:00\",\"2019-05-02 00:00:00\",\"2019-05-10 00:00:00\",\"2019-05-15 00:00:00\",\"2019-05-16 00:00:00\",\"2019-05-16 00:00:00\",\"2019-05-16 00:00:00\",\"2019-05-16 00:00:00\",\"2019-05-16 00:00:00\",\"2019-05-21 00:00:00\",\"2019-05-24 00:00:00\",\"2019-05-25 00:00:00\",\"2019-05-28 00:00:00\",\"2019-09-08 00:00:00\",\"2019-09-17 00:00:00\",\"2019-09-21 00:00:00\",\"2019-09-22 00:00:00\",\"2019-09-27 00:00:00\",\"2019-10-04 00:00:00\",\"2019-10-04 00:00:00\",\"2019-10-08 00:00:00\",\"2019-10-08 00:00:00\",\"2019-10-08 00:00:00\",\"2019-10-08 00:00:00\",\"2019-10-09 00:00:00\",\"2019-10-13 00:00:00\",\"2019-10-15 00:00:00\",\"2019-10-15 00:00:00\",\"2019-10-15 00:00:00\",\"2019-10-15 00:00:00\",\"2019-10-16 00:00:00\",\"2019-10-20 00:00:00\",\"2020-09-04 00:00:00\",\"2020-09-16 00:00:00\",\"2020-09-16 00:00:00\",\"2020-09-16 00:00:00\",\"2020-09-28 00:00:00\",\"2020-10-07 00:00:00\",\"2020-10-09 00:00:00\",\"2021-04-27 00:00:00\",\"2021-05-16 00:00:00\",\"2021-05-16 00:00:00\",\"2021-06-04 00:00:00\",\"2021-06-04 00:00:00\",\"2021-09-09 00:00:00\",\"2021-09-09 00:00:00\",\"2021-09-09 00:00:00\",\"2021-09-10 00:00:00\",\"2021-09-13 00:00:00\",\"2021-09-24 00:00:00\",\"2021-10-01 00:00:00\",\"2021-10-15 00:00:00\",\"2021-10-18 00:00:00\"],\"xaxis\":\"x\",\"y\":[\"Cook Hall\",\"Cook Hall\",\"Cook Hall\",\"Cook Hall\",\"Cook Hall\",\"Cook Hall\",\"Cook Hall\",\"Cook Hall\",\"Cook Hall\",\"Cook Hall\",\"Cook Hall\",\"Cook Hall\",\"Cook Hall\",\"Cook Hall\",\"Cook Hall\",\"Cook Hall\",\"Cook Hall\",\"Cook Hall\",\"Cook Hall\",\"Cook Hall\",\"Cook Hall\",\"Cook Hall\",\"Cook Hall\",\"Cook Hall\",\"Cook Hall\",\"Cook Hall\",\"Cook Hall\",\"Cook Hall\",\"Cook Hall\",\"Cook Hall\",\"Cook Hall\",\"Cook Hall\",\"Cook Hall\",\"Cook Hall\",\"Cook Hall\",\"Cook Hall\",\"Cook Hall\",\"Cook Hall\",\"Cook Hall\",\"Cook Hall\",\"Cook Hall\",\"Cook Hall\",\"Cook Hall\",\"Cook Hall\",\"Cook Hall\",\"Cook Hall\",\"Cook Hall\",\"Cook Hall\",\"Cook Hall\",\"Cook Hall\",\"Cook Hall\",\"Cook Hall\",\"Cook Hall\",\"Cook Hall\",\"Cook Hall\",\"Cook Hall\",\"Cook Hall\",\"Cook Hall\",\"Cook Hall\",\"Cook Hall\",\"Cook Hall\",\"Cook Hall\",\"Cook Hall\",\"Cook Hall\"],\"yaxis\":\"y\",\"type\":\"scattergl\"},{\"hovertemplate\":\"Building=%{y}<br>Date=%{x}<extra></extra>\",\"legendgroup\":\"Mudd Library\",\"marker\":{\"color\":\"#EF553B\",\"symbol\":\"circle\"},\"mode\":\"markers\",\"name\":\"Mudd Library\",\"showlegend\":true,\"x\":[\"2017-09-29 00:00:00\",\"2017-09-29 00:00:00\",\"2017-09-29 00:00:00\",\"2017-09-29 00:00:00\",\"2017-10-05 00:00:00\",\"2017-10-08 00:00:00\",\"2017-10-08 00:00:00\",\"2017-10-12 00:00:00\",\"2017-10-17 00:00:00\",\"2017-10-20 00:00:00\",\"2017-10-20 00:00:00\",\"2017-10-20 00:00:00\",\"2017-10-20 00:00:00\",\"2017-10-25 00:00:00\",\"2017-10-25 00:00:00\",\"2017-10-25 00:00:00\",\"2017-10-25 00:00:00\",\"2017-10-25 00:00:00\",\"2017-10-29 00:00:00\",\"2017-11-13 00:00:00\",\"2018-04-12 00:00:00\",\"2018-04-18 00:00:00\",\"2018-04-30 00:00:00\",\"2018-05-01 00:00:00\",\"2018-05-01 00:00:00\",\"2018-05-01 00:00:00\",\"2018-05-01 00:00:00\",\"2018-05-01 00:00:00\",\"2018-05-01 00:00:00\",\"2018-05-02 00:00:00\",\"2018-05-02 00:00:00\",\"2018-05-02 00:00:00\",\"2018-05-02 00:00:00\",\"2018-05-02 00:00:00\",\"2018-05-02 00:00:00\",\"2018-05-02 00:00:00\",\"2018-05-02 00:00:00\",\"2018-05-02 00:00:00\",\"2018-05-02 00:00:00\",\"2018-05-02 00:00:00\",\"2018-05-03 00:00:00\",\"2018-05-03 00:00:00\",\"2018-05-04 00:00:00\",\"2018-05-04 00:00:00\",\"2018-05-05 00:00:00\",\"2018-05-05 00:00:00\",\"2018-05-06 00:00:00\",\"2018-05-06 00:00:00\",\"2018-05-10 00:00:00\",\"2018-05-10 00:00:00\",\"2018-05-11 00:00:00\",\"2018-05-13 00:00:00\",\"2018-05-15 00:00:00\",\"2018-05-16 00:00:00\",\"2018-05-16 00:00:00\",\"2018-05-18 00:00:00\",\"2018-05-21 00:00:00\",\"2018-05-22 00:00:00\",\"2018-05-22 00:00:00\",\"2018-05-22 00:00:00\",\"2018-05-22 00:00:00\",\"2018-05-22 00:00:00\",\"2018-05-22 00:00:00\",\"2018-05-22 00:00:00\",\"2018-05-23 00:00:00\",\"2018-05-25 00:00:00\",\"2018-05-25 00:00:00\",\"2018-05-31 00:00:00\",\"2018-05-31 00:00:00\",\"2018-06-04 00:00:00\",\"2018-08-29 00:00:00\",\"2018-09-09 00:00:00\",\"2018-09-20 00:00:00\",\"2018-09-27 00:00:00\",\"2018-09-27 00:00:00\",\"2018-09-28 00:00:00\",\"2018-09-28 00:00:00\",\"2018-09-29 00:00:00\",\"2018-09-29 00:00:00\",\"2018-09-30 00:00:00\",\"2018-10-09 00:00:00\",\"2018-10-11 00:00:00\",\"2018-10-11 00:00:00\",\"2018-10-11 00:00:00\",\"2018-10-13 00:00:00\",\"2018-10-16 00:00:00\",\"2018-10-16 00:00:00\",\"2018-10-16 00:00:00\",\"2018-10-17 00:00:00\",\"2018-10-17 00:00:00\",\"2018-10-17 00:00:00\",\"2018-10-17 00:00:00\",\"2018-10-17 00:00:00\",\"2018-10-17 00:00:00\",\"2018-10-18 00:00:00\",\"2018-10-18 00:00:00\",\"2018-10-18 00:00:00\",\"2018-10-20 00:00:00\",\"2018-10-23 00:00:00\",\"2018-10-23 00:00:00\",\"2018-10-23 00:00:00\",\"2018-10-29 00:00:00\",\"2018-11-01 00:00:00\",\"2018-11-01 00:00:00\",\"2019-03-19 00:00:00\",\"2019-03-28 00:00:00\",\"2019-04-02 00:00:00\",\"2019-04-02 00:00:00\",\"2019-04-06 00:00:00\",\"2019-04-06 00:00:00\",\"2019-04-06 00:00:00\",\"2019-04-07 00:00:00\",\"2019-04-14 00:00:00\",\"2019-04-18 00:00:00\",\"2019-04-18 00:00:00\",\"2019-04-18 00:00:00\",\"2019-04-20 00:00:00\",\"2019-04-22 00:00:00\",\"2019-04-22 00:00:00\",\"2019-04-23 00:00:00\",\"2019-04-23 00:00:00\",\"2019-04-23 00:00:00\",\"2019-04-23 00:00:00\",\"2019-05-02 00:00:00\",\"2019-05-02 00:00:00\",\"2019-05-02 00:00:00\",\"2019-05-03 00:00:00\",\"2019-05-03 00:00:00\",\"2019-05-03 00:00:00\",\"2019-05-03 00:00:00\",\"2019-05-03 00:00:00\",\"2019-05-04 00:00:00\",\"2019-05-04 00:00:00\",\"2019-05-04 00:00:00\",\"2019-05-04 00:00:00\",\"2019-05-04 00:00:00\",\"2019-05-04 00:00:00\",\"2019-05-04 00:00:00\",\"2019-05-04 00:00:00\",\"2019-05-04 00:00:00\",\"2019-05-04 00:00:00\",\"2019-05-05 00:00:00\",\"2019-05-06 00:00:00\",\"2019-05-06 00:00:00\",\"2019-05-06 00:00:00\",\"2019-05-06 00:00:00\",\"2019-05-06 00:00:00\",\"2019-05-06 00:00:00\",\"2019-05-06 00:00:00\",\"2019-05-09 00:00:00\",\"2019-05-10 00:00:00\",\"2019-05-11 00:00:00\",\"2019-05-14 00:00:00\",\"2019-05-14 00:00:00\",\"2019-05-14 00:00:00\",\"2019-05-16 00:00:00\",\"2019-05-16 00:00:00\",\"2019-05-16 00:00:00\",\"2019-05-16 00:00:00\",\"2019-05-16 00:00:00\",\"2019-05-16 00:00:00\",\"2019-05-16 00:00:00\",\"2019-05-16 00:00:00\",\"2019-05-16 00:00:00\",\"2019-05-16 00:00:00\",\"2019-05-16 00:00:00\",\"2019-05-16 00:00:00\",\"2019-05-16 00:00:00\",\"2019-05-16 00:00:00\",\"2019-05-16 00:00:00\",\"2019-05-16 00:00:00\",\"2019-05-16 00:00:00\",\"2019-05-16 00:00:00\",\"2019-05-16 00:00:00\",\"2019-05-16 00:00:00\",\"2019-05-16 00:00:00\",\"2019-05-16 00:00:00\",\"2019-05-16 00:00:00\",\"2019-05-17 00:00:00\",\"2019-05-19 00:00:00\",\"2019-05-19 00:00:00\",\"2019-05-19 00:00:00\",\"2019-05-19 00:00:00\",\"2019-05-19 00:00:00\",\"2019-05-20 00:00:00\",\"2019-05-21 00:00:00\",\"2019-05-23 00:00:00\",\"2019-05-23 00:00:00\",\"2019-05-23 00:00:00\",\"2019-05-23 00:00:00\",\"2019-05-23 00:00:00\",\"2019-05-23 00:00:00\",\"2019-05-23 00:00:00\",\"2019-05-23 00:00:00\",\"2019-05-25 00:00:00\",\"2019-05-25 00:00:00\",\"2019-05-25 00:00:00\",\"2019-05-25 00:00:00\",\"2019-05-26 00:00:00\",\"2019-05-26 00:00:00\",\"2019-05-26 00:00:00\",\"2019-05-26 00:00:00\",\"2019-05-26 00:00:00\",\"2019-05-26 00:00:00\",\"2019-05-28 00:00:00\",\"2019-06-14 00:00:00\",\"2019-08-04 00:00:00\",\"2019-08-19 00:00:00\",\"2019-08-29 00:00:00\",\"2019-08-29 00:00:00\",\"2019-08-29 00:00:00\",\"2019-08-30 00:00:00\",\"2019-09-04 00:00:00\",\"2019-09-14 00:00:00\",\"2019-09-15 00:00:00\",\"2019-09-17 00:00:00\",\"2019-09-23 00:00:00\",\"2019-09-23 00:00:00\",\"2019-09-24 00:00:00\",\"2019-09-24 00:00:00\",\"2019-09-25 00:00:00\",\"2019-09-25 00:00:00\",\"2019-09-26 00:00:00\",\"2019-09-26 00:00:00\",\"2019-09-28 00:00:00\",\"2019-10-02 00:00:00\",\"2019-10-04 00:00:00\",\"2019-10-05 00:00:00\",\"2019-10-08 00:00:00\",\"2019-10-08 00:00:00\",\"2019-10-08 00:00:00\",\"2019-10-08 00:00:00\",\"2019-10-12 00:00:00\",\"2019-10-14 00:00:00\",\"2019-10-14 00:00:00\",\"2019-10-14 00:00:00\",\"2019-10-15 00:00:00\",\"2019-10-15 00:00:00\",\"2019-10-22 00:00:00\",\"2019-10-24 00:00:00\",\"2019-10-26 00:00:00\",\"2019-10-28 00:00:00\",\"2019-10-28 00:00:00\",\"2019-10-28 00:00:00\",\"2019-10-29 00:00:00\",\"2020-03-29 00:00:00\",\"2020-05-02 00:00:00\",\"2020-05-15 00:00:00\",\"2020-05-15 00:00:00\",\"2020-05-15 00:00:00\",\"2020-05-15 00:00:00\",\"2020-05-16 00:00:00\",\"2020-05-24 00:00:00\",\"2020-05-28 00:00:00\",\"2020-05-28 00:00:00\",\"2020-09-02 00:00:00\",\"2020-09-04 00:00:00\",\"2020-09-04 00:00:00\",\"2020-09-04 00:00:00\",\"2020-09-05 00:00:00\",\"2020-09-05 00:00:00\",\"2020-09-05 00:00:00\",\"2020-09-05 00:00:00\",\"2020-09-07 00:00:00\",\"2020-09-13 00:00:00\",\"2020-09-17 00:00:00\",\"2020-09-23 00:00:00\",\"2020-09-23 00:00:00\",\"2020-09-24 00:00:00\",\"2020-09-24 00:00:00\",\"2020-09-25 00:00:00\",\"2020-09-25 00:00:00\",\"2020-09-26 00:00:00\",\"2020-09-29 00:00:00\",\"2020-09-29 00:00:00\",\"2020-09-29 00:00:00\",\"2020-09-29 00:00:00\",\"2020-09-29 00:00:00\",\"2020-09-29 00:00:00\",\"2020-09-29 00:00:00\",\"2020-09-30 00:00:00\",\"2020-10-01 00:00:00\",\"2020-10-01 00:00:00\",\"2020-10-02 00:00:00\",\"2020-10-02 00:00:00\",\"2020-10-07 00:00:00\",\"2020-10-08 00:00:00\",\"2020-10-09 00:00:00\",\"2020-10-12 00:00:00\",\"2020-10-14 00:00:00\",\"2020-10-16 00:00:00\",\"2020-10-16 00:00:00\",\"2020-10-19 00:00:00\",\"2020-10-26 00:00:00\",\"2020-10-26 00:00:00\",\"2020-10-30 00:00:00\",\"2020-11-03 00:00:00\",\"2020-11-05 00:00:00\",\"2020-11-13 00:00:00\",\"2021-04-07 00:00:00\",\"2021-04-10 00:00:00\",\"2021-04-19 00:00:00\",\"2021-04-23 00:00:00\",\"2021-04-24 00:00:00\",\"2021-04-27 00:00:00\",\"2021-04-27 00:00:00\",\"2021-04-30 00:00:00\",\"2021-05-02 00:00:00\",\"2021-05-02 00:00:00\",\"2021-05-02 00:00:00\",\"2021-05-02 00:00:00\",\"2021-05-02 00:00:00\",\"2021-05-02 00:00:00\",\"2021-05-02 00:00:00\",\"2021-05-02 00:00:00\",\"2021-05-02 00:00:00\",\"2021-05-03 00:00:00\",\"2021-05-13 00:00:00\",\"2021-05-14 00:00:00\",\"2021-05-14 00:00:00\",\"2021-05-15 00:00:00\",\"2021-05-15 00:00:00\",\"2021-05-16 00:00:00\",\"2021-05-19 00:00:00\",\"2021-05-20 00:00:00\",\"2021-05-20 00:00:00\",\"2021-05-20 00:00:00\",\"2021-05-20 00:00:00\",\"2021-05-21 00:00:00\",\"2021-05-21 00:00:00\",\"2021-05-21 00:00:00\",\"2021-05-26 00:00:00\",\"2021-05-27 00:00:00\",\"2021-05-31 00:00:00\",\"2021-06-01 00:00:00\",\"2021-06-04 00:00:00\",\"2021-06-04 00:00:00\",\"2021-06-04 00:00:00\",\"2021-06-06 00:00:00\",\"2021-06-11 00:00:00\",\"2021-09-06 00:00:00\",\"2021-09-06 00:00:00\",\"2021-09-08 00:00:00\",\"2021-09-08 00:00:00\",\"2021-09-09 00:00:00\",\"2021-09-24 00:00:00\",\"2021-09-24 00:00:00\",\"2021-09-25 00:00:00\",\"2021-10-01 00:00:00\",\"2021-10-01 00:00:00\",\"2021-10-06 00:00:00\",\"2021-10-08 00:00:00\",\"2021-10-15 00:00:00\",\"2021-10-15 00:00:00\",\"2021-10-15 00:00:00\",\"2021-10-17 00:00:00\",\"2021-10-17 00:00:00\",\"2021-10-17 00:00:00\",\"2021-10-18 00:00:00\",\"2021-10-18 00:00:00\",\"2021-10-18 00:00:00\",\"2021-11-01 00:00:00\"],\"xaxis\":\"x\",\"y\":[\"Mudd Library\",\"Mudd Library\",\"Mudd Library\",\"Mudd Library\",\"Mudd Library\",\"Mudd Library\",\"Mudd Library\",\"Mudd Library\",\"Mudd Library\",\"Mudd Library\",\"Mudd Library\",\"Mudd Library\",\"Mudd Library\",\"Mudd Library\",\"Mudd Library\",\"Mudd Library\",\"Mudd Library\",\"Mudd Library\",\"Mudd Library\",\"Mudd Library\",\"Mudd Library\",\"Mudd Library\",\"Mudd Library\",\"Mudd Library\",\"Mudd Library\",\"Mudd Library\",\"Mudd Library\",\"Mudd Library\",\"Mudd Library\",\"Mudd Library\",\"Mudd Library\",\"Mudd Library\",\"Mudd Library\",\"Mudd Library\",\"Mudd Library\",\"Mudd Library\",\"Mudd Library\",\"Mudd Library\",\"Mudd Library\",\"Mudd Library\",\"Mudd Library\",\"Mudd Library\",\"Mudd Library\",\"Mudd Library\",\"Mudd Library\",\"Mudd Library\",\"Mudd Library\",\"Mudd Library\",\"Mudd Library\",\"Mudd Library\",\"Mudd Library\",\"Mudd Library\",\"Mudd Library\",\"Mudd Library\",\"Mudd Library\",\"Mudd Library\",\"Mudd Library\",\"Mudd Library\",\"Mudd Library\",\"Mudd Library\",\"Mudd Library\",\"Mudd Library\",\"Mudd Library\",\"Mudd Library\",\"Mudd Library\",\"Mudd Library\",\"Mudd Library\",\"Mudd Library\",\"Mudd Library\",\"Mudd Library\",\"Mudd Library\",\"Mudd Library\",\"Mudd Library\",\"Mudd Library\",\"Mudd Library\",\"Mudd Library\",\"Mudd Library\",\"Mudd Library\",\"Mudd Library\",\"Mudd Library\",\"Mudd Library\",\"Mudd Library\",\"Mudd Library\",\"Mudd Library\",\"Mudd Library\",\"Mudd Library\",\"Mudd Library\",\"Mudd Library\",\"Mudd Library\",\"Mudd Library\",\"Mudd Library\",\"Mudd Library\",\"Mudd Library\",\"Mudd Library\",\"Mudd Library\",\"Mudd Library\",\"Mudd Library\",\"Mudd Library\",\"Mudd Library\",\"Mudd Library\",\"Mudd Library\",\"Mudd Library\",\"Mudd Library\",\"Mudd Library\",\"Mudd Library\",\"Mudd Library\",\"Mudd Library\",\"Mudd Library\",\"Mudd Library\",\"Mudd Library\",\"Mudd Library\",\"Mudd Library\",\"Mudd Library\",\"Mudd Library\",\"Mudd Library\",\"Mudd Library\",\"Mudd Library\",\"Mudd Library\",\"Mudd Library\",\"Mudd Library\",\"Mudd Library\",\"Mudd Library\",\"Mudd Library\",\"Mudd Library\",\"Mudd Library\",\"Mudd Library\",\"Mudd Library\",\"Mudd Library\",\"Mudd Library\",\"Mudd Library\",\"Mudd Library\",\"Mudd Library\",\"Mudd Library\",\"Mudd Library\",\"Mudd Library\",\"Mudd Library\",\"Mudd Library\",\"Mudd Library\",\"Mudd Library\",\"Mudd Library\",\"Mudd Library\",\"Mudd Library\",\"Mudd Library\",\"Mudd Library\",\"Mudd Library\",\"Mudd Library\",\"Mudd Library\",\"Mudd Library\",\"Mudd Library\",\"Mudd Library\",\"Mudd Library\",\"Mudd Library\",\"Mudd Library\",\"Mudd Library\",\"Mudd Library\",\"Mudd Library\",\"Mudd Library\",\"Mudd Library\",\"Mudd Library\",\"Mudd Library\",\"Mudd Library\",\"Mudd Library\",\"Mudd Library\",\"Mudd Library\",\"Mudd Library\",\"Mudd Library\",\"Mudd Library\",\"Mudd Library\",\"Mudd Library\",\"Mudd Library\",\"Mudd Library\",\"Mudd Library\",\"Mudd Library\",\"Mudd Library\",\"Mudd Library\",\"Mudd Library\",\"Mudd Library\",\"Mudd Library\",\"Mudd Library\",\"Mudd Library\",\"Mudd Library\",\"Mudd Library\",\"Mudd Library\",\"Mudd Library\",\"Mudd Library\",\"Mudd Library\",\"Mudd Library\",\"Mudd Library\",\"Mudd Library\",\"Mudd Library\",\"Mudd Library\",\"Mudd Library\",\"Mudd Library\",\"Mudd Library\",\"Mudd Library\",\"Mudd Library\",\"Mudd Library\",\"Mudd Library\",\"Mudd Library\",\"Mudd Library\",\"Mudd Library\",\"Mudd Library\",\"Mudd Library\",\"Mudd Library\",\"Mudd Library\",\"Mudd Library\",\"Mudd Library\",\"Mudd Library\",\"Mudd Library\",\"Mudd Library\",\"Mudd Library\",\"Mudd Library\",\"Mudd Library\",\"Mudd Library\",\"Mudd Library\",\"Mudd Library\",\"Mudd Library\",\"Mudd Library\",\"Mudd Library\",\"Mudd Library\",\"Mudd Library\",\"Mudd Library\",\"Mudd Library\",\"Mudd Library\",\"Mudd Library\",\"Mudd Library\",\"Mudd Library\",\"Mudd Library\",\"Mudd Library\",\"Mudd Library\",\"Mudd Library\",\"Mudd Library\",\"Mudd Library\",\"Mudd Library\",\"Mudd Library\",\"Mudd Library\",\"Mudd Library\",\"Mudd Library\",\"Mudd Library\",\"Mudd Library\",\"Mudd Library\",\"Mudd Library\",\"Mudd Library\",\"Mudd Library\",\"Mudd Library\",\"Mudd Library\",\"Mudd Library\",\"Mudd Library\",\"Mudd Library\",\"Mudd Library\",\"Mudd Library\",\"Mudd Library\",\"Mudd Library\",\"Mudd Library\",\"Mudd Library\",\"Mudd Library\",\"Mudd Library\",\"Mudd Library\",\"Mudd Library\",\"Mudd Library\",\"Mudd Library\",\"Mudd Library\",\"Mudd Library\",\"Mudd Library\",\"Mudd Library\",\"Mudd Library\",\"Mudd Library\",\"Mudd Library\",\"Mudd Library\",\"Mudd Library\",\"Mudd Library\",\"Mudd Library\",\"Mudd Library\",\"Mudd Library\",\"Mudd Library\",\"Mudd Library\",\"Mudd Library\",\"Mudd Library\",\"Mudd Library\",\"Mudd Library\",\"Mudd Library\",\"Mudd Library\",\"Mudd Library\",\"Mudd Library\",\"Mudd Library\",\"Mudd Library\",\"Mudd Library\",\"Mudd Library\",\"Mudd Library\",\"Mudd Library\",\"Mudd Library\",\"Mudd Library\",\"Mudd Library\",\"Mudd Library\",\"Mudd Library\",\"Mudd Library\",\"Mudd Library\",\"Mudd Library\",\"Mudd Library\",\"Mudd Library\",\"Mudd Library\",\"Mudd Library\",\"Mudd Library\",\"Mudd Library\",\"Mudd Library\",\"Mudd Library\",\"Mudd Library\",\"Mudd Library\",\"Mudd Library\",\"Mudd Library\",\"Mudd Library\",\"Mudd Library\",\"Mudd Library\",\"Mudd Library\",\"Mudd Library\",\"Mudd Library\",\"Mudd Library\",\"Mudd Library\",\"Mudd Library\",\"Mudd Library\",\"Mudd Library\",\"Mudd Library\",\"Mudd Library\",\"Mudd Library\",\"Mudd Library\",\"Mudd Library\",\"Mudd Library\",\"Mudd Library\",\"Mudd Library\",\"Mudd Library\",\"Mudd Library\",\"Mudd Library\",\"Mudd Library\",\"Mudd Library\",\"Mudd Library\",\"Mudd Library\",\"Mudd Library\",\"Mudd Library\",\"Mudd Library\",\"Mudd Library\",\"Mudd Library\",\"Mudd Library\",\"Mudd Library\",\"Mudd Library\",\"Mudd Library\",\"Mudd Library\",\"Mudd Library\",\"Mudd Library\",\"Mudd Library\",\"Mudd Library\",\"Mudd Library\",\"Mudd Library\",\"Mudd Library\",\"Mudd Library\",\"Mudd Library\",\"Mudd Library\",\"Mudd Library\",\"Mudd Library\",\"Mudd Library\",\"Mudd Library\",\"Mudd Library\",\"Mudd Library\"],\"yaxis\":\"y\",\"type\":\"scattergl\"},{\"hovertemplate\":\"Building=%{y}<br>Date=%{x}<extra></extra>\",\"legendgroup\":\"Sailing Center\",\"marker\":{\"color\":\"#00cc96\",\"symbol\":\"circle\"},\"mode\":\"markers\",\"name\":\"Sailing Center\",\"showlegend\":true,\"x\":[\"2018-03-23 00:00:00\",\"2018-03-30 00:00:00\",\"2018-05-04 00:00:00\",\"2018-09-20 00:00:00\",\"2018-10-11 00:00:00\",\"2018-10-18 00:00:00\",\"2018-10-18 00:00:00\",\"2018-10-18 00:00:00\",\"2019-03-22 00:00:00\",\"2019-05-02 00:00:00\",\"2019-10-24 00:00:00\",\"2019-10-25 00:00:00\",\"2019-11-05 00:00:00\",\"2020-09-18 00:00:00\",\"2020-10-02 00:00:00\",\"2020-10-14 00:00:00\",\"2020-10-30 00:00:00\",\"2021-09-25 00:00:00\"],\"xaxis\":\"x\",\"y\":[\"Sailing Center\",\"Sailing Center\",\"Sailing Center\",\"Sailing Center\",\"Sailing Center\",\"Sailing Center\",\"Sailing Center\",\"Sailing Center\",\"Sailing Center\",\"Sailing Center\",\"Sailing Center\",\"Sailing Center\",\"Sailing Center\",\"Sailing Center\",\"Sailing Center\",\"Sailing Center\",\"Sailing Center\",\"Sailing Center\"],\"yaxis\":\"y\",\"type\":\"scattergl\"},{\"hovertemplate\":\"Building=%{y}<br>Date=%{x}<extra></extra>\",\"legendgroup\":\"RAC\",\"marker\":{\"color\":\"#ab63fa\",\"symbol\":\"circle\"},\"mode\":\"markers\",\"name\":\"RAC\",\"showlegend\":true,\"x\":[\"2018-03-31 00:00:00\",\"2018-04-02 00:00:00\",\"2018-04-30 00:00:00\",\"2018-05-02 00:00:00\",\"2018-05-02 00:00:00\",\"2018-05-02 00:00:00\",\"2018-05-02 00:00:00\",\"2018-05-03 00:00:00\",\"2018-05-03 00:00:00\",\"2018-05-03 00:00:00\",\"2018-05-03 00:00:00\",\"2018-05-03 00:00:00\",\"2018-05-03 00:00:00\",\"2018-05-06 00:00:00\",\"2018-05-06 00:00:00\",\"2018-05-09 00:00:00\",\"2018-05-11 00:00:00\",\"2018-05-11 00:00:00\",\"2018-05-11 00:00:00\",\"2018-05-11 00:00:00\",\"2018-05-13 00:00:00\",\"2018-05-15 00:00:00\",\"2018-05-15 00:00:00\",\"2018-05-16 00:00:00\",\"2018-05-17 00:00:00\",\"2018-05-22 00:00:00\",\"2018-05-22 00:00:00\",\"2018-05-22 00:00:00\",\"2018-05-24 00:00:00\",\"2018-05-24 00:00:00\",\"2018-05-24 00:00:00\",\"2018-05-24 00:00:00\",\"2018-05-24 00:00:00\",\"2018-05-24 00:00:00\",\"2018-05-24 00:00:00\",\"2018-05-24 00:00:00\",\"2018-05-24 00:00:00\",\"2018-05-29 00:00:00\",\"2018-05-29 00:00:00\",\"2018-05-29 00:00:00\",\"2018-06-01 00:00:00\",\"2018-07-02 00:00:00\",\"2018-08-21 00:00:00\",\"2018-08-24 00:00:00\",\"2018-08-26 00:00:00\",\"2018-09-10 00:00:00\",\"2018-09-20 00:00:00\",\"2018-09-22 00:00:00\",\"2018-09-22 00:00:00\",\"2018-09-25 00:00:00\",\"2018-09-26 00:00:00\",\"2018-09-27 00:00:00\",\"2018-09-28 00:00:00\",\"2018-09-29 00:00:00\",\"2018-09-29 00:00:00\",\"2018-09-29 00:00:00\",\"2018-09-29 00:00:00\",\"2018-09-29 00:00:00\",\"2018-09-29 00:00:00\",\"2018-09-30 00:00:00\",\"2018-09-30 00:00:00\",\"2018-10-02 00:00:00\",\"2018-10-06 00:00:00\",\"2018-10-09 00:00:00\",\"2018-10-10 00:00:00\",\"2018-10-11 00:00:00\",\"2018-10-11 00:00:00\",\"2018-10-11 00:00:00\",\"2018-10-11 00:00:00\",\"2018-10-11 00:00:00\",\"2018-10-12 00:00:00\",\"2018-10-13 00:00:00\",\"2018-10-13 00:00:00\",\"2018-10-13 00:00:00\",\"2018-10-15 00:00:00\",\"2018-10-15 00:00:00\",\"2018-10-16 00:00:00\",\"2018-10-16 00:00:00\",\"2018-10-16 00:00:00\",\"2018-10-17 00:00:00\",\"2018-10-17 00:00:00\",\"2018-10-17 00:00:00\",\"2018-10-17 00:00:00\",\"2018-10-17 00:00:00\",\"2018-10-17 00:00:00\",\"2018-10-17 00:00:00\",\"2018-10-17 00:00:00\",\"2018-10-17 00:00:00\",\"2018-10-17 00:00:00\",\"2018-10-17 00:00:00\",\"2018-10-17 00:00:00\",\"2018-10-17 00:00:00\",\"2018-10-17 00:00:00\",\"2018-10-17 00:00:00\",\"2018-10-18 00:00:00\",\"2018-10-19 00:00:00\",\"2018-10-20 00:00:00\",\"2018-10-20 00:00:00\",\"2018-10-22 00:00:00\",\"2018-10-22 00:00:00\",\"2018-10-22 00:00:00\",\"2018-10-22 00:00:00\",\"2018-10-22 00:00:00\",\"2018-10-23 00:00:00\",\"2018-10-25 00:00:00\",\"2018-10-26 00:00:00\",\"2018-10-29 00:00:00\",\"2018-10-29 00:00:00\",\"2018-11-01 00:00:00\",\"2018-11-07 00:00:00\",\"2018-11-08 00:00:00\",\"2018-11-08 00:00:00\",\"2018-11-13 00:00:00\",\"2018-11-19 00:00:00\",\"2018-11-19 00:00:00\",\"2018-11-19 00:00:00\",\"2019-03-20 00:00:00\",\"2019-03-22 00:00:00\",\"2019-03-27 00:00:00\",\"2019-03-28 00:00:00\",\"2019-04-02 00:00:00\",\"2019-04-03 00:00:00\",\"2019-04-07 00:00:00\",\"2019-04-07 00:00:00\",\"2019-04-07 00:00:00\",\"2019-04-07 00:00:00\",\"2019-04-08 00:00:00\",\"2019-04-09 00:00:00\",\"2019-04-16 00:00:00\",\"2019-04-16 00:00:00\",\"2019-04-16 00:00:00\",\"2019-04-18 00:00:00\",\"2019-04-20 00:00:00\",\"2019-04-22 00:00:00\",\"2019-04-23 00:00:00\",\"2019-04-23 00:00:00\",\"2019-04-24 00:00:00\",\"2019-04-24 00:00:00\",\"2019-04-24 00:00:00\",\"2019-04-25 00:00:00\",\"2019-04-25 00:00:00\",\"2019-04-26 00:00:00\",\"2019-05-03 00:00:00\",\"2019-05-05 00:00:00\",\"2019-05-05 00:00:00\",\"2019-05-06 00:00:00\",\"2019-05-06 00:00:00\",\"2019-05-06 00:00:00\",\"2019-05-06 00:00:00\",\"2019-05-07 00:00:00\",\"2019-05-07 00:00:00\",\"2019-05-07 00:00:00\",\"2019-05-08 00:00:00\",\"2019-05-09 00:00:00\",\"2019-05-10 00:00:00\",\"2019-05-10 00:00:00\",\"2019-05-11 00:00:00\",\"2019-05-11 00:00:00\",\"2019-05-16 00:00:00\",\"2019-05-16 00:00:00\",\"2019-05-16 00:00:00\",\"2019-05-16 00:00:00\",\"2019-05-16 00:00:00\",\"2019-05-16 00:00:00\",\"2019-05-16 00:00:00\",\"2019-05-16 00:00:00\",\"2019-05-16 00:00:00\",\"2019-05-16 00:00:00\",\"2019-05-18 00:00:00\",\"2019-05-19 00:00:00\",\"2019-05-19 00:00:00\",\"2019-05-19 00:00:00\",\"2019-05-20 00:00:00\",\"2019-05-20 00:00:00\",\"2019-05-20 00:00:00\",\"2019-05-20 00:00:00\",\"2019-05-20 00:00:00\",\"2019-05-20 00:00:00\",\"2019-05-21 00:00:00\",\"2019-05-22 00:00:00\",\"2019-05-22 00:00:00\",\"2019-05-23 00:00:00\",\"2019-05-23 00:00:00\",\"2019-05-23 00:00:00\",\"2019-05-23 00:00:00\",\"2019-05-24 00:00:00\",\"2019-05-24 00:00:00\",\"2019-05-24 00:00:00\",\"2019-05-24 00:00:00\",\"2019-05-25 00:00:00\",\"2019-05-26 00:00:00\",\"2019-05-26 00:00:00\",\"2019-05-26 00:00:00\",\"2019-05-27 00:00:00\",\"2019-05-27 00:00:00\",\"2019-05-27 00:00:00\",\"2019-05-27 00:00:00\",\"2019-05-28 00:00:00\",\"2019-05-28 00:00:00\",\"2019-05-28 00:00:00\",\"2019-05-28 00:00:00\",\"2019-05-30 00:00:00\",\"2019-05-30 00:00:00\",\"2019-06-02 00:00:00\",\"2019-06-04 00:00:00\",\"2019-06-11 00:00:00\",\"2019-08-22 00:00:00\",\"2019-08-30 00:00:00\",\"2019-09-06 00:00:00\",\"2019-09-06 00:00:00\",\"2019-09-12 00:00:00\",\"2019-09-12 00:00:00\",\"2019-09-14 00:00:00\",\"2019-09-20 00:00:00\",\"2019-09-20 00:00:00\",\"2019-09-23 00:00:00\",\"2019-09-24 00:00:00\",\"2019-09-24 00:00:00\",\"2019-09-24 00:00:00\",\"2019-09-24 00:00:00\",\"2019-09-26 00:00:00\",\"2019-09-26 00:00:00\",\"2019-10-01 00:00:00\",\"2019-10-01 00:00:00\",\"2019-10-04 00:00:00\",\"2019-10-04 00:00:00\",\"2019-10-04 00:00:00\",\"2019-10-04 00:00:00\",\"2019-10-06 00:00:00\",\"2019-10-08 00:00:00\",\"2019-10-08 00:00:00\",\"2019-10-12 00:00:00\",\"2019-10-12 00:00:00\",\"2019-10-13 00:00:00\",\"2019-10-15 00:00:00\",\"2019-10-15 00:00:00\",\"2019-10-15 00:00:00\",\"2019-10-15 00:00:00\",\"2019-10-15 00:00:00\",\"2019-10-17 00:00:00\",\"2019-10-20 00:00:00\",\"2019-10-28 00:00:00\",\"2019-10-28 00:00:00\",\"2019-11-02 00:00:00\",\"2020-04-12 00:00:00\",\"2020-04-12 00:00:00\",\"2020-05-02 00:00:00\",\"2020-05-02 00:00:00\",\"2020-05-02 00:00:00\",\"2020-05-02 00:00:00\",\"2020-05-02 00:00:00\",\"2020-05-02 00:00:00\",\"2020-05-02 00:00:00\",\"2020-05-02 00:00:00\",\"2020-05-02 00:00:00\",\"2020-05-13 00:00:00\",\"2020-05-15 00:00:00\",\"2020-05-22 00:00:00\",\"2020-05-22 00:00:00\",\"2020-05-22 00:00:00\",\"2020-05-24 00:00:00\",\"2020-06-04 00:00:00\",\"2020-08-30 00:00:00\",\"2020-09-04 00:00:00\",\"2020-09-04 00:00:00\",\"2020-09-04 00:00:00\",\"2020-09-04 00:00:00\",\"2020-09-04 00:00:00\",\"2020-09-05 00:00:00\",\"2020-09-05 00:00:00\",\"2020-09-07 00:00:00\",\"2020-09-14 00:00:00\",\"2020-09-14 00:00:00\",\"2020-09-16 00:00:00\",\"2020-09-17 00:00:00\",\"2020-09-24 00:00:00\",\"2020-09-24 00:00:00\",\"2020-09-25 00:00:00\",\"2020-09-25 00:00:00\",\"2020-09-28 00:00:00\",\"2020-09-29 00:00:00\",\"2020-09-30 00:00:00\",\"2020-10-01 00:00:00\",\"2020-10-02 00:00:00\",\"2020-10-02 00:00:00\",\"2020-10-03 00:00:00\",\"2020-10-07 00:00:00\",\"2020-10-19 00:00:00\",\"2020-10-19 00:00:00\",\"2020-10-21 00:00:00\",\"2020-10-29 00:00:00\",\"2020-11-06 00:00:00\",\"2020-11-06 00:00:00\",\"2020-11-09 00:00:00\",\"2021-03-24 00:00:00\",\"2021-03-24 00:00:00\",\"2021-03-30 00:00:00\",\"2021-04-07 00:00:00\",\"2021-04-08 00:00:00\",\"2021-04-09 00:00:00\",\"2021-04-15 00:00:00\",\"2021-04-20 00:00:00\",\"2021-04-23 00:00:00\",\"2021-04-23 00:00:00\",\"2021-04-23 00:00:00\",\"2021-04-27 00:00:00\",\"2021-04-27 00:00:00\",\"2021-04-27 00:00:00\",\"2021-04-27 00:00:00\",\"2021-05-02 00:00:00\",\"2021-05-02 00:00:00\",\"2021-05-02 00:00:00\",\"2021-05-02 00:00:00\",\"2021-05-02 00:00:00\",\"2021-05-02 00:00:00\",\"2021-05-02 00:00:00\",\"2021-05-02 00:00:00\",\"2021-05-02 00:00:00\",\"2021-05-02 00:00:00\",\"2021-05-02 00:00:00\",\"2021-05-02 00:00:00\",\"2021-05-02 00:00:00\",\"2021-05-02 00:00:00\",\"2021-05-02 00:00:00\",\"2021-05-03 00:00:00\",\"2021-05-03 00:00:00\",\"2021-05-03 00:00:00\",\"2021-05-03 00:00:00\",\"2021-05-12 00:00:00\",\"2021-05-14 00:00:00\",\"2021-05-14 00:00:00\",\"2021-05-14 00:00:00\",\"2021-05-14 00:00:00\",\"2021-05-15 00:00:00\",\"2021-05-15 00:00:00\",\"2021-05-15 00:00:00\",\"2021-05-15 00:00:00\",\"2021-05-15 00:00:00\",\"2021-05-16 00:00:00\",\"2021-05-16 00:00:00\",\"2021-05-16 00:00:00\",\"2021-05-16 00:00:00\",\"2021-05-16 00:00:00\",\"2021-05-19 00:00:00\",\"2021-05-19 00:00:00\",\"2021-05-19 00:00:00\",\"2021-05-20 00:00:00\",\"2021-05-24 00:00:00\",\"2021-05-24 00:00:00\",\"2021-05-25 00:00:00\",\"2021-05-25 00:00:00\",\"2021-05-25 00:00:00\",\"2021-05-25 00:00:00\",\"2021-05-31 00:00:00\",\"2021-06-04 00:00:00\",\"2021-06-04 00:00:00\",\"2021-06-04 00:00:00\",\"2021-06-04 00:00:00\",\"2021-06-06 00:00:00\",\"2021-06-07 00:00:00\",\"2021-06-10 00:00:00\",\"2021-08-30 00:00:00\",\"2021-09-08 00:00:00\",\"2021-09-10 00:00:00\",\"2021-09-10 00:00:00\",\"2021-09-10 00:00:00\",\"2021-09-15 00:00:00\",\"2021-09-20 00:00:00\",\"2021-09-23 00:00:00\",\"2021-09-23 00:00:00\",\"2021-09-24 00:00:00\",\"2021-09-24 00:00:00\",\"2021-10-01 00:00:00\",\"2021-10-01 00:00:00\",\"2021-10-01 00:00:00\",\"2021-10-04 00:00:00\",\"2021-10-08 00:00:00\",\"2021-10-13 00:00:00\",\"2021-10-14 00:00:00\",\"2021-10-15 00:00:00\",\"2021-10-17 00:00:00\",\"2021-10-17 00:00:00\",\"2021-10-18 00:00:00\",\"2021-10-18 00:00:00\",\"2021-10-22 00:00:00\",\"2021-11-05 00:00:00\",\"2021-11-08 00:00:00\",\"2021-11-12 00:00:00\",\"2021-11-12 00:00:00\",\"2021-11-19 00:00:00\"],\"xaxis\":\"x\",\"y\":[\"RAC\",\"RAC\",\"RAC\",\"RAC\",\"RAC\",\"RAC\",\"RAC\",\"RAC\",\"RAC\",\"RAC\",\"RAC\",\"RAC\",\"RAC\",\"RAC\",\"RAC\",\"RAC\",\"RAC\",\"RAC\",\"RAC\",\"RAC\",\"RAC\",\"RAC\",\"RAC\",\"RAC\",\"RAC\",\"RAC\",\"RAC\",\"RAC\",\"RAC\",\"RAC\",\"RAC\",\"RAC\",\"RAC\",\"RAC\",\"RAC\",\"RAC\",\"RAC\",\"RAC\",\"RAC\",\"RAC\",\"RAC\",\"RAC\",\"RAC\",\"RAC\",\"RAC\",\"RAC\",\"RAC\",\"RAC\",\"RAC\",\"RAC\",\"RAC\",\"RAC\",\"RAC\",\"RAC\",\"RAC\",\"RAC\",\"RAC\",\"RAC\",\"RAC\",\"RAC\",\"RAC\",\"RAC\",\"RAC\",\"RAC\",\"RAC\",\"RAC\",\"RAC\",\"RAC\",\"RAC\",\"RAC\",\"RAC\",\"RAC\",\"RAC\",\"RAC\",\"RAC\",\"RAC\",\"RAC\",\"RAC\",\"RAC\",\"RAC\",\"RAC\",\"RAC\",\"RAC\",\"RAC\",\"RAC\",\"RAC\",\"RAC\",\"RAC\",\"RAC\",\"RAC\",\"RAC\",\"RAC\",\"RAC\",\"RAC\",\"RAC\",\"RAC\",\"RAC\",\"RAC\",\"RAC\",\"RAC\",\"RAC\",\"RAC\",\"RAC\",\"RAC\",\"RAC\",\"RAC\",\"RAC\",\"RAC\",\"RAC\",\"RAC\",\"RAC\",\"RAC\",\"RAC\",\"RAC\",\"RAC\",\"RAC\",\"RAC\",\"RAC\",\"RAC\",\"RAC\",\"RAC\",\"RAC\",\"RAC\",\"RAC\",\"RAC\",\"RAC\",\"RAC\",\"RAC\",\"RAC\",\"RAC\",\"RAC\",\"RAC\",\"RAC\",\"RAC\",\"RAC\",\"RAC\",\"RAC\",\"RAC\",\"RAC\",\"RAC\",\"RAC\",\"RAC\",\"RAC\",\"RAC\",\"RAC\",\"RAC\",\"RAC\",\"RAC\",\"RAC\",\"RAC\",\"RAC\",\"RAC\",\"RAC\",\"RAC\",\"RAC\",\"RAC\",\"RAC\",\"RAC\",\"RAC\",\"RAC\",\"RAC\",\"RAC\",\"RAC\",\"RAC\",\"RAC\",\"RAC\",\"RAC\",\"RAC\",\"RAC\",\"RAC\",\"RAC\",\"RAC\",\"RAC\",\"RAC\",\"RAC\",\"RAC\",\"RAC\",\"RAC\",\"RAC\",\"RAC\",\"RAC\",\"RAC\",\"RAC\",\"RAC\",\"RAC\",\"RAC\",\"RAC\",\"RAC\",\"RAC\",\"RAC\",\"RAC\",\"RAC\",\"RAC\",\"RAC\",\"RAC\",\"RAC\",\"RAC\",\"RAC\",\"RAC\",\"RAC\",\"RAC\",\"RAC\",\"RAC\",\"RAC\",\"RAC\",\"RAC\",\"RAC\",\"RAC\",\"RAC\",\"RAC\",\"RAC\",\"RAC\",\"RAC\",\"RAC\",\"RAC\",\"RAC\",\"RAC\",\"RAC\",\"RAC\",\"RAC\",\"RAC\",\"RAC\",\"RAC\",\"RAC\",\"RAC\",\"RAC\",\"RAC\",\"RAC\",\"RAC\",\"RAC\",\"RAC\",\"RAC\",\"RAC\",\"RAC\",\"RAC\",\"RAC\",\"RAC\",\"RAC\",\"RAC\",\"RAC\",\"RAC\",\"RAC\",\"RAC\",\"RAC\",\"RAC\",\"RAC\",\"RAC\",\"RAC\",\"RAC\",\"RAC\",\"RAC\",\"RAC\",\"RAC\",\"RAC\",\"RAC\",\"RAC\",\"RAC\",\"RAC\",\"RAC\",\"RAC\",\"RAC\",\"RAC\",\"RAC\",\"RAC\",\"RAC\",\"RAC\",\"RAC\",\"RAC\",\"RAC\",\"RAC\",\"RAC\",\"RAC\",\"RAC\",\"RAC\",\"RAC\",\"RAC\",\"RAC\",\"RAC\",\"RAC\",\"RAC\",\"RAC\",\"RAC\",\"RAC\",\"RAC\",\"RAC\",\"RAC\",\"RAC\",\"RAC\",\"RAC\",\"RAC\",\"RAC\",\"RAC\",\"RAC\",\"RAC\",\"RAC\",\"RAC\",\"RAC\",\"RAC\",\"RAC\",\"RAC\",\"RAC\",\"RAC\",\"RAC\",\"RAC\",\"RAC\",\"RAC\",\"RAC\",\"RAC\",\"RAC\",\"RAC\",\"RAC\",\"RAC\",\"RAC\",\"RAC\",\"RAC\",\"RAC\",\"RAC\",\"RAC\",\"RAC\",\"RAC\",\"RAC\",\"RAC\",\"RAC\",\"RAC\",\"RAC\",\"RAC\",\"RAC\",\"RAC\",\"RAC\",\"RAC\",\"RAC\",\"RAC\",\"RAC\",\"RAC\",\"RAC\",\"RAC\",\"RAC\",\"RAC\",\"RAC\",\"RAC\",\"RAC\",\"RAC\",\"RAC\",\"RAC\",\"RAC\",\"RAC\",\"RAC\",\"RAC\",\"RAC\",\"RAC\",\"RAC\",\"RAC\",\"RAC\",\"RAC\",\"RAC\",\"RAC\",\"RAC\",\"RAC\",\"RAC\",\"RAC\",\"RAC\",\"RAC\",\"RAC\",\"RAC\",\"RAC\",\"RAC\",\"RAC\",\"RAC\",\"RAC\",\"RAC\",\"RAC\",\"RAC\",\"RAC\",\"RAC\",\"RAC\",\"RAC\",\"RAC\",\"RAC\",\"RAC\",\"RAC\",\"RAC\",\"RAC\",\"RAC\",\"RAC\",\"RAC\",\"RAC\",\"RAC\",\"RAC\",\"RAC\",\"RAC\"],\"yaxis\":\"y\",\"type\":\"scattergl\"},{\"hovertemplate\":\"Building=%{y}<br>Date=%{x}<extra></extra>\",\"legendgroup\":\"Northwestern Campus\",\"marker\":{\"color\":\"#FFA15A\",\"symbol\":\"circle\"},\"mode\":\"markers\",\"name\":\"Northwestern Campus\",\"showlegend\":true,\"x\":[\"2018-05-04 00:00:00\",\"2018-05-04 00:00:00\",\"2018-09-10 00:00:00\",\"2021-05-14 00:00:00\",\"2021-05-15 00:00:00\",\"2021-05-25 00:00:00\",\"2021-10-15 00:00:00\"],\"xaxis\":\"x\",\"y\":[\"Northwestern Campus\",\"Northwestern Campus\",\"Northwestern Campus\",\"Northwestern Campus\",\"Northwestern Campus\",\"Northwestern Campus\",\"Northwestern Campus\"],\"yaxis\":\"y\",\"type\":\"scattergl\"},{\"hovertemplate\":\"Building=%{y}<br>Date=%{x}<extra></extra>\",\"legendgroup\":\"Walter Annenberg Hall\",\"marker\":{\"color\":\"#19d3f3\",\"symbol\":\"circle\"},\"mode\":\"markers\",\"name\":\"Walter Annenberg Hall\",\"showlegend\":true,\"x\":[\"2018-05-09 00:00:00\",\"2018-10-18 00:00:00\"],\"xaxis\":\"x\",\"y\":[\"Walter Annenberg Hall\",\"Walter Annenberg Hall\"],\"yaxis\":\"y\",\"type\":\"scattergl\"},{\"hovertemplate\":\"Building=%{y}<br>Date=%{x}<extra></extra>\",\"legendgroup\":\"Regenstein\",\"marker\":{\"color\":\"#FF6692\",\"symbol\":\"circle\"},\"mode\":\"markers\",\"name\":\"Regenstein\",\"showlegend\":true,\"x\":[\"2018-10-23 00:00:00\",\"2019-04-18 00:00:00\",\"2019-05-09 00:00:00\",\"2019-05-21 00:00:00\",\"2019-05-30 00:00:00\",\"2019-10-15 00:00:00\"],\"xaxis\":\"x\",\"y\":[\"Regenstein\",\"Regenstein\",\"Regenstein\",\"Regenstein\",\"Regenstein\",\"Regenstein\"],\"yaxis\":\"y\",\"type\":\"scattergl\"},{\"hovertemplate\":\"Building=%{y}<br>Date=%{x}<extra></extra>\",\"legendgroup\":\"Deering Tower\",\"marker\":{\"color\":\"#B6E880\",\"symbol\":\"circle\"},\"mode\":\"markers\",\"name\":\"Deering Tower\",\"showlegend\":true,\"x\":[\"2018-11-01 00:00:00\"],\"xaxis\":\"x\",\"y\":[\"Deering Tower\"],\"yaxis\":\"y\",\"type\":\"scattergl\"},{\"hovertemplate\":\"Building=%{y}<br>Date=%{x}<extra></extra>\",\"legendgroup\":\"Lewis Theater\",\"marker\":{\"color\":\"#FF97FF\",\"symbol\":\"circle\"},\"mode\":\"markers\",\"name\":\"Lewis Theater\",\"showlegend\":true,\"x\":[\"2019-04-13 00:00:00\",\"2019-05-13 00:00:00\",\"2019-10-08 00:00:00\",\"2020-05-01 00:00:00\",\"2020-05-01 00:00:00\",\"2020-05-06 00:00:00\",\"2020-05-16 00:00:00\",\"2021-05-13 00:00:00\",\"2021-10-11 00:00:00\"],\"xaxis\":\"x\",\"y\":[\"Lewis Theater\",\"Lewis Theater\",\"Lewis Theater\",\"Lewis Theater\",\"Lewis Theater\",\"Lewis Theater\",\"Lewis Theater\",\"Lewis Theater\",\"Lewis Theater\"],\"yaxis\":\"y\",\"type\":\"scattergl\"},{\"hovertemplate\":\"Building=%{y}<br>Date=%{x}<extra></extra>\",\"legendgroup\":\"Marshall Dance Center\",\"marker\":{\"color\":\"#FECB52\",\"symbol\":\"circle\"},\"mode\":\"markers\",\"name\":\"Marshall Dance Center\",\"showlegend\":true,\"x\":[\"2019-04-13 00:00:00\",\"2020-05-08 00:00:00\"],\"xaxis\":\"x\",\"y\":[\"Marshall Dance Center\",\"Marshall Dance Center\"],\"yaxis\":\"y\",\"type\":\"scattergl\"},{\"hovertemplate\":\"Building=%{y}<br>Date=%{x}<extra></extra>\",\"legendgroup\":\"Pancoe Life Sciences\",\"marker\":{\"color\":\"#636efa\",\"symbol\":\"circle\"},\"mode\":\"markers\",\"name\":\"Pancoe Life Sciences\",\"showlegend\":true,\"x\":[\"2019-05-05 00:00:00\"],\"xaxis\":\"x\",\"y\":[\"Pancoe Life Sciences\"],\"yaxis\":\"y\",\"type\":\"scattergl\"},{\"hovertemplate\":\"Building=%{y}<br>Date=%{x}<extra></extra>\",\"legendgroup\":\"Silverman Hall\",\"marker\":{\"color\":\"#EF553B\",\"symbol\":\"circle\"},\"mode\":\"markers\",\"name\":\"Silverman Hall\",\"showlegend\":true,\"x\":[\"2019-05-05 00:00:00\",\"2019-05-16 00:00:00\",\"2019-08-23 00:00:00\",\"2019-09-19 00:00:00\",\"2019-09-24 00:00:00\",\"2019-09-24 00:00:00\",\"2019-11-02 00:00:00\",\"2021-04-29 00:00:00\",\"2021-09-26 00:00:00\",\"2021-10-13 00:00:00\"],\"xaxis\":\"x\",\"y\":[\"Silverman Hall\",\"Silverman Hall\",\"Silverman Hall\",\"Silverman Hall\",\"Silverman Hall\",\"Silverman Hall\",\"Silverman Hall\",\"Silverman Hall\",\"Silverman Hall\",\"Silverman Hall\"],\"yaxis\":\"y\",\"type\":\"scattergl\"},{\"hovertemplate\":\"Building=%{y}<br>Date=%{x}<extra></extra>\",\"legendgroup\":\"Hogan Bldg\",\"marker\":{\"color\":\"#00cc96\",\"symbol\":\"circle\"},\"mode\":\"markers\",\"name\":\"Hogan Bldg\",\"showlegend\":true,\"x\":[\"2019-05-11 00:00:00\"],\"xaxis\":\"x\",\"y\":[\"Hogan Bldg\"],\"yaxis\":\"y\",\"type\":\"scattergl\"},{\"hovertemplate\":\"Building=%{y}<br>Date=%{x}<extra></extra>\",\"legendgroup\":\"Alvina Krause Studio\",\"marker\":{\"color\":\"#ab63fa\",\"symbol\":\"circle\"},\"mode\":\"markers\",\"name\":\"Alvina Krause Studio\",\"showlegend\":true,\"x\":[\"2019-05-19 00:00:00\"],\"xaxis\":\"x\",\"y\":[\"Alvina Krause Studio\"],\"yaxis\":\"y\",\"type\":\"scattergl\"},{\"hovertemplate\":\"Building=%{y}<br>Date=%{x}<extra></extra>\",\"legendgroup\":\"Annenberg Hall\",\"marker\":{\"color\":\"#FFA15A\",\"symbol\":\"circle\"},\"mode\":\"markers\",\"name\":\"Annenberg Hall\",\"showlegend\":true,\"x\":[\"2019-05-23 00:00:00\",\"2020-09-17 00:00:00\",\"2020-10-04 00:00:00\",\"2020-10-08 00:00:00\",\"2021-05-11 00:00:00\"],\"xaxis\":\"x\",\"y\":[\"Annenberg Hall\",\"Annenberg Hall\",\"Annenberg Hall\",\"Annenberg Hall\",\"Annenberg Hall\"],\"yaxis\":\"y\",\"type\":\"scattergl\"},{\"hovertemplate\":\"Building=%{y}<br>Date=%{x}<extra></extra>\",\"legendgroup\":\"McGaw Pavilion\",\"marker\":{\"color\":\"#19d3f3\",\"symbol\":\"circle\"},\"mode\":\"markers\",\"name\":\"McGaw Pavilion\",\"showlegend\":true,\"x\":[\"2019-05-25 00:00:00\"],\"xaxis\":\"x\",\"y\":[\"McGaw Pavilion\"],\"yaxis\":\"y\",\"type\":\"scattergl\"},{\"hovertemplate\":\"Building=%{y}<br>Date=%{x}<extra></extra>\",\"legendgroup\":\"betw Ryan and Silverman\",\"marker\":{\"color\":\"#FF6692\",\"symbol\":\"circle\"},\"mode\":\"markers\",\"name\":\"betw Ryan and Silverman\",\"showlegend\":true,\"x\":[\"2019-09-14 00:00:00\"],\"xaxis\":\"x\",\"y\":[\"betw Ryan and Silverman\"],\"yaxis\":\"y\",\"type\":\"scattergl\"},{\"hovertemplate\":\"Building=%{y}<br>Date=%{x}<extra></extra>\",\"legendgroup\":\"south library\",\"marker\":{\"color\":\"#B6E880\",\"symbol\":\"circle\"},\"mode\":\"markers\",\"name\":\"south library\",\"showlegend\":true,\"x\":[\"2019-10-05 00:00:00\",\"2019-10-05 00:00:00\"],\"xaxis\":\"x\",\"y\":[\"south library\",\"south library\"],\"yaxis\":\"y\",\"type\":\"scattergl\"},{\"hovertemplate\":\"Building=%{y}<br>Date=%{x}<extra></extra>\",\"legendgroup\":\"Cook-Pancoe bridge\",\"marker\":{\"color\":\"#FF97FF\",\"symbol\":\"circle\"},\"mode\":\"markers\",\"name\":\"Cook-Pancoe bridge\",\"showlegend\":true,\"x\":[\"2019-10-27 00:00:00\",\"2019-10-27 00:00:00\"],\"xaxis\":\"x\",\"y\":[\"Cook-Pancoe bridge\",\"Cook-Pancoe bridge\"],\"yaxis\":\"y\",\"type\":\"scattergl\"},{\"hovertemplate\":\"Building=%{y}<br>Date=%{x}<extra></extra>\",\"legendgroup\":\"Pancoe-Cook bridge\",\"marker\":{\"color\":\"#FECB52\",\"symbol\":\"circle\"},\"mode\":\"markers\",\"name\":\"Pancoe-Cook bridge\",\"showlegend\":true,\"x\":[\"2020-09-04 00:00:00\",\"2020-09-18 00:00:00\",\"2020-09-28 00:00:00\",\"2020-10-02 00:00:00\",\"2020-10-02 00:00:00\",\"2020-10-25 00:00:00\",\"2021-04-02 00:00:00\",\"2021-05-14 00:00:00\",\"2021-05-18 00:00:00\",\"2021-05-25 00:00:00\",\"2021-06-06 00:00:00\",\"2021-09-10 00:00:00\",\"2021-09-10 00:00:00\",\"2021-09-10 00:00:00\",\"2021-09-10 00:00:00\"],\"xaxis\":\"x\",\"y\":[\"Pancoe-Cook bridge\",\"Pancoe-Cook bridge\",\"Pancoe-Cook bridge\",\"Pancoe-Cook bridge\",\"Pancoe-Cook bridge\",\"Pancoe-Cook bridge\",\"Pancoe-Cook bridge\",\"Pancoe-Cook bridge\",\"Pancoe-Cook bridge\",\"Pancoe-Cook bridge\",\"Pancoe-Cook bridge\",\"Pancoe-Cook bridge\",\"Pancoe-Cook bridge\",\"Pancoe-Cook bridge\",\"Pancoe-Cook bridge\"],\"yaxis\":\"y\",\"type\":\"scattergl\"},{\"hovertemplate\":\"Building=%{y}<br>Date=%{x}<extra></extra>\",\"legendgroup\":\"Library \",\"marker\":{\"color\":\"#636efa\",\"symbol\":\"circle\"},\"mode\":\"markers\",\"name\":\"Library \",\"showlegend\":true,\"x\":[\"2020-10-04 00:00:00\",\"2021-05-11 00:00:00\"],\"xaxis\":\"x\",\"y\":[\"Library \",\"Library \"],\"yaxis\":\"y\",\"type\":\"scattergl\"},{\"hovertemplate\":\"Building=%{y}<br>Date=%{x}<extra></extra>\",\"legendgroup\":\"Silverman-Pancoe\",\"marker\":{\"color\":\"#EF553B\",\"symbol\":\"circle\"},\"mode\":\"markers\",\"name\":\"Silverman-Pancoe\",\"showlegend\":true,\"x\":[\"2020-11-09 00:00:00\"],\"xaxis\":\"x\",\"y\":[\"Silverman-Pancoe\"],\"yaxis\":\"y\",\"type\":\"scattergl\"},{\"hovertemplate\":\"Building=%{y}<br>Date=%{x}<extra></extra>\",\"legendgroup\":\"Kresge/Crowe\",\"marker\":{\"color\":\"#00cc96\",\"symbol\":\"circle\"},\"mode\":\"markers\",\"name\":\"Kresge/Crowe\",\"showlegend\":true,\"x\":[\"2021-09-09 00:00:00\",\"2021-09-09 00:00:00\",\"2021-09-09 00:00:00\",\"2021-09-09 00:00:00\",\"2021-09-09 00:00:00\"],\"xaxis\":\"x\",\"y\":[\"Kresge/Crowe\",\"Kresge/Crowe\",\"Kresge/Crowe\",\"Kresge/Crowe\",\"Kresge/Crowe\"],\"yaxis\":\"y\",\"type\":\"scattergl\"},{\"hovertemplate\":\"Building=%{y}<br>Date=%{x}<extra></extra>\",\"legendgroup\":\"2255 Campus Circle Dr\",\"marker\":{\"color\":\"#ab63fa\",\"symbol\":\"circle\"},\"mode\":\"markers\",\"name\":\"2255 Campus Circle Dr\",\"showlegend\":true,\"x\":[\"2021-10-17 00:00:00\"],\"xaxis\":\"x\",\"y\":[\"2255 Campus Circle Dr\"],\"yaxis\":\"y\",\"type\":\"scattergl\"},{\"hovertemplate\":\"Building=%{y}<br>Date=%{x}<extra></extra>\",\"legendgroup\":\"2256 Campus Circle Dr\",\"marker\":{\"color\":\"#FFA15A\",\"symbol\":\"circle\"},\"mode\":\"markers\",\"name\":\"2256 Campus Circle Dr\",\"showlegend\":true,\"x\":[\"2021-10-17 00:00:00\"],\"xaxis\":\"x\",\"y\":[\"2256 Campus Circle Dr\"],\"yaxis\":\"y\",\"type\":\"scattergl\"}],                        {\"template\":{\"data\":{\"histogram2dcontour\":[{\"type\":\"histogram2dcontour\",\"colorbar\":{\"outlinewidth\":0,\"ticks\":\"\"},\"colorscale\":[[0.0,\"#0d0887\"],[0.1111111111111111,\"#46039f\"],[0.2222222222222222,\"#7201a8\"],[0.3333333333333333,\"#9c179e\"],[0.4444444444444444,\"#bd3786\"],[0.5555555555555556,\"#d8576b\"],[0.6666666666666666,\"#ed7953\"],[0.7777777777777778,\"#fb9f3a\"],[0.8888888888888888,\"#fdca26\"],[1.0,\"#f0f921\"]]}],\"choropleth\":[{\"type\":\"choropleth\",\"colorbar\":{\"outlinewidth\":0,\"ticks\":\"\"}}],\"histogram2d\":[{\"type\":\"histogram2d\",\"colorbar\":{\"outlinewidth\":0,\"ticks\":\"\"},\"colorscale\":[[0.0,\"#0d0887\"],[0.1111111111111111,\"#46039f\"],[0.2222222222222222,\"#7201a8\"],[0.3333333333333333,\"#9c179e\"],[0.4444444444444444,\"#bd3786\"],[0.5555555555555556,\"#d8576b\"],[0.6666666666666666,\"#ed7953\"],[0.7777777777777778,\"#fb9f3a\"],[0.8888888888888888,\"#fdca26\"],[1.0,\"#f0f921\"]]}],\"heatmap\":[{\"type\":\"heatmap\",\"colorbar\":{\"outlinewidth\":0,\"ticks\":\"\"},\"colorscale\":[[0.0,\"#0d0887\"],[0.1111111111111111,\"#46039f\"],[0.2222222222222222,\"#7201a8\"],[0.3333333333333333,\"#9c179e\"],[0.4444444444444444,\"#bd3786\"],[0.5555555555555556,\"#d8576b\"],[0.6666666666666666,\"#ed7953\"],[0.7777777777777778,\"#fb9f3a\"],[0.8888888888888888,\"#fdca26\"],[1.0,\"#f0f921\"]]}],\"heatmapgl\":[{\"type\":\"heatmapgl\",\"colorbar\":{\"outlinewidth\":0,\"ticks\":\"\"},\"colorscale\":[[0.0,\"#0d0887\"],[0.1111111111111111,\"#46039f\"],[0.2222222222222222,\"#7201a8\"],[0.3333333333333333,\"#9c179e\"],[0.4444444444444444,\"#bd3786\"],[0.5555555555555556,\"#d8576b\"],[0.6666666666666666,\"#ed7953\"],[0.7777777777777778,\"#fb9f3a\"],[0.8888888888888888,\"#fdca26\"],[1.0,\"#f0f921\"]]}],\"contourcarpet\":[{\"type\":\"contourcarpet\",\"colorbar\":{\"outlinewidth\":0,\"ticks\":\"\"}}],\"contour\":[{\"type\":\"contour\",\"colorbar\":{\"outlinewidth\":0,\"ticks\":\"\"},\"colorscale\":[[0.0,\"#0d0887\"],[0.1111111111111111,\"#46039f\"],[0.2222222222222222,\"#7201a8\"],[0.3333333333333333,\"#9c179e\"],[0.4444444444444444,\"#bd3786\"],[0.5555555555555556,\"#d8576b\"],[0.6666666666666666,\"#ed7953\"],[0.7777777777777778,\"#fb9f3a\"],[0.8888888888888888,\"#fdca26\"],[1.0,\"#f0f921\"]]}],\"surface\":[{\"type\":\"surface\",\"colorbar\":{\"outlinewidth\":0,\"ticks\":\"\"},\"colorscale\":[[0.0,\"#0d0887\"],[0.1111111111111111,\"#46039f\"],[0.2222222222222222,\"#7201a8\"],[0.3333333333333333,\"#9c179e\"],[0.4444444444444444,\"#bd3786\"],[0.5555555555555556,\"#d8576b\"],[0.6666666666666666,\"#ed7953\"],[0.7777777777777778,\"#fb9f3a\"],[0.8888888888888888,\"#fdca26\"],[1.0,\"#f0f921\"]]}],\"mesh3d\":[{\"type\":\"mesh3d\",\"colorbar\":{\"outlinewidth\":0,\"ticks\":\"\"}}],\"scatter\":[{\"fillpattern\":{\"fillmode\":\"overlay\",\"size\":10,\"solidity\":0.2},\"type\":\"scatter\"}],\"parcoords\":[{\"type\":\"parcoords\",\"line\":{\"colorbar\":{\"outlinewidth\":0,\"ticks\":\"\"}}}],\"scatterpolargl\":[{\"type\":\"scatterpolargl\",\"marker\":{\"colorbar\":{\"outlinewidth\":0,\"ticks\":\"\"}}}],\"bar\":[{\"error_x\":{\"color\":\"#2a3f5f\"},\"error_y\":{\"color\":\"#2a3f5f\"},\"marker\":{\"line\":{\"color\":\"#E5ECF6\",\"width\":0.5},\"pattern\":{\"fillmode\":\"overlay\",\"size\":10,\"solidity\":0.2}},\"type\":\"bar\"}],\"scattergeo\":[{\"type\":\"scattergeo\",\"marker\":{\"colorbar\":{\"outlinewidth\":0,\"ticks\":\"\"}}}],\"scatterpolar\":[{\"type\":\"scatterpolar\",\"marker\":{\"colorbar\":{\"outlinewidth\":0,\"ticks\":\"\"}}}],\"histogram\":[{\"marker\":{\"pattern\":{\"fillmode\":\"overlay\",\"size\":10,\"solidity\":0.2}},\"type\":\"histogram\"}],\"scattergl\":[{\"type\":\"scattergl\",\"marker\":{\"colorbar\":{\"outlinewidth\":0,\"ticks\":\"\"}}}],\"scatter3d\":[{\"type\":\"scatter3d\",\"line\":{\"colorbar\":{\"outlinewidth\":0,\"ticks\":\"\"}},\"marker\":{\"colorbar\":{\"outlinewidth\":0,\"ticks\":\"\"}}}],\"scattermapbox\":[{\"type\":\"scattermapbox\",\"marker\":{\"colorbar\":{\"outlinewidth\":0,\"ticks\":\"\"}}}],\"scatterternary\":[{\"type\":\"scatterternary\",\"marker\":{\"colorbar\":{\"outlinewidth\":0,\"ticks\":\"\"}}}],\"scattercarpet\":[{\"type\":\"scattercarpet\",\"marker\":{\"colorbar\":{\"outlinewidth\":0,\"ticks\":\"\"}}}],\"carpet\":[{\"aaxis\":{\"endlinecolor\":\"#2a3f5f\",\"gridcolor\":\"white\",\"linecolor\":\"white\",\"minorgridcolor\":\"white\",\"startlinecolor\":\"#2a3f5f\"},\"baxis\":{\"endlinecolor\":\"#2a3f5f\",\"gridcolor\":\"white\",\"linecolor\":\"white\",\"minorgridcolor\":\"white\",\"startlinecolor\":\"#2a3f5f\"},\"type\":\"carpet\"}],\"table\":[{\"cells\":{\"fill\":{\"color\":\"#EBF0F8\"},\"line\":{\"color\":\"white\"}},\"header\":{\"fill\":{\"color\":\"#C8D4E3\"},\"line\":{\"color\":\"white\"}},\"type\":\"table\"}],\"barpolar\":[{\"marker\":{\"line\":{\"color\":\"#E5ECF6\",\"width\":0.5},\"pattern\":{\"fillmode\":\"overlay\",\"size\":10,\"solidity\":0.2}},\"type\":\"barpolar\"}],\"pie\":[{\"automargin\":true,\"type\":\"pie\"}]},\"layout\":{\"autotypenumbers\":\"strict\",\"colorway\":[\"#636efa\",\"#EF553B\",\"#00cc96\",\"#ab63fa\",\"#FFA15A\",\"#19d3f3\",\"#FF6692\",\"#B6E880\",\"#FF97FF\",\"#FECB52\"],\"font\":{\"color\":\"#2a3f5f\"},\"hovermode\":\"closest\",\"hoverlabel\":{\"align\":\"left\"},\"paper_bgcolor\":\"white\",\"plot_bgcolor\":\"#E5ECF6\",\"polar\":{\"bgcolor\":\"#E5ECF6\",\"angularaxis\":{\"gridcolor\":\"white\",\"linecolor\":\"white\",\"ticks\":\"\"},\"radialaxis\":{\"gridcolor\":\"white\",\"linecolor\":\"white\",\"ticks\":\"\"}},\"ternary\":{\"bgcolor\":\"#E5ECF6\",\"aaxis\":{\"gridcolor\":\"white\",\"linecolor\":\"white\",\"ticks\":\"\"},\"baxis\":{\"gridcolor\":\"white\",\"linecolor\":\"white\",\"ticks\":\"\"},\"caxis\":{\"gridcolor\":\"white\",\"linecolor\":\"white\",\"ticks\":\"\"}},\"coloraxis\":{\"colorbar\":{\"outlinewidth\":0,\"ticks\":\"\"}},\"colorscale\":{\"sequential\":[[0.0,\"#0d0887\"],[0.1111111111111111,\"#46039f\"],[0.2222222222222222,\"#7201a8\"],[0.3333333333333333,\"#9c179e\"],[0.4444444444444444,\"#bd3786\"],[0.5555555555555556,\"#d8576b\"],[0.6666666666666666,\"#ed7953\"],[0.7777777777777778,\"#fb9f3a\"],[0.8888888888888888,\"#fdca26\"],[1.0,\"#f0f921\"]],\"sequentialminus\":[[0.0,\"#0d0887\"],[0.1111111111111111,\"#46039f\"],[0.2222222222222222,\"#7201a8\"],[0.3333333333333333,\"#9c179e\"],[0.4444444444444444,\"#bd3786\"],[0.5555555555555556,\"#d8576b\"],[0.6666666666666666,\"#ed7953\"],[0.7777777777777778,\"#fb9f3a\"],[0.8888888888888888,\"#fdca26\"],[1.0,\"#f0f921\"]],\"diverging\":[[0,\"#8e0152\"],[0.1,\"#c51b7d\"],[0.2,\"#de77ae\"],[0.3,\"#f1b6da\"],[0.4,\"#fde0ef\"],[0.5,\"#f7f7f7\"],[0.6,\"#e6f5d0\"],[0.7,\"#b8e186\"],[0.8,\"#7fbc41\"],[0.9,\"#4d9221\"],[1,\"#276419\"]]},\"xaxis\":{\"gridcolor\":\"white\",\"linecolor\":\"white\",\"ticks\":\"\",\"title\":{\"standoff\":15},\"zerolinecolor\":\"white\",\"automargin\":true,\"zerolinewidth\":2},\"yaxis\":{\"gridcolor\":\"white\",\"linecolor\":\"white\",\"ticks\":\"\",\"title\":{\"standoff\":15},\"zerolinecolor\":\"white\",\"automargin\":true,\"zerolinewidth\":2},\"scene\":{\"xaxis\":{\"backgroundcolor\":\"#E5ECF6\",\"gridcolor\":\"white\",\"linecolor\":\"white\",\"showbackground\":true,\"ticks\":\"\",\"zerolinecolor\":\"white\",\"gridwidth\":2},\"yaxis\":{\"backgroundcolor\":\"#E5ECF6\",\"gridcolor\":\"white\",\"linecolor\":\"white\",\"showbackground\":true,\"ticks\":\"\",\"zerolinecolor\":\"white\",\"gridwidth\":2},\"zaxis\":{\"backgroundcolor\":\"#E5ECF6\",\"gridcolor\":\"white\",\"linecolor\":\"white\",\"showbackground\":true,\"ticks\":\"\",\"zerolinecolor\":\"white\",\"gridwidth\":2}},\"shapedefaults\":{\"line\":{\"color\":\"#2a3f5f\"}},\"annotationdefaults\":{\"arrowcolor\":\"#2a3f5f\",\"arrowhead\":0,\"arrowwidth\":1},\"geo\":{\"bgcolor\":\"white\",\"landcolor\":\"#E5ECF6\",\"subunitcolor\":\"white\",\"showland\":true,\"showlakes\":true,\"lakecolor\":\"white\"},\"title\":{\"x\":0.05},\"mapbox\":{\"style\":\"light\"}}},\"xaxis\":{\"anchor\":\"y\",\"domain\":[0.0,1.0],\"title\":{\"text\":\"Date\"}},\"yaxis\":{\"anchor\":\"x\",\"domain\":[0.0,1.0],\"title\":{\"text\":\"Building\"},\"categoryorder\":\"array\",\"categoryarray\":[\"2256 Campus Circle Dr\",\"2255 Campus Circle Dr\",\"Kresge/Crowe\",\"Silverman-Pancoe\",\"Library \",\"Pancoe-Cook bridge\",\"Cook-Pancoe bridge\",\"south library\",\"betw Ryan and Silverman\",\"McGaw Pavilion\",\"Annenberg Hall\",\"Alvina Krause Studio\",\"Hogan Bldg\",\"Silverman Hall\",\"Pancoe Life Sciences\",\"Marshall Dance Center\",\"Lewis Theater\",\"Deering Tower\",\"Regenstein\",\"Walter Annenberg Hall\",\"Northwestern Campus\",\"RAC\",\"Sailing Center\",\"Mudd Library\",\"Cook Hall\",\"Segal Visitor Center\",\"Ryan Arts Center\",\"Pick Stager\",\"Block Museum\",\"Allen Center\",\"Norris\",\"Francis Searle\",\"KGH\",\"Barber Theater\",\"CUP\"]},\"legend\":{\"title\":{\"text\":\"Building\"},\"tracegroupgap\":0},\"margin\":{\"t\":60}},                        {\"responsive\": true}                    ).then(function(){\n",
       "                            \n",
       "var gd = document.getElementById('8bb48dd4-a12e-4ebd-8ea4-a0fc21c60781');\n",
       "var x = new MutationObserver(function (mutations, observer) {{\n",
       "        var display = window.getComputedStyle(gd).display;\n",
       "        if (!display || display === 'none') {{\n",
       "            console.log([gd, 'removed!']);\n",
       "            Plotly.purge(gd);\n",
       "            observer.disconnect();\n",
       "        }}\n",
       "}});\n",
       "\n",
       "// Listen for the removal of the full notebook cells\n",
       "var notebookContainer = gd.closest('#notebook-container');\n",
       "if (notebookContainer) {{\n",
       "    x.observe(notebookContainer, {childList: true});\n",
       "}}\n",
       "\n",
       "// Listen for the clearing of the current output cell\n",
       "var outputEl = gd.closest('.output');\n",
       "if (outputEl) {{\n",
       "    x.observe(outputEl, {childList: true});\n",
       "}}\n",
       "\n",
       "                        })                };                });            </script>        </div>"
      ]
     },
     "metadata": {},
     "output_type": "display_data"
    },
    {
     "data": {
      "application/vnd.plotly.v1+json": {
       "config": {
        "plotlyServerURL": "https://plot.ly"
       },
       "data": [
        {
         "alignmentgroup": "True",
         "hovertemplate": "Date=%{x}<br>No. Collisions=%{y}<extra></extra>",
         "legendgroup": "",
         "marker": {
          "color": "#636efa",
          "pattern": {
           "shape": ""
          }
         },
         "name": "",
         "offsetgroup": "",
         "orientation": "v",
         "showlegend": false,
         "textposition": "auto",
         "type": "bar",
         "x": [
          "2018-05-02 00:00:00",
          "2018-05-01 00:00:00",
          "2019-05-06 00:00:00",
          "2017-10-25 00:00:00",
          "2017-09-27 00:00:00",
          "2021-05-14 00:00:00",
          "2018-10-17 00:00:00",
          "2019-05-16 00:00:00",
          "2018-05-10 00:00:00",
          "2019-05-20 00:00:00",
          "2018-05-03 00:00:00",
          "2018-05-04 00:00:00",
          "2018-04-12 00:00:00",
          "2018-05-05 00:00:00",
          "2019-05-23 00:00:00",
          "2019-05-10 00:00:00",
          "2017-08-25 00:00:00",
          "2017-10-19 00:00:00",
          "2021-09-13 00:00:00",
          "2018-05-22 00:00:00",
          "2017-10-20 00:00:00",
          "2020-05-15 00:00:00",
          "2021-05-25 00:00:00",
          "2018-10-13 00:00:00",
          "2018-05-15 00:00:00",
          "2017-10-05 00:00:00",
          "2017-09-29 00:00:00",
          "2017-09-05 00:00:00",
          "2019-10-08 00:00:00",
          "2021-09-23 00:00:00",
          "2021-05-03 00:00:00",
          "2017-09-26 00:00:00",
          "2017-10-29 00:00:00",
          "2018-10-09 00:00:00",
          "2017-10-24 00:00:00",
          "2017-09-28 00:00:00",
          "2018-05-16 00:00:00",
          "2018-09-18 00:00:00",
          "2019-04-07 00:00:00",
          "2019-09-12 00:00:00",
          "2018-04-30 00:00:00",
          "2020-09-04 00:00:00",
          "2020-10-02 00:00:00",
          "2018-05-14 00:00:00",
          "2018-05-09 00:00:00",
          "2017-08-23 00:00:00",
          "2019-10-16 00:00:00",
          "2021-10-18 00:00:00",
          "2019-04-18 00:00:00",
          "2019-05-03 00:00:00",
          "2018-10-12 00:00:00",
          "2018-10-18 00:00:00",
          "2019-10-15 00:00:00",
          "2018-05-21 00:00:00",
          "2019-09-24 00:00:00",
          "2019-09-23 00:00:00",
          "2021-10-17 00:00:00",
          "2019-04-23 00:00:00",
          "2019-05-02 00:00:00",
          "2020-05-02 00:00:00",
          "2018-10-03 00:00:00",
          "2021-04-27 00:00:00",
          "2018-04-05 00:00:00",
          "2021-04-23 00:00:00",
          "2017-10-16 00:00:00",
          "2017-10-17 00:00:00",
          "2018-10-11 00:00:00",
          "2019-09-11 00:00:00",
          "2019-05-28 00:00:00",
          "2018-10-16 00:00:00",
          "2019-04-13 00:00:00",
          "2019-05-24 00:00:00",
          "2018-08-30 00:00:00",
          "2019-10-02 00:00:00",
          "2019-04-16 00:00:00",
          "2019-05-26 00:00:00",
          "2019-05-11 00:00:00",
          "2019-10-25 00:00:00",
          "2019-09-17 00:00:00",
          "2019-05-19 00:00:00",
          "2019-05-07 00:00:00",
          "2019-05-05 00:00:00",
          "2018-05-11 00:00:00",
          "2018-05-17 00:00:00",
          "2021-09-05 00:00:00",
          "2017-10-26 00:00:00",
          "2021-05-21 00:00:00",
          "2021-06-01 00:00:00",
          "2020-09-24 00:00:00",
          "2018-04-17 00:00:00",
          "2020-08-29 00:00:00",
          "2020-05-20 00:00:00",
          "2020-05-13 00:00:00",
          "2018-05-06 00:00:00",
          "2018-05-18 00:00:00",
          "2021-05-02 00:00:00",
          "2020-03-20 00:00:00",
          "2021-10-03 00:00:00",
          "2017-09-04 00:00:00",
          "2018-05-23 00:00:00",
          "2020-04-04 00:00:00",
          "2018-05-25 00:00:00",
          "2017-09-08 00:00:00",
          "2021-09-24 00:00:00",
          "2021-05-18 00:00:00",
          "2021-05-19 00:00:00",
          "2021-05-26 00:00:00",
          "2021-10-16 00:00:00",
          "2021-08-30 00:00:00",
          "2019-04-22 00:00:00",
          "2021-06-06 00:00:00",
          "2021-09-06 00:00:00",
          "2021-10-15 00:00:00",
          "2019-05-09 00:00:00",
          "2021-05-15 00:00:00",
          "2021-10-11 00:00:00",
          "2019-11-05 00:00:00",
          "2019-05-25 00:00:00",
          "2021-04-09 00:00:00",
          "2021-04-07 00:00:00",
          "2019-10-29 00:00:00",
          "2019-10-28 00:00:00",
          "2019-10-26 00:00:00",
          "2019-10-24 00:00:00",
          "2019-10-22 00:00:00",
          "2020-04-19 00:00:00",
          "2019-10-07 00:00:00",
          "2019-10-03 00:00:00",
          "2020-05-01 00:00:00",
          "2019-09-26 00:00:00",
          "2019-09-21 00:00:00",
          "2019-09-06 00:00:00",
          "2019-08-29 00:00:00",
          "2019-11-03 00:00:00",
          "2020-10-05 00:00:00",
          "2020-10-06 00:00:00",
          "2020-10-24 00:00:00",
          "2019-04-09 00:00:00",
          "2019-05-01 00:00:00",
          "2018-04-02 00:00:00",
          "2018-10-14 00:00:00",
          "2018-05-28 00:00:00",
          "2018-10-06 00:00:00",
          "2017-10-06 00:00:00",
          "2018-04-13 00:00:00",
          "2018-09-30 00:00:00",
          "2018-09-29 00:00:00",
          "2018-05-31 00:00:00",
          "2018-09-27 00:00:00",
          "2018-03-31 00:00:00",
          "2018-08-26 00:00:00",
          "2017-10-13 00:00:00",
          "2017-11-16 00:00:00",
          "2018-09-12 00:00:00",
          "2018-09-11 00:00:00",
          "2017-10-31 00:00:00",
          "2018-05-26 00:00:00",
          "2017-11-05 00:00:00",
          "2019-04-03 00:00:00",
          "2018-04-18 00:00:00",
          "2018-10-20 00:00:00",
          "2018-10-22 00:00:00",
          "2018-10-23 00:00:00",
          "2017-09-07 00:00:00",
          "2019-04-02 00:00:00",
          "2018-10-30 00:00:00",
          "2017-09-19 00:00:00",
          "2017-08-30 00:00:00",
          "2018-04-16 00:00:00",
          "2018-03-30 00:00:00",
          "2021-04-02 00:00:00",
          "2021-04-05 00:00:00",
          "2020-06-07 00:00:00",
          "2021-04-20 00:00:00",
          "2021-03-24 00:00:00",
          "2021-04-21 00:00:00",
          "2017-11-12 00:00:00",
          "2021-04-01 00:00:00",
          "2020-10-19 00:00:00",
          "2020-10-29 00:00:00",
          "2018-04-20 00:00:00",
          "2020-09-25 00:00:00",
          "2020-10-16 00:00:00",
          "2020-10-14 00:00:00",
          "2020-10-11 00:00:00",
          "2020-10-09 00:00:00",
          "2020-09-05 00:00:00",
          "2020-09-07 00:00:00",
          "2017-11-10 00:00:00",
          "2020-09-16 00:00:00",
          "2018-04-15 00:00:00",
          "2020-09-23 00:00:00",
          "2019-04-06 00:00:00",
          "2017-10-27 00:00:00",
          "2021-04-30 00:00:00",
          "2021-09-15 00:00:00",
          "2021-06-14 00:00:00",
          "2021-06-18 00:00:00",
          "2017-10-04 00:00:00",
          "2017-09-30 00:00:00",
          "2021-09-09 00:00:00",
          "2017-09-23 00:00:00",
          "2017-09-21 00:00:00",
          "2021-05-06 00:00:00",
          "2017-09-20 00:00:00",
          "2021-09-25 00:00:00",
          "2017-09-13 00:00:00",
          "2017-09-11 00:00:00",
          "2017-09-09 00:00:00",
          "2021-10-19 00:00:00",
          "2021-06-11 00:00:00",
          "2021-06-08 00:00:00",
          "2021-06-07 00:00:00",
          "2017-10-08 00:00:00",
          "2021-06-04 00:00:00",
          "2017-10-09 00:00:00",
          "2021-05-31 00:00:00",
          "2017-10-10 00:00:00",
          "2017-10-11 00:00:00",
          "2017-10-12 00:00:00",
          "2021-05-20 00:00:00",
          "2017-10-14 00:00:00",
          "2018-04-22 00:00:00",
          "2017-10-30 00:00:00",
          "2021-05-13 00:00:00",
          "2021-05-10 00:00:00",
          "2021-05-07 00:00:00",
          "2020-05-22 00:00:00",
          "2018-05-24 00:00:00",
          "2018-04-28 00:00:00",
          "2018-04-29 00:00:00",
          "2018-09-28 00:00:00",
          "2019-05-27 00:00:00",
          "2018-09-26 00:00:00",
          "2019-05-29 00:00:00",
          "2019-05-30 00:00:00",
          "2019-06-04 00:00:00",
          "2019-08-24 00:00:00",
          "2018-09-24 00:00:00",
          "2019-09-04 00:00:00",
          "2019-09-05 00:00:00",
          "2018-09-23 00:00:00",
          "2018-09-21 00:00:00",
          "2018-09-16 00:00:00",
          "2019-09-15 00:00:00",
          "2018-09-15 00:00:00",
          "2019-05-22 00:00:00",
          "2019-05-21 00:00:00",
          "2018-10-02 00:00:00",
          "2019-04-30 00:00:00",
          "2019-03-28 00:00:00",
          "2018-11-13 00:00:00",
          "2019-04-19 00:00:00",
          "2018-11-10 00:00:00",
          "2018-11-08 00:00:00",
          "2019-04-28 00:00:00",
          "2017-08-24 00:00:00",
          "2019-05-17 00:00:00",
          "2018-10-25 00:00:00",
          "2018-10-19 00:00:00",
          "2018-10-15 00:00:00",
          "2019-05-14 00:00:00",
          "2019-05-15 00:00:00",
          "2018-10-08 00:00:00",
          "2018-09-13 00:00:00",
          "2019-09-22 00:00:00",
          "2019-09-25 00:00:00",
          "2020-04-02 00:00:00",
          "2019-10-27 00:00:00",
          "2018-06-05 00:00:00",
          "2019-11-01 00:00:00",
          "2018-05-29 00:00:00",
          "2019-11-19 00:00:00",
          "2020-03-26 00:00:00",
          "2019-04-08 00:00:00",
          "2018-08-22 00:00:00",
          "2018-05-20 00:00:00",
          "2020-04-20 00:00:00",
          "2020-04-28 00:00:00",
          "2018-05-19 00:00:00",
          "2018-05-07 00:00:00",
          "2020-05-08 00:00:00",
          "2018-08-21 00:00:00",
          "2018-08-25 00:00:00",
          "2018-09-08 00:00:00",
          "2019-10-06 00:00:00",
          "2019-09-29 00:00:00",
          "2019-09-30 00:00:00",
          "2018-09-05 00:00:00",
          "2018-09-04 00:00:00",
          "2019-10-04 00:00:00",
          "2019-10-05 00:00:00",
          "2018-08-31 00:00:00",
          "2019-10-23 00:00:00",
          "2018-08-29 00:00:00",
          "2019-10-10 00:00:00",
          "2019-10-14 00:00:00",
          "2018-08-28 00:00:00",
          "2018-08-27 00:00:00",
          "2019-10-17 00:00:00",
          "2021-11-03 00:00:00"
         ],
         "xaxis": "x",
         "y": [
          36,
          30,
          29,
          24,
          22,
          20,
          20,
          19,
          16,
          16,
          14,
          13,
          11,
          10,
          9,
          9,
          9,
          9,
          8,
          8,
          7,
          7,
          7,
          7,
          7,
          7,
          7,
          6,
          6,
          6,
          6,
          6,
          6,
          6,
          6,
          6,
          5,
          5,
          5,
          5,
          5,
          5,
          5,
          5,
          5,
          5,
          5,
          5,
          5,
          5,
          5,
          4,
          4,
          4,
          4,
          4,
          4,
          4,
          4,
          4,
          4,
          4,
          4,
          4,
          4,
          4,
          4,
          4,
          4,
          3,
          3,
          3,
          3,
          3,
          3,
          3,
          3,
          3,
          3,
          3,
          3,
          3,
          3,
          3,
          3,
          3,
          3,
          3,
          3,
          3,
          3,
          3,
          3,
          3,
          3,
          3,
          3,
          3,
          3,
          3,
          3,
          3,
          3,
          2,
          2,
          2,
          2,
          2,
          2,
          2,
          2,
          2,
          2,
          2,
          2,
          2,
          2,
          2,
          2,
          2,
          2,
          2,
          2,
          2,
          2,
          2,
          2,
          2,
          2,
          2,
          2,
          2,
          2,
          2,
          2,
          2,
          2,
          2,
          2,
          2,
          2,
          2,
          2,
          2,
          2,
          2,
          2,
          2,
          2,
          2,
          2,
          2,
          2,
          2,
          2,
          2,
          2,
          2,
          2,
          2,
          2,
          2,
          2,
          2,
          2,
          2,
          2,
          2,
          1,
          1,
          1,
          1,
          1,
          1,
          1,
          1,
          1,
          1,
          1,
          1,
          1,
          1,
          1,
          1,
          1,
          1,
          1,
          1,
          1,
          1,
          1,
          1,
          1,
          1,
          1,
          1,
          1,
          1,
          1,
          1,
          1,
          1,
          1,
          1,
          1,
          1,
          1,
          1,
          1,
          1,
          1,
          1,
          1,
          1,
          1,
          1,
          1,
          1,
          1,
          1,
          1,
          1,
          1,
          1,
          1,
          1,
          1,
          1,
          1,
          1,
          1,
          1,
          1,
          1,
          1,
          1,
          1,
          1,
          1,
          1,
          1,
          1,
          1,
          1,
          1,
          1,
          1,
          1,
          1,
          1,
          1,
          1,
          1,
          1,
          1,
          1,
          1,
          1,
          1,
          1,
          1,
          1,
          1,
          1,
          1,
          1,
          1,
          1,
          1,
          1,
          1,
          1,
          1,
          1,
          1,
          1,
          1,
          1,
          1,
          1,
          1,
          1,
          1,
          1,
          1,
          1,
          1,
          1,
          1,
          1,
          1,
          1,
          1,
          1,
          1,
          1,
          1,
          1,
          1,
          1,
          1
         ],
         "yaxis": "y"
        }
       ],
       "layout": {
        "autosize": true,
        "barmode": "relative",
        "legend": {
         "tracegroupgap": 0
        },
        "margin": {
         "t": 60
        },
        "template": {
         "data": {
          "bar": [
           {
            "error_x": {
             "color": "#2a3f5f"
            },
            "error_y": {
             "color": "#2a3f5f"
            },
            "marker": {
             "line": {
              "color": "#E5ECF6",
              "width": 0.5
             },
             "pattern": {
              "fillmode": "overlay",
              "size": 10,
              "solidity": 0.2
             }
            },
            "type": "bar"
           }
          ],
          "barpolar": [
           {
            "marker": {
             "line": {
              "color": "#E5ECF6",
              "width": 0.5
             },
             "pattern": {
              "fillmode": "overlay",
              "size": 10,
              "solidity": 0.2
             }
            },
            "type": "barpolar"
           }
          ],
          "carpet": [
           {
            "aaxis": {
             "endlinecolor": "#2a3f5f",
             "gridcolor": "white",
             "linecolor": "white",
             "minorgridcolor": "white",
             "startlinecolor": "#2a3f5f"
            },
            "baxis": {
             "endlinecolor": "#2a3f5f",
             "gridcolor": "white",
             "linecolor": "white",
             "minorgridcolor": "white",
             "startlinecolor": "#2a3f5f"
            },
            "type": "carpet"
           }
          ],
          "choropleth": [
           {
            "colorbar": {
             "outlinewidth": 0,
             "ticks": ""
            },
            "type": "choropleth"
           }
          ],
          "contour": [
           {
            "colorbar": {
             "outlinewidth": 0,
             "ticks": ""
            },
            "colorscale": [
             [
              0,
              "#0d0887"
             ],
             [
              0.1111111111111111,
              "#46039f"
             ],
             [
              0.2222222222222222,
              "#7201a8"
             ],
             [
              0.3333333333333333,
              "#9c179e"
             ],
             [
              0.4444444444444444,
              "#bd3786"
             ],
             [
              0.5555555555555556,
              "#d8576b"
             ],
             [
              0.6666666666666666,
              "#ed7953"
             ],
             [
              0.7777777777777778,
              "#fb9f3a"
             ],
             [
              0.8888888888888888,
              "#fdca26"
             ],
             [
              1,
              "#f0f921"
             ]
            ],
            "type": "contour"
           }
          ],
          "contourcarpet": [
           {
            "colorbar": {
             "outlinewidth": 0,
             "ticks": ""
            },
            "type": "contourcarpet"
           }
          ],
          "heatmap": [
           {
            "colorbar": {
             "outlinewidth": 0,
             "ticks": ""
            },
            "colorscale": [
             [
              0,
              "#0d0887"
             ],
             [
              0.1111111111111111,
              "#46039f"
             ],
             [
              0.2222222222222222,
              "#7201a8"
             ],
             [
              0.3333333333333333,
              "#9c179e"
             ],
             [
              0.4444444444444444,
              "#bd3786"
             ],
             [
              0.5555555555555556,
              "#d8576b"
             ],
             [
              0.6666666666666666,
              "#ed7953"
             ],
             [
              0.7777777777777778,
              "#fb9f3a"
             ],
             [
              0.8888888888888888,
              "#fdca26"
             ],
             [
              1,
              "#f0f921"
             ]
            ],
            "type": "heatmap"
           }
          ],
          "heatmapgl": [
           {
            "colorbar": {
             "outlinewidth": 0,
             "ticks": ""
            },
            "colorscale": [
             [
              0,
              "#0d0887"
             ],
             [
              0.1111111111111111,
              "#46039f"
             ],
             [
              0.2222222222222222,
              "#7201a8"
             ],
             [
              0.3333333333333333,
              "#9c179e"
             ],
             [
              0.4444444444444444,
              "#bd3786"
             ],
             [
              0.5555555555555556,
              "#d8576b"
             ],
             [
              0.6666666666666666,
              "#ed7953"
             ],
             [
              0.7777777777777778,
              "#fb9f3a"
             ],
             [
              0.8888888888888888,
              "#fdca26"
             ],
             [
              1,
              "#f0f921"
             ]
            ],
            "type": "heatmapgl"
           }
          ],
          "histogram": [
           {
            "marker": {
             "pattern": {
              "fillmode": "overlay",
              "size": 10,
              "solidity": 0.2
             }
            },
            "type": "histogram"
           }
          ],
          "histogram2d": [
           {
            "colorbar": {
             "outlinewidth": 0,
             "ticks": ""
            },
            "colorscale": [
             [
              0,
              "#0d0887"
             ],
             [
              0.1111111111111111,
              "#46039f"
             ],
             [
              0.2222222222222222,
              "#7201a8"
             ],
             [
              0.3333333333333333,
              "#9c179e"
             ],
             [
              0.4444444444444444,
              "#bd3786"
             ],
             [
              0.5555555555555556,
              "#d8576b"
             ],
             [
              0.6666666666666666,
              "#ed7953"
             ],
             [
              0.7777777777777778,
              "#fb9f3a"
             ],
             [
              0.8888888888888888,
              "#fdca26"
             ],
             [
              1,
              "#f0f921"
             ]
            ],
            "type": "histogram2d"
           }
          ],
          "histogram2dcontour": [
           {
            "colorbar": {
             "outlinewidth": 0,
             "ticks": ""
            },
            "colorscale": [
             [
              0,
              "#0d0887"
             ],
             [
              0.1111111111111111,
              "#46039f"
             ],
             [
              0.2222222222222222,
              "#7201a8"
             ],
             [
              0.3333333333333333,
              "#9c179e"
             ],
             [
              0.4444444444444444,
              "#bd3786"
             ],
             [
              0.5555555555555556,
              "#d8576b"
             ],
             [
              0.6666666666666666,
              "#ed7953"
             ],
             [
              0.7777777777777778,
              "#fb9f3a"
             ],
             [
              0.8888888888888888,
              "#fdca26"
             ],
             [
              1,
              "#f0f921"
             ]
            ],
            "type": "histogram2dcontour"
           }
          ],
          "mesh3d": [
           {
            "colorbar": {
             "outlinewidth": 0,
             "ticks": ""
            },
            "type": "mesh3d"
           }
          ],
          "parcoords": [
           {
            "line": {
             "colorbar": {
              "outlinewidth": 0,
              "ticks": ""
             }
            },
            "type": "parcoords"
           }
          ],
          "pie": [
           {
            "automargin": true,
            "type": "pie"
           }
          ],
          "scatter": [
           {
            "fillpattern": {
             "fillmode": "overlay",
             "size": 10,
             "solidity": 0.2
            },
            "type": "scatter"
           }
          ],
          "scatter3d": [
           {
            "line": {
             "colorbar": {
              "outlinewidth": 0,
              "ticks": ""
             }
            },
            "marker": {
             "colorbar": {
              "outlinewidth": 0,
              "ticks": ""
             }
            },
            "type": "scatter3d"
           }
          ],
          "scattercarpet": [
           {
            "marker": {
             "colorbar": {
              "outlinewidth": 0,
              "ticks": ""
             }
            },
            "type": "scattercarpet"
           }
          ],
          "scattergeo": [
           {
            "marker": {
             "colorbar": {
              "outlinewidth": 0,
              "ticks": ""
             }
            },
            "type": "scattergeo"
           }
          ],
          "scattergl": [
           {
            "marker": {
             "colorbar": {
              "outlinewidth": 0,
              "ticks": ""
             }
            },
            "type": "scattergl"
           }
          ],
          "scattermapbox": [
           {
            "marker": {
             "colorbar": {
              "outlinewidth": 0,
              "ticks": ""
             }
            },
            "type": "scattermapbox"
           }
          ],
          "scatterpolar": [
           {
            "marker": {
             "colorbar": {
              "outlinewidth": 0,
              "ticks": ""
             }
            },
            "type": "scatterpolar"
           }
          ],
          "scatterpolargl": [
           {
            "marker": {
             "colorbar": {
              "outlinewidth": 0,
              "ticks": ""
             }
            },
            "type": "scatterpolargl"
           }
          ],
          "scatterternary": [
           {
            "marker": {
             "colorbar": {
              "outlinewidth": 0,
              "ticks": ""
             }
            },
            "type": "scatterternary"
           }
          ],
          "surface": [
           {
            "colorbar": {
             "outlinewidth": 0,
             "ticks": ""
            },
            "colorscale": [
             [
              0,
              "#0d0887"
             ],
             [
              0.1111111111111111,
              "#46039f"
             ],
             [
              0.2222222222222222,
              "#7201a8"
             ],
             [
              0.3333333333333333,
              "#9c179e"
             ],
             [
              0.4444444444444444,
              "#bd3786"
             ],
             [
              0.5555555555555556,
              "#d8576b"
             ],
             [
              0.6666666666666666,
              "#ed7953"
             ],
             [
              0.7777777777777778,
              "#fb9f3a"
             ],
             [
              0.8888888888888888,
              "#fdca26"
             ],
             [
              1,
              "#f0f921"
             ]
            ],
            "type": "surface"
           }
          ],
          "table": [
           {
            "cells": {
             "fill": {
              "color": "#EBF0F8"
             },
             "line": {
              "color": "white"
             }
            },
            "header": {
             "fill": {
              "color": "#C8D4E3"
             },
             "line": {
              "color": "white"
             }
            },
            "type": "table"
           }
          ]
         },
         "layout": {
          "annotationdefaults": {
           "arrowcolor": "#2a3f5f",
           "arrowhead": 0,
           "arrowwidth": 1
          },
          "autotypenumbers": "strict",
          "coloraxis": {
           "colorbar": {
            "outlinewidth": 0,
            "ticks": ""
           }
          },
          "colorscale": {
           "diverging": [
            [
             0,
             "#8e0152"
            ],
            [
             0.1,
             "#c51b7d"
            ],
            [
             0.2,
             "#de77ae"
            ],
            [
             0.3,
             "#f1b6da"
            ],
            [
             0.4,
             "#fde0ef"
            ],
            [
             0.5,
             "#f7f7f7"
            ],
            [
             0.6,
             "#e6f5d0"
            ],
            [
             0.7,
             "#b8e186"
            ],
            [
             0.8,
             "#7fbc41"
            ],
            [
             0.9,
             "#4d9221"
            ],
            [
             1,
             "#276419"
            ]
           ],
           "sequential": [
            [
             0,
             "#0d0887"
            ],
            [
             0.1111111111111111,
             "#46039f"
            ],
            [
             0.2222222222222222,
             "#7201a8"
            ],
            [
             0.3333333333333333,
             "#9c179e"
            ],
            [
             0.4444444444444444,
             "#bd3786"
            ],
            [
             0.5555555555555556,
             "#d8576b"
            ],
            [
             0.6666666666666666,
             "#ed7953"
            ],
            [
             0.7777777777777778,
             "#fb9f3a"
            ],
            [
             0.8888888888888888,
             "#fdca26"
            ],
            [
             1,
             "#f0f921"
            ]
           ],
           "sequentialminus": [
            [
             0,
             "#0d0887"
            ],
            [
             0.1111111111111111,
             "#46039f"
            ],
            [
             0.2222222222222222,
             "#7201a8"
            ],
            [
             0.3333333333333333,
             "#9c179e"
            ],
            [
             0.4444444444444444,
             "#bd3786"
            ],
            [
             0.5555555555555556,
             "#d8576b"
            ],
            [
             0.6666666666666666,
             "#ed7953"
            ],
            [
             0.7777777777777778,
             "#fb9f3a"
            ],
            [
             0.8888888888888888,
             "#fdca26"
            ],
            [
             1,
             "#f0f921"
            ]
           ]
          },
          "colorway": [
           "#636efa",
           "#EF553B",
           "#00cc96",
           "#ab63fa",
           "#FFA15A",
           "#19d3f3",
           "#FF6692",
           "#B6E880",
           "#FF97FF",
           "#FECB52"
          ],
          "font": {
           "color": "#2a3f5f"
          },
          "geo": {
           "bgcolor": "white",
           "lakecolor": "white",
           "landcolor": "#E5ECF6",
           "showlakes": true,
           "showland": true,
           "subunitcolor": "white"
          },
          "hoverlabel": {
           "align": "left"
          },
          "hovermode": "closest",
          "mapbox": {
           "style": "light"
          },
          "paper_bgcolor": "white",
          "plot_bgcolor": "#E5ECF6",
          "polar": {
           "angularaxis": {
            "gridcolor": "white",
            "linecolor": "white",
            "ticks": ""
           },
           "bgcolor": "#E5ECF6",
           "radialaxis": {
            "gridcolor": "white",
            "linecolor": "white",
            "ticks": ""
           }
          },
          "scene": {
           "xaxis": {
            "backgroundcolor": "#E5ECF6",
            "gridcolor": "white",
            "gridwidth": 2,
            "linecolor": "white",
            "showbackground": true,
            "ticks": "",
            "zerolinecolor": "white"
           },
           "yaxis": {
            "backgroundcolor": "#E5ECF6",
            "gridcolor": "white",
            "gridwidth": 2,
            "linecolor": "white",
            "showbackground": true,
            "ticks": "",
            "zerolinecolor": "white"
           },
           "zaxis": {
            "backgroundcolor": "#E5ECF6",
            "gridcolor": "white",
            "gridwidth": 2,
            "linecolor": "white",
            "showbackground": true,
            "ticks": "",
            "zerolinecolor": "white"
           }
          },
          "shapedefaults": {
           "line": {
            "color": "#2a3f5f"
           }
          },
          "ternary": {
           "aaxis": {
            "gridcolor": "white",
            "linecolor": "white",
            "ticks": ""
           },
           "baxis": {
            "gridcolor": "white",
            "linecolor": "white",
            "ticks": ""
           },
           "bgcolor": "#E5ECF6",
           "caxis": {
            "gridcolor": "white",
            "linecolor": "white",
            "ticks": ""
           }
          },
          "title": {
           "x": 0.05
          },
          "xaxis": {
           "automargin": true,
           "gridcolor": "white",
           "linecolor": "white",
           "ticks": "",
           "title": {
            "standoff": 15
           },
           "zerolinecolor": "white",
           "zerolinewidth": 2
          },
          "yaxis": {
           "automargin": true,
           "gridcolor": "white",
           "linecolor": "white",
           "ticks": "",
           "title": {
            "standoff": 15
           },
           "zerolinecolor": "white",
           "zerolinewidth": 2
          }
         }
        },
        "xaxis": {
         "anchor": "y",
         "autorange": true,
         "domain": [
          0,
          1
         ],
         "range": [
          "2017-08-22 12:00",
          "2021-11-03 12:00"
         ],
         "title": {
          "text": "Date"
         },
         "type": "date"
        },
        "yaxis": {
         "anchor": "x",
         "autorange": true,
         "domain": [
          0,
          1
         ],
         "range": [
          0,
          37.89473684210526
         ],
         "title": {
          "text": "No. Collisions"
         },
         "type": "linear"
        }
       }
      },
      "image/png": "[encoded data removed]",
      "text/html": [
       "<div>                            <div id=\"c6725d90-db27-4893-b3ca-ee2d8c0a6267\" class=\"plotly-graph-div\" style=\"height:525px; width:100%;\"></div>            <script type=\"text/javascript\">                require([\"plotly\"], function(Plotly) {                    window.PLOTLYENV=window.PLOTLYENV || {};                                    if (document.getElementById(\"c6725d90-db27-4893-b3ca-ee2d8c0a6267\")) {                    Plotly.newPlot(                        \"c6725d90-db27-4893-b3ca-ee2d8c0a6267\",                        [{\"alignmentgroup\":\"True\",\"hovertemplate\":\"Date=%{x}<br>No. Collisions=%{y}<extra></extra>\",\"legendgroup\":\"\",\"marker\":{\"color\":\"#636efa\",\"pattern\":{\"shape\":\"\"}},\"name\":\"\",\"offsetgroup\":\"\",\"orientation\":\"v\",\"showlegend\":false,\"textposition\":\"auto\",\"x\":[\"2018-05-02 00:00:00\",\"2018-05-01 00:00:00\",\"2019-05-06 00:00:00\",\"2017-10-25 00:00:00\",\"2017-09-27 00:00:00\",\"2021-05-14 00:00:00\",\"2018-10-17 00:00:00\",\"2019-05-16 00:00:00\",\"2018-05-10 00:00:00\",\"2019-05-20 00:00:00\",\"2018-05-03 00:00:00\",\"2018-05-04 00:00:00\",\"2018-04-12 00:00:00\",\"2018-05-05 00:00:00\",\"2019-05-23 00:00:00\",\"2019-05-10 00:00:00\",\"2017-08-25 00:00:00\",\"2017-10-19 00:00:00\",\"2021-09-13 00:00:00\",\"2018-05-22 00:00:00\",\"2017-10-20 00:00:00\",\"2020-05-15 00:00:00\",\"2021-05-25 00:00:00\",\"2018-10-13 00:00:00\",\"2018-05-15 00:00:00\",\"2017-10-05 00:00:00\",\"2017-09-29 00:00:00\",\"2017-09-05 00:00:00\",\"2019-10-08 00:00:00\",\"2021-09-23 00:00:00\",\"2021-05-03 00:00:00\",\"2017-09-26 00:00:00\",\"2017-10-29 00:00:00\",\"2018-10-09 00:00:00\",\"2017-10-24 00:00:00\",\"2017-09-28 00:00:00\",\"2018-05-16 00:00:00\",\"2018-09-18 00:00:00\",\"2019-04-07 00:00:00\",\"2019-09-12 00:00:00\",\"2018-04-30 00:00:00\",\"2020-09-04 00:00:00\",\"2020-10-02 00:00:00\",\"2018-05-14 00:00:00\",\"2018-05-09 00:00:00\",\"2017-08-23 00:00:00\",\"2019-10-16 00:00:00\",\"2021-10-18 00:00:00\",\"2019-04-18 00:00:00\",\"2019-05-03 00:00:00\",\"2018-10-12 00:00:00\",\"2018-10-18 00:00:00\",\"2019-10-15 00:00:00\",\"2018-05-21 00:00:00\",\"2019-09-24 00:00:00\",\"2019-09-23 00:00:00\",\"2021-10-17 00:00:00\",\"2019-04-23 00:00:00\",\"2019-05-02 00:00:00\",\"2020-05-02 00:00:00\",\"2018-10-03 00:00:00\",\"2021-04-27 00:00:00\",\"2018-04-05 00:00:00\",\"2021-04-23 00:00:00\",\"2017-10-16 00:00:00\",\"2017-10-17 00:00:00\",\"2018-10-11 00:00:00\",\"2019-09-11 00:00:00\",\"2019-05-28 00:00:00\",\"2018-10-16 00:00:00\",\"2019-04-13 00:00:00\",\"2019-05-24 00:00:00\",\"2018-08-30 00:00:00\",\"2019-10-02 00:00:00\",\"2019-04-16 00:00:00\",\"2019-05-26 00:00:00\",\"2019-05-11 00:00:00\",\"2019-10-25 00:00:00\",\"2019-09-17 00:00:00\",\"2019-05-19 00:00:00\",\"2019-05-07 00:00:00\",\"2019-05-05 00:00:00\",\"2018-05-11 00:00:00\",\"2018-05-17 00:00:00\",\"2021-09-05 00:00:00\",\"2017-10-26 00:00:00\",\"2021-05-21 00:00:00\",\"2021-06-01 00:00:00\",\"2020-09-24 00:00:00\",\"2018-04-17 00:00:00\",\"2020-08-29 00:00:00\",\"2020-05-20 00:00:00\",\"2020-05-13 00:00:00\",\"2018-05-06 00:00:00\",\"2018-05-18 00:00:00\",\"2021-05-02 00:00:00\",\"2020-03-20 00:00:00\",\"2021-10-03 00:00:00\",\"2017-09-04 00:00:00\",\"2018-05-23 00:00:00\",\"2020-04-04 00:00:00\",\"2018-05-25 00:00:00\",\"2017-09-08 00:00:00\",\"2021-09-24 00:00:00\",\"2021-05-18 00:00:00\",\"2021-05-19 00:00:00\",\"2021-05-26 00:00:00\",\"2021-10-16 00:00:00\",\"2021-08-30 00:00:00\",\"2019-04-22 00:00:00\",\"2021-06-06 00:00:00\",\"2021-09-06 00:00:00\",\"2021-10-15 00:00:00\",\"2019-05-09 00:00:00\",\"2021-05-15 00:00:00\",\"2021-10-11 00:00:00\",\"2019-11-05 00:00:00\",\"2019-05-25 00:00:00\",\"2021-04-09 00:00:00\",\"2021-04-07 00:00:00\",\"2019-10-29 00:00:00\",\"2019-10-28 00:00:00\",\"2019-10-26 00:00:00\",\"2019-10-24 00:00:00\",\"2019-10-22 00:00:00\",\"2020-04-19 00:00:00\",\"2019-10-07 00:00:00\",\"2019-10-03 00:00:00\",\"2020-05-01 00:00:00\",\"2019-09-26 00:00:00\",\"2019-09-21 00:00:00\",\"2019-09-06 00:00:00\",\"2019-08-29 00:00:00\",\"2019-11-03 00:00:00\",\"2020-10-05 00:00:00\",\"2020-10-06 00:00:00\",\"2020-10-24 00:00:00\",\"2019-04-09 00:00:00\",\"2019-05-01 00:00:00\",\"2018-04-02 00:00:00\",\"2018-10-14 00:00:00\",\"2018-05-28 00:00:00\",\"2018-10-06 00:00:00\",\"2017-10-06 00:00:00\",\"2018-04-13 00:00:00\",\"2018-09-30 00:00:00\",\"2018-09-29 00:00:00\",\"2018-05-31 00:00:00\",\"2018-09-27 00:00:00\",\"2018-03-31 00:00:00\",\"2018-08-26 00:00:00\",\"2017-10-13 00:00:00\",\"2017-11-16 00:00:00\",\"2018-09-12 00:00:00\",\"2018-09-11 00:00:00\",\"2017-10-31 00:00:00\",\"2018-05-26 00:00:00\",\"2017-11-05 00:00:00\",\"2019-04-03 00:00:00\",\"2018-04-18 00:00:00\",\"2018-10-20 00:00:00\",\"2018-10-22 00:00:00\",\"2018-10-23 00:00:00\",\"2017-09-07 00:00:00\",\"2019-04-02 00:00:00\",\"2018-10-30 00:00:00\",\"2017-09-19 00:00:00\",\"2017-08-30 00:00:00\",\"2018-04-16 00:00:00\",\"2018-03-30 00:00:00\",\"2021-04-02 00:00:00\",\"2021-04-05 00:00:00\",\"2020-06-07 00:00:00\",\"2021-04-20 00:00:00\",\"2021-03-24 00:00:00\",\"2021-04-21 00:00:00\",\"2017-11-12 00:00:00\",\"2021-04-01 00:00:00\",\"2020-10-19 00:00:00\",\"2020-10-29 00:00:00\",\"2018-04-20 00:00:00\",\"2020-09-25 00:00:00\",\"2020-10-16 00:00:00\",\"2020-10-14 00:00:00\",\"2020-10-11 00:00:00\",\"2020-10-09 00:00:00\",\"2020-09-05 00:00:00\",\"2020-09-07 00:00:00\",\"2017-11-10 00:00:00\",\"2020-09-16 00:00:00\",\"2018-04-15 00:00:00\",\"2020-09-23 00:00:00\",\"2019-04-06 00:00:00\",\"2017-10-27 00:00:00\",\"2021-04-30 00:00:00\",\"2021-09-15 00:00:00\",\"2021-06-14 00:00:00\",\"2021-06-18 00:00:00\",\"2017-10-04 00:00:00\",\"2017-09-30 00:00:00\",\"2021-09-09 00:00:00\",\"2017-09-23 00:00:00\",\"2017-09-21 00:00:00\",\"2021-05-06 00:00:00\",\"2017-09-20 00:00:00\",\"2021-09-25 00:00:00\",\"2017-09-13 00:00:00\",\"2017-09-11 00:00:00\",\"2017-09-09 00:00:00\",\"2021-10-19 00:00:00\",\"2021-06-11 00:00:00\",\"2021-06-08 00:00:00\",\"2021-06-07 00:00:00\",\"2017-10-08 00:00:00\",\"2021-06-04 00:00:00\",\"2017-10-09 00:00:00\",\"2021-05-31 00:00:00\",\"2017-10-10 00:00:00\",\"2017-10-11 00:00:00\",\"2017-10-12 00:00:00\",\"2021-05-20 00:00:00\",\"2017-10-14 00:00:00\",\"2018-04-22 00:00:00\",\"2017-10-30 00:00:00\",\"2021-05-13 00:00:00\",\"2021-05-10 00:00:00\",\"2021-05-07 00:00:00\",\"2020-05-22 00:00:00\",\"2018-05-24 00:00:00\",\"2018-04-28 00:00:00\",\"2018-04-29 00:00:00\",\"2018-09-28 00:00:00\",\"2019-05-27 00:00:00\",\"2018-09-26 00:00:00\",\"2019-05-29 00:00:00\",\"2019-05-30 00:00:00\",\"2019-06-04 00:00:00\",\"2019-08-24 00:00:00\",\"2018-09-24 00:00:00\",\"2019-09-04 00:00:00\",\"2019-09-05 00:00:00\",\"2018-09-23 00:00:00\",\"2018-09-21 00:00:00\",\"2018-09-16 00:00:00\",\"2019-09-15 00:00:00\",\"2018-09-15 00:00:00\",\"2019-05-22 00:00:00\",\"2019-05-21 00:00:00\",\"2018-10-02 00:00:00\",\"2019-04-30 00:00:00\",\"2019-03-28 00:00:00\",\"2018-11-13 00:00:00\",\"2019-04-19 00:00:00\",\"2018-11-10 00:00:00\",\"2018-11-08 00:00:00\",\"2019-04-28 00:00:00\",\"2017-08-24 00:00:00\",\"2019-05-17 00:00:00\",\"2018-10-25 00:00:00\",\"2018-10-19 00:00:00\",\"2018-10-15 00:00:00\",\"2019-05-14 00:00:00\",\"2019-05-15 00:00:00\",\"2018-10-08 00:00:00\",\"2018-09-13 00:00:00\",\"2019-09-22 00:00:00\",\"2019-09-25 00:00:00\",\"2020-04-02 00:00:00\",\"2019-10-27 00:00:00\",\"2018-06-05 00:00:00\",\"2019-11-01 00:00:00\",\"2018-05-29 00:00:00\",\"2019-11-19 00:00:00\",\"2020-03-26 00:00:00\",\"2019-04-08 00:00:00\",\"2018-08-22 00:00:00\",\"2018-05-20 00:00:00\",\"2020-04-20 00:00:00\",\"2020-04-28 00:00:00\",\"2018-05-19 00:00:00\",\"2018-05-07 00:00:00\",\"2020-05-08 00:00:00\",\"2018-08-21 00:00:00\",\"2018-08-25 00:00:00\",\"2018-09-08 00:00:00\",\"2019-10-06 00:00:00\",\"2019-09-29 00:00:00\",\"2019-09-30 00:00:00\",\"2018-09-05 00:00:00\",\"2018-09-04 00:00:00\",\"2019-10-04 00:00:00\",\"2019-10-05 00:00:00\",\"2018-08-31 00:00:00\",\"2019-10-23 00:00:00\",\"2018-08-29 00:00:00\",\"2019-10-10 00:00:00\",\"2019-10-14 00:00:00\",\"2018-08-28 00:00:00\",\"2018-08-27 00:00:00\",\"2019-10-17 00:00:00\",\"2021-11-03 00:00:00\"],\"xaxis\":\"x\",\"y\":[36,30,29,24,22,20,20,19,16,16,14,13,11,10,9,9,9,9,8,8,7,7,7,7,7,7,7,6,6,6,6,6,6,6,6,6,5,5,5,5,5,5,5,5,5,5,5,5,5,5,5,4,4,4,4,4,4,4,4,4,4,4,4,4,4,4,4,4,4,3,3,3,3,3,3,3,3,3,3,3,3,3,3,3,3,3,3,3,3,3,3,3,3,3,3,3,3,3,3,3,3,3,3,2,2,2,2,2,2,2,2,2,2,2,2,2,2,2,2,2,2,2,2,2,2,2,2,2,2,2,2,2,2,2,2,2,2,2,2,2,2,2,2,2,2,2,2,2,2,2,2,2,2,2,2,2,2,2,2,2,2,2,2,2,2,2,2,2,1,1,1,1,1,1,1,1,1,1,1,1,1,1,1,1,1,1,1,1,1,1,1,1,1,1,1,1,1,1,1,1,1,1,1,1,1,1,1,1,1,1,1,1,1,1,1,1,1,1,1,1,1,1,1,1,1,1,1,1,1,1,1,1,1,1,1,1,1,1,1,1,1,1,1,1,1,1,1,1,1,1,1,1,1,1,1,1,1,1,1,1,1,1,1,1,1,1,1,1,1,1,1,1,1,1,1,1,1,1,1,1,1,1,1,1,1,1,1,1,1,1,1,1,1,1,1,1,1,1,1,1,1],\"yaxis\":\"y\",\"type\":\"bar\"}],                        {\"template\":{\"data\":{\"histogram2dcontour\":[{\"type\":\"histogram2dcontour\",\"colorbar\":{\"outlinewidth\":0,\"ticks\":\"\"},\"colorscale\":[[0.0,\"#0d0887\"],[0.1111111111111111,\"#46039f\"],[0.2222222222222222,\"#7201a8\"],[0.3333333333333333,\"#9c179e\"],[0.4444444444444444,\"#bd3786\"],[0.5555555555555556,\"#d8576b\"],[0.6666666666666666,\"#ed7953\"],[0.7777777777777778,\"#fb9f3a\"],[0.8888888888888888,\"#fdca26\"],[1.0,\"#f0f921\"]]}],\"choropleth\":[{\"type\":\"choropleth\",\"colorbar\":{\"outlinewidth\":0,\"ticks\":\"\"}}],\"histogram2d\":[{\"type\":\"histogram2d\",\"colorbar\":{\"outlinewidth\":0,\"ticks\":\"\"},\"colorscale\":[[0.0,\"#0d0887\"],[0.1111111111111111,\"#46039f\"],[0.2222222222222222,\"#7201a8\"],[0.3333333333333333,\"#9c179e\"],[0.4444444444444444,\"#bd3786\"],[0.5555555555555556,\"#d8576b\"],[0.6666666666666666,\"#ed7953\"],[0.7777777777777778,\"#fb9f3a\"],[0.8888888888888888,\"#fdca26\"],[1.0,\"#f0f921\"]]}],\"heatmap\":[{\"type\":\"heatmap\",\"colorbar\":{\"outlinewidth\":0,\"ticks\":\"\"},\"colorscale\":[[0.0,\"#0d0887\"],[0.1111111111111111,\"#46039f\"],[0.2222222222222222,\"#7201a8\"],[0.3333333333333333,\"#9c179e\"],[0.4444444444444444,\"#bd3786\"],[0.5555555555555556,\"#d8576b\"],[0.6666666666666666,\"#ed7953\"],[0.7777777777777778,\"#fb9f3a\"],[0.8888888888888888,\"#fdca26\"],[1.0,\"#f0f921\"]]}],\"heatmapgl\":[{\"type\":\"heatmapgl\",\"colorbar\":{\"outlinewidth\":0,\"ticks\":\"\"},\"colorscale\":[[0.0,\"#0d0887\"],[0.1111111111111111,\"#46039f\"],[0.2222222222222222,\"#7201a8\"],[0.3333333333333333,\"#9c179e\"],[0.4444444444444444,\"#bd3786\"],[0.5555555555555556,\"#d8576b\"],[0.6666666666666666,\"#ed7953\"],[0.7777777777777778,\"#fb9f3a\"],[0.8888888888888888,\"#fdca26\"],[1.0,\"#f0f921\"]]}],\"contourcarpet\":[{\"type\":\"contourcarpet\",\"colorbar\":{\"outlinewidth\":0,\"ticks\":\"\"}}],\"contour\":[{\"type\":\"contour\",\"colorbar\":{\"outlinewidth\":0,\"ticks\":\"\"},\"colorscale\":[[0.0,\"#0d0887\"],[0.1111111111111111,\"#46039f\"],[0.2222222222222222,\"#7201a8\"],[0.3333333333333333,\"#9c179e\"],[0.4444444444444444,\"#bd3786\"],[0.5555555555555556,\"#d8576b\"],[0.6666666666666666,\"#ed7953\"],[0.7777777777777778,\"#fb9f3a\"],[0.8888888888888888,\"#fdca26\"],[1.0,\"#f0f921\"]]}],\"surface\":[{\"type\":\"surface\",\"colorbar\":{\"outlinewidth\":0,\"ticks\":\"\"},\"colorscale\":[[0.0,\"#0d0887\"],[0.1111111111111111,\"#46039f\"],[0.2222222222222222,\"#7201a8\"],[0.3333333333333333,\"#9c179e\"],[0.4444444444444444,\"#bd3786\"],[0.5555555555555556,\"#d8576b\"],[0.6666666666666666,\"#ed7953\"],[0.7777777777777778,\"#fb9f3a\"],[0.8888888888888888,\"#fdca26\"],[1.0,\"#f0f921\"]]}],\"mesh3d\":[{\"type\":\"mesh3d\",\"colorbar\":{\"outlinewidth\":0,\"ticks\":\"\"}}],\"scatter\":[{\"fillpattern\":{\"fillmode\":\"overlay\",\"size\":10,\"solidity\":0.2},\"type\":\"scatter\"}],\"parcoords\":[{\"type\":\"parcoords\",\"line\":{\"colorbar\":{\"outlinewidth\":0,\"ticks\":\"\"}}}],\"scatterpolargl\":[{\"type\":\"scatterpolargl\",\"marker\":{\"colorbar\":{\"outlinewidth\":0,\"ticks\":\"\"}}}],\"bar\":[{\"error_x\":{\"color\":\"#2a3f5f\"},\"error_y\":{\"color\":\"#2a3f5f\"},\"marker\":{\"line\":{\"color\":\"#E5ECF6\",\"width\":0.5},\"pattern\":{\"fillmode\":\"overlay\",\"size\":10,\"solidity\":0.2}},\"type\":\"bar\"}],\"scattergeo\":[{\"type\":\"scattergeo\",\"marker\":{\"colorbar\":{\"outlinewidth\":0,\"ticks\":\"\"}}}],\"scatterpolar\":[{\"type\":\"scatterpolar\",\"marker\":{\"colorbar\":{\"outlinewidth\":0,\"ticks\":\"\"}}}],\"histogram\":[{\"marker\":{\"pattern\":{\"fillmode\":\"overlay\",\"size\":10,\"solidity\":0.2}},\"type\":\"histogram\"}],\"scattergl\":[{\"type\":\"scattergl\",\"marker\":{\"colorbar\":{\"outlinewidth\":0,\"ticks\":\"\"}}}],\"scatter3d\":[{\"type\":\"scatter3d\",\"line\":{\"colorbar\":{\"outlinewidth\":0,\"ticks\":\"\"}},\"marker\":{\"colorbar\":{\"outlinewidth\":0,\"ticks\":\"\"}}}],\"scattermapbox\":[{\"type\":\"scattermapbox\",\"marker\":{\"colorbar\":{\"outlinewidth\":0,\"ticks\":\"\"}}}],\"scatterternary\":[{\"type\":\"scatterternary\",\"marker\":{\"colorbar\":{\"outlinewidth\":0,\"ticks\":\"\"}}}],\"scattercarpet\":[{\"type\":\"scattercarpet\",\"marker\":{\"colorbar\":{\"outlinewidth\":0,\"ticks\":\"\"}}}],\"carpet\":[{\"aaxis\":{\"endlinecolor\":\"#2a3f5f\",\"gridcolor\":\"white\",\"linecolor\":\"white\",\"minorgridcolor\":\"white\",\"startlinecolor\":\"#2a3f5f\"},\"baxis\":{\"endlinecolor\":\"#2a3f5f\",\"gridcolor\":\"white\",\"linecolor\":\"white\",\"minorgridcolor\":\"white\",\"startlinecolor\":\"#2a3f5f\"},\"type\":\"carpet\"}],\"table\":[{\"cells\":{\"fill\":{\"color\":\"#EBF0F8\"},\"line\":{\"color\":\"white\"}},\"header\":{\"fill\":{\"color\":\"#C8D4E3\"},\"line\":{\"color\":\"white\"}},\"type\":\"table\"}],\"barpolar\":[{\"marker\":{\"line\":{\"color\":\"#E5ECF6\",\"width\":0.5},\"pattern\":{\"fillmode\":\"overlay\",\"size\":10,\"solidity\":0.2}},\"type\":\"barpolar\"}],\"pie\":[{\"automargin\":true,\"type\":\"pie\"}]},\"layout\":{\"autotypenumbers\":\"strict\",\"colorway\":[\"#636efa\",\"#EF553B\",\"#00cc96\",\"#ab63fa\",\"#FFA15A\",\"#19d3f3\",\"#FF6692\",\"#B6E880\",\"#FF97FF\",\"#FECB52\"],\"font\":{\"color\":\"#2a3f5f\"},\"hovermode\":\"closest\",\"hoverlabel\":{\"align\":\"left\"},\"paper_bgcolor\":\"white\",\"plot_bgcolor\":\"#E5ECF6\",\"polar\":{\"bgcolor\":\"#E5ECF6\",\"angularaxis\":{\"gridcolor\":\"white\",\"linecolor\":\"white\",\"ticks\":\"\"},\"radialaxis\":{\"gridcolor\":\"white\",\"linecolor\":\"white\",\"ticks\":\"\"}},\"ternary\":{\"bgcolor\":\"#E5ECF6\",\"aaxis\":{\"gridcolor\":\"white\",\"linecolor\":\"white\",\"ticks\":\"\"},\"baxis\":{\"gridcolor\":\"white\",\"linecolor\":\"white\",\"ticks\":\"\"},\"caxis\":{\"gridcolor\":\"white\",\"linecolor\":\"white\",\"ticks\":\"\"}},\"coloraxis\":{\"colorbar\":{\"outlinewidth\":0,\"ticks\":\"\"}},\"colorscale\":{\"sequential\":[[0.0,\"#0d0887\"],[0.1111111111111111,\"#46039f\"],[0.2222222222222222,\"#7201a8\"],[0.3333333333333333,\"#9c179e\"],[0.4444444444444444,\"#bd3786\"],[0.5555555555555556,\"#d8576b\"],[0.6666666666666666,\"#ed7953\"],[0.7777777777777778,\"#fb9f3a\"],[0.8888888888888888,\"#fdca26\"],[1.0,\"#f0f921\"]],\"sequentialminus\":[[0.0,\"#0d0887\"],[0.1111111111111111,\"#46039f\"],[0.2222222222222222,\"#7201a8\"],[0.3333333333333333,\"#9c179e\"],[0.4444444444444444,\"#bd3786\"],[0.5555555555555556,\"#d8576b\"],[0.6666666666666666,\"#ed7953\"],[0.7777777777777778,\"#fb9f3a\"],[0.8888888888888888,\"#fdca26\"],[1.0,\"#f0f921\"]],\"diverging\":[[0,\"#8e0152\"],[0.1,\"#c51b7d\"],[0.2,\"#de77ae\"],[0.3,\"#f1b6da\"],[0.4,\"#fde0ef\"],[0.5,\"#f7f7f7\"],[0.6,\"#e6f5d0\"],[0.7,\"#b8e186\"],[0.8,\"#7fbc41\"],[0.9,\"#4d9221\"],[1,\"#276419\"]]},\"xaxis\":{\"gridcolor\":\"white\",\"linecolor\":\"white\",\"ticks\":\"\",\"title\":{\"standoff\":15},\"zerolinecolor\":\"white\",\"automargin\":true,\"zerolinewidth\":2},\"yaxis\":{\"gridcolor\":\"white\",\"linecolor\":\"white\",\"ticks\":\"\",\"title\":{\"standoff\":15},\"zerolinecolor\":\"white\",\"automargin\":true,\"zerolinewidth\":2},\"scene\":{\"xaxis\":{\"backgroundcolor\":\"#E5ECF6\",\"gridcolor\":\"white\",\"linecolor\":\"white\",\"showbackground\":true,\"ticks\":\"\",\"zerolinecolor\":\"white\",\"gridwidth\":2},\"yaxis\":{\"backgroundcolor\":\"#E5ECF6\",\"gridcolor\":\"white\",\"linecolor\":\"white\",\"showbackground\":true,\"ticks\":\"\",\"zerolinecolor\":\"white\",\"gridwidth\":2},\"zaxis\":{\"backgroundcolor\":\"#E5ECF6\",\"gridcolor\":\"white\",\"linecolor\":\"white\",\"showbackground\":true,\"ticks\":\"\",\"zerolinecolor\":\"white\",\"gridwidth\":2}},\"shapedefaults\":{\"line\":{\"color\":\"#2a3f5f\"}},\"annotationdefaults\":{\"arrowcolor\":\"#2a3f5f\",\"arrowhead\":0,\"arrowwidth\":1},\"geo\":{\"bgcolor\":\"white\",\"landcolor\":\"#E5ECF6\",\"subunitcolor\":\"white\",\"showland\":true,\"showlakes\":true,\"lakecolor\":\"white\"},\"title\":{\"x\":0.05},\"mapbox\":{\"style\":\"light\"}}},\"xaxis\":{\"anchor\":\"y\",\"domain\":[0.0,1.0],\"title\":{\"text\":\"Date\"}},\"yaxis\":{\"anchor\":\"x\",\"domain\":[0.0,1.0],\"title\":{\"text\":\"No. Collisions\"}},\"legend\":{\"tracegroupgap\":0},\"margin\":{\"t\":60},\"barmode\":\"relative\"},                        {\"responsive\": true}                    ).then(function(){\n",
       "                            \n",
       "var gd = document.getElementById('c6725d90-db27-4893-b3ca-ee2d8c0a6267');\n",
       "var x = new MutationObserver(function (mutations, observer) {{\n",
       "        var display = window.getComputedStyle(gd).display;\n",
       "        if (!display || display === 'none') {{\n",
       "            console.log([gd, 'removed!']);\n",
       "            Plotly.purge(gd);\n",
       "            observer.disconnect();\n",
       "        }}\n",
       "}});\n",
       "\n",
       "// Listen for the removal of the full notebook cells\n",
       "var notebookContainer = gd.closest('#notebook-container');\n",
       "if (notebookContainer) {{\n",
       "    x.observe(notebookContainer, {childList: true});\n",
       "}}\n",
       "\n",
       "// Listen for the clearing of the current output cell\n",
       "var outputEl = gd.closest('.output');\n",
       "if (outputEl) {{\n",
       "    x.observe(outputEl, {childList: true});\n",
       "}}\n",
       "\n",
       "                        })                };                });            </script>        </div>"
      ]
     },
     "metadata": {},
     "output_type": "display_data"
    },
    {
     "data": {
      "application/vnd.plotly.v1+json": {
       "config": {
        "plotlyServerURL": "https://plot.ly"
       },
       "data": [
        {
         "alignmentgroup": "True",
         "hovertemplate": "Date=%{x}<br>No. Collisions=%{y}<extra></extra>",
         "legendgroup": "",
         "marker": {
          "color": "#636efa",
          "pattern": {
           "shape": ""
          }
         },
         "name": "",
         "offsetgroup": "",
         "orientation": "v",
         "showlegend": false,
         "textposition": "auto",
         "type": "bar",
         "x": [
          "2017-09-29 00:00:00",
          "2017-08-25 00:00:00",
          "2021-05-21 00:00:00",
          "2017-09-28 00:00:00",
          "2017-10-29 00:00:00",
          "2017-09-08 00:00:00",
          "2019-08-30 00:00:00",
          "2019-05-25 00:00:00",
          "2021-05-18 00:00:00",
          "2021-05-16 00:00:00",
          "2021-05-02 00:00:00",
          "2019-10-08 00:00:00",
          "2019-10-05 00:00:00",
          "2019-09-25 00:00:00",
          "2019-09-17 00:00:00",
          "2019-09-14 00:00:00",
          "2018-11-13 00:00:00",
          "2019-05-21 00:00:00",
          "2019-05-14 00:00:00",
          "2018-11-11 00:00:00",
          "2018-10-29 00:00:00",
          "2018-04-24 00:00:00",
          "2018-04-14 00:00:00",
          "2017-10-27 00:00:00",
          "2017-10-25 00:00:00",
          "2017-10-20 00:00:00",
          "2017-10-02 00:00:00",
          "2017-09-14 00:00:00",
          "2021-06-01 00:00:00"
         ],
         "xaxis": "x",
         "y": [
          4,
          2,
          2,
          2,
          2,
          2,
          2,
          1,
          1,
          1,
          1,
          1,
          1,
          1,
          1,
          1,
          1,
          1,
          1,
          1,
          1,
          1,
          1,
          1,
          1,
          1,
          1,
          1,
          1
         ],
         "yaxis": "y"
        }
       ],
       "layout": {
        "autosize": true,
        "barmode": "relative",
        "legend": {
         "tracegroupgap": 0
        },
        "margin": {
         "t": 60
        },
        "template": {
         "data": {
          "bar": [
           {
            "error_x": {
             "color": "#2a3f5f"
            },
            "error_y": {
             "color": "#2a3f5f"
            },
            "marker": {
             "line": {
              "color": "#E5ECF6",
              "width": 0.5
             },
             "pattern": {
              "fillmode": "overlay",
              "size": 10,
              "solidity": 0.2
             }
            },
            "type": "bar"
           }
          ],
          "barpolar": [
           {
            "marker": {
             "line": {
              "color": "#E5ECF6",
              "width": 0.5
             },
             "pattern": {
              "fillmode": "overlay",
              "size": 10,
              "solidity": 0.2
             }
            },
            "type": "barpolar"
           }
          ],
          "carpet": [
           {
            "aaxis": {
             "endlinecolor": "#2a3f5f",
             "gridcolor": "white",
             "linecolor": "white",
             "minorgridcolor": "white",
             "startlinecolor": "#2a3f5f"
            },
            "baxis": {
             "endlinecolor": "#2a3f5f",
             "gridcolor": "white",
             "linecolor": "white",
             "minorgridcolor": "white",
             "startlinecolor": "#2a3f5f"
            },
            "type": "carpet"
           }
          ],
          "choropleth": [
           {
            "colorbar": {
             "outlinewidth": 0,
             "ticks": ""
            },
            "type": "choropleth"
           }
          ],
          "contour": [
           {
            "colorbar": {
             "outlinewidth": 0,
             "ticks": ""
            },
            "colorscale": [
             [
              0,
              "#0d0887"
             ],
             [
              0.1111111111111111,
              "#46039f"
             ],
             [
              0.2222222222222222,
              "#7201a8"
             ],
             [
              0.3333333333333333,
              "#9c179e"
             ],
             [
              0.4444444444444444,
              "#bd3786"
             ],
             [
              0.5555555555555556,
              "#d8576b"
             ],
             [
              0.6666666666666666,
              "#ed7953"
             ],
             [
              0.7777777777777778,
              "#fb9f3a"
             ],
             [
              0.8888888888888888,
              "#fdca26"
             ],
             [
              1,
              "#f0f921"
             ]
            ],
            "type": "contour"
           }
          ],
          "contourcarpet": [
           {
            "colorbar": {
             "outlinewidth": 0,
             "ticks": ""
            },
            "type": "contourcarpet"
           }
          ],
          "heatmap": [
           {
            "colorbar": {
             "outlinewidth": 0,
             "ticks": ""
            },
            "colorscale": [
             [
              0,
              "#0d0887"
             ],
             [
              0.1111111111111111,
              "#46039f"
             ],
             [
              0.2222222222222222,
              "#7201a8"
             ],
             [
              0.3333333333333333,
              "#9c179e"
             ],
             [
              0.4444444444444444,
              "#bd3786"
             ],
             [
              0.5555555555555556,
              "#d8576b"
             ],
             [
              0.6666666666666666,
              "#ed7953"
             ],
             [
              0.7777777777777778,
              "#fb9f3a"
             ],
             [
              0.8888888888888888,
              "#fdca26"
             ],
             [
              1,
              "#f0f921"
             ]
            ],
            "type": "heatmap"
           }
          ],
          "heatmapgl": [
           {
            "colorbar": {
             "outlinewidth": 0,
             "ticks": ""
            },
            "colorscale": [
             [
              0,
              "#0d0887"
             ],
             [
              0.1111111111111111,
              "#46039f"
             ],
             [
              0.2222222222222222,
              "#7201a8"
             ],
             [
              0.3333333333333333,
              "#9c179e"
             ],
             [
              0.4444444444444444,
              "#bd3786"
             ],
             [
              0.5555555555555556,
              "#d8576b"
             ],
             [
              0.6666666666666666,
              "#ed7953"
             ],
             [
              0.7777777777777778,
              "#fb9f3a"
             ],
             [
              0.8888888888888888,
              "#fdca26"
             ],
             [
              1,
              "#f0f921"
             ]
            ],
            "type": "heatmapgl"
           }
          ],
          "histogram": [
           {
            "marker": {
             "pattern": {
              "fillmode": "overlay",
              "size": 10,
              "solidity": 0.2
             }
            },
            "type": "histogram"
           }
          ],
          "histogram2d": [
           {
            "colorbar": {
             "outlinewidth": 0,
             "ticks": ""
            },
            "colorscale": [
             [
              0,
              "#0d0887"
             ],
             [
              0.1111111111111111,
              "#46039f"
             ],
             [
              0.2222222222222222,
              "#7201a8"
             ],
             [
              0.3333333333333333,
              "#9c179e"
             ],
             [
              0.4444444444444444,
              "#bd3786"
             ],
             [
              0.5555555555555556,
              "#d8576b"
             ],
             [
              0.6666666666666666,
              "#ed7953"
             ],
             [
              0.7777777777777778,
              "#fb9f3a"
             ],
             [
              0.8888888888888888,
              "#fdca26"
             ],
             [
              1,
              "#f0f921"
             ]
            ],
            "type": "histogram2d"
           }
          ],
          "histogram2dcontour": [
           {
            "colorbar": {
             "outlinewidth": 0,
             "ticks": ""
            },
            "colorscale": [
             [
              0,
              "#0d0887"
             ],
             [
              0.1111111111111111,
              "#46039f"
             ],
             [
              0.2222222222222222,
              "#7201a8"
             ],
             [
              0.3333333333333333,
              "#9c179e"
             ],
             [
              0.4444444444444444,
              "#bd3786"
             ],
             [
              0.5555555555555556,
              "#d8576b"
             ],
             [
              0.6666666666666666,
              "#ed7953"
             ],
             [
              0.7777777777777778,
              "#fb9f3a"
             ],
             [
              0.8888888888888888,
              "#fdca26"
             ],
             [
              1,
              "#f0f921"
             ]
            ],
            "type": "histogram2dcontour"
           }
          ],
          "mesh3d": [
           {
            "colorbar": {
             "outlinewidth": 0,
             "ticks": ""
            },
            "type": "mesh3d"
           }
          ],
          "parcoords": [
           {
            "line": {
             "colorbar": {
              "outlinewidth": 0,
              "ticks": ""
             }
            },
            "type": "parcoords"
           }
          ],
          "pie": [
           {
            "automargin": true,
            "type": "pie"
           }
          ],
          "scatter": [
           {
            "fillpattern": {
             "fillmode": "overlay",
             "size": 10,
             "solidity": 0.2
            },
            "type": "scatter"
           }
          ],
          "scatter3d": [
           {
            "line": {
             "colorbar": {
              "outlinewidth": 0,
              "ticks": ""
             }
            },
            "marker": {
             "colorbar": {
              "outlinewidth": 0,
              "ticks": ""
             }
            },
            "type": "scatter3d"
           }
          ],
          "scattercarpet": [
           {
            "marker": {
             "colorbar": {
              "outlinewidth": 0,
              "ticks": ""
             }
            },
            "type": "scattercarpet"
           }
          ],
          "scattergeo": [
           {
            "marker": {
             "colorbar": {
              "outlinewidth": 0,
              "ticks": ""
             }
            },
            "type": "scattergeo"
           }
          ],
          "scattergl": [
           {
            "marker": {
             "colorbar": {
              "outlinewidth": 0,
              "ticks": ""
             }
            },
            "type": "scattergl"
           }
          ],
          "scattermapbox": [
           {
            "marker": {
             "colorbar": {
              "outlinewidth": 0,
              "ticks": ""
             }
            },
            "type": "scattermapbox"
           }
          ],
          "scatterpolar": [
           {
            "marker": {
             "colorbar": {
              "outlinewidth": 0,
              "ticks": ""
             }
            },
            "type": "scatterpolar"
           }
          ],
          "scatterpolargl": [
           {
            "marker": {
             "colorbar": {
              "outlinewidth": 0,
              "ticks": ""
             }
            },
            "type": "scatterpolargl"
           }
          ],
          "scatterternary": [
           {
            "marker": {
             "colorbar": {
              "outlinewidth": 0,
              "ticks": ""
             }
            },
            "type": "scatterternary"
           }
          ],
          "surface": [
           {
            "colorbar": {
             "outlinewidth": 0,
             "ticks": ""
            },
            "colorscale": [
             [
              0,
              "#0d0887"
             ],
             [
              0.1111111111111111,
              "#46039f"
             ],
             [
              0.2222222222222222,
              "#7201a8"
             ],
             [
              0.3333333333333333,
              "#9c179e"
             ],
             [
              0.4444444444444444,
              "#bd3786"
             ],
             [
              0.5555555555555556,
              "#d8576b"
             ],
             [
              0.6666666666666666,
              "#ed7953"
             ],
             [
              0.7777777777777778,
              "#fb9f3a"
             ],
             [
              0.8888888888888888,
              "#fdca26"
             ],
             [
              1,
              "#f0f921"
             ]
            ],
            "type": "surface"
           }
          ],
          "table": [
           {
            "cells": {
             "fill": {
              "color": "#EBF0F8"
             },
             "line": {
              "color": "white"
             }
            },
            "header": {
             "fill": {
              "color": "#C8D4E3"
             },
             "line": {
              "color": "white"
             }
            },
            "type": "table"
           }
          ]
         },
         "layout": {
          "annotationdefaults": {
           "arrowcolor": "#2a3f5f",
           "arrowhead": 0,
           "arrowwidth": 1
          },
          "autotypenumbers": "strict",
          "coloraxis": {
           "colorbar": {
            "outlinewidth": 0,
            "ticks": ""
           }
          },
          "colorscale": {
           "diverging": [
            [
             0,
             "#8e0152"
            ],
            [
             0.1,
             "#c51b7d"
            ],
            [
             0.2,
             "#de77ae"
            ],
            [
             0.3,
             "#f1b6da"
            ],
            [
             0.4,
             "#fde0ef"
            ],
            [
             0.5,
             "#f7f7f7"
            ],
            [
             0.6,
             "#e6f5d0"
            ],
            [
             0.7,
             "#b8e186"
            ],
            [
             0.8,
             "#7fbc41"
            ],
            [
             0.9,
             "#4d9221"
            ],
            [
             1,
             "#276419"
            ]
           ],
           "sequential": [
            [
             0,
             "#0d0887"
            ],
            [
             0.1111111111111111,
             "#46039f"
            ],
            [
             0.2222222222222222,
             "#7201a8"
            ],
            [
             0.3333333333333333,
             "#9c179e"
            ],
            [
             0.4444444444444444,
             "#bd3786"
            ],
            [
             0.5555555555555556,
             "#d8576b"
            ],
            [
             0.6666666666666666,
             "#ed7953"
            ],
            [
             0.7777777777777778,
             "#fb9f3a"
            ],
            [
             0.8888888888888888,
             "#fdca26"
            ],
            [
             1,
             "#f0f921"
            ]
           ],
           "sequentialminus": [
            [
             0,
             "#0d0887"
            ],
            [
             0.1111111111111111,
             "#46039f"
            ],
            [
             0.2222222222222222,
             "#7201a8"
            ],
            [
             0.3333333333333333,
             "#9c179e"
            ],
            [
             0.4444444444444444,
             "#bd3786"
            ],
            [
             0.5555555555555556,
             "#d8576b"
            ],
            [
             0.6666666666666666,
             "#ed7953"
            ],
            [
             0.7777777777777778,
             "#fb9f3a"
            ],
            [
             0.8888888888888888,
             "#fdca26"
            ],
            [
             1,
             "#f0f921"
            ]
           ]
          },
          "colorway": [
           "#636efa",
           "#EF553B",
           "#00cc96",
           "#ab63fa",
           "#FFA15A",
           "#19d3f3",
           "#FF6692",
           "#B6E880",
           "#FF97FF",
           "#FECB52"
          ],
          "font": {
           "color": "#2a3f5f"
          },
          "geo": {
           "bgcolor": "white",
           "lakecolor": "white",
           "landcolor": "#E5ECF6",
           "showlakes": true,
           "showland": true,
           "subunitcolor": "white"
          },
          "hoverlabel": {
           "align": "left"
          },
          "hovermode": "closest",
          "mapbox": {
           "style": "light"
          },
          "paper_bgcolor": "white",
          "plot_bgcolor": "#E5ECF6",
          "polar": {
           "angularaxis": {
            "gridcolor": "white",
            "linecolor": "white",
            "ticks": ""
           },
           "bgcolor": "#E5ECF6",
           "radialaxis": {
            "gridcolor": "white",
            "linecolor": "white",
            "ticks": ""
           }
          },
          "scene": {
           "xaxis": {
            "backgroundcolor": "#E5ECF6",
            "gridcolor": "white",
            "gridwidth": 2,
            "linecolor": "white",
            "showbackground": true,
            "ticks": "",
            "zerolinecolor": "white"
           },
           "yaxis": {
            "backgroundcolor": "#E5ECF6",
            "gridcolor": "white",
            "gridwidth": 2,
            "linecolor": "white",
            "showbackground": true,
            "ticks": "",
            "zerolinecolor": "white"
           },
           "zaxis": {
            "backgroundcolor": "#E5ECF6",
            "gridcolor": "white",
            "gridwidth": 2,
            "linecolor": "white",
            "showbackground": true,
            "ticks": "",
            "zerolinecolor": "white"
           }
          },
          "shapedefaults": {
           "line": {
            "color": "#2a3f5f"
           }
          },
          "ternary": {
           "aaxis": {
            "gridcolor": "white",
            "linecolor": "white",
            "ticks": ""
           },
           "baxis": {
            "gridcolor": "white",
            "linecolor": "white",
            "ticks": ""
           },
           "bgcolor": "#E5ECF6",
           "caxis": {
            "gridcolor": "white",
            "linecolor": "white",
            "ticks": ""
           }
          },
          "title": {
           "x": 0.05
          },
          "xaxis": {
           "automargin": true,
           "gridcolor": "white",
           "linecolor": "white",
           "ticks": "",
           "title": {
            "standoff": 15
           },
           "zerolinecolor": "white",
           "zerolinewidth": 2
          },
          "yaxis": {
           "automargin": true,
           "gridcolor": "white",
           "linecolor": "white",
           "ticks": "",
           "title": {
            "standoff": 15
           },
           "zerolinecolor": "white",
           "zerolinewidth": 2
          }
         }
        },
        "xaxis": {
         "anchor": "y",
         "autorange": true,
         "domain": [
          0,
          1
         ],
         "range": [
          "2017-08-24 12:00",
          "2021-06-01 12:00"
         ],
         "title": {
          "text": "Date"
         },
         "type": "date"
        },
        "yaxis": {
         "anchor": "x",
         "autorange": true,
         "domain": [
          0,
          1
         ],
         "range": [
          0,
          4.2105263157894735
         ],
         "title": {
          "text": "No. Collisions"
         },
         "type": "linear"
        }
       }
      },
      "image/png": "[encoded data removed]",
      "text/html": [
       "<div>                            <div id=\"ed4c16e5-1dbe-404b-895a-5f7fd58b5dde\" class=\"plotly-graph-div\" style=\"height:525px; width:100%;\"></div>            <script type=\"text/javascript\">                require([\"plotly\"], function(Plotly) {                    window.PLOTLYENV=window.PLOTLYENV || {};                                    if (document.getElementById(\"ed4c16e5-1dbe-404b-895a-5f7fd58b5dde\")) {                    Plotly.newPlot(                        \"ed4c16e5-1dbe-404b-895a-5f7fd58b5dde\",                        [{\"alignmentgroup\":\"True\",\"hovertemplate\":\"Date=%{x}<br>No. Collisions=%{y}<extra></extra>\",\"legendgroup\":\"\",\"marker\":{\"color\":\"#636efa\",\"pattern\":{\"shape\":\"\"}},\"name\":\"\",\"offsetgroup\":\"\",\"orientation\":\"v\",\"showlegend\":false,\"textposition\":\"auto\",\"x\":[\"2017-09-29 00:00:00\",\"2017-08-25 00:00:00\",\"2021-05-21 00:00:00\",\"2017-09-28 00:00:00\",\"2017-10-29 00:00:00\",\"2017-09-08 00:00:00\",\"2019-08-30 00:00:00\",\"2019-05-25 00:00:00\",\"2021-05-18 00:00:00\",\"2021-05-16 00:00:00\",\"2021-05-02 00:00:00\",\"2019-10-08 00:00:00\",\"2019-10-05 00:00:00\",\"2019-09-25 00:00:00\",\"2019-09-17 00:00:00\",\"2019-09-14 00:00:00\",\"2018-11-13 00:00:00\",\"2019-05-21 00:00:00\",\"2019-05-14 00:00:00\",\"2018-11-11 00:00:00\",\"2018-10-29 00:00:00\",\"2018-04-24 00:00:00\",\"2018-04-14 00:00:00\",\"2017-10-27 00:00:00\",\"2017-10-25 00:00:00\",\"2017-10-20 00:00:00\",\"2017-10-02 00:00:00\",\"2017-09-14 00:00:00\",\"2021-06-01 00:00:00\"],\"xaxis\":\"x\",\"y\":[4,2,2,2,2,2,2,1,1,1,1,1,1,1,1,1,1,1,1,1,1,1,1,1,1,1,1,1,1],\"yaxis\":\"y\",\"type\":\"bar\"}],                        {\"template\":{\"data\":{\"histogram2dcontour\":[{\"type\":\"histogram2dcontour\",\"colorbar\":{\"outlinewidth\":0,\"ticks\":\"\"},\"colorscale\":[[0.0,\"#0d0887\"],[0.1111111111111111,\"#46039f\"],[0.2222222222222222,\"#7201a8\"],[0.3333333333333333,\"#9c179e\"],[0.4444444444444444,\"#bd3786\"],[0.5555555555555556,\"#d8576b\"],[0.6666666666666666,\"#ed7953\"],[0.7777777777777778,\"#fb9f3a\"],[0.8888888888888888,\"#fdca26\"],[1.0,\"#f0f921\"]]}],\"choropleth\":[{\"type\":\"choropleth\",\"colorbar\":{\"outlinewidth\":0,\"ticks\":\"\"}}],\"histogram2d\":[{\"type\":\"histogram2d\",\"colorbar\":{\"outlinewidth\":0,\"ticks\":\"\"},\"colorscale\":[[0.0,\"#0d0887\"],[0.1111111111111111,\"#46039f\"],[0.2222222222222222,\"#7201a8\"],[0.3333333333333333,\"#9c179e\"],[0.4444444444444444,\"#bd3786\"],[0.5555555555555556,\"#d8576b\"],[0.6666666666666666,\"#ed7953\"],[0.7777777777777778,\"#fb9f3a\"],[0.8888888888888888,\"#fdca26\"],[1.0,\"#f0f921\"]]}],\"heatmap\":[{\"type\":\"heatmap\",\"colorbar\":{\"outlinewidth\":0,\"ticks\":\"\"},\"colorscale\":[[0.0,\"#0d0887\"],[0.1111111111111111,\"#46039f\"],[0.2222222222222222,\"#7201a8\"],[0.3333333333333333,\"#9c179e\"],[0.4444444444444444,\"#bd3786\"],[0.5555555555555556,\"#d8576b\"],[0.6666666666666666,\"#ed7953\"],[0.7777777777777778,\"#fb9f3a\"],[0.8888888888888888,\"#fdca26\"],[1.0,\"#f0f921\"]]}],\"heatmapgl\":[{\"type\":\"heatmapgl\",\"colorbar\":{\"outlinewidth\":0,\"ticks\":\"\"},\"colorscale\":[[0.0,\"#0d0887\"],[0.1111111111111111,\"#46039f\"],[0.2222222222222222,\"#7201a8\"],[0.3333333333333333,\"#9c179e\"],[0.4444444444444444,\"#bd3786\"],[0.5555555555555556,\"#d8576b\"],[0.6666666666666666,\"#ed7953\"],[0.7777777777777778,\"#fb9f3a\"],[0.8888888888888888,\"#fdca26\"],[1.0,\"#f0f921\"]]}],\"contourcarpet\":[{\"type\":\"contourcarpet\",\"colorbar\":{\"outlinewidth\":0,\"ticks\":\"\"}}],\"contour\":[{\"type\":\"contour\",\"colorbar\":{\"outlinewidth\":0,\"ticks\":\"\"},\"colorscale\":[[0.0,\"#0d0887\"],[0.1111111111111111,\"#46039f\"],[0.2222222222222222,\"#7201a8\"],[0.3333333333333333,\"#9c179e\"],[0.4444444444444444,\"#bd3786\"],[0.5555555555555556,\"#d8576b\"],[0.6666666666666666,\"#ed7953\"],[0.7777777777777778,\"#fb9f3a\"],[0.8888888888888888,\"#fdca26\"],[1.0,\"#f0f921\"]]}],\"surface\":[{\"type\":\"surface\",\"colorbar\":{\"outlinewidth\":0,\"ticks\":\"\"},\"colorscale\":[[0.0,\"#0d0887\"],[0.1111111111111111,\"#46039f\"],[0.2222222222222222,\"#7201a8\"],[0.3333333333333333,\"#9c179e\"],[0.4444444444444444,\"#bd3786\"],[0.5555555555555556,\"#d8576b\"],[0.6666666666666666,\"#ed7953\"],[0.7777777777777778,\"#fb9f3a\"],[0.8888888888888888,\"#fdca26\"],[1.0,\"#f0f921\"]]}],\"mesh3d\":[{\"type\":\"mesh3d\",\"colorbar\":{\"outlinewidth\":0,\"ticks\":\"\"}}],\"scatter\":[{\"fillpattern\":{\"fillmode\":\"overlay\",\"size\":10,\"solidity\":0.2},\"type\":\"scatter\"}],\"parcoords\":[{\"type\":\"parcoords\",\"line\":{\"colorbar\":{\"outlinewidth\":0,\"ticks\":\"\"}}}],\"scatterpolargl\":[{\"type\":\"scatterpolargl\",\"marker\":{\"colorbar\":{\"outlinewidth\":0,\"ticks\":\"\"}}}],\"bar\":[{\"error_x\":{\"color\":\"#2a3f5f\"},\"error_y\":{\"color\":\"#2a3f5f\"},\"marker\":{\"line\":{\"color\":\"#E5ECF6\",\"width\":0.5},\"pattern\":{\"fillmode\":\"overlay\",\"size\":10,\"solidity\":0.2}},\"type\":\"bar\"}],\"scattergeo\":[{\"type\":\"scattergeo\",\"marker\":{\"colorbar\":{\"outlinewidth\":0,\"ticks\":\"\"}}}],\"scatterpolar\":[{\"type\":\"scatterpolar\",\"marker\":{\"colorbar\":{\"outlinewidth\":0,\"ticks\":\"\"}}}],\"histogram\":[{\"marker\":{\"pattern\":{\"fillmode\":\"overlay\",\"size\":10,\"solidity\":0.2}},\"type\":\"histogram\"}],\"scattergl\":[{\"type\":\"scattergl\",\"marker\":{\"colorbar\":{\"outlinewidth\":0,\"ticks\":\"\"}}}],\"scatter3d\":[{\"type\":\"scatter3d\",\"line\":{\"colorbar\":{\"outlinewidth\":0,\"ticks\":\"\"}},\"marker\":{\"colorbar\":{\"outlinewidth\":0,\"ticks\":\"\"}}}],\"scattermapbox\":[{\"type\":\"scattermapbox\",\"marker\":{\"colorbar\":{\"outlinewidth\":0,\"ticks\":\"\"}}}],\"scatterternary\":[{\"type\":\"scatterternary\",\"marker\":{\"colorbar\":{\"outlinewidth\":0,\"ticks\":\"\"}}}],\"scattercarpet\":[{\"type\":\"scattercarpet\",\"marker\":{\"colorbar\":{\"outlinewidth\":0,\"ticks\":\"\"}}}],\"carpet\":[{\"aaxis\":{\"endlinecolor\":\"#2a3f5f\",\"gridcolor\":\"white\",\"linecolor\":\"white\",\"minorgridcolor\":\"white\",\"startlinecolor\":\"#2a3f5f\"},\"baxis\":{\"endlinecolor\":\"#2a3f5f\",\"gridcolor\":\"white\",\"linecolor\":\"white\",\"minorgridcolor\":\"white\",\"startlinecolor\":\"#2a3f5f\"},\"type\":\"carpet\"}],\"table\":[{\"cells\":{\"fill\":{\"color\":\"#EBF0F8\"},\"line\":{\"color\":\"white\"}},\"header\":{\"fill\":{\"color\":\"#C8D4E3\"},\"line\":{\"color\":\"white\"}},\"type\":\"table\"}],\"barpolar\":[{\"marker\":{\"line\":{\"color\":\"#E5ECF6\",\"width\":0.5},\"pattern\":{\"fillmode\":\"overlay\",\"size\":10,\"solidity\":0.2}},\"type\":\"barpolar\"}],\"pie\":[{\"automargin\":true,\"type\":\"pie\"}]},\"layout\":{\"autotypenumbers\":\"strict\",\"colorway\":[\"#636efa\",\"#EF553B\",\"#00cc96\",\"#ab63fa\",\"#FFA15A\",\"#19d3f3\",\"#FF6692\",\"#B6E880\",\"#FF97FF\",\"#FECB52\"],\"font\":{\"color\":\"#2a3f5f\"},\"hovermode\":\"closest\",\"hoverlabel\":{\"align\":\"left\"},\"paper_bgcolor\":\"white\",\"plot_bgcolor\":\"#E5ECF6\",\"polar\":{\"bgcolor\":\"#E5ECF6\",\"angularaxis\":{\"gridcolor\":\"white\",\"linecolor\":\"white\",\"ticks\":\"\"},\"radialaxis\":{\"gridcolor\":\"white\",\"linecolor\":\"white\",\"ticks\":\"\"}},\"ternary\":{\"bgcolor\":\"#E5ECF6\",\"aaxis\":{\"gridcolor\":\"white\",\"linecolor\":\"white\",\"ticks\":\"\"},\"baxis\":{\"gridcolor\":\"white\",\"linecolor\":\"white\",\"ticks\":\"\"},\"caxis\":{\"gridcolor\":\"white\",\"linecolor\":\"white\",\"ticks\":\"\"}},\"coloraxis\":{\"colorbar\":{\"outlinewidth\":0,\"ticks\":\"\"}},\"colorscale\":{\"sequential\":[[0.0,\"#0d0887\"],[0.1111111111111111,\"#46039f\"],[0.2222222222222222,\"#7201a8\"],[0.3333333333333333,\"#9c179e\"],[0.4444444444444444,\"#bd3786\"],[0.5555555555555556,\"#d8576b\"],[0.6666666666666666,\"#ed7953\"],[0.7777777777777778,\"#fb9f3a\"],[0.8888888888888888,\"#fdca26\"],[1.0,\"#f0f921\"]],\"sequentialminus\":[[0.0,\"#0d0887\"],[0.1111111111111111,\"#46039f\"],[0.2222222222222222,\"#7201a8\"],[0.3333333333333333,\"#9c179e\"],[0.4444444444444444,\"#bd3786\"],[0.5555555555555556,\"#d8576b\"],[0.6666666666666666,\"#ed7953\"],[0.7777777777777778,\"#fb9f3a\"],[0.8888888888888888,\"#fdca26\"],[1.0,\"#f0f921\"]],\"diverging\":[[0,\"#8e0152\"],[0.1,\"#c51b7d\"],[0.2,\"#de77ae\"],[0.3,\"#f1b6da\"],[0.4,\"#fde0ef\"],[0.5,\"#f7f7f7\"],[0.6,\"#e6f5d0\"],[0.7,\"#b8e186\"],[0.8,\"#7fbc41\"],[0.9,\"#4d9221\"],[1,\"#276419\"]]},\"xaxis\":{\"gridcolor\":\"white\",\"linecolor\":\"white\",\"ticks\":\"\",\"title\":{\"standoff\":15},\"zerolinecolor\":\"white\",\"automargin\":true,\"zerolinewidth\":2},\"yaxis\":{\"gridcolor\":\"white\",\"linecolor\":\"white\",\"ticks\":\"\",\"title\":{\"standoff\":15},\"zerolinecolor\":\"white\",\"automargin\":true,\"zerolinewidth\":2},\"scene\":{\"xaxis\":{\"backgroundcolor\":\"#E5ECF6\",\"gridcolor\":\"white\",\"linecolor\":\"white\",\"showbackground\":true,\"ticks\":\"\",\"zerolinecolor\":\"white\",\"gridwidth\":2},\"yaxis\":{\"backgroundcolor\":\"#E5ECF6\",\"gridcolor\":\"white\",\"linecolor\":\"white\",\"showbackground\":true,\"ticks\":\"\",\"zerolinecolor\":\"white\",\"gridwidth\":2},\"zaxis\":{\"backgroundcolor\":\"#E5ECF6\",\"gridcolor\":\"white\",\"linecolor\":\"white\",\"showbackground\":true,\"ticks\":\"\",\"zerolinecolor\":\"white\",\"gridwidth\":2}},\"shapedefaults\":{\"line\":{\"color\":\"#2a3f5f\"}},\"annotationdefaults\":{\"arrowcolor\":\"#2a3f5f\",\"arrowhead\":0,\"arrowwidth\":1},\"geo\":{\"bgcolor\":\"white\",\"landcolor\":\"#E5ECF6\",\"subunitcolor\":\"white\",\"showland\":true,\"showlakes\":true,\"lakecolor\":\"white\"},\"title\":{\"x\":0.05},\"mapbox\":{\"style\":\"light\"}}},\"xaxis\":{\"anchor\":\"y\",\"domain\":[0.0,1.0],\"title\":{\"text\":\"Date\"}},\"yaxis\":{\"anchor\":\"x\",\"domain\":[0.0,1.0],\"title\":{\"text\":\"No. Collisions\"}},\"legend\":{\"tracegroupgap\":0},\"margin\":{\"t\":60},\"barmode\":\"relative\"},                        {\"responsive\": true}                    ).then(function(){\n",
       "                            \n",
       "var gd = document.getElementById('ed4c16e5-1dbe-404b-895a-5f7fd58b5dde');\n",
       "var x = new MutationObserver(function (mutations, observer) {{\n",
       "        var display = window.getComputedStyle(gd).display;\n",
       "        if (!display || display === 'none') {{\n",
       "            console.log([gd, 'removed!']);\n",
       "            Plotly.purge(gd);\n",
       "            observer.disconnect();\n",
       "        }}\n",
       "}});\n",
       "\n",
       "// Listen for the removal of the full notebook cells\n",
       "var notebookContainer = gd.closest('#notebook-container');\n",
       "if (notebookContainer) {{\n",
       "    x.observe(notebookContainer, {childList: true});\n",
       "}}\n",
       "\n",
       "// Listen for the clearing of the current output cell\n",
       "var outputEl = gd.closest('.output');\n",
       "if (outputEl) {{\n",
       "    x.observe(outputEl, {childList: true});\n",
       "}}\n",
       "\n",
       "                        })                };                });            </script>        </div>"
      ]
     },
     "metadata": {},
     "output_type": "display_data"
    }
   ],
   "source": [
    "#scatter\n",
    "fig = px.scatter(date_data,x='Date',y=\"Building\", color=\"Building\")\n",
    "fig.show()\n",
    "\n",
    "\n",
    "\n",
    "#time series - kgh\n",
    "fig = px.bar(kgh_data,x='Date',y=\"No. Collisions\")\n",
    " \n",
    "# showing the plot\n",
    "fig.show()\n",
    "\n",
    "#time series - francis searle\n",
    "fig = px.bar(searle_data,x='Date',y=\"No. Collisions\")\n",
    "\n",
    "# showing the plot\n",
    "fig.show()"
   ]
  },
  {
   "cell_type": "code",
   "execution_count": null,
   "id": "41f8df07-299e-46fe-9b8a-7be3395e919e",
   "metadata": {},
   "outputs": [],
   "source": []
  },
  {
   "cell_type": "code",
   "execution_count": null,
   "id": "85609472-b78e-4a03-b483-e90d5b47ee6c",
   "metadata": {},
   "outputs": [],
   "source": []
  },
  {
   "cell_type": "code",
   "execution_count": null,
   "id": "220b8a11-555b-4df9-ba16-55fde2388228",
   "metadata": {},
   "outputs": [],
   "source": []
  },
  {
   "cell_type": "code",
   "execution_count": null,
   "id": "3a275097-5a29-4f33-8cee-9a9642169510",
   "metadata": {},
   "outputs": [],
   "source": []
  }
 ],
 "metadata": {
  "kernelspec": {
   "display_name": "Python 3 (ipykernel)",
   "language": "python",
   "name": "python3"
  },
  "language_info": {
   "codemirror_mode": {
    "name": "ipython",
    "version": 3
   },
   "file_extension": ".py",
   "mimetype": "text/x-python",
   "name": "python",
   "nbconvert_exporter": "python",
   "pygments_lexer": "ipython3",
   "version": "3.9.13"
  },
  "toc-showmarkdowntxt": false,
  "toc-showtags": false,
  "vscode": {
   "interpreter": {
    "hash": "aee8b7b246df8f9039afb4144a1f6fd8d2ca17a180786b69acc140d282b71a49"
   }
  }
 },
 "nbformat": 4,
 "nbformat_minor": 5
}
